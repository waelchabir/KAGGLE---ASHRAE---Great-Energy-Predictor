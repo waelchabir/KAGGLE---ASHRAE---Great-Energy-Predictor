{
  "nbformat": 4,
  "nbformat_minor": 0,
  "metadata": {
    "kernelspec": {
      "name": "python3",
      "display_name": "Python 3"
    },
    "language_info": {
      "pygments_lexer": "ipython3",
      "nbconvert_exporter": "python",
      "version": "3.6.4",
      "file_extension": ".py",
      "codemirror_mode": {
        "name": "ipython",
        "version": 3
      },
      "name": "python",
      "mimetype": "text/x-python"
    },
    "colab": {
      "name": "Modèle A.ipynb",
      "provenance": [],
      "collapsed_sections": [
        "dyse-evyBjco"
      ],
      "toc_visible": true,
      "machine_shape": "hm"
    },
    "accelerator": "GPU"
  },
  "cells": [
    {
      "cell_type": "markdown",
      "metadata": {
        "id": "B3N-XDXW7Kas",
        "colab_type": "text"
      },
      "source": [
        "# Download Data"
      ]
    },
    {
      "cell_type": "code",
      "metadata": {
        "id": "vhmSPAZRR4JE",
        "colab_type": "code",
        "colab": {}
      },
      "source": [
        "from google.colab import files"
      ],
      "execution_count": 0,
      "outputs": []
    },
    {
      "cell_type": "code",
      "metadata": {
        "id": "gDDse9dKR35j",
        "colab_type": "code",
        "outputId": "c346a08d-fb79-472c-8539-28d081d279b4",
        "colab": {
          "resources": {
            "http://localhost:8080/nbextensions/google.colab/files.js": {
              "data": "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",
              "ok": true,
              "headers": [
                [
                  "content-type",
                  "application/javascript"
                ]
              ],
              "status": 200,
              "status_text": ""
            }
          },
          "base_uri": "https://localhost:8080/",
          "height": 91
        }
      },
      "source": [
        "files.upload()"
      ],
      "execution_count": 0,
      "outputs": [
        {
          "output_type": "display_data",
          "data": {
            "text/html": [
              "\n",
              "     <input type=\"file\" id=\"files-be1d0bf3-7677-427e-9437-663f89209680\" name=\"files[]\" multiple disabled />\n",
              "     <output id=\"result-be1d0bf3-7677-427e-9437-663f89209680\">\n",
              "      Upload widget is only available when the cell has been executed in the\n",
              "      current browser session. Please rerun this cell to enable.\n",
              "      </output>\n",
              "      <script src=\"/nbextensions/google.colab/files.js\"></script> "
            ],
            "text/plain": [
              "<IPython.core.display.HTML object>"
            ]
          },
          "metadata": {
            "tags": []
          }
        },
        {
          "output_type": "stream",
          "text": [
            "Saving kaggle.json to kaggle (1).json\n"
          ],
          "name": "stdout"
        },
        {
          "output_type": "execute_result",
          "data": {
            "text/plain": [
              "{'kaggle.json': b'{\"username\":\"riadhbal\",\"key\":\"d19913c628c1a186d6ce35639bfa507c\"}'}"
            ]
          },
          "metadata": {
            "tags": []
          },
          "execution_count": 8
        }
      ]
    },
    {
      "cell_type": "code",
      "metadata": {
        "id": "HhE29h9u3EBZ",
        "colab_type": "code",
        "outputId": "a0f585e3-939a-4931-8f44-9a17abd145b2",
        "colab": {
          "base_uri": "https://localhost:8080/",
          "height": 34
        }
      },
      "source": [
        "!rm /root/.kaggle\n",
        "!mkdir /root/.kaggle\n",
        "!mv kaggle.json /root/.kaggle"
      ],
      "execution_count": 0,
      "outputs": [
        {
          "output_type": "stream",
          "text": [
            "rm: cannot remove '/root/.kaggle': No such file or directory\n"
          ],
          "name": "stdout"
        }
      ]
    },
    {
      "cell_type": "code",
      "metadata": {
        "id": "ctZPh8pv2FjY",
        "colab_type": "code",
        "outputId": "89e60858-b3d0-4711-d6a5-23b2590636cb",
        "colab": {
          "base_uri": "https://localhost:8080/",
          "height": 377
        }
      },
      "source": [
        "!kaggle competitions download -c ashrae-energy-prediction"
      ],
      "execution_count": 0,
      "outputs": [
        {
          "output_type": "stream",
          "text": [
            "Warning: Your Kaggle API key is readable by other users on this system! To fix this, you can run 'chmod 600 /root/.kaggle/kaggle.json'\n",
            "Warning: Looks like you're using an outdated API Version, please consider updating (server 1.5.6 / client 1.5.4)\n",
            "Downloading train.csv.zip to /content\n",
            " 98% 117M/120M [00:00<00:00, 259MB/s] \n",
            "100% 120M/120M [00:00<00:00, 302MB/s]\n",
            "Downloading building_metadata.csv to /content\n",
            "  0% 0.00/44.5k [00:00<?, ?B/s]\n",
            "100% 44.5k/44.5k [00:00<00:00, 44.8MB/s]\n",
            "Downloading weather_test.csv.zip to /content\n",
            "  0% 0.00/2.53M [00:00<?, ?B/s]\n",
            "100% 2.53M/2.53M [00:00<00:00, 171MB/s]\n",
            "Downloading test.csv.zip to /content\n",
            " 94% 156M/167M [00:00<00:00, 221MB/s]\n",
            "100% 167M/167M [00:00<00:00, 228MB/s]\n",
            "Downloading weather_train.csv.zip to /content\n",
            "  0% 0.00/1.27M [00:00<?, ?B/s]\n",
            "100% 1.27M/1.27M [00:00<00:00, 169MB/s]\n",
            "Downloading sample_submission.csv.zip to /content\n",
            " 88% 78.0M/88.4M [00:00<00:00, 250MB/s]\n",
            "100% 88.4M/88.4M [00:00<00:00, 253MB/s]\n"
          ],
          "name": "stdout"
        }
      ]
    },
    {
      "cell_type": "code",
      "metadata": {
        "id": "mNaFApLLBktC",
        "colab_type": "code",
        "outputId": "206c6191-76e7-4567-f306-7d9411007518",
        "colab": {
          "base_uri": "https://localhost:8080/",
          "height": 187
        }
      },
      "source": [
        "!unzip sample_submission.csv.zip\n",
        "!unzip test.csv.zip\n",
        "!unzip train.csv.zip\n",
        "!unzip weather_train.csv.zip\n",
        "!unzip weather_test.csv.zip"
      ],
      "execution_count": 0,
      "outputs": [
        {
          "output_type": "stream",
          "text": [
            "Archive:  sample_submission.csv.zip\n",
            "  inflating: sample_submission.csv   \n",
            "Archive:  test.csv.zip\n",
            "  inflating: test.csv                \n",
            "Archive:  train.csv.zip\n",
            "  inflating: train.csv               \n",
            "Archive:  weather_train.csv.zip\n",
            "  inflating: weather_train.csv       \n",
            "Archive:  weather_test.csv.zip\n",
            "  inflating: weather_test.csv        \n"
          ],
          "name": "stdout"
        }
      ]
    },
    {
      "cell_type": "code",
      "metadata": {
        "id": "UOxgAiIEBpQ7",
        "colab_type": "code",
        "colab": {}
      },
      "source": [
        "!rm sample_submission.csv.zip\n",
        "!rm test.csv.zip\n",
        "!rm train.csv.zip\n",
        "!rm weather_train.csv.zip\n",
        "!rm weather_test.csv.zip"
      ],
      "execution_count": 0,
      "outputs": []
    },
    {
      "cell_type": "code",
      "metadata": {
        "id": "42nrq8AnAFFX",
        "colab_type": "code",
        "colab": {}
      },
      "source": [
        "!mkdir -p kaggle/input\n",
        "!mv sample_submission.csv /content/kaggle/input\n",
        "!mv test.csv /content/kaggle/input\n",
        "!mv train.csv /content/kaggle/input\n",
        "!mv weather_train.csv /content/kaggle/input\n",
        "!mv weather_test.csv /content/kaggle/input\n",
        "!mv building_metadata.csv /content/kaggle/input"
      ],
      "execution_count": 0,
      "outputs": []
    },
    {
      "cell_type": "code",
      "metadata": {
        "id": "B8HXs5kFvlqd",
        "colab_type": "code",
        "outputId": "06515eae-ce78-4d3f-82b0-29e8adc422b0",
        "colab": {
          "base_uri": "https://localhost:8080/",
          "height": 275
        }
      },
      "source": [
        "! pip install plotly.express"
      ],
      "execution_count": 0,
      "outputs": [
        {
          "output_type": "stream",
          "text": [
            "Collecting plotly.express\n",
            "  Downloading https://files.pythonhosted.org/packages/d4/d6/8a2906f51e073a4be80cab35cfa10e7a34853e60f3ed5304ac470852a08d/plotly_express-0.4.1-py2.py3-none-any.whl\n",
            "Requirement already satisfied: patsy>=0.5 in /usr/local/lib/python3.6/dist-packages (from plotly.express) (0.5.1)\n",
            "Requirement already satisfied: pandas>=0.20.0 in /usr/local/lib/python3.6/dist-packages (from plotly.express) (0.25.3)\n",
            "Requirement already satisfied: scipy>=0.18 in /usr/local/lib/python3.6/dist-packages (from plotly.express) (1.4.1)\n",
            "Requirement already satisfied: plotly>=4.1.0 in /usr/local/lib/python3.6/dist-packages (from plotly.express) (4.4.1)\n",
            "Requirement already satisfied: numpy>=1.11 in /usr/local/lib/python3.6/dist-packages (from plotly.express) (1.17.5)\n",
            "Requirement already satisfied: statsmodels>=0.9.0 in /usr/local/lib/python3.6/dist-packages (from plotly.express) (0.10.2)\n",
            "Requirement already satisfied: six in /usr/local/lib/python3.6/dist-packages (from patsy>=0.5->plotly.express) (1.12.0)\n",
            "Requirement already satisfied: python-dateutil>=2.6.1 in /usr/local/lib/python3.6/dist-packages (from pandas>=0.20.0->plotly.express) (2.6.1)\n",
            "Requirement already satisfied: pytz>=2017.2 in /usr/local/lib/python3.6/dist-packages (from pandas>=0.20.0->plotly.express) (2018.9)\n",
            "Requirement already satisfied: retrying>=1.3.3 in /usr/local/lib/python3.6/dist-packages (from plotly>=4.1.0->plotly.express) (1.3.3)\n",
            "Installing collected packages: plotly.express\n",
            "Successfully installed plotly.express\n"
          ],
          "name": "stdout"
        }
      ]
    },
    {
      "cell_type": "markdown",
      "metadata": {
        "id": "5RpNS-iSABRN",
        "colab_type": "text"
      },
      "source": [
        "# Load libraries"
      ]
    },
    {
      "cell_type": "code",
      "metadata": {
        "_uuid": "8f2839f25d086af736a60e9eeb907d3b93b6e0e5",
        "_cell_guid": "b1076dfc-b9ad-4769-8c92-a6c4dae69d19",
        "trusted": true,
        "id": "HNLs_1a-y4c6",
        "colab_type": "code",
        "outputId": "9e788002-6a07-4fad-d4d5-fb51918142e7",
        "colab": {
          "base_uri": "https://localhost:8080/",
          "height": 136
        }
      },
      "source": [
        "import numpy as np \n",
        "import pandas as pd\n",
        "import math \n",
        "import random\n",
        "import os\n",
        "\n",
        "from keras.models import Model, load_model, Sequential\n",
        "from keras.layers import Input, Dropout, Dense, Embedding, SpatialDropout1D, concatenate, BatchNormalization, Flatten\n",
        "from keras.preprocessing.sequence import pad_sequences\n",
        "from keras.preprocessing import text, sequence\n",
        "from keras.callbacks import Callback\n",
        "from keras import backend as K\n",
        "from keras.models import Model\n",
        "from keras.losses import mean_squared_error as mse_loss\n",
        "from keras import optimizers\n",
        "from keras.optimizers import RMSprop, Adam\n",
        "from keras.callbacks import EarlyStopping, ModelCheckpoint, ReduceLROnPlateau\n",
        "\n",
        "import matplotlib\n",
        "import matplotlib.pyplot as plt\n",
        "import seaborn as sns\n",
        "import plotly.express as px\n",
        "from sklearn.model_selection import KFold, StratifiedKFold, train_test_split\n"
      ],
      "execution_count": 0,
      "outputs": [
        {
          "output_type": "stream",
          "text": [
            "/content\n",
            "kaggle/input/weather_train.csv\n",
            "kaggle/input/sample_submission.csv\n",
            "kaggle/input/building_metadata.csv\n",
            "kaggle/input/test.csv\n",
            "kaggle/input/train.csv\n",
            "kaggle/input/weather_test.csv\n"
          ],
          "name": "stdout"
        }
      ]
    },
    {
      "cell_type": "markdown",
      "metadata": {
        "id": "JAALmJr__KG_",
        "colab_type": "text"
      },
      "source": [
        "# Loading data"
      ]
    },
    {
      "cell_type": "code",
      "metadata": {
        "trusted": true,
        "id": "BthgJZCAy4c_",
        "colab_type": "code",
        "colab": {}
      },
      "source": [
        "building_df = pd.read_csv(\"kaggle/input/building_metadata.csv\")\n",
        "weather_train = pd.read_csv(\"kaggle/input/weather_train.csv\")\n",
        "train_df= pd.read_csv(\"kaggle/input/train.csv\")"
      ],
      "execution_count": 0,
      "outputs": []
    },
    {
      "cell_type": "markdown",
      "metadata": {
        "id": "xAAKe5k9BZ-o",
        "colab_type": "text"
      },
      "source": [
        "# Preprocessing data"
      ]
    },
    {
      "cell_type": "code",
      "metadata": {
        "trusted": true,
        "id": "ndjfyahwy4dC",
        "colab_type": "code",
        "outputId": "433ad843-8a43-461a-8f2c-9563fb8f37cf",
        "colab": {
          "base_uri": "https://localhost:8080/",
          "height": 394
        }
      },
      "source": [
        "#Joindre les 3 tableaux en un seul par 3 clés\n",
        "train=train_df.copy()\n",
        "train = train.merge(building_df, left_on = \"building_id\", right_on = \"building_id\", how = \"left\")\n",
        "train = train.merge(weather_train, left_on = [\"site_id\", \"timestamp\"], right_on = [\"site_id\", \"timestamp\"],how = \"left\")\n",
        "train.head()"
      ],
      "execution_count": 0,
      "outputs": [
        {
          "output_type": "execute_result",
          "data": {
            "text/html": [
              "<div>\n",
              "<style scoped>\n",
              "    .dataframe tbody tr th:only-of-type {\n",
              "        vertical-align: middle;\n",
              "    }\n",
              "\n",
              "    .dataframe tbody tr th {\n",
              "        vertical-align: top;\n",
              "    }\n",
              "\n",
              "    .dataframe thead th {\n",
              "        text-align: right;\n",
              "    }\n",
              "</style>\n",
              "<table border=\"1\" class=\"dataframe\">\n",
              "  <thead>\n",
              "    <tr style=\"text-align: right;\">\n",
              "      <th></th>\n",
              "      <th>building_id</th>\n",
              "      <th>meter</th>\n",
              "      <th>timestamp</th>\n",
              "      <th>meter_reading</th>\n",
              "      <th>site_id</th>\n",
              "      <th>primary_use</th>\n",
              "      <th>square_feet</th>\n",
              "      <th>year_built</th>\n",
              "      <th>floor_count</th>\n",
              "      <th>air_temperature</th>\n",
              "      <th>cloud_coverage</th>\n",
              "      <th>dew_temperature</th>\n",
              "      <th>precip_depth_1_hr</th>\n",
              "      <th>sea_level_pressure</th>\n",
              "      <th>wind_direction</th>\n",
              "      <th>wind_speed</th>\n",
              "    </tr>\n",
              "  </thead>\n",
              "  <tbody>\n",
              "    <tr>\n",
              "      <th>0</th>\n",
              "      <td>0</td>\n",
              "      <td>0</td>\n",
              "      <td>2016-01-01 00:00:00</td>\n",
              "      <td>0.0</td>\n",
              "      <td>0</td>\n",
              "      <td>Education</td>\n",
              "      <td>7432</td>\n",
              "      <td>2008.0</td>\n",
              "      <td>NaN</td>\n",
              "      <td>25.0</td>\n",
              "      <td>6.0</td>\n",
              "      <td>20.0</td>\n",
              "      <td>NaN</td>\n",
              "      <td>1019.7</td>\n",
              "      <td>0.0</td>\n",
              "      <td>0.0</td>\n",
              "    </tr>\n",
              "    <tr>\n",
              "      <th>1</th>\n",
              "      <td>1</td>\n",
              "      <td>0</td>\n",
              "      <td>2016-01-01 00:00:00</td>\n",
              "      <td>0.0</td>\n",
              "      <td>0</td>\n",
              "      <td>Education</td>\n",
              "      <td>2720</td>\n",
              "      <td>2004.0</td>\n",
              "      <td>NaN</td>\n",
              "      <td>25.0</td>\n",
              "      <td>6.0</td>\n",
              "      <td>20.0</td>\n",
              "      <td>NaN</td>\n",
              "      <td>1019.7</td>\n",
              "      <td>0.0</td>\n",
              "      <td>0.0</td>\n",
              "    </tr>\n",
              "    <tr>\n",
              "      <th>2</th>\n",
              "      <td>2</td>\n",
              "      <td>0</td>\n",
              "      <td>2016-01-01 00:00:00</td>\n",
              "      <td>0.0</td>\n",
              "      <td>0</td>\n",
              "      <td>Education</td>\n",
              "      <td>5376</td>\n",
              "      <td>1991.0</td>\n",
              "      <td>NaN</td>\n",
              "      <td>25.0</td>\n",
              "      <td>6.0</td>\n",
              "      <td>20.0</td>\n",
              "      <td>NaN</td>\n",
              "      <td>1019.7</td>\n",
              "      <td>0.0</td>\n",
              "      <td>0.0</td>\n",
              "    </tr>\n",
              "    <tr>\n",
              "      <th>3</th>\n",
              "      <td>3</td>\n",
              "      <td>0</td>\n",
              "      <td>2016-01-01 00:00:00</td>\n",
              "      <td>0.0</td>\n",
              "      <td>0</td>\n",
              "      <td>Education</td>\n",
              "      <td>23685</td>\n",
              "      <td>2002.0</td>\n",
              "      <td>NaN</td>\n",
              "      <td>25.0</td>\n",
              "      <td>6.0</td>\n",
              "      <td>20.0</td>\n",
              "      <td>NaN</td>\n",
              "      <td>1019.7</td>\n",
              "      <td>0.0</td>\n",
              "      <td>0.0</td>\n",
              "    </tr>\n",
              "    <tr>\n",
              "      <th>4</th>\n",
              "      <td>4</td>\n",
              "      <td>0</td>\n",
              "      <td>2016-01-01 00:00:00</td>\n",
              "      <td>0.0</td>\n",
              "      <td>0</td>\n",
              "      <td>Education</td>\n",
              "      <td>116607</td>\n",
              "      <td>1975.0</td>\n",
              "      <td>NaN</td>\n",
              "      <td>25.0</td>\n",
              "      <td>6.0</td>\n",
              "      <td>20.0</td>\n",
              "      <td>NaN</td>\n",
              "      <td>1019.7</td>\n",
              "      <td>0.0</td>\n",
              "      <td>0.0</td>\n",
              "    </tr>\n",
              "  </tbody>\n",
              "</table>\n",
              "</div>"
            ],
            "text/plain": [
              "   building_id  meter  ... wind_direction  wind_speed\n",
              "0            0      0  ...            0.0         0.0\n",
              "1            1      0  ...            0.0         0.0\n",
              "2            2      0  ...            0.0         0.0\n",
              "3            3      0  ...            0.0         0.0\n",
              "4            4      0  ...            0.0         0.0\n",
              "\n",
              "[5 rows x 16 columns]"
            ]
          },
          "metadata": {
            "tags": []
          },
          "execution_count": 6
        }
      ]
    },
    {
      "cell_type": "markdown",
      "metadata": {
        "id": "MjbUtcxEglH-",
        "colab_type": "text"
      },
      "source": [
        "## Removing Outliers\n",
        "meter - The meter id code. Read as {0: electricity, 1: chilledwater, 2: steam, hotwater: 3}\n",
        "\n",
        "\n",
        "D'après les Boxplot ci-dessous on remarque qu'il ya des outliers dans le dataset, qui sont plus remarquables pour le metric 2 qui est le steam"
      ]
    },
    {
      "cell_type": "code",
      "metadata": {
        "id": "2aBCL0ZIgsVV",
        "colab_type": "code",
        "outputId": "96a4030d-e548-448b-fec4-7940cb94b05a",
        "colab": {
          "base_uri": "https://localhost:8080/",
          "height": 405
        }
      },
      "source": [
        "#Boxplot avant d'éliminer les outliers\n",
        "fig, axes = plt.subplots(1, 1, figsize=(14, 6))\n",
        "sns.boxplot(x='meter', y='meter_reading', data=train, showfliers=False)"
      ],
      "execution_count": 0,
      "outputs": [
        {
          "output_type": "execute_result",
          "data": {
            "text/plain": [
              "<matplotlib.axes._subplots.AxesSubplot at 0x7fe02becff98>"
            ]
          },
          "metadata": {
            "tags": []
          },
          "execution_count": 7
        },
        {
          "output_type": "display_data",
          "data": {
            "image/png": "[encoded data removed]",
            "text/plain": [
              "<Figure size 1008x432 with 1 Axes>"
            ]
          },
          "metadata": {
            "tags": []
          }
        }
      ]
    },
    {
      "cell_type": "code",
      "metadata": {
        "id": "GtYRPHmci9CW",
        "colab_type": "code",
        "outputId": "103592c1-22bd-4238-c31c-eb282b446f58",
        "colab": {
          "base_uri": "https://localhost:8080/",
          "height": 306
        }
      },
      "source": [
        "daily_train =train_df.copy() \n",
        "daily_train['meter'] = pd.Categorical(daily_train['meter']).rename_categories({0: 'electricity', 1: 'chilledwater', 2: 'steam', 3: 'hotwater'})\n",
        "daily_train['timestamp'] = pd.to_datetime(daily_train.timestamp)\n",
        "daily_train['date'] = daily_train['timestamp'].dt.date\n",
        "daily_train = daily_train.groupby(['date', 'building_id', 'meter']).sum()\n",
        "daily_train_agg = daily_train.groupby(['date', 'meter']).agg(['sum', 'mean', 'idxmax', 'max'])\n",
        "daily_train_agg = daily_train_agg.reset_index()\n",
        "level_0 = daily_train_agg.columns.droplevel(0)\n",
        "level_1 = daily_train_agg.columns.droplevel(1)\n",
        "level_0 = ['' if x == '' else '-' + x for x in level_0]\n",
        "daily_train_agg.columns = level_1 + level_0\n",
        "daily_train_agg.rename_axis(None, axis=1)\n",
        "daily_train_agg['building_id_max'] = [x[1] for x in daily_train_agg['meter_reading-idxmax']]\n",
        "daily_train_agg.head()"
      ],
      "execution_count": 0,
      "outputs": [
        {
          "output_type": "execute_result",
          "data": {
            "text/html": [
              "<div>\n",
              "<style scoped>\n",
              "    .dataframe tbody tr th:only-of-type {\n",
              "        vertical-align: middle;\n",
              "    }\n",
              "\n",
              "    .dataframe tbody tr th {\n",
              "        vertical-align: top;\n",
              "    }\n",
              "\n",
              "    .dataframe thead th {\n",
              "        text-align: right;\n",
              "    }\n",
              "</style>\n",
              "<table border=\"1\" class=\"dataframe\">\n",
              "  <thead>\n",
              "    <tr style=\"text-align: right;\">\n",
              "      <th></th>\n",
              "      <th>date</th>\n",
              "      <th>meter</th>\n",
              "      <th>meter_reading-sum</th>\n",
              "      <th>meter_reading-mean</th>\n",
              "      <th>meter_reading-idxmax</th>\n",
              "      <th>meter_reading-max</th>\n",
              "      <th>building_id_max</th>\n",
              "    </tr>\n",
              "  </thead>\n",
              "  <tbody>\n",
              "    <tr>\n",
              "      <th>0</th>\n",
              "      <td>2016-01-01</td>\n",
              "      <td>electricity</td>\n",
              "      <td>4.219647e+06</td>\n",
              "      <td>3037.903035</td>\n",
              "      <td>(2016-01-01, 803, electricity)</td>\n",
              "      <td>116037.18</td>\n",
              "      <td>803</td>\n",
              "    </tr>\n",
              "    <tr>\n",
              "      <th>1</th>\n",
              "      <td>2016-01-01</td>\n",
              "      <td>chilledwater</td>\n",
              "      <td>1.412169e+06</td>\n",
              "      <td>3090.084935</td>\n",
              "      <td>(2016-01-01, 1289, chilledwater)</td>\n",
              "      <td>104211.65</td>\n",
              "      <td>1289</td>\n",
              "    </tr>\n",
              "    <tr>\n",
              "      <th>2</th>\n",
              "      <td>2016-01-01</td>\n",
              "      <td>steam</td>\n",
              "      <td>6.873201e+07</td>\n",
              "      <td>218891.736502</td>\n",
              "      <td>(2016-01-01, 1099, steam)</td>\n",
              "      <td>50950800.00</td>\n",
              "      <td>1099</td>\n",
              "    </tr>\n",
              "    <tr>\n",
              "      <th>3</th>\n",
              "      <td>2016-01-01</td>\n",
              "      <td>hotwater</td>\n",
              "      <td>1.609989e+06</td>\n",
              "      <td>11180.481533</td>\n",
              "      <td>(2016-01-01, 1331, hotwater)</td>\n",
              "      <td>219824.53</td>\n",
              "      <td>1331</td>\n",
              "    </tr>\n",
              "    <tr>\n",
              "      <th>4</th>\n",
              "      <td>2016-01-02</td>\n",
              "      <td>electricity</td>\n",
              "      <td>4.288951e+06</td>\n",
              "      <td>3085.576378</td>\n",
              "      <td>(2016-01-02, 803, electricity)</td>\n",
              "      <td>115776.75</td>\n",
              "      <td>803</td>\n",
              "    </tr>\n",
              "  </tbody>\n",
              "</table>\n",
              "</div>"
            ],
            "text/plain": [
              "         date         meter  ...  meter_reading-max  building_id_max\n",
              "0  2016-01-01   electricity  ...          116037.18              803\n",
              "1  2016-01-01  chilledwater  ...          104211.65             1289\n",
              "2  2016-01-01         steam  ...        50950800.00             1099\n",
              "3  2016-01-01      hotwater  ...          219824.53             1331\n",
              "4  2016-01-02   electricity  ...          115776.75              803\n",
              "\n",
              "[5 rows x 7 columns]"
            ]
          },
          "metadata": {
            "tags": []
          },
          "execution_count": 8
        }
      ]
    },
    {
      "cell_type": "code",
      "metadata": {
        "id": "W9Wq5wwToc3r",
        "colab_type": "code",
        "outputId": "1ab569e1-ef1d-4141-d79b-4d24bd7fb240",
        "colab": {
          "base_uri": "https://localhost:8080/",
          "height": 542
        }
      },
      "source": [
        "fig_total = px.line(daily_train_agg, x='date', y='meter_reading-sum', color='meter', render_mode='svg')\n",
        "fig_total.update_layout(title='total consommation (KWH)')\n",
        "fig_total.show()"
      ],
      "execution_count": 0,
      "outputs": [
        {
          "output_type": "display_data",
          "data": {
            "text/html": [
              "<html>\n",
              "<head><meta charset=\"utf-8\" /></head>\n",
              "<body>\n",
              "    <div>\n",
              "            <script src=\"https://cdnjs.cloudflare.com/ajax/libs/mathjax/2.7.5/MathJax.js?config=TeX-AMS-MML_SVG\"></script><script type=\"text/javascript\">if (window.MathJax) {MathJax.Hub.Config({SVG: {font: \"STIX-Web\"}});}</script>\n",
              "                <script type=\"text/javascript\">window.PlotlyConfig = {MathJaxConfig: 'local'};</script>\n",
              "        <script src=\"https://cdn.plot.ly/plotly-latest.min.js\"></script>    \n",
              "            <div id=\"eebeceae-f7d8-40b9-82ec-651958e671fb\" class=\"plotly-graph-div\" style=\"height:525px; width:100%;\"></div>\n",
              "            <script type=\"text/javascript\">\n",
              "                \n",
              "                    window.PLOTLYENV=window.PLOTLYENV || {};\n",
              "                    \n",
              "                if (document.getElementById(\"eebeceae-f7d8-40b9-82ec-651958e671fb\")) {\n",
              "                    Plotly.newPlot(\n",
              "                        'eebeceae-f7d8-40b9-82ec-651958e671fb',\n",
              "                        [{\"hoverlabel\": {\"namelength\": 0}, \"hovertemplate\": \"meter=electricity<br>date=%{x}<br>meter_reading-sum=%{y}\", \"legendgroup\": \"meter=electricity\", \"line\": {\"color\": \"#636efa\", \"dash\": \"solid\"}, \"mode\": \"lines\", \"name\": \"meter=electricity\", \"showlegend\": true, \"type\": \"scatter\", \"x\": [\"2016-01-01\", \"2016-01-02\", \"2016-01-03\", \"2016-01-04\", \"2016-01-05\", \"2016-01-06\", \"2016-01-07\", \"2016-01-08\", \"2016-01-09\", \"2016-01-10\", \"2016-01-11\", \"2016-01-12\", \"2016-01-13\", \"2016-01-14\", \"2016-01-15\", \"2016-01-16\", \"2016-01-17\", \"2016-01-18\", \"2016-01-19\", \"2016-01-20\", \"2016-01-21\", \"2016-01-22\", \"2016-01-23\", \"2016-01-24\", \"2016-01-25\", \"2016-01-26\", \"2016-01-27\", \"2016-01-28\", \"2016-01-29\", \"2016-01-30\", \"2016-01-31\", \"2016-02-01\", \"2016-02-02\", \"2016-02-03\", \"2016-02-04\", \"2016-02-05\", \"2016-02-06\", \"2016-02-07\", \"2016-02-08\", \"2016-02-09\", \"2016-02-10\", \"2016-02-11\", \"2016-02-12\", \"2016-02-13\", \"2016-02-14\", \"2016-02-15\", \"2016-02-16\", \"2016-02-17\", \"2016-02-18\", \"2016-02-19\", \"2016-02-20\", \"2016-02-21\", \"2016-02-22\", \"2016-02-23\", \"2016-02-24\", \"2016-02-25\", \"2016-02-26\", \"2016-02-27\", \"2016-02-28\", \"2016-02-29\", \"2016-03-01\", \"2016-03-02\", \"2016-03-03\", \"2016-03-04\", \"2016-03-05\", \"2016-03-06\", \"2016-03-07\", \"2016-03-08\", \"2016-03-09\", \"2016-03-10\", \"2016-03-11\", \"2016-03-12\", \"2016-03-13\", \"2016-03-14\", \"2016-03-15\", \"2016-03-16\", \"2016-03-17\", \"2016-03-18\", \"2016-03-19\", \"2016-03-20\", \"2016-03-21\", \"2016-03-22\", \"2016-03-23\", \"2016-03-24\", \"2016-03-25\", \"2016-03-26\", \"2016-03-27\", \"2016-03-28\", \"2016-03-29\", \"2016-03-30\", \"2016-03-31\", \"2016-04-01\", \"2016-04-02\", \"2016-04-03\", \"2016-04-04\", \"2016-04-05\", \"2016-04-06\", \"2016-04-07\", \"2016-04-08\", \"2016-04-09\", \"2016-04-10\", \"2016-04-11\", \"2016-04-12\", \"2016-04-13\", \"2016-04-14\", \"2016-04-15\", \"2016-04-16\", \"2016-04-17\", \"2016-04-18\", \"2016-04-19\", \"2016-04-20\", \"2016-04-21\", \"2016-04-22\", \"2016-04-23\", \"2016-04-24\", \"2016-04-25\", \"2016-04-26\", \"2016-04-27\", \"2016-04-28\", \"2016-04-29\", \"2016-04-30\", \"2016-05-01\", \"2016-05-02\", \"2016-05-03\", \"2016-05-04\", \"2016-05-05\", \"2016-05-06\", \"2016-05-07\", \"2016-05-08\", \"2016-05-09\", \"2016-05-10\", \"2016-05-11\", \"2016-05-12\", \"2016-05-13\", \"2016-05-14\", \"2016-05-15\", \"2016-05-16\", \"2016-05-17\", \"2016-05-18\", \"2016-05-19\", \"2016-05-20\", \"2016-05-21\", \"2016-05-22\", \"2016-05-23\", \"2016-05-24\", \"2016-05-25\", \"2016-05-26\", \"2016-05-27\", \"2016-05-28\", \"2016-05-29\", \"2016-05-30\", \"2016-05-31\", \"2016-06-01\", \"2016-06-02\", \"2016-06-03\", \"2016-06-04\", \"2016-06-05\", \"2016-06-06\", \"2016-06-07\", \"2016-06-08\", \"2016-06-09\", \"2016-06-10\", \"2016-06-11\", \"2016-06-12\", \"2016-06-13\", \"2016-06-14\", \"2016-06-15\", \"2016-06-16\", \"2016-06-17\", \"2016-06-18\", \"2016-06-19\", \"2016-06-20\", \"2016-06-21\", \"2016-06-22\", \"2016-06-23\", \"2016-06-24\", \"2016-06-25\", \"2016-06-26\", \"2016-06-27\", \"2016-06-28\", \"2016-06-29\", \"2016-06-30\", \"2016-07-01\", \"2016-07-02\", \"2016-07-03\", \"2016-07-04\", \"2016-07-05\", \"2016-07-06\", \"2016-07-07\", \"2016-07-08\", \"2016-07-09\", \"2016-07-10\", \"2016-07-11\", \"2016-07-12\", \"2016-07-13\", \"2016-07-14\", \"2016-07-15\", \"2016-07-16\", \"2016-07-17\", \"2016-07-18\", \"2016-07-19\", \"2016-07-20\", \"2016-07-21\", \"2016-07-22\", \"2016-07-23\", \"2016-07-24\", \"2016-07-25\", \"2016-07-26\", \"2016-07-27\", \"2016-07-28\", \"2016-07-29\", \"2016-07-30\", \"2016-07-31\", \"2016-08-01\", \"2016-08-02\", \"2016-08-03\", \"2016-08-04\", \"2016-08-05\", \"2016-08-06\", \"2016-08-07\", \"2016-08-08\", \"2016-08-09\", \"2016-08-10\", \"2016-08-11\", \"2016-08-12\", \"2016-08-13\", \"2016-08-14\", \"2016-08-15\", \"2016-08-16\", \"2016-08-17\", \"2016-08-18\", \"2016-08-19\", \"2016-08-20\", \"2016-08-21\", \"2016-08-22\", \"2016-08-23\", \"2016-08-24\", \"2016-08-25\", \"2016-08-26\", \"2016-08-27\", \"2016-08-28\", \"2016-08-29\", \"2016-08-30\", \"2016-08-31\", \"2016-09-01\", \"2016-09-02\", \"2016-09-03\", \"2016-09-04\", \"2016-09-05\", \"2016-09-06\", \"2016-09-07\", \"2016-09-08\", \"2016-09-09\", \"2016-09-10\", \"2016-09-11\", \"2016-09-12\", \"2016-09-13\", \"2016-09-14\", \"2016-09-15\", \"2016-09-16\", \"2016-09-17\", \"2016-09-18\", \"2016-09-19\", \"2016-09-20\", \"2016-09-21\", \"2016-09-22\", \"2016-09-23\", \"2016-09-24\", \"2016-09-25\", \"2016-09-26\", \"2016-09-27\", \"2016-09-28\", \"2016-09-29\", \"2016-09-30\", \"2016-10-01\", \"2016-10-02\", \"2016-10-03\", \"2016-10-04\", \"2016-10-05\", \"2016-10-06\", \"2016-10-07\", \"2016-10-08\", \"2016-10-09\", \"2016-10-10\", \"2016-10-11\", \"2016-10-12\", \"2016-10-13\", \"2016-10-14\", \"2016-10-15\", \"2016-10-16\", \"2016-10-17\", \"2016-10-18\", \"2016-10-19\", \"2016-10-20\", \"2016-10-21\", \"2016-10-22\", \"2016-10-23\", \"2016-10-24\", \"2016-10-25\", \"2016-10-26\", \"2016-10-27\", \"2016-10-28\", \"2016-10-29\", \"2016-10-30\", \"2016-10-31\", \"2016-11-01\", \"2016-11-02\", \"2016-11-03\", \"2016-11-04\", \"2016-11-05\", \"2016-11-06\", \"2016-11-07\", \"2016-11-08\", \"2016-11-09\", \"2016-11-10\", \"2016-11-11\", \"2016-11-12\", \"2016-11-13\", \"2016-11-14\", \"2016-11-15\", \"2016-11-16\", \"2016-11-17\", \"2016-11-18\", \"2016-11-19\", \"2016-11-20\", \"2016-11-21\", \"2016-11-22\", \"2016-11-23\", \"2016-11-24\", \"2016-11-25\", \"2016-11-26\", \"2016-11-27\", \"2016-11-28\", \"2016-11-29\", \"2016-11-30\", \"2016-12-01\", \"2016-12-02\", \"2016-12-03\", \"2016-12-04\", \"2016-12-05\", \"2016-12-06\", \"2016-12-07\", \"2016-12-08\", \"2016-12-09\", \"2016-12-10\", \"2016-12-11\", \"2016-12-12\", \"2016-12-13\", \"2016-12-14\", \"2016-12-15\", \"2016-12-16\", \"2016-12-17\", \"2016-12-18\", \"2016-12-19\", \"2016-12-20\", \"2016-12-21\", \"2016-12-22\", \"2016-12-23\", \"2016-12-24\", \"2016-12-25\", \"2016-12-26\", \"2016-12-27\", \"2016-12-28\", \"2016-12-29\", \"2016-12-30\", \"2016-12-31\"], \"xaxis\": \"x\", \"y\": [4219647.315199997, 4288951.165099997, 4247301.164000002, 5005502.711599997, 5095315.305600002, 5137902.578799997, 5124877.662299999, 5041650.239100005, 4487391.366800004, 4338253.551999996, 5311979.428299993, 5274713.092599997, 5295392.836399993, 5240921.7578, 5183256.640399995, 4534191.273799999, 4519615.448500003, 5055451.668100011, 5484194.017700003, 5328174.984000002, 5451020.885700001, 5376731.3506999975, 4704015.834999997, 4651357.8398, 4992526.9967999915, 5288568.304699993, 5401544.226499999, 5397647.236899998, 5353948.5042999955, 4656016.746199999, 4462806.830900008, 5243503.178500003, 5349647.450800002, 5385289.604999999, 5326077.243299996, 5312428.271800008, 4662663.2635, 4542303.316300003, 5361329.427399998, 5444987.854100007, 5206313.3177999975, 5145146.843799992, 5020957.287100001, 4436146.854100001, 4371778.243299995, 4941707.8965, 5018868.482600002, 5025791.232799993, 5037401.444999999, 4998503.330699993, 4294811.3254, 4164935.1213, 4895599.494000003, 4685027.287500002, 4857448.870299996, 4872782.962500004, 4909382.4422999965, 4322559.121699994, 4162671.5569999986, 4909584.120599997, 4885083.541999998, 4940676.489899998, 5015856.239399999, 4910171.45439999, 4320494.161699995, 4169936.382300001, 4798126.446000001, 4807560.330400001, 4767403.935999997, 4813554.673800002, 4728602.497700006, 4123149.7741000005, 3849568.089699999, 4735105.091999996, 4747851.126799998, 4745617.602999999, 4710844.793000002, 4554494.9030000055, 4124266.706299995, 4100761.2028999976, 4808743.152699997, 4795415.957500002, 4844580.147799995, 4815878.500399999, 4517410.414200007, 4079162.897100002, 3984688.214399997, 4524460.631599997, 4739248.318499999, 5040898.359900001, 5103689.217199998, 4956760.711400004, 4479016.545899995, 4447724.180699997, 5158999.8627999965, 5213693.447599995, 5190839.558199998, 5160932.8166999975, 5115177.833399996, 4538706.023299997, 4483819.915300003, 5164583.177499998, 5156153.976400006, 5227696.104100002, 5257403.124700001, 5106739.524699994, 4584469.1262, 4516177.154199999, 5270063.685099993, 5218535.342499998, 5216529.719200003, 5158563.398999995, 5085207.273300004, 4445716.1554, 4339961.5849, 5141991.486699997, 5242650.141299995, 5150197.801999995, 5139815.148599998, 5038564.968899994, 4396713.201700005, 4421782.885299995, 5084575.574199998, 5201369.762300003, 5173202.421599999, 5230521.655800005, 5180194.6962, 4496403.958900002, 4442098.6034999965, 5046465.466399999, 5164329.708599995, 5116993.581099999, 5187071.402099999, 5140743.067400002, 4485795.386099997, 4349996.051599999, 5004470.277600001, 5087361.585300002, 5063327.118299988, 5049911.822599991, 5277845.164699988, 5367288.431699995, 5267814.389099986, 5940612.021700005, 6101694.464000001, 6229700.852000001, 6178513.498800004, 6193404.394399993, 5505809.292399995, 5368876.711799999, 5577494.0024999855, 6254165.649999986, 6226408.926699997, 6253463.333499991, 6278092.292100006, 5630307.0619, 5504541.5775999995, 6170099.635499985, 6234040.493199995, 6074376.247399991, 6326629.547900001, 6396408.028800006, 5762516.806800001, 5551679.576700005, 6270112.429599998, 6342546.141700001, 6359650.554800005, 6384381.493400003, 6344986.450499998, 5691856.719300001, 5641498.726699996, 6343658.702799998, 6376133.102200005, 6423801.363400004, 6327704.975400006, 6405552.207900002, 6010471.506199995, 5635522.879700006, 6437482.946799995, 6461534.752, 6054329.047900009, 6271273.364599995, 5755962.837899998, 4811113.086399989, 4993758.2617, 5310890.823799989, 6545839.731400001, 6680752.566499994, 6734942.775000004, 6617619.252499994, 5923029.998799994, 5824885.367899998, 6765601.087700006, 6729407.378399987, 6742740.0316999955, 6621158.321000002, 6454031.519100004, 5754202.627999999, 5638363.6023999965, 6641879.925300001, 6795621.823800002, 6851436.493600006, 6927643.173300002, 6762664.087800002, 6128245.354600005, 5880659.083100001, 6652045.1635, 6569001.989400004, 6658087.723399996, 6656695.662900006, 6314250.1872, 5773404.78600001, 5750527.591899998, 6455215.011800001, 6687072.403999997, 6652769.844200005, 6529460.605399994, 6340907.636500012, 5669670.083400002, 5553608.4096000055, 6356508.750499991, 6490751.747300005, 6683696.995200005, 6649685.381800002, 6599770.040900003, 5903471.516300004, 5669145.378600001, 6519063.707199998, 6705863.510400013, 6710476.435300003, 6743333.3336, 6564661.461600001, 5852815.644999998, 5675060.711700005, 6486063.868199997, 6730330.502500001, 6734320.250599996, 6406232.779599998, 6749065.239100011, 5953360.898300001, 5988265.976299998, 7035650.4322999995, 6907425.2483000085, 6836218.263500007, 6750974.575600009, 6565120.285099996, 5836946.0367999915, 5760234.605099996, 6123333.219500001, 7053773.051200001, 7123478.29359999, 7103226.297800001, 6991295.985300005, 6102002.276499999, 5917023.500700007, 6780919.547699996, 6826301.581500001, 6851617.782600005, 6830364.526099988, 6724837.075799999, 5900964.928299993, 5904290.598099998, 6945783.988099997, 6897248.066100006, 7026436.645800007, 6921726.354100006, 6718043.632399996, 5892879.245499999, 5658449.200800005, 6398057.65800001, 6408790.449799996, 6329633.8451, 6291576.922, 6098728.340600007, 5326335.044500004, 5336973.585199999, 6237666.175599997, 6271970.728800004, 6192649.731100011, 6013060.958900001, 5850742.337499989, 5197999.689999996, 5077990.880400005, 5735004.249099995, 6058967.306599999, 6015922.334400007, 6093809.910199995, 5975873.267600004, 4926618.671000001, 4831971.488400004, 6427710.497299997, 6271766.775, 6253090.649000009, 6304927.861699997, 6161399.909500001, 5287313.380700003, 5192553.875000001, 6068919.079799998, 5925444.929100005, 6018353.937099994, 6210603.533800009, 6111564.022200006, 5332981.147999999, 5247660.427200005, 5922177.952900011, 6164707.524600006, 6212635.877000003, 6324373.871899999, 6325178.245700005, 5470028.024099993, 5365021.849900007, 6217675.648900001, 6353382.895900002, 6328172.311199993, 6359131.797599992, 5847518.590900003, 5353053.406799998, 5308545.359800005, 6333483.10079999, 6345563.399000003, 6228064.286199997, 6311867.474700003, 6141907.362700001, 5323488.588099997, 5392109.641199995, 6369388.5342, 6331660.554799994, 6081934.8457999965, 5547050.269299999, 5557763.661500003, 5196981.753399996, 5246475.632800002, 6339760.7005, 6411579.5051999865, 6447295.4471000135, 6095443.546000008, 5778439.971599998, 5002987.292500008, 4958744.607299999, 5784981.248000004, 6144170.207900008, 6378539.169699991, 6298630.308900001, 6186455.617599997, 5686009.472099987, 5502570.124900003, 6274381.6817000015, 6312209.631400003, 6320189.195400004, 6365509.673300006, 6304021.365599996, 5559309.007799998, 5407781.763000006, 6215146.578200007, 6214016.327700006, 6091834.920599994, 5859169.7743, 5530348.763000009, 4988561.342400009, 4917620.424099998, 5166583.855500002, 5352626.413100006, 5518761.087600001, 5587175.062799999, 5543141.048400004, 5066865.158800007], \"yaxis\": \"y\"}, {\"hoverlabel\": {\"namelength\": 0}, \"hovertemplate\": \"meter=chilledwater<br>date=%{x}<br>meter_reading-sum=%{y}\", \"legendgroup\": \"meter=chilledwater\", \"line\": {\"color\": \"#EF553B\", \"dash\": \"solid\"}, \"mode\": \"lines\", \"name\": \"meter=chilledwater\", \"showlegend\": true, \"type\": \"scatter\", \"x\": [\"2016-01-01\", \"2016-01-02\", \"2016-01-03\", \"2016-01-04\", \"2016-01-05\", \"2016-01-06\", \"2016-01-07\", \"2016-01-08\", \"2016-01-09\", \"2016-01-10\", \"2016-01-11\", \"2016-01-12\", \"2016-01-13\", \"2016-01-14\", \"2016-01-15\", \"2016-01-16\", \"2016-01-17\", \"2016-01-18\", \"2016-01-19\", \"2016-01-20\", \"2016-01-21\", \"2016-01-22\", \"2016-01-23\", \"2016-01-24\", \"2016-01-25\", \"2016-01-26\", \"2016-01-27\", \"2016-01-28\", \"2016-01-29\", \"2016-01-30\", \"2016-01-31\", \"2016-02-01\", \"2016-02-02\", \"2016-02-03\", \"2016-02-04\", \"2016-02-05\", \"2016-02-06\", \"2016-02-07\", \"2016-02-08\", \"2016-02-09\", \"2016-02-10\", \"2016-02-11\", \"2016-02-12\", \"2016-02-13\", \"2016-02-14\", \"2016-02-15\", \"2016-02-16\", \"2016-02-17\", \"2016-02-18\", \"2016-02-19\", \"2016-02-20\", \"2016-02-21\", \"2016-02-22\", \"2016-02-23\", \"2016-02-24\", \"2016-02-25\", \"2016-02-26\", \"2016-02-27\", \"2016-02-28\", \"2016-02-29\", \"2016-03-01\", \"2016-03-02\", \"2016-03-03\", \"2016-03-04\", \"2016-03-05\", \"2016-03-06\", \"2016-03-07\", \"2016-03-08\", \"2016-03-09\", \"2016-03-10\", \"2016-03-11\", \"2016-03-12\", \"2016-03-13\", \"2016-03-14\", \"2016-03-15\", \"2016-03-16\", \"2016-03-17\", \"2016-03-18\", \"2016-03-19\", \"2016-03-20\", \"2016-03-21\", \"2016-03-22\", \"2016-03-23\", \"2016-03-24\", \"2016-03-25\", \"2016-03-26\", \"2016-03-27\", \"2016-03-28\", \"2016-03-29\", \"2016-03-30\", \"2016-03-31\", \"2016-04-01\", \"2016-04-02\", \"2016-04-03\", \"2016-04-04\", \"2016-04-05\", \"2016-04-06\", \"2016-04-07\", \"2016-04-08\", \"2016-04-09\", \"2016-04-10\", \"2016-04-11\", \"2016-04-12\", \"2016-04-13\", \"2016-04-14\", \"2016-04-15\", \"2016-04-16\", \"2016-04-17\", \"2016-04-18\", \"2016-04-19\", \"2016-04-20\", \"2016-04-21\", \"2016-04-22\", \"2016-04-23\", \"2016-04-24\", \"2016-04-25\", \"2016-04-26\", \"2016-04-27\", \"2016-04-28\", \"2016-04-29\", \"2016-04-30\", \"2016-05-01\", \"2016-05-02\", \"2016-05-03\", \"2016-05-04\", \"2016-05-05\", \"2016-05-06\", \"2016-05-07\", \"2016-05-08\", \"2016-05-09\", \"2016-05-10\", \"2016-05-11\", \"2016-05-12\", \"2016-05-13\", \"2016-05-14\", \"2016-05-15\", \"2016-05-16\", \"2016-05-17\", \"2016-05-18\", \"2016-05-19\", \"2016-05-20\", \"2016-05-21\", \"2016-05-22\", \"2016-05-23\", \"2016-05-24\", \"2016-05-25\", \"2016-05-26\", \"2016-05-27\", \"2016-05-28\", \"2016-05-29\", \"2016-05-30\", \"2016-05-31\", \"2016-06-01\", \"2016-06-02\", \"2016-06-03\", \"2016-06-04\", \"2016-06-05\", \"2016-06-06\", \"2016-06-07\", \"2016-06-08\", \"2016-06-09\", \"2016-06-10\", \"2016-06-11\", \"2016-06-12\", \"2016-06-13\", \"2016-06-14\", \"2016-06-15\", \"2016-06-16\", \"2016-06-17\", \"2016-06-18\", \"2016-06-19\", \"2016-06-20\", \"2016-06-21\", \"2016-06-22\", \"2016-06-23\", \"2016-06-24\", \"2016-06-25\", \"2016-06-26\", \"2016-06-27\", \"2016-06-28\", \"2016-06-29\", \"2016-06-30\", \"2016-07-01\", \"2016-07-02\", \"2016-07-03\", \"2016-07-04\", \"2016-07-05\", \"2016-07-06\", \"2016-07-07\", \"2016-07-08\", \"2016-07-09\", \"2016-07-10\", \"2016-07-11\", \"2016-07-12\", \"2016-07-13\", \"2016-07-14\", \"2016-07-15\", \"2016-07-16\", \"2016-07-17\", \"2016-07-18\", \"2016-07-19\", \"2016-07-20\", \"2016-07-21\", \"2016-07-22\", \"2016-07-23\", \"2016-07-24\", \"2016-07-25\", \"2016-07-26\", \"2016-07-27\", \"2016-07-28\", \"2016-07-29\", \"2016-07-30\", \"2016-07-31\", \"2016-08-01\", \"2016-08-02\", \"2016-08-03\", \"2016-08-04\", \"2016-08-05\", \"2016-08-06\", \"2016-08-07\", \"2016-08-08\", \"2016-08-09\", \"2016-08-10\", \"2016-08-11\", \"2016-08-12\", \"2016-08-13\", \"2016-08-14\", \"2016-08-15\", \"2016-08-16\", \"2016-08-17\", \"2016-08-18\", \"2016-08-19\", \"2016-08-20\", \"2016-08-21\", \"2016-08-22\", \"2016-08-23\", \"2016-08-24\", \"2016-08-25\", \"2016-08-26\", \"2016-08-27\", \"2016-08-28\", \"2016-08-29\", \"2016-08-30\", \"2016-08-31\", \"2016-09-01\", \"2016-09-02\", \"2016-09-03\", \"2016-09-04\", \"2016-09-05\", \"2016-09-06\", \"2016-09-07\", \"2016-09-08\", \"2016-09-09\", \"2016-09-10\", \"2016-09-11\", \"2016-09-12\", \"2016-09-13\", \"2016-09-14\", \"2016-09-15\", \"2016-09-16\", \"2016-09-17\", \"2016-09-18\", \"2016-09-19\", \"2016-09-20\", \"2016-09-21\", \"2016-09-22\", \"2016-09-23\", \"2016-09-24\", \"2016-09-25\", \"2016-09-26\", \"2016-09-27\", \"2016-09-28\", \"2016-09-29\", \"2016-09-30\", \"2016-10-01\", \"2016-10-02\", \"2016-10-03\", \"2016-10-04\", \"2016-10-05\", \"2016-10-06\", \"2016-10-07\", \"2016-10-08\", \"2016-10-09\", \"2016-10-10\", \"2016-10-11\", \"2016-10-12\", \"2016-10-13\", \"2016-10-14\", \"2016-10-15\", \"2016-10-16\", \"2016-10-17\", \"2016-10-18\", \"2016-10-19\", \"2016-10-20\", \"2016-10-21\", \"2016-10-22\", \"2016-10-23\", \"2016-10-24\", \"2016-10-25\", \"2016-10-26\", \"2016-10-27\", \"2016-10-28\", \"2016-10-29\", \"2016-10-30\", \"2016-10-31\", \"2016-11-01\", \"2016-11-02\", \"2016-11-03\", \"2016-11-04\", \"2016-11-05\", \"2016-11-06\", \"2016-11-07\", \"2016-11-08\", \"2016-11-09\", \"2016-11-10\", \"2016-11-11\", \"2016-11-12\", \"2016-11-13\", \"2016-11-14\", \"2016-11-15\", \"2016-11-16\", \"2016-11-17\", \"2016-11-18\", \"2016-11-19\", \"2016-11-20\", \"2016-11-21\", \"2016-11-22\", \"2016-11-23\", \"2016-11-24\", \"2016-11-25\", \"2016-11-26\", \"2016-11-27\", \"2016-11-28\", \"2016-11-29\", \"2016-11-30\", \"2016-12-01\", \"2016-12-02\", \"2016-12-03\", \"2016-12-04\", \"2016-12-05\", \"2016-12-06\", \"2016-12-07\", \"2016-12-08\", \"2016-12-09\", \"2016-12-10\", \"2016-12-11\", \"2016-12-12\", \"2016-12-13\", \"2016-12-14\", \"2016-12-15\", \"2016-12-16\", \"2016-12-17\", \"2016-12-18\", \"2016-12-19\", \"2016-12-20\", \"2016-12-21\", \"2016-12-22\", \"2016-12-23\", \"2016-12-24\", \"2016-12-25\", \"2016-12-26\", \"2016-12-27\", \"2016-12-28\", \"2016-12-29\", \"2016-12-30\", \"2016-12-31\"], \"xaxis\": \"x\", \"y\": [1412168.8152999997, 1439739.8250999998, 1510352.0912000006, 1516235.7097, 1472645.7948000005, 1486447.5740999987, 1662345.7872999993, 1669385.3278000017, 1504044.093, 1509872.100100001, 1531385.0547000007, 1670492.3146000013, 1679243.5256999994, 1713415.591699999, 1689988.827, 1571853.4717999997, 1523779.0743000016, 1520966.7171999991, 1657129.296599999, 1808304.7834000008, 1835553.2159000007, 1680315.0296000005, 1547213.0811000017, 1710381.4081999997, 1510452.8129999998, 1914940.6346000014, 1820869.9345000002, 1721882.3061000006, 1830114.0647999991, 1799341.1484000008, 2130054.5692999987, 2222731.040799999, 1793678.6603999992, 1608836.9835, 1818982.4235999982, 1619639.9178999993, 1568927.4629000004, 1625884.3644000003, 1826255.7112999998, 1934116.2778999994, 1964637.489099999, 2053520.5883999993, 2081372.6069000005, 1958058.3437000006, 1893338.8613999994, 2147465.3252, 2200457.7806000006, 2212878.1374, 2261357.2340000006, 2349800.1711000004, 2628604.0958000016, 2546015.432900001, 2265278.6762999995, 1732582.8393999995, 1905554.7558000009, 2036845.5217, 2217125.2997000013, 2011954.8314000007, 2362465.8322, 3421141.1509999996, 3748387.4746000045, 3384249.055999998, 3218736.738399998, 2933877.9488999974, 2739346.461999998, 2748562.490600001, 3293655.0029999986, 4219865.924299996, 4010795.7255, 4564196.3508, 4706927.080199999, 3808139.685699998, 4020077.9194999975, 3778400.6521999994, 4366123.707599995, 4729708.676099996, 4918606.0688000005, 4337635.651, 3089251.2547999993, 2881731.6996999998, 2801801.829500003, 3184858.2514000013, 4241271.765499998, 4139691.8041000003, 4475289.8761, 3467854.5780000035, 3646745.8860000013, 4123277.720199995, 3936463.7477999977, 4006172.6965000005, 4570946.271500003, 5279907.893800001, 4170489.587599999, 2991473.814099999, 3858446.002100002, 3472145.4069, 3534426.837899999, 3763922.200799999, 3601315.8880999987, 3102904.2589999987, 3165764.0897000018, 4280711.488399997, 4700695.4968000045, 4212741.370500002, 4463369.241400001, 4606695.677000001, 4338802.458800001, 4753558.969499999, 5539347.913999997, 5415698.577299999, 5198680.3155, 5148953.056400001, 5658137.4296999965, 5145235.868000003, 4535426.6172, 5560029.346400001, 6219037.793400003, 5910030.698199999, 5321809.5928000035, 5191917.42890001, 4719788.965199999, 4897287.107500004, 6463584.828500001, 6537359.354699997, 5585032.880000002, 4654945.866200002, 4573039.107800003, 4131517.3113999963, 4871826.935300001, 4886916.792100004, 5418262.334600002, 6103571.849999998, 6708169.589599996, 7262922.969599993, 5260068.885699999, 4206353.1454, 4985628.377700003, 5073404.694499998, 5021103.2178, 5545648.480599998, 6046450.684, 5652181.485300001, 5537190.020400001, 6200387.668899998, 7366610.012500006, 7772733.232799988, 8177728.158200006, 8598807.86210001, 8289143.456499999, 7838896.383199996, 8113718.608900003, 9109676.227999998, 8620380.071199996, 9031348.078599997, 9039915.10150001, 8768792.3331, 8380050.522500007, 8604756.474799998, 8583143.3796, 7302940.461300001, 7644846.419499998, 8341676.828499995, 8880597.035499988, 8715111.5461, 8439580.189199997, 8903011.060200002, 9656120.296799997, 10506973.645999996, 9659891.12530001, 8481735.7379, 8329341.668299995, 9283075.360099994, 10046821.564800002, 10055860.9526, 9994585.8071, 10214279.09619999, 9979651.6215, 9081736.696399998, 10420738.401299996, 10790522.125099992, 9759662.181800004, 9429718.801300004, 8797495.998200003, 7476445.706900001, 7035420.8613, 8016694.696299995, 11620953.500599999, 12039254.229199992, 12069655.102100005, 11005493.681900002, 9777422.868400002, 9446215.77770001, 10678278.107400006, 11130295.149899993, 11356001.640599998, 11270247.103799984, 10832649.710899996, 9132136.623599999, 9224834.63879999, 10595617.484899988, 11015080.783600003, 10823522.346299993, 11352213.315199984, 11618380.906699998, 10893973.470399996, 10913886.565499999, 12301429.085599989, 12266079.780499993, 12060630.120799994, 11696663.66029999, 10878085.298299987, 10306144.8078, 10326583.271499986, 11035108.672699995, 11779845.334100002, 11538796.775099996, 11005637.677900003, 10878792.393300008, 10390099.204899997, 9583251.667699995, 10033500.40669999, 10071613.676699992, 11542389.660799999, 10638818.595800001, 9144666.869400002, 11135263.923699997, 10761100.882499993, 11290050.7531, 11509099.134399997, 11683119.359900001, 11400760.867999999, 11000030.532000002, 10168807.914100006, 9782034.129099999, 9359955.632199988, 9943323.438900009, 10329220.326600006, 11006194.98410001, 11681738.327200003, 10464231.286299998, 10184650.600699984, 11325388.556400008, 10932234.1894, 11247409.390299994, 10709116.240400003, 9264724.061100006, 8148032.767399999, 8320775.726899996, 8683795.652600005, 10517869.667499995, 11576391.702799998, 22018272.54620002, 29195790.99660002, 27193223.16640002, 24016773.997100018, 21336477.5062, 24048012.054300003, 24508247.83580001, 20540290.929900028, 20760532.442500018, 21385645.205999985, 23765704.580899958, 25476213.431500006, 25585353.15310004, 24162624.39329999, 22011605.266599983, 25757474.803100012, 28064905.85410001, 24426081.705199998, 23520590.231900014, 26323331.493300013, 26837848.640999995, 22769817.175899997, 19206121.494100004, 18837402.928399984, 19524392.61299999, 20216536.619300004, 11030168.973099997, 6926357.886900003, 6582115.641100003, 6657007.916699999, 6151350.5709000025, 4855594.283200008, 10109380.033399986, 13723661.518799994, 15634176.586999994, 16186142.850800002, 13887309.130700009, 11954789.170899997, 13563954.405099994, 25027741.68319996, 23336887.4179, 11518411.058200002, 7647701.327499997, 6495258.996900004, 3849928.6437999983, 3857335.0226999987, 5229912.144800003, 5000245.6649, 4867102.4854999995, 5131766.213800005, 5560178.574499999, 5057305.664500004, 5842108.415499995, 5636415.931400005, 5348674.889700002, 6398600.829700004, 6260441.952900003, 5262457.997999999, 4187078.027900002, 3982953.852700002, 4058805.9884000006, 4070083.125200004, 3864288.0514000007, 3583714.6866000034, 3308266.0768999998, 2772976.448499998, 3028911.231100001, 3284958.0795999994, 3231536.257, 5839597.959100002, 5487419.644900001, 3460529.1971999994, 2734258.834000001, 2145432.262599999, 2413145.437200001, 2883382.4820000017, 2784108.498000001, 2826024.851899999, 2985923.6610000012, 2502364.0584000014, 2487264.9099999997, 3000188.9273999995, 3447034.8618000015, 4341376.355900004, 3553453.489499999, 2445319.297600002, 2236468.799399999, 2399555.9115000013, 2882040.9242000002, 2951122.7464000015, 2663786.2245999994, 4119339.960500001, 5771732.603699997, 4784793.687600002, 6351801.573900001, 6494204.528600008, 6907899.665100001, 4642171.541799996, 2358846.2462, 2399525.1427999996, 2812180.5976000004, 2875532.3651999994, 2676461.137300004, 2370658.0772000006, 2280466.4545, 2487879.3672, 2513201.0865000016, 2955975.5072999983, 2994919.5217999984, 3170773.3627000004, 3159401.0624999995, 3115995.8938999986, 2634915.2030999996, 1965577.8956999984, 2102037.172699999], \"yaxis\": \"y\"}, {\"hoverlabel\": {\"namelength\": 0}, \"hovertemplate\": \"meter=steam<br>date=%{x}<br>meter_reading-sum=%{y}\", \"legendgroup\": \"meter=steam\", \"line\": {\"color\": \"#00cc96\", \"dash\": \"solid\"}, \"mode\": \"lines\", \"name\": \"meter=steam\", \"showlegend\": true, \"type\": \"scatter\", \"x\": [\"2016-01-01\", \"2016-01-02\", \"2016-01-03\", \"2016-01-04\", \"2016-01-05\", \"2016-01-06\", \"2016-01-07\", \"2016-01-08\", \"2016-01-09\", \"2016-01-10\", \"2016-01-11\", \"2016-01-12\", \"2016-01-13\", \"2016-01-14\", \"2016-01-15\", \"2016-01-16\", \"2016-01-17\", \"2016-01-18\", \"2016-01-19\", \"2016-01-20\", \"2016-01-21\", \"2016-01-22\", \"2016-01-23\", \"2016-01-24\", \"2016-01-25\", \"2016-01-26\", \"2016-01-27\", \"2016-01-28\", \"2016-01-29\", \"2016-01-30\", \"2016-01-31\", \"2016-02-01\", \"2016-02-02\", \"2016-02-03\", \"2016-02-04\", \"2016-02-05\", \"2016-02-06\", \"2016-02-07\", \"2016-02-08\", \"2016-02-09\", \"2016-02-10\", \"2016-02-11\", \"2016-02-12\", \"2016-02-13\", \"2016-02-14\", \"2016-02-15\", \"2016-02-16\", \"2016-02-17\", \"2016-02-18\", \"2016-02-19\", \"2016-02-20\", \"2016-02-21\", \"2016-02-22\", \"2016-02-23\", \"2016-02-24\", \"2016-02-25\", \"2016-02-26\", \"2016-02-27\", \"2016-02-28\", \"2016-02-29\", \"2016-03-01\", \"2016-03-02\", \"2016-03-03\", \"2016-03-04\", \"2016-03-05\", \"2016-03-06\", \"2016-03-07\", \"2016-03-08\", \"2016-03-09\", \"2016-03-10\", \"2016-03-11\", \"2016-03-12\", \"2016-03-13\", \"2016-03-14\", \"2016-03-15\", \"2016-03-16\", \"2016-03-17\", \"2016-03-18\", \"2016-03-19\", \"2016-03-20\", \"2016-03-21\", \"2016-03-22\", \"2016-03-23\", \"2016-03-24\", \"2016-03-25\", \"2016-03-26\", \"2016-03-27\", \"2016-03-28\", \"2016-03-29\", \"2016-03-30\", \"2016-03-31\", \"2016-04-01\", \"2016-04-02\", \"2016-04-03\", \"2016-04-04\", \"2016-04-05\", \"2016-04-06\", \"2016-04-07\", \"2016-04-08\", \"2016-04-09\", \"2016-04-10\", \"2016-04-11\", \"2016-04-12\", \"2016-04-13\", \"2016-04-14\", \"2016-04-15\", \"2016-04-16\", \"2016-04-17\", \"2016-04-18\", \"2016-04-19\", \"2016-04-20\", \"2016-04-21\", \"2016-04-22\", \"2016-04-23\", \"2016-04-24\", \"2016-04-25\", \"2016-04-26\", \"2016-04-27\", \"2016-04-28\", \"2016-04-29\", \"2016-04-30\", \"2016-05-01\", \"2016-05-02\", \"2016-05-03\", \"2016-05-04\", \"2016-05-05\", \"2016-05-06\", \"2016-05-07\", \"2016-05-08\", \"2016-05-09\", \"2016-05-10\", \"2016-05-11\", \"2016-05-12\", \"2016-05-13\", \"2016-05-14\", \"2016-05-15\", \"2016-05-16\", \"2016-05-17\", \"2016-05-18\", \"2016-05-19\", \"2016-05-20\", \"2016-05-21\", \"2016-05-22\", \"2016-05-23\", \"2016-05-24\", \"2016-05-25\", \"2016-05-26\", \"2016-05-27\", \"2016-05-28\", \"2016-05-29\", \"2016-05-30\", \"2016-05-31\", \"2016-06-01\", \"2016-06-02\", \"2016-06-03\", \"2016-06-04\", \"2016-06-05\", \"2016-06-06\", \"2016-06-07\", \"2016-06-08\", \"2016-06-09\", \"2016-06-10\", \"2016-06-11\", \"2016-06-12\", \"2016-06-13\", \"2016-06-14\", \"2016-06-15\", \"2016-06-16\", \"2016-06-17\", \"2016-06-18\", \"2016-06-19\", \"2016-06-20\", \"2016-06-21\", \"2016-06-22\", \"2016-06-23\", \"2016-06-24\", \"2016-06-25\", \"2016-06-26\", \"2016-06-27\", \"2016-06-28\", \"2016-06-29\", \"2016-06-30\", \"2016-07-01\", \"2016-07-02\", \"2016-07-03\", \"2016-07-04\", \"2016-07-05\", \"2016-07-06\", \"2016-07-07\", \"2016-07-08\", \"2016-07-09\", \"2016-07-10\", \"2016-07-11\", \"2016-07-12\", \"2016-07-13\", \"2016-07-14\", \"2016-07-15\", \"2016-07-16\", \"2016-07-17\", \"2016-07-18\", \"2016-07-19\", \"2016-07-20\", \"2016-07-21\", \"2016-07-22\", \"2016-07-23\", \"2016-07-24\", \"2016-07-25\", \"2016-07-26\", \"2016-07-27\", \"2016-07-28\", \"2016-07-29\", \"2016-07-30\", \"2016-07-31\", \"2016-08-01\", \"2016-08-02\", \"2016-08-03\", \"2016-08-04\", \"2016-08-05\", \"2016-08-06\", \"2016-08-07\", \"2016-08-08\", \"2016-08-09\", \"2016-08-10\", \"2016-08-11\", \"2016-08-12\", \"2016-08-13\", \"2016-08-14\", \"2016-08-15\", \"2016-08-16\", \"2016-08-17\", \"2016-08-18\", \"2016-08-19\", \"2016-08-20\", \"2016-08-21\", \"2016-08-22\", \"2016-08-23\", \"2016-08-24\", \"2016-08-25\", \"2016-08-26\", \"2016-08-27\", \"2016-08-28\", \"2016-08-29\", \"2016-08-30\", \"2016-08-31\", \"2016-09-01\", \"2016-09-02\", \"2016-09-03\", \"2016-09-04\", \"2016-09-05\", \"2016-09-06\", \"2016-09-07\", \"2016-09-08\", \"2016-09-09\", \"2016-09-10\", \"2016-09-11\", \"2016-09-12\", \"2016-09-13\", \"2016-09-14\", \"2016-09-15\", \"2016-09-16\", \"2016-09-17\", \"2016-09-18\", \"2016-09-19\", \"2016-09-20\", \"2016-09-21\", \"2016-09-22\", \"2016-09-23\", \"2016-09-24\", \"2016-09-25\", \"2016-09-26\", \"2016-09-27\", \"2016-09-28\", \"2016-09-29\", \"2016-09-30\", \"2016-10-01\", \"2016-10-02\", \"2016-10-03\", \"2016-10-04\", \"2016-10-05\", \"2016-10-06\", \"2016-10-07\", \"2016-10-08\", \"2016-10-09\", \"2016-10-10\", \"2016-10-11\", \"2016-10-12\", \"2016-10-13\", \"2016-10-14\", \"2016-10-15\", \"2016-10-16\", \"2016-10-17\", \"2016-10-18\", \"2016-10-19\", \"2016-10-20\", \"2016-10-21\", \"2016-10-22\", \"2016-10-23\", \"2016-10-24\", \"2016-10-25\", \"2016-10-26\", \"2016-10-27\", \"2016-10-28\", \"2016-10-29\", \"2016-10-30\", \"2016-10-31\", \"2016-11-01\", \"2016-11-02\", \"2016-11-03\", \"2016-11-04\", \"2016-11-05\", \"2016-11-06\", \"2016-11-07\", \"2016-11-08\", \"2016-11-09\", \"2016-11-10\", \"2016-11-11\", \"2016-11-12\", \"2016-11-13\", \"2016-11-14\", \"2016-11-15\", \"2016-11-16\", \"2016-11-17\", \"2016-11-18\", \"2016-11-19\", \"2016-11-20\", \"2016-11-21\", \"2016-11-22\", \"2016-11-23\", \"2016-11-24\", \"2016-11-25\", \"2016-11-26\", \"2016-11-27\", \"2016-11-28\", \"2016-11-29\", \"2016-11-30\", \"2016-12-01\", \"2016-12-02\", \"2016-12-03\", \"2016-12-04\", \"2016-12-05\", \"2016-12-06\", \"2016-12-07\", \"2016-12-08\", \"2016-12-09\", \"2016-12-10\", \"2016-12-11\", \"2016-12-12\", \"2016-12-13\", \"2016-12-14\", \"2016-12-15\", \"2016-12-16\", \"2016-12-17\", \"2016-12-18\", \"2016-12-19\", \"2016-12-20\", \"2016-12-21\", \"2016-12-22\", \"2016-12-23\", \"2016-12-24\", \"2016-12-25\", \"2016-12-26\", \"2016-12-27\", \"2016-12-28\", \"2016-12-29\", \"2016-12-30\", \"2016-12-31\"], \"xaxis\": \"x\", \"y\": [68732005.26160009, 36615047.782900035, 35656631.71619999, 48600057.52990003, 78548730.46720003, 130711665.06789982, 176998702.5329998, 191373044.1536999, 151205407.9850999, 23898326.3719, 25974698.94719999, 26165529.571700014, 31241780.552599996, 48856489.28099997, 53454464.3806, 22802718.170899995, 26221120.858199995, 27318079.45340001, 26865191.4488, 24435848.1093, 52700428.93030002, 32409723.232900016, 36817366.26230002, 32842204.40990001, 24394374.532699984, 42896573.508099996, 47637907.1132, 41287021.10380002, 37117698.78349996, 61586899.44480002, 25625425.009700015, 42099413.13689997, 93286978.75909998, 141117100.9399, 45835965.98730001, 43080842.49029994, 56555463.785099976, 16070242.85079999, 20153752.51060001, 21200521.571399976, 21201357.29649999, 20181794.565899994, 20663395.755599998, 21848952.009900007, 19507930.039799996, 23424660.358799994, 34666167.6858, 25234524.328500003, 30426896.438499983, 42314423.02180003, 56999295.36410002, 22398288.49390001, 28702184.89949999, 39403585.51179999, 45459400.38990002, 36420431.32120002, 76005088.01439995, 201404656.8846999, 201196614.6741999, 101176580.68000005, 32542846.31870001, 23923778.256300014, 27972865.234599993, 30119374.471999988, 17342382.2198, 86947572.53439994, 297698485.31139976, 437064131.1883002, 465019525.9282997, 268091880.5360002, 274460216.204, 418708265.9349999, 380688938.7105999, 398060671.59510046, 404351062.1404998, 433139979.848, 237348333.48030004, 175199056.72310007, 180627634.60869998, 160017892.34550002, 138320102.02419996, 216295115.8096, 264234426.8326, 220905370.3736001, 290733835.0568, 178126486.99090013, 178867164.84999993, 179460221.79260004, 307650118.11369985, 367677809.0275999, 313868411.32380015, 247240645.77629986, 149481329.79919997, 239469304.95000008, 181826863.94729984, 265327717.72999984, 248457865.91520014, 141285001.05439994, 270990070.68260044, 162744901.49199986, 170308678.83260012, 163007814.55070004, 136217292.52229986, 209673343.36630008, 404264890.89600015, 308891162.33900017, 261383491.51080015, 224830088.58789998, 363811050.83560014, 435166812.5019003, 458260169.14539987, 407768927.52049977, 455167873.90120023, 354192870.18810034, 452505162.7970998, 403754169.97029966, 441476559.6953003, 461813367.54209995, 453879260.7074002, 410311552.79779994, 182686473.68819994, 179925203.07660007, 154157999.28940016, 186900263.55959994, 155573209.5240001, 159608705.63699988, 298919127.9895001, 247013404.56909996, 169095545.07650003, 215048644.1936, 434013590.0573001, 395324513.47770005, 365151861.01720005, 471036062.13960016, 178796639.32930008, 161851406.06279993, 151601371.962, 161924274.9931999, 164284644.8233, 144324763.5579, 187367846.44309992, 302252565.51469964, 279171326.78490007, 371138438.01240015, 411030307.1639999, 384952176.80920005, 391824581.4438003, 386714053.8335999, 391437971.8464001, 394124899.34299976, 388532578.66739994, 378367906.5896999, 390273733.1285003, 385382220.0611999, 444516870.48079985, 374034159.70050037, 374309182.54559994, 425250581.6361001, 401347364.4893002, 402612975.19579977, 406782705.8836999, 393493098.0495999, 420709081.9830998, 412454161.03340024, 426810307.5750002, 391901478.0831002, 392699693.14900017, 392141507.6784001, 8704759.5112, 9282786.898899995, 9213981.5071, 9365963.794399997, 8730759.920699999, 7139946.214, 6542872.989699995, 6105652.6466000015, 7586760.8728, 6041629.640100003, 6186291.032799999, 6325331.731300003, 6376896.662200002, 6510617.927799997, 6535998.377399999, 5770527.218200004, 5677570.7475999985, 5698846.745299998, 8304542.707000002, 6518554.584199999, 6336907.332600004, 5967965.666400001, 5422153.2244, 5911195.783199997, 9247919.655300003, 10357330.363500006, 8625340.630900001, 8043714.1153, 7595968.724200004, 6060813.966899998, 5826779.891800003, 6784137.896200002, 9637271.922799993, 10834754.414800003, 10797292.9102, 10632456.211999996, 10206306.41619999, 10143996.084200006, 10879697.504999999, 11166382.039100002, 11200653.411499998, 10642125.4996, 6811470.923499997, 5947440.041799998, 5985549.702599998, 8358481.335699997, 11152419.068500001, 11566526.237600008, 11659693.20280001, 9864869.77389999, 6996286.259900001, 5716821.183399998, 6315227.368599997, 8172541.210700001, 10903128.0253, 10838590.38189999, 10360505.9219, 10280395.229499998, 10190190.1227, 9257507.884200007, 7473090.7742000045, 7653258.641499999, 7678209.218700002, 7513886.1102, 6673724.210300002, 6381468.432000005, 7302551.794800001, 7756755.8654, 7733367.2303, 7685530.632299998, 7308868.832199997, 7574265.702400001, 6723716.679300001, 8487970.002299996, 6988056.062300008, 7035297.1241, 7228680.004799999, 7249896.5327999955, 6857220.663199993, 6890946.257599999, 6817046.468000003, 8660574.916399999, 7259887.2539, 8103733.637199998, 9393108.9617, 8456329.497499995, 8673526.561799997, 7737051.689899999, 6710654.310900002, 6992849.802899999, 7132672.182399999, 7241891.676899997, 6653134.212599999, 8127664.804700002, 7938769.990900003, 7126653.1790999975, 7454741.476700003, 7407917.240800001, 7683824.179900002, 7655337.358399998, 7728750.099800003, 8554117.126799995, 8624177.964, 8303122.215400003, 8329130.977699997, 8314231.812899998, 6834214.803400002, 6974167.451399998, 8082251.169100006, 8172009.224499998, 7937951.027900007, 8198984.947499995, 9445264.522800012, 9182375.709900007, 8765978.058700003, 9051977.034399997, 9079963.765500003, 10647607.108300004, 10663783.467899995, 9820033.39760001, 8116698.537800004, 7882706.541899997, 9183126.699700007, 8265887.9641, 9461946.951900005, 10749841.04390001, 10786711.184999997, 10218894.366400003, 9873245.539199987, 11358242.503300004, 11235434.11750001, 11738162.2206, 11961727.4215, 9921407.580899999, 8762254.7192, 10087891.758400002, 10573823.762999997, 9814493.785500005, 9068254.171899999, 9390658.5697, 9584123.887800008, 8654043.007400004, 8855010.817699995, 9845266.884500004, 48187601.22909997, 414227200.03739965, 285345900.75069994, 34001744.71339999, 14172721.4354, 10087260.102100002, 11354720.2015, 11012279.176500006, 10435488.081600003, 9908147.305800006, 11945037.250899997, 14291835.92109999, 16140267.632000003, 16490814.950400006, 16150205.404299997, 15325737.465700014, 13440214.549700003, 12750990.597, 12350580.028900001, 12924241.168799998, 11664038.2938, 12633438.934800003, 12010579.160099993, 12233823.991000012, 13081060.683400003, 12912988.1861, 12274820.174100002, 12582120.556300005, 15546630.487200007, 18501916.0207, 19054971.620500006, 20631721.89410002, 21627638.16230001, 19615071.80229998, 21655903.1161, 22588633.078500014, 23068295.986800015, 26074217.37329999, 24159813.464299995, 23150265.366800006, 25543695.618600003, 23290464.472900007, 18854614.37070001, 16509228.162700007, 16563739.132800005, 15201881.878999997, 13986563.291499995, 14407482.932599999, 17002982.049399998, 17391391.9844, 16383572.067300018, 16888032.26330001, 18330201.387700014, 17182954.902299985], \"yaxis\": \"y\"}, {\"hoverlabel\": {\"namelength\": 0}, \"hovertemplate\": \"meter=hotwater<br>date=%{x}<br>meter_reading-sum=%{y}\", \"legendgroup\": \"meter=hotwater\", \"line\": {\"color\": \"#ab63fa\", \"dash\": \"solid\"}, \"mode\": \"lines\", \"name\": \"meter=hotwater\", \"showlegend\": true, \"type\": \"scatter\", \"x\": [\"2016-01-01\", \"2016-01-02\", \"2016-01-03\", \"2016-01-04\", \"2016-01-05\", \"2016-01-06\", \"2016-01-07\", \"2016-01-08\", \"2016-01-09\", \"2016-01-10\", \"2016-01-11\", \"2016-01-12\", \"2016-01-13\", \"2016-01-14\", \"2016-01-15\", \"2016-01-16\", \"2016-01-17\", \"2016-01-18\", \"2016-01-19\", \"2016-01-20\", \"2016-01-21\", \"2016-01-22\", \"2016-01-23\", \"2016-01-24\", \"2016-01-25\", \"2016-01-26\", \"2016-01-27\", \"2016-01-28\", \"2016-01-29\", \"2016-01-30\", \"2016-01-31\", \"2016-02-01\", \"2016-02-02\", \"2016-02-03\", \"2016-02-04\", \"2016-02-05\", \"2016-02-06\", \"2016-02-07\", \"2016-02-08\", \"2016-02-09\", \"2016-02-10\", \"2016-02-11\", \"2016-02-12\", \"2016-02-13\", \"2016-02-14\", \"2016-02-15\", \"2016-02-16\", \"2016-02-17\", \"2016-02-18\", \"2016-02-19\", \"2016-02-20\", \"2016-02-21\", \"2016-02-22\", \"2016-02-23\", \"2016-02-24\", \"2016-02-25\", \"2016-02-26\", \"2016-02-27\", \"2016-02-28\", \"2016-02-29\", \"2016-03-01\", \"2016-03-02\", \"2016-03-03\", \"2016-03-04\", \"2016-03-05\", \"2016-03-06\", \"2016-03-07\", \"2016-03-08\", \"2016-03-09\", \"2016-03-10\", \"2016-03-11\", \"2016-03-12\", \"2016-03-13\", \"2016-03-14\", \"2016-03-15\", \"2016-03-16\", \"2016-03-17\", \"2016-03-18\", \"2016-03-19\", \"2016-03-20\", \"2016-03-21\", \"2016-03-22\", \"2016-03-23\", \"2016-03-24\", \"2016-03-25\", \"2016-03-26\", \"2016-03-27\", \"2016-03-28\", \"2016-03-29\", \"2016-03-30\", \"2016-03-31\", \"2016-04-01\", \"2016-04-02\", \"2016-04-03\", \"2016-04-04\", \"2016-04-05\", \"2016-04-06\", \"2016-04-07\", \"2016-04-08\", \"2016-04-09\", \"2016-04-10\", \"2016-04-11\", \"2016-04-12\", \"2016-04-13\", \"2016-04-14\", \"2016-04-15\", \"2016-04-16\", \"2016-04-17\", \"2016-04-18\", \"2016-04-19\", \"2016-04-20\", \"2016-04-21\", \"2016-04-22\", \"2016-04-23\", \"2016-04-24\", \"2016-04-25\", \"2016-04-26\", \"2016-04-27\", \"2016-04-28\", \"2016-04-29\", \"2016-04-30\", \"2016-05-01\", \"2016-05-02\", \"2016-05-03\", \"2016-05-04\", \"2016-05-05\", \"2016-05-06\", \"2016-05-07\", \"2016-05-08\", \"2016-05-09\", \"2016-05-10\", \"2016-05-11\", \"2016-05-12\", \"2016-05-13\", \"2016-05-14\", \"2016-05-15\", \"2016-05-16\", \"2016-05-17\", \"2016-05-18\", \"2016-05-19\", \"2016-05-20\", \"2016-05-21\", \"2016-05-22\", \"2016-05-23\", \"2016-05-24\", \"2016-05-25\", \"2016-05-26\", \"2016-05-27\", \"2016-05-28\", \"2016-05-29\", \"2016-05-30\", \"2016-05-31\", \"2016-06-01\", \"2016-06-02\", \"2016-06-03\", \"2016-06-04\", \"2016-06-05\", \"2016-06-06\", \"2016-06-07\", \"2016-06-08\", \"2016-06-09\", \"2016-06-10\", \"2016-06-11\", \"2016-06-12\", \"2016-06-13\", \"2016-06-14\", \"2016-06-15\", \"2016-06-16\", \"2016-06-17\", \"2016-06-18\", \"2016-06-19\", \"2016-06-20\", \"2016-06-21\", \"2016-06-22\", \"2016-06-23\", \"2016-06-24\", \"2016-06-25\", \"2016-06-26\", \"2016-06-27\", \"2016-06-28\", \"2016-06-29\", \"2016-06-30\", \"2016-07-01\", \"2016-07-02\", \"2016-07-03\", \"2016-07-04\", \"2016-07-05\", \"2016-07-06\", \"2016-07-07\", \"2016-07-08\", \"2016-07-09\", \"2016-07-10\", \"2016-07-11\", \"2016-07-12\", \"2016-07-13\", \"2016-07-14\", \"2016-07-15\", \"2016-07-16\", \"2016-07-17\", \"2016-07-18\", \"2016-07-19\", \"2016-07-20\", \"2016-07-21\", \"2016-07-22\", \"2016-07-23\", \"2016-07-24\", \"2016-07-25\", \"2016-07-26\", \"2016-07-27\", \"2016-07-28\", \"2016-07-29\", \"2016-07-30\", \"2016-07-31\", \"2016-08-01\", \"2016-08-02\", \"2016-08-03\", \"2016-08-04\", \"2016-08-05\", \"2016-08-06\", \"2016-08-07\", \"2016-08-08\", \"2016-08-09\", \"2016-08-10\", \"2016-08-11\", \"2016-08-12\", \"2016-08-13\", \"2016-08-14\", \"2016-08-15\", \"2016-08-16\", \"2016-08-17\", \"2016-08-18\", \"2016-08-19\", \"2016-08-20\", \"2016-08-21\", \"2016-08-22\", \"2016-08-23\", \"2016-08-24\", \"2016-08-25\", \"2016-08-26\", \"2016-08-27\", \"2016-08-28\", \"2016-08-29\", \"2016-08-30\", \"2016-08-31\", \"2016-09-01\", \"2016-09-02\", \"2016-09-03\", \"2016-09-04\", \"2016-09-05\", \"2016-09-06\", \"2016-09-07\", \"2016-09-08\", \"2016-09-09\", \"2016-09-10\", \"2016-09-11\", \"2016-09-12\", \"2016-09-13\", \"2016-09-14\", \"2016-09-15\", \"2016-09-16\", \"2016-09-17\", \"2016-09-18\", \"2016-09-19\", \"2016-09-20\", \"2016-09-21\", \"2016-09-22\", \"2016-09-23\", \"2016-09-24\", \"2016-09-25\", \"2016-09-26\", \"2016-09-27\", \"2016-09-28\", \"2016-09-29\", \"2016-09-30\", \"2016-10-01\", \"2016-10-02\", \"2016-10-03\", \"2016-10-04\", \"2016-10-05\", \"2016-10-06\", \"2016-10-07\", \"2016-10-08\", \"2016-10-09\", \"2016-10-10\", \"2016-10-11\", \"2016-10-12\", \"2016-10-13\", \"2016-10-14\", \"2016-10-15\", \"2016-10-16\", \"2016-10-17\", \"2016-10-18\", \"2016-10-19\", \"2016-10-20\", \"2016-10-21\", \"2016-10-22\", \"2016-10-23\", \"2016-10-24\", \"2016-10-25\", \"2016-10-26\", \"2016-10-27\", \"2016-10-28\", \"2016-10-29\", \"2016-10-30\", \"2016-10-31\", \"2016-11-01\", \"2016-11-02\", \"2016-11-03\", \"2016-11-04\", \"2016-11-05\", \"2016-11-06\", \"2016-11-07\", \"2016-11-08\", \"2016-11-09\", \"2016-11-10\", \"2016-11-11\", \"2016-11-12\", \"2016-11-13\", \"2016-11-14\", \"2016-11-15\", \"2016-11-16\", \"2016-11-17\", \"2016-11-18\", \"2016-11-19\", \"2016-11-20\", \"2016-11-21\", \"2016-11-22\", \"2016-11-23\", \"2016-11-24\", \"2016-11-25\", \"2016-11-26\", \"2016-11-27\", \"2016-11-28\", \"2016-11-29\", \"2016-11-30\", \"2016-12-01\", \"2016-12-02\", \"2016-12-03\", \"2016-12-04\", \"2016-12-05\", \"2016-12-06\", \"2016-12-07\", \"2016-12-08\", \"2016-12-09\", \"2016-12-10\", \"2016-12-11\", \"2016-12-12\", \"2016-12-13\", \"2016-12-14\", \"2016-12-15\", \"2016-12-16\", \"2016-12-17\", \"2016-12-18\", \"2016-12-19\", \"2016-12-20\", \"2016-12-21\", \"2016-12-22\", \"2016-12-23\", \"2016-12-24\", \"2016-12-25\", \"2016-12-26\", \"2016-12-27\", \"2016-12-28\", \"2016-12-29\", \"2016-12-30\", \"2016-12-31\"], \"xaxis\": \"x\", \"y\": [1609989.3408, 2015528.7510000004, 1843819.8814, 2695869.753000001, 2483300.945, 2257087.2857, 1930500.7806999998, 1909970.4750999995, 1638573.7005999996, 1591092.8424000007, 2593002.232400001, 2624393.2477000006, 2699869.2272999994, 2299502.3770999997, 2128767.3688, 1754750.9592000006, 2193677.1350000007, 3210357.8402999993, 2956393.6032000007, 2407151.4576999997, 3137280.5774, 3284991.2329000016, 2391365.5899999994, 2168169.0207, 2288384.1481000003, 2063015.2149000003, 1826236.3034000006, 2042894.93, 1889583.5820000009, 1954403.624399999, 1564588.2442000003, 1569799.6563999993, 1569579.5627000001, 1530222.3480000005, 1591991.9764999996, 1967128.9187000003, 2011627.6626999998, 2378446.5718000005, 2239174.6286, 1912656.6487999996, 2296285.1354999994, 1926728.0129999996, 1940924.8343, 2084307.3667999997, 2808388.9304, 2567083.095199999, 2159499.1692000004, 2369220.5506, 2603240.497499998, 2185220.5275000003, 1239953.2949000003, 1224360.3172999995, 1810220.6190000002, 1480147.5952, 1495371.3978999993, 1322608.1970999995, 2113846.7972999993, 1951869.544400001, 1636333.1737000002, 1689323.5950999998, 1573443.5229000004, 1418993.6378000006, 2303712.6547999997, 1973171.4268000007, 1559606.3720000004, 1928813.4904999998, 2488644.8029000014, 1958880.2079999994, 1891931.0234000005, 1775624.2464999992, 1429544.9276, 1162088.5454, 938826.3672999998, 1725705.3594000007, 2562505.9521000003, 2016513.3825000008, 1266871.1530000002, 1648636.2639000004, 1238614.3004000005, 1652247.0381, 1307779.2765999993, 1432264.0724999995, 1529460.3736000005, 1099271.4809999997, 945262.5070999998, 1835485.3328000007, 1425005.3259000008, 1026278.0632000004, 1204021.6162000003, 1495209.197, 1297862.087, 916905.6566000001, 983830.9632999998, 1470347.4077000003, 1436152.0928000002, 1576063.3524000002, 1520193.068, 1115126.8660000002, 1419535.8597999997, 1636486.3396000003, 1716852.7989999999, 1311849.4541, 1251397.2018000002, 1124085.2685000002, 1098887.2330999998, 1117262.5766999999, 828959.2032999999, 1043519.4233, 881801.2623000001, 963662.6441000002, 1009401.6653999999, 841245.9623999998, 678681.9075, 1152457.2112000003, 1238985.5291000002, 905565.1631000001, 799935.5892999999, 854815.4084, 979755.5502000004, 884859.8753000003, 830362.5535000004, 839795.7886000001, 983643.9922000002, 880620.7496, 954762.3776000001, 760861.5022000001, 793801.3121, 1204923.5155000002, 769333.5238, 950573.6501000001, 867106.1542000001, 730879.9323, 677479.7807999998, 639888.7123999998, 496679.9306999999, 772430.2078, 825394.3965000003, 744046.2183999999, 756868.7182, 714443.8748, 667632.3140000001, 689768.8544000001, 686601.5462, 656988.7589, 616856.2998000002, 571438.141, 522139.8370999999, 475053.87749999994, 474696.7692999999, 493714.5932000001, 525135.7849999999, 496880.05309999996, 535636.2986999999, 877185.4638000004, 1296456.124, 785097.2640999999, 524312.8458000001, 500360.9965000001, 484350.1309000001, 542502.7868, 543785.5666999999, 492740.9371000001, 464318.70910000004, 461134.3132000001, 481620.0031, 500119.13749999984, 476882.56249999977, 634308.4581, 952390.4227, 492055.13159999985, 472467.2099, 437365.4778, 430782.4624999999, 440055.0597, 496841.00700000004, 495133.8832999999, 461626.7541, 456891.65460000007, 428175.79029999994, 453987.20519999985, 463250.6640999998, 476981.05989999993, 527415.0574999999, 971584.2498000001, 976088.3471999997, 957650.9084000001, 854138.5577000004, 743996.7349999999, 840571.6207000004, 971982.1303999999, 763056.6475000003, 671492.0448999999, 426509.3171000001, 551700.1667999999, 653409.7476000004, 560822.6278, 654913.9574000002, 561093.4108, 660419.3731999998, 735131.1177999998, 689391.0738999998, 932600.1378000004, 1271077.0287, 1157109.9334, 1407889.4229999988, 656718.1274, 969313.7949000004, 884284.5411999997, 1262193.1288000005, 1361938.135000001, 1185445.9732000001, 1481421.7955999994, 1744590.269400001, 1397198.0397, 1159934.1257000004, 897347.5617000002, 1893522.773899999, 1572864.2336000002, 1186270.3817999994, 1089776.9868, 815382.2612999999, 1536079.9352000004, 837775.7440000001, 1043622.6642000001, 381701.32389999996, 1232579.9202999999, 760134.5639000004, 698993.5303, 1095724.7683000003, 740119.3190999998, 766602.3802999998, 706934.3194000002, 1020983.3432999998, 872281.1029000002, 1009005.9606999997, 1058564.2762000002, 1413646.9813, 1404733.4038999996, 1161774.2787000001, 2209163.5658000004, 1938186.9809999994, 1433366.9685999996, 522459.6120999998, 1291176.6324999996, 898125.5691999998, 868000.3587999997, 553332.4522, 476115.1235000001, 483756.88689999987, 458330.50139999983, 438278.9820999999, 634539.8702999998, 1527832.9272000003, 1120785.6014000003, 1548196.7101000005, 1511182.088, 1356849.2571999999, 1662681.6934999998, 1533975.0685999992, 509875.2751999999, 507793.18010000006, 502192.22160000005, 507311.8253, 530694.8907999999, 1568422.8810000003, 1710281.2992999996, 999635.8985000001, 984424.1865999999, 561579.6794000001, 603741.6596000002, 617773.0561000002, 653112.0730999999, 539206.8803999999, 621191.3705000001, 563232.8792, 517957.344, 523162.5188000001, 646528.6369999999, 527646.0198, 611992.2368, 514299.442, 527033.7239, 542251.6056, 736739.6214999999, 683413.7517999999, 562136.4489000001, 684649.2032999999, 807969.3779, 876241.6337, 751100.6564000003, 582833.2662999999, 523925.13860000006, 570286.6152, 1076827.7613, 992207.8322, 1329651.2305000003, 1224221.0703, 1150556.1942, 1319557.1073000005, 1608170.8383000004, 2144384.9199, 2156558.0228, 1709022.8642, 1261770.1964999998, 1785834.9281000006, 1383692.2741999996, 1571254.8074, 1424320.3036, 1675141.1895999997, 1700851.4915999996, 1888254.3213999993, 1928449.1907000006, 1582038.7866999996, 1580045.729, 1687647.7274999996, 2201252.6959000006, 2165448.2863, 2217686.1320999996, 1878549.6249000004, 2254064.9602999995, 1780471.7639000006, 1487279.5009, 2118764.4034, 1168254.3035000002, 1926303.8928, 1547903.3020000004, 2030263.8906999996, 1973940.779300001, 2211477.392600001, 1768958.060100001, 1633189.9681000002, 1691384.3589000003, 1865661.4951999995, 1746739.5218000007, 1406075.0562, 1325321.4485000002, 1720884.5883, 1642237.9299, 1703920.2111, 2086068.116999999, 2377927.8825000003, 2124962.9813999995, 2410194.069600001, 2191899.823299999, 1987621.5524000004, 2092720.9923999994, 1757351.0168999997, 1677171.5203999998, 1688705.1900999998, 2048268.4631999992, 2898089.0094999997, 3353215.5106000006, 3740509.8387, 4222781.447300001, 3182249.3604999986, 2420085.8761000005, 1552696.2883999995, 1615755.0489000005, 2229488.5546000004, 1827355.3885000004, 2300436.0066, 2338996.739, 1811680.8195999998, 1895433.8545999993, 2077852.8343999996, 2086812.8149], \"yaxis\": \"y\"}],\n",
              "                        {\"legend\": {\"tracegroupgap\": 0}, \"margin\": {\"t\": 60}, \"template\": {\"data\": {\"bar\": [{\"error_x\": {\"color\": \"#2a3f5f\"}, \"error_y\": {\"color\": \"#2a3f5f\"}, \"marker\": {\"line\": {\"color\": \"#E5ECF6\", \"width\": 0.5}}, \"type\": \"bar\"}], \"barpolar\": [{\"marker\": {\"line\": {\"color\": \"#E5ECF6\", \"width\": 0.5}}, \"type\": \"barpolar\"}], \"carpet\": [{\"aaxis\": {\"endlinecolor\": \"#2a3f5f\", \"gridcolor\": \"white\", \"linecolor\": \"white\", \"minorgridcolor\": \"white\", \"startlinecolor\": \"#2a3f5f\"}, \"baxis\": {\"endlinecolor\": \"#2a3f5f\", \"gridcolor\": \"white\", \"linecolor\": \"white\", \"minorgridcolor\": \"white\", \"startlinecolor\": \"#2a3f5f\"}, \"type\": \"carpet\"}], \"choropleth\": [{\"colorbar\": {\"outlinewidth\": 0, \"ticks\": \"\"}, \"type\": \"choropleth\"}], \"contour\": [{\"colorbar\": {\"outlinewidth\": 0, \"ticks\": \"\"}, \"colorscale\": [[0.0, \"#0d0887\"], [0.1111111111111111, \"#46039f\"], [0.2222222222222222, \"#7201a8\"], [0.3333333333333333, \"#9c179e\"], [0.4444444444444444, \"#bd3786\"], [0.5555555555555556, \"#d8576b\"], [0.6666666666666666, \"#ed7953\"], [0.7777777777777778, \"#fb9f3a\"], [0.8888888888888888, \"#fdca26\"], [1.0, \"#f0f921\"]], \"type\": \"contour\"}], \"contourcarpet\": [{\"colorbar\": {\"outlinewidth\": 0, \"ticks\": \"\"}, \"type\": \"contourcarpet\"}], \"heatmap\": [{\"colorbar\": {\"outlinewidth\": 0, \"ticks\": \"\"}, \"colorscale\": [[0.0, \"#0d0887\"], [0.1111111111111111, \"#46039f\"], [0.2222222222222222, \"#7201a8\"], [0.3333333333333333, \"#9c179e\"], [0.4444444444444444, \"#bd3786\"], [0.5555555555555556, \"#d8576b\"], [0.6666666666666666, \"#ed7953\"], [0.7777777777777778, \"#fb9f3a\"], [0.8888888888888888, \"#fdca26\"], [1.0, \"#f0f921\"]], \"type\": \"heatmap\"}], \"heatmapgl\": [{\"colorbar\": {\"outlinewidth\": 0, \"ticks\": \"\"}, \"colorscale\": [[0.0, \"#0d0887\"], [0.1111111111111111, \"#46039f\"], [0.2222222222222222, \"#7201a8\"], [0.3333333333333333, \"#9c179e\"], [0.4444444444444444, \"#bd3786\"], [0.5555555555555556, \"#d8576b\"], [0.6666666666666666, \"#ed7953\"], [0.7777777777777778, \"#fb9f3a\"], [0.8888888888888888, \"#fdca26\"], [1.0, \"#f0f921\"]], \"type\": \"heatmapgl\"}], \"histogram\": [{\"marker\": {\"colorbar\": {\"outlinewidth\": 0, \"ticks\": \"\"}}, \"type\": \"histogram\"}], \"histogram2d\": [{\"colorbar\": {\"outlinewidth\": 0, \"ticks\": \"\"}, \"colorscale\": [[0.0, \"#0d0887\"], [0.1111111111111111, \"#46039f\"], [0.2222222222222222, \"#7201a8\"], [0.3333333333333333, \"#9c179e\"], [0.4444444444444444, \"#bd3786\"], [0.5555555555555556, \"#d8576b\"], [0.6666666666666666, \"#ed7953\"], [0.7777777777777778, \"#fb9f3a\"], [0.8888888888888888, \"#fdca26\"], [1.0, \"#f0f921\"]], \"type\": \"histogram2d\"}], \"histogram2dcontour\": [{\"colorbar\": {\"outlinewidth\": 0, \"ticks\": \"\"}, \"colorscale\": [[0.0, \"#0d0887\"], [0.1111111111111111, \"#46039f\"], [0.2222222222222222, \"#7201a8\"], [0.3333333333333333, \"#9c179e\"], [0.4444444444444444, \"#bd3786\"], [0.5555555555555556, \"#d8576b\"], [0.6666666666666666, \"#ed7953\"], [0.7777777777777778, \"#fb9f3a\"], [0.8888888888888888, \"#fdca26\"], [1.0, \"#f0f921\"]], \"type\": \"histogram2dcontour\"}], \"mesh3d\": [{\"colorbar\": {\"outlinewidth\": 0, \"ticks\": \"\"}, \"type\": \"mesh3d\"}], \"parcoords\": [{\"line\": {\"colorbar\": {\"outlinewidth\": 0, \"ticks\": \"\"}}, \"type\": \"parcoords\"}], \"pie\": [{\"automargin\": true, \"type\": \"pie\"}], \"scatter\": [{\"marker\": {\"colorbar\": {\"outlinewidth\": 0, \"ticks\": \"\"}}, \"type\": \"scatter\"}], \"scatter3d\": [{\"line\": {\"colorbar\": {\"outlinewidth\": 0, \"ticks\": \"\"}}, \"marker\": {\"colorbar\": {\"outlinewidth\": 0, \"ticks\": \"\"}}, \"type\": \"scatter3d\"}], \"scattercarpet\": [{\"marker\": {\"colorbar\": {\"outlinewidth\": 0, \"ticks\": \"\"}}, \"type\": \"scattercarpet\"}], \"scattergeo\": [{\"marker\": {\"colorbar\": {\"outlinewidth\": 0, \"ticks\": \"\"}}, \"type\": \"scattergeo\"}], \"scattergl\": [{\"marker\": {\"colorbar\": {\"outlinewidth\": 0, \"ticks\": \"\"}}, \"type\": \"scattergl\"}], \"scattermapbox\": [{\"marker\": {\"colorbar\": {\"outlinewidth\": 0, \"ticks\": \"\"}}, \"type\": \"scattermapbox\"}], \"scatterpolar\": [{\"marker\": {\"colorbar\": {\"outlinewidth\": 0, \"ticks\": \"\"}}, \"type\": \"scatterpolar\"}], \"scatterpolargl\": [{\"marker\": {\"colorbar\": {\"outlinewidth\": 0, \"ticks\": \"\"}}, \"type\": \"scatterpolargl\"}], \"scatterternary\": [{\"marker\": {\"colorbar\": {\"outlinewidth\": 0, \"ticks\": \"\"}}, \"type\": \"scatterternary\"}], \"surface\": [{\"colorbar\": {\"outlinewidth\": 0, \"ticks\": \"\"}, \"colorscale\": [[0.0, \"#0d0887\"], [0.1111111111111111, \"#46039f\"], [0.2222222222222222, \"#7201a8\"], [0.3333333333333333, \"#9c179e\"], [0.4444444444444444, \"#bd3786\"], [0.5555555555555556, \"#d8576b\"], [0.6666666666666666, \"#ed7953\"], [0.7777777777777778, \"#fb9f3a\"], [0.8888888888888888, \"#fdca26\"], [1.0, \"#f0f921\"]], \"type\": \"surface\"}], \"table\": [{\"cells\": {\"fill\": {\"color\": \"#EBF0F8\"}, \"line\": {\"color\": \"white\"}}, \"header\": {\"fill\": {\"color\": \"#C8D4E3\"}, \"line\": {\"color\": \"white\"}}, \"type\": \"table\"}]}, \"layout\": {\"annotationdefaults\": {\"arrowcolor\": \"#2a3f5f\", \"arrowhead\": 0, \"arrowwidth\": 1}, \"coloraxis\": {\"colorbar\": {\"outlinewidth\": 0, \"ticks\": \"\"}}, \"colorscale\": {\"diverging\": [[0, \"#8e0152\"], [0.1, \"#c51b7d\"], [0.2, \"#de77ae\"], [0.3, \"#f1b6da\"], [0.4, \"#fde0ef\"], [0.5, \"#f7f7f7\"], [0.6, \"#e6f5d0\"], [0.7, \"#b8e186\"], [0.8, \"#7fbc41\"], [0.9, \"#4d9221\"], [1, \"#276419\"]], \"sequential\": [[0.0, \"#0d0887\"], [0.1111111111111111, \"#46039f\"], [0.2222222222222222, \"#7201a8\"], [0.3333333333333333, \"#9c179e\"], [0.4444444444444444, \"#bd3786\"], [0.5555555555555556, \"#d8576b\"], [0.6666666666666666, \"#ed7953\"], [0.7777777777777778, \"#fb9f3a\"], [0.8888888888888888, \"#fdca26\"], [1.0, \"#f0f921\"]], \"sequentialminus\": [[0.0, \"#0d0887\"], [0.1111111111111111, \"#46039f\"], [0.2222222222222222, \"#7201a8\"], [0.3333333333333333, \"#9c179e\"], [0.4444444444444444, \"#bd3786\"], [0.5555555555555556, \"#d8576b\"], [0.6666666666666666, \"#ed7953\"], [0.7777777777777778, \"#fb9f3a\"], [0.8888888888888888, \"#fdca26\"], [1.0, \"#f0f921\"]]}, \"colorway\": [\"#636efa\", \"#EF553B\", \"#00cc96\", \"#ab63fa\", \"#FFA15A\", \"#19d3f3\", \"#FF6692\", \"#B6E880\", \"#FF97FF\", \"#FECB52\"], \"font\": {\"color\": \"#2a3f5f\"}, \"geo\": {\"bgcolor\": \"white\", \"lakecolor\": \"white\", \"landcolor\": \"#E5ECF6\", \"showlakes\": true, \"showland\": true, \"subunitcolor\": \"white\"}, \"hoverlabel\": {\"align\": \"left\"}, \"hovermode\": \"closest\", \"mapbox\": {\"style\": \"light\"}, \"paper_bgcolor\": \"white\", \"plot_bgcolor\": \"#E5ECF6\", \"polar\": {\"angularaxis\": {\"gridcolor\": \"white\", \"linecolor\": \"white\", \"ticks\": \"\"}, \"bgcolor\": \"#E5ECF6\", \"radialaxis\": {\"gridcolor\": \"white\", \"linecolor\": \"white\", \"ticks\": \"\"}}, \"scene\": {\"xaxis\": {\"backgroundcolor\": \"#E5ECF6\", \"gridcolor\": \"white\", \"gridwidth\": 2, \"linecolor\": \"white\", \"showbackground\": true, \"ticks\": \"\", \"zerolinecolor\": \"white\"}, \"yaxis\": {\"backgroundcolor\": \"#E5ECF6\", \"gridcolor\": \"white\", \"gridwidth\": 2, \"linecolor\": \"white\", \"showbackground\": true, \"ticks\": \"\", \"zerolinecolor\": \"white\"}, \"zaxis\": {\"backgroundcolor\": \"#E5ECF6\", \"gridcolor\": \"white\", \"gridwidth\": 2, \"linecolor\": \"white\", \"showbackground\": true, \"ticks\": \"\", \"zerolinecolor\": \"white\"}}, \"shapedefaults\": {\"line\": {\"color\": \"#2a3f5f\"}}, \"ternary\": {\"aaxis\": {\"gridcolor\": \"white\", \"linecolor\": \"white\", \"ticks\": \"\"}, \"baxis\": {\"gridcolor\": \"white\", \"linecolor\": \"white\", \"ticks\": \"\"}, \"bgcolor\": \"#E5ECF6\", \"caxis\": {\"gridcolor\": \"white\", \"linecolor\": \"white\", \"ticks\": \"\"}}, \"title\": {\"x\": 0.05}, \"xaxis\": {\"automargin\": true, \"gridcolor\": \"white\", \"linecolor\": \"white\", \"ticks\": \"\", \"title\": {\"standoff\": 15}, \"zerolinecolor\": \"white\", \"zerolinewidth\": 2}, \"yaxis\": {\"automargin\": true, \"gridcolor\": \"white\", \"linecolor\": \"white\", \"ticks\": \"\", \"title\": {\"standoff\": 15}, \"zerolinecolor\": \"white\", \"zerolinewidth\": 2}}}, \"title\": {\"text\": \"total consommation (KWH)\"}, \"xaxis\": {\"anchor\": \"y\", \"domain\": [0.0, 1.0], \"title\": {\"text\": \"date\"}}, \"yaxis\": {\"anchor\": \"x\", \"domain\": [0.0, 1.0], \"title\": {\"text\": \"meter_reading-sum\"}}},\n",
              "                        {\"responsive\": true}\n",
              "                    ).then(function(){\n",
              "                            \n",
              "var gd = document.getElementById('eebeceae-f7d8-40b9-82ec-651958e671fb');\n",
              "var x = new MutationObserver(function (mutations, observer) {{\n",
              "        var display = window.getComputedStyle(gd).display;\n",
              "        if (!display || display === 'none') {{\n",
              "            console.log([gd, 'removed!']);\n",
              "            Plotly.purge(gd);\n",
              "            observer.disconnect();\n",
              "        }}\n",
              "}});\n",
              "\n",
              "// Listen for the removal of the full notebook cells\n",
              "var notebookContainer = gd.closest('#notebook-container');\n",
              "if (notebookContainer) {{\n",
              "    x.observe(notebookContainer, {childList: true});\n",
              "}}\n",
              "\n",
              "// Listen for the clearing of the current output cell\n",
              "var outputEl = gd.closest('.output');\n",
              "if (outputEl) {{\n",
              "    x.observe(outputEl, {childList: true});\n",
              "}}\n",
              "\n",
              "                        })\n",
              "                };\n",
              "                \n",
              "            </script>\n",
              "        </div>\n",
              "</body>\n",
              "</html>"
            ]
          },
          "metadata": {
            "tags": []
          }
        }
      ]
    },
    {
      "cell_type": "markdown",
      "metadata": {
        "id": "koDEN_wAARKu",
        "colab_type": "text"
      },
      "source": [
        "\n",
        "**Il est bien clair d'après la figure ci-dessus qu'il y a des valeurs aberantes causées essentiellement par le metric steam car la consommation total d'énérgie montre des grandeurs très variées entre le steam et les différents types de metrics.**"
      ]
    },
    {
      "cell_type": "code",
      "metadata": {
        "id": "iwxD2yjexRYf",
        "colab_type": "code",
        "outputId": "7d5ed5c7-1739-4146-ea88-c4231155955a",
        "colab": {
          "base_uri": "https://localhost:8080/",
          "height": 542
        }
      },
      "source": [
        "fig_maximum = px.line(daily_train_agg, x='date', y='meter_reading-max', color='meter', render_mode='svg')\n",
        "fig_maximum.update_layout(title='Maximum consommation (kWh) ')\n",
        "fig_maximum.show()"
      ],
      "execution_count": 0,
      "outputs": [
        {
          "output_type": "display_data",
          "data": {
            "text/html": [
              "<html>\n",
              "<head><meta charset=\"utf-8\" /></head>\n",
              "<body>\n",
              "    <div>\n",
              "            <script src=\"https://cdnjs.cloudflare.com/ajax/libs/mathjax/2.7.5/MathJax.js?config=TeX-AMS-MML_SVG\"></script><script type=\"text/javascript\">if (window.MathJax) {MathJax.Hub.Config({SVG: {font: \"STIX-Web\"}});}</script>\n",
              "                <script type=\"text/javascript\">window.PlotlyConfig = {MathJaxConfig: 'local'};</script>\n",
              "        <script src=\"https://cdn.plot.ly/plotly-latest.min.js\"></script>    \n",
              "            <div id=\"12bbb313-fee1-4fa6-b63d-14b378c18c17\" class=\"plotly-graph-div\" style=\"height:525px; width:100%;\"></div>\n",
              "            <script type=\"text/javascript\">\n",
              "                \n",
              "                    window.PLOTLYENV=window.PLOTLYENV || {};\n",
              "                    \n",
              "                if (document.getElementById(\"12bbb313-fee1-4fa6-b63d-14b378c18c17\")) {\n",
              "                    Plotly.newPlot(\n",
              "                        '12bbb313-fee1-4fa6-b63d-14b378c18c17',\n",
              "                        [{\"hoverlabel\": {\"namelength\": 0}, \"hovertemplate\": \"meter=electricity<br>date=%{x}<br>meter_reading-max=%{y}\", \"legendgroup\": \"meter=electricity\", \"line\": {\"color\": \"#636efa\", \"dash\": \"solid\"}, \"mode\": \"lines\", \"name\": \"meter=electricity\", \"showlegend\": true, \"type\": \"scatter\", \"x\": [\"2016-01-01\", \"2016-01-02\", \"2016-01-03\", \"2016-01-04\", \"2016-01-05\", \"2016-01-06\", \"2016-01-07\", \"2016-01-08\", \"2016-01-09\", \"2016-01-10\", \"2016-01-11\", \"2016-01-12\", \"2016-01-13\", \"2016-01-14\", \"2016-01-15\", \"2016-01-16\", \"2016-01-17\", \"2016-01-18\", \"2016-01-19\", \"2016-01-20\", \"2016-01-21\", \"2016-01-22\", \"2016-01-23\", \"2016-01-24\", \"2016-01-25\", \"2016-01-26\", \"2016-01-27\", \"2016-01-28\", \"2016-01-29\", \"2016-01-30\", \"2016-01-31\", \"2016-02-01\", \"2016-02-02\", \"2016-02-03\", \"2016-02-04\", \"2016-02-05\", \"2016-02-06\", \"2016-02-07\", \"2016-02-08\", \"2016-02-09\", \"2016-02-10\", \"2016-02-11\", \"2016-02-12\", \"2016-02-13\", \"2016-02-14\", \"2016-02-15\", \"2016-02-16\", \"2016-02-17\", \"2016-02-18\", \"2016-02-19\", \"2016-02-20\", \"2016-02-21\", \"2016-02-22\", \"2016-02-23\", \"2016-02-24\", \"2016-02-25\", \"2016-02-26\", \"2016-02-27\", \"2016-02-28\", \"2016-02-29\", \"2016-03-01\", \"2016-03-02\", \"2016-03-03\", \"2016-03-04\", \"2016-03-05\", \"2016-03-06\", \"2016-03-07\", \"2016-03-08\", \"2016-03-09\", \"2016-03-10\", \"2016-03-11\", \"2016-03-12\", \"2016-03-13\", \"2016-03-14\", \"2016-03-15\", \"2016-03-16\", \"2016-03-17\", \"2016-03-18\", \"2016-03-19\", \"2016-03-20\", \"2016-03-21\", \"2016-03-22\", \"2016-03-23\", \"2016-03-24\", \"2016-03-25\", \"2016-03-26\", \"2016-03-27\", \"2016-03-28\", \"2016-03-29\", \"2016-03-30\", \"2016-03-31\", \"2016-04-01\", \"2016-04-02\", \"2016-04-03\", \"2016-04-04\", \"2016-04-05\", \"2016-04-06\", \"2016-04-07\", \"2016-04-08\", \"2016-04-09\", \"2016-04-10\", \"2016-04-11\", \"2016-04-12\", \"2016-04-13\", \"2016-04-14\", \"2016-04-15\", \"2016-04-16\", \"2016-04-17\", \"2016-04-18\", \"2016-04-19\", \"2016-04-20\", \"2016-04-21\", \"2016-04-22\", \"2016-04-23\", \"2016-04-24\", \"2016-04-25\", \"2016-04-26\", \"2016-04-27\", \"2016-04-28\", \"2016-04-29\", \"2016-04-30\", \"2016-05-01\", \"2016-05-02\", \"2016-05-03\", \"2016-05-04\", \"2016-05-05\", \"2016-05-06\", \"2016-05-07\", \"2016-05-08\", \"2016-05-09\", \"2016-05-10\", \"2016-05-11\", \"2016-05-12\", \"2016-05-13\", \"2016-05-14\", \"2016-05-15\", \"2016-05-16\", \"2016-05-17\", \"2016-05-18\", \"2016-05-19\", \"2016-05-20\", \"2016-05-21\", \"2016-05-22\", \"2016-05-23\", \"2016-05-24\", \"2016-05-25\", \"2016-05-26\", \"2016-05-27\", \"2016-05-28\", \"2016-05-29\", \"2016-05-30\", \"2016-05-31\", \"2016-06-01\", \"2016-06-02\", \"2016-06-03\", \"2016-06-04\", \"2016-06-05\", \"2016-06-06\", \"2016-06-07\", \"2016-06-08\", \"2016-06-09\", \"2016-06-10\", \"2016-06-11\", \"2016-06-12\", \"2016-06-13\", \"2016-06-14\", \"2016-06-15\", \"2016-06-16\", \"2016-06-17\", \"2016-06-18\", \"2016-06-19\", \"2016-06-20\", \"2016-06-21\", \"2016-06-22\", \"2016-06-23\", \"2016-06-24\", \"2016-06-25\", \"2016-06-26\", \"2016-06-27\", \"2016-06-28\", \"2016-06-29\", \"2016-06-30\", \"2016-07-01\", \"2016-07-02\", \"2016-07-03\", \"2016-07-04\", \"2016-07-05\", \"2016-07-06\", \"2016-07-07\", \"2016-07-08\", \"2016-07-09\", \"2016-07-10\", \"2016-07-11\", \"2016-07-12\", \"2016-07-13\", \"2016-07-14\", \"2016-07-15\", \"2016-07-16\", \"2016-07-17\", \"2016-07-18\", \"2016-07-19\", \"2016-07-20\", \"2016-07-21\", \"2016-07-22\", \"2016-07-23\", \"2016-07-24\", \"2016-07-25\", \"2016-07-26\", \"2016-07-27\", \"2016-07-28\", \"2016-07-29\", \"2016-07-30\", \"2016-07-31\", \"2016-08-01\", \"2016-08-02\", \"2016-08-03\", \"2016-08-04\", \"2016-08-05\", \"2016-08-06\", \"2016-08-07\", \"2016-08-08\", \"2016-08-09\", \"2016-08-10\", \"2016-08-11\", \"2016-08-12\", \"2016-08-13\", \"2016-08-14\", \"2016-08-15\", \"2016-08-16\", \"2016-08-17\", \"2016-08-18\", \"2016-08-19\", \"2016-08-20\", \"2016-08-21\", \"2016-08-22\", \"2016-08-23\", \"2016-08-24\", \"2016-08-25\", \"2016-08-26\", \"2016-08-27\", \"2016-08-28\", \"2016-08-29\", \"2016-08-30\", \"2016-08-31\", \"2016-09-01\", \"2016-09-02\", \"2016-09-03\", \"2016-09-04\", \"2016-09-05\", \"2016-09-06\", \"2016-09-07\", \"2016-09-08\", \"2016-09-09\", \"2016-09-10\", \"2016-09-11\", \"2016-09-12\", \"2016-09-13\", \"2016-09-14\", \"2016-09-15\", \"2016-09-16\", \"2016-09-17\", \"2016-09-18\", \"2016-09-19\", \"2016-09-20\", \"2016-09-21\", \"2016-09-22\", \"2016-09-23\", \"2016-09-24\", \"2016-09-25\", \"2016-09-26\", \"2016-09-27\", \"2016-09-28\", \"2016-09-29\", \"2016-09-30\", \"2016-10-01\", \"2016-10-02\", \"2016-10-03\", \"2016-10-04\", \"2016-10-05\", \"2016-10-06\", \"2016-10-07\", \"2016-10-08\", \"2016-10-09\", \"2016-10-10\", \"2016-10-11\", \"2016-10-12\", \"2016-10-13\", \"2016-10-14\", \"2016-10-15\", \"2016-10-16\", \"2016-10-17\", \"2016-10-18\", \"2016-10-19\", \"2016-10-20\", \"2016-10-21\", \"2016-10-22\", \"2016-10-23\", \"2016-10-24\", \"2016-10-25\", \"2016-10-26\", \"2016-10-27\", \"2016-10-28\", \"2016-10-29\", \"2016-10-30\", \"2016-10-31\", \"2016-11-01\", \"2016-11-02\", \"2016-11-03\", \"2016-11-04\", \"2016-11-05\", \"2016-11-06\", \"2016-11-07\", \"2016-11-08\", \"2016-11-09\", \"2016-11-10\", \"2016-11-11\", \"2016-11-12\", \"2016-11-13\", \"2016-11-14\", \"2016-11-15\", \"2016-11-16\", \"2016-11-17\", \"2016-11-18\", \"2016-11-19\", \"2016-11-20\", \"2016-11-21\", \"2016-11-22\", \"2016-11-23\", \"2016-11-24\", \"2016-11-25\", \"2016-11-26\", \"2016-11-27\", \"2016-11-28\", \"2016-11-29\", \"2016-11-30\", \"2016-12-01\", \"2016-12-02\", \"2016-12-03\", \"2016-12-04\", \"2016-12-05\", \"2016-12-06\", \"2016-12-07\", \"2016-12-08\", \"2016-12-09\", \"2016-12-10\", \"2016-12-11\", \"2016-12-12\", \"2016-12-13\", \"2016-12-14\", \"2016-12-15\", \"2016-12-16\", \"2016-12-17\", \"2016-12-18\", \"2016-12-19\", \"2016-12-20\", \"2016-12-21\", \"2016-12-22\", \"2016-12-23\", \"2016-12-24\", \"2016-12-25\", \"2016-12-26\", \"2016-12-27\", \"2016-12-28\", \"2016-12-29\", \"2016-12-30\", \"2016-12-31\"], \"xaxis\": \"x\", \"y\": [116037.18, 115776.75, 115708.12999999998, 124764.11, 125209.89, 124011.98000000001, 123691.73999999999, 123572.51, 118570.79, 117448.80999999998, 124070.41, 121459.31999999999, 126254.42000000001, 128586.76999999999, 127603.85, 120588.95999999999, 120743.42, 126620.73000000003, 125967.73000000001, 122806.98999999999, 126618.24999999996, 124945.13999999998, 119935.84999999999, 119221.06000000001, 125150.37999999999, 125259.04999999997, 125045.8, 126600.02999999998, 125555.57999999999, 117628.71999999999, 115951.76999999999, 123925.53000000001, 125074.35, 125008.11, 125935.71999999999, 124499.93999999999, 118816.47999999997, 118853.85, 124876.65, 125992.62999999999, 126481.50000000001, 126912.03, 127748.93000000001, 120481.42000000001, 120797.45999999998, 128238.74000000002, 127155.00000000003, 123829.26, 127269.55, 128959.39000000001, 120526.43, 118246.04000000004, 126742.64000000001, 128270.73000000003, 127252.62999999998, 124162.28000000003, 123833.77, 112359.60000000002, 113623.00000000003, 123645.53, 125182.92, 127168.75, 128633.56999999998, 128281.62, 120916.40999999999, 120418.79000000001, 128303.71999999997, 127927.95, 126435.14, 125653.85000000002, 125320.90000000001, 119131.74000000002, 117456.97, 125142.95, 126722.43, 122161.37999999999, 124547.20999999999, 114101.31000000001, 101685.66000000002, 119881.92000000001, 126979.34, 125117.62, 125501.56999999999, 126409.21, 119145.7, 118785.01, 118282.86, 118812.22, 126010.99999999999, 126133.95, 124525.79, 124474.97, 116522.4, 115894.31, 124139.74, 125424.89000000001, 126059.07999999997, 125554.18000000002, 125138.89000000001, 118088.76000000001, 117777.92, 124484.62999999999, 124731.21999999999, 126590.48000000001, 127533.49000000002, 126744.69, 120074.05000000002, 119599.48000000001, 126104.18999999997, 126655.95, 124210.71, 125554.69000000002, 125953.84, 116896.29000000001, 118136.14, 125494.76000000001, 126191.84999999998, 125299.76999999997, 125712.53, 125973.18000000001, 120039.54000000001, 118841.51999999993, 126339.66, 123426.34999999999, 123632.97999999998, 123017.78, 122609.94000000002, 112525.20000000004, 112525.20000000004, 120735.88000000002, 121931.91000000005, 122696.21999999999, 123221.7, 123342.08999999995, 112217.51999999993, 112217.51999999993, 122176.72000000004, 122524.05999999997, 121138.12999999998, 134834.51, 146021.28, 146021.28, 146021.28, 146021.28, 146021.28, 126416.48999999999, 123169.77999999998, 124289.29000000001, 110834.42999999998, 109674.99999999996, 124672.83000000002, 124206.18999999999, 123909.99999999999, 125537.14000000001, 126390.54999999996, 113353.43999999997, 113353.43999999997, 125595.57999999999, 126529.71, 124092.45000000001, 123039.19999999997, 155194.0, 131835.0, 111435.59999999996, 122961.15999999999, 123497.49000000002, 122380.11, 128128.57999999999, 132756.0, 132246.0, 143928.0, 126769.79000000004, 123321.56999999998, 129699.0, 126813.11999999997, 123551.59000000004, 165567.0, 116951.28000000001, 127269.85000000005, 125972.2, 125439.37000000001, 126767.76999999996, 111827.27999999994, 111330.95999999995, 111330.95999999995, 125514.47, 145648.0, 128328.60999999999, 129443.0, 124350.95999999998, 113486.87999999996, 125758.0, 149119.0, 133618.0, 130599.34000000004, 127639.64999999995, 126200.56000000003, 114864.48000000007, 119099.0, 124870.90999999996, 151034.0, 176935.0, 171451.0, 149902.0, 155407.0, 149734.0, 140482.0, 162123.0, 156457.0, 126451.32999999997, 117120.66999999998, 122638.99999999999, 139379.8, 163359.3, 176402.69999999998, 172618.69999999998, 166365.4, 117000.29999999999, 94203.59999999998, 94203.59999999998, 131866.4, 128729.0, 125162.79999999999, 160751.30000000002, 159112.80000000002, 128230.40000000001, 114827.2, 127417.1, 145144.2, 143629.60000000003, 159646.1, 140442.9, 92056.49000000003, 94369.68000000005, 116836.25000000004, 144038.19999999998, 136448.00000000003, 127580.50999999998, 126196.97000000002, 111788.15999999995, 116425.49999999999, 176217.29999999996, 126954.50000000003, 127240.87000000001, 127522.73999999999, 124092.31999999993, 115874.87999999996, 115874.87999999996, 145094.69999999998, 172186.9, 158149.2, 131683.99000000005, 127301.59999999999, 115141.68000000008, 112503.36, 123004.40000000001, 127196.63, 127544.02000000002, 124657.96000000004, 124044.31000000003, 93455.28000000001, 93455.28000000001, 123362.27000000005, 129184.19000000005, 124272.14, 128712.33999999998, 114628.64999999998, 92223.38999999998, 97083.4, 114897.76000000004, 116011.73999999998, 116776.01999999999, 115625.02000000002, 115016.41, 94103.92, 92099.87999999998, 115608.26999999999, 115339.44, 114634.11, 115264.18999999999, 113421.06, 93604.31999999995, 88652.69999999995, 95176.98999999998, 113382.54999999997, 116309.25999999997, 114230.22, 111728.12999999999, 91127.28000000001, 91127.28000000001, 136362.0, 112705.48999999998, 114182.48000000004, 112747.11999999998, 111735.48999999996, 91160.87999999999, 91160.87999999999, 114356.46999999999, 113757.36999999998, 114038.37, 112228.82999999999, 114083.76999999999, 84110.52999999997, 84594.24, 112630.96000000002, 113861.96999999999, 114998.26999999999, 115744.03000000003, 236054.5799999999, 119524.43999999999, 124078.93999999997, 235987.08000000005, 235129.53999999995, 236568.63000000003, 234862.21999999997, 187253.61999999997, 122378.64, 122378.64, 233484.83999999997, 237107.17999999996, 238622.63, 238253.32, 232123.70999999993, 112731.84000000005, 123684.06000000003, 240037.25999999995, 241309.32999999996, 243039.91999999998, 242491.49000000002, 235386.75999999998, 120940.02000000003, 137149.92, 242905.1599999999, 239200.16, 241196.06000000006, 235803.7100000001, 233716.72000000006, 119686.70000000001, 137632.56000000003, 168646.08000000005, 236363.4400000001, 238944.85999999993, 240249.01999999993, 239289.65, 134167.58999999994, 138370.31999999992, 239051.4400000001, 235883.40999999995, 243640.84999999998, 267015.30999999994, 285743.61999999994, 225825.71000000002, 230459.28, 286445.5, 288201.01999999984, 285074.68999999994, 257198.9999999999, 228776.72000000003, 119667.93999999996, 132417.59999999995, 183613.59, 182879.86999999997, 232612.41999999995, 233739.92000000007, 228336.01000000013, 134388.27999999997], \"yaxis\": \"y\"}, {\"hoverlabel\": {\"namelength\": 0}, \"hovertemplate\": \"meter=chilledwater<br>date=%{x}<br>meter_reading-max=%{y}\", \"legendgroup\": \"meter=chilledwater\", \"line\": {\"color\": \"#EF553B\", \"dash\": \"solid\"}, \"mode\": \"lines\", \"name\": \"meter=chilledwater\", \"showlegend\": true, \"type\": \"scatter\", \"x\": [\"2016-01-01\", \"2016-01-02\", \"2016-01-03\", \"2016-01-04\", \"2016-01-05\", \"2016-01-06\", \"2016-01-07\", \"2016-01-08\", \"2016-01-09\", \"2016-01-10\", \"2016-01-11\", \"2016-01-12\", \"2016-01-13\", \"2016-01-14\", \"2016-01-15\", \"2016-01-16\", \"2016-01-17\", \"2016-01-18\", \"2016-01-19\", \"2016-01-20\", \"2016-01-21\", \"2016-01-22\", \"2016-01-23\", \"2016-01-24\", \"2016-01-25\", \"2016-01-26\", \"2016-01-27\", \"2016-01-28\", \"2016-01-29\", \"2016-01-30\", \"2016-01-31\", \"2016-02-01\", \"2016-02-02\", \"2016-02-03\", \"2016-02-04\", \"2016-02-05\", \"2016-02-06\", \"2016-02-07\", \"2016-02-08\", \"2016-02-09\", \"2016-02-10\", \"2016-02-11\", \"2016-02-12\", \"2016-02-13\", \"2016-02-14\", \"2016-02-15\", \"2016-02-16\", \"2016-02-17\", \"2016-02-18\", \"2016-02-19\", \"2016-02-20\", \"2016-02-21\", \"2016-02-22\", \"2016-02-23\", \"2016-02-24\", \"2016-02-25\", \"2016-02-26\", \"2016-02-27\", \"2016-02-28\", \"2016-02-29\", \"2016-03-01\", \"2016-03-02\", \"2016-03-03\", \"2016-03-04\", \"2016-03-05\", \"2016-03-06\", \"2016-03-07\", \"2016-03-08\", \"2016-03-09\", \"2016-03-10\", \"2016-03-11\", \"2016-03-12\", \"2016-03-13\", \"2016-03-14\", \"2016-03-15\", \"2016-03-16\", \"2016-03-17\", \"2016-03-18\", \"2016-03-19\", \"2016-03-20\", \"2016-03-21\", \"2016-03-22\", \"2016-03-23\", \"2016-03-24\", \"2016-03-25\", \"2016-03-26\", \"2016-03-27\", \"2016-03-28\", \"2016-03-29\", \"2016-03-30\", \"2016-03-31\", \"2016-04-01\", \"2016-04-02\", \"2016-04-03\", \"2016-04-04\", \"2016-04-05\", \"2016-04-06\", \"2016-04-07\", \"2016-04-08\", \"2016-04-09\", \"2016-04-10\", \"2016-04-11\", \"2016-04-12\", \"2016-04-13\", \"2016-04-14\", \"2016-04-15\", \"2016-04-16\", \"2016-04-17\", \"2016-04-18\", \"2016-04-19\", \"2016-04-20\", \"2016-04-21\", \"2016-04-22\", \"2016-04-23\", \"2016-04-24\", \"2016-04-25\", \"2016-04-26\", \"2016-04-27\", \"2016-04-28\", \"2016-04-29\", \"2016-04-30\", \"2016-05-01\", \"2016-05-02\", \"2016-05-03\", \"2016-05-04\", \"2016-05-05\", \"2016-05-06\", \"2016-05-07\", \"2016-05-08\", \"2016-05-09\", \"2016-05-10\", \"2016-05-11\", \"2016-05-12\", \"2016-05-13\", \"2016-05-14\", \"2016-05-15\", \"2016-05-16\", \"2016-05-17\", \"2016-05-18\", \"2016-05-19\", \"2016-05-20\", \"2016-05-21\", \"2016-05-22\", \"2016-05-23\", \"2016-05-24\", \"2016-05-25\", \"2016-05-26\", \"2016-05-27\", \"2016-05-28\", \"2016-05-29\", \"2016-05-30\", \"2016-05-31\", \"2016-06-01\", \"2016-06-02\", \"2016-06-03\", \"2016-06-04\", \"2016-06-05\", \"2016-06-06\", \"2016-06-07\", \"2016-06-08\", \"2016-06-09\", \"2016-06-10\", \"2016-06-11\", \"2016-06-12\", \"2016-06-13\", \"2016-06-14\", \"2016-06-15\", \"2016-06-16\", \"2016-06-17\", \"2016-06-18\", \"2016-06-19\", \"2016-06-20\", \"2016-06-21\", \"2016-06-22\", \"2016-06-23\", \"2016-06-24\", \"2016-06-25\", \"2016-06-26\", \"2016-06-27\", \"2016-06-28\", \"2016-06-29\", \"2016-06-30\", \"2016-07-01\", \"2016-07-02\", \"2016-07-03\", \"2016-07-04\", \"2016-07-05\", \"2016-07-06\", \"2016-07-07\", \"2016-07-08\", \"2016-07-09\", \"2016-07-10\", \"2016-07-11\", \"2016-07-12\", \"2016-07-13\", \"2016-07-14\", \"2016-07-15\", \"2016-07-16\", \"2016-07-17\", \"2016-07-18\", \"2016-07-19\", \"2016-07-20\", \"2016-07-21\", \"2016-07-22\", \"2016-07-23\", \"2016-07-24\", \"2016-07-25\", \"2016-07-26\", \"2016-07-27\", \"2016-07-28\", \"2016-07-29\", \"2016-07-30\", \"2016-07-31\", \"2016-08-01\", \"2016-08-02\", \"2016-08-03\", \"2016-08-04\", \"2016-08-05\", \"2016-08-06\", \"2016-08-07\", \"2016-08-08\", \"2016-08-09\", \"2016-08-10\", \"2016-08-11\", \"2016-08-12\", \"2016-08-13\", \"2016-08-14\", \"2016-08-15\", \"2016-08-16\", \"2016-08-17\", \"2016-08-18\", \"2016-08-19\", \"2016-08-20\", \"2016-08-21\", \"2016-08-22\", \"2016-08-23\", \"2016-08-24\", \"2016-08-25\", \"2016-08-26\", \"2016-08-27\", \"2016-08-28\", \"2016-08-29\", \"2016-08-30\", \"2016-08-31\", \"2016-09-01\", \"2016-09-02\", \"2016-09-03\", \"2016-09-04\", \"2016-09-05\", \"2016-09-06\", \"2016-09-07\", \"2016-09-08\", \"2016-09-09\", \"2016-09-10\", \"2016-09-11\", \"2016-09-12\", \"2016-09-13\", \"2016-09-14\", \"2016-09-15\", \"2016-09-16\", \"2016-09-17\", \"2016-09-18\", \"2016-09-19\", \"2016-09-20\", \"2016-09-21\", \"2016-09-22\", \"2016-09-23\", \"2016-09-24\", \"2016-09-25\", \"2016-09-26\", \"2016-09-27\", \"2016-09-28\", \"2016-09-29\", \"2016-09-30\", \"2016-10-01\", \"2016-10-02\", \"2016-10-03\", \"2016-10-04\", \"2016-10-05\", \"2016-10-06\", \"2016-10-07\", \"2016-10-08\", \"2016-10-09\", \"2016-10-10\", \"2016-10-11\", \"2016-10-12\", \"2016-10-13\", \"2016-10-14\", \"2016-10-15\", \"2016-10-16\", \"2016-10-17\", \"2016-10-18\", \"2016-10-19\", \"2016-10-20\", \"2016-10-21\", \"2016-10-22\", \"2016-10-23\", \"2016-10-24\", \"2016-10-25\", \"2016-10-26\", \"2016-10-27\", \"2016-10-28\", \"2016-10-29\", \"2016-10-30\", \"2016-10-31\", \"2016-11-01\", \"2016-11-02\", \"2016-11-03\", \"2016-11-04\", \"2016-11-05\", \"2016-11-06\", \"2016-11-07\", \"2016-11-08\", \"2016-11-09\", \"2016-11-10\", \"2016-11-11\", \"2016-11-12\", \"2016-11-13\", \"2016-11-14\", \"2016-11-15\", \"2016-11-16\", \"2016-11-17\", \"2016-11-18\", \"2016-11-19\", \"2016-11-20\", \"2016-11-21\", \"2016-11-22\", \"2016-11-23\", \"2016-11-24\", \"2016-11-25\", \"2016-11-26\", \"2016-11-27\", \"2016-11-28\", \"2016-11-29\", \"2016-11-30\", \"2016-12-01\", \"2016-12-02\", \"2016-12-03\", \"2016-12-04\", \"2016-12-05\", \"2016-12-06\", \"2016-12-07\", \"2016-12-08\", \"2016-12-09\", \"2016-12-10\", \"2016-12-11\", \"2016-12-12\", \"2016-12-13\", \"2016-12-14\", \"2016-12-15\", \"2016-12-16\", \"2016-12-17\", \"2016-12-18\", \"2016-12-19\", \"2016-12-20\", \"2016-12-21\", \"2016-12-22\", \"2016-12-23\", \"2016-12-24\", \"2016-12-25\", \"2016-12-26\", \"2016-12-27\", \"2016-12-28\", \"2016-12-29\", \"2016-12-30\", \"2016-12-31\"], \"xaxis\": \"x\", \"y\": [104211.65000000001, 98187.26000000001, 83892.12, 96508.46, 102095.87000000001, 100346.13999999997, 102379.90000000001, 97712.57999999999, 100240.59, 106336.15000000001, 99075.95999999999, 103098.54000000001, 102968.7, 101656.92, 105336.93999999996, 103261.72, 95785.49, 106978.4, 115307.55, 113722.92000000001, 109357.49, 111412.01999999999, 105682.62999999999, 112180.32, 101584.80999999998, 110577.96, 107868.37000000001, 92198.42, 92291.64, 96896.79, 103568.81000000003, 115845.51000000002, 97456.18999999999, 94662.73999999999, 115146.71, 91145.42000000001, 98522.59, 94922.85999999999, 98183.37999999998, 85415.43999999999, 113251.18999999999, 112252.06, 111965.05, 113615.06, 109386.99000000002, 121840.45, 110265.99199999998, 136586.292, 99045.58000000002, 103194.06000000001, 91161.5, 90408.31999999999, 79857.62, 77367.04, 89705.80000000002, 84636.84999999999, 86410.52, 102276.82999999999, 91317.39000000001, 104348.4, 104259.58, 118062.37, 104385.82999999999, 100097.51000000001, 94720.04000000001, 94002.46, 96450.63999999997, 156296.9, 166348.83000000002, 225960.61000000007, 229909.38, 165253.52999999997, 172640.39, 197460.05000000002, 185219.02, 183192.91999999998, 179753.86999999997, 157317.99000000005, 163269.67, 155080.87, 88167.65, 91512.06999999999, 165185.83000000005, 145372.49000000002, 231304.61, 200288.25, 228062.6, 218016.51, 186189.89, 152801.46, 190284.33, 319372.39999999997, 217509.99000000002, 94129.1, 122832.16, 101937.99999999999, 96957.21000000002, 122621.07000000002, 126208.98999999999, 93664.79000000001, 95099.93000000001, 119877.4, 189618.33, 175848.35000000003, 185472.30000000002, 173948.86, 173774.50999999998, 187952.77000000002, 177865.352, 219407.91, 180391.14, 161315.85, 271357.98, 213581.55999999997, 170951.96000000002, 176571.41999999998, 289876.67, 302997.3, 200499.27, 222406.40999999995, 212275.88, 229341.737, 271027.4, 301550.39999999997, 194252.06999999998, 106581.14, 98842.51000000002, 98096.86000000002, 174416.13999999998, 137563.53000000003, 167870.58999999997, 239128.24000000002, 271229.06, 332613.8, 204804.66999999998, 165886.71000000005, 216961.31, 249674.37000000002, 233254.54999999996, 250012.13000000003, 239586.13999999998, 228146.85000000003, 198346.50000000006, 165464.60999999996, 228131.38999999998, 270017.02, 369852.22000000003, 464986.7, 469609.5999999999, 330571.3, 371130.80000000005, 471941.2000000001, 458366.80000000005, 501886.6000000001, 487982.80000000005, 534928.6, 487022.9000000001, 436056.10000000003, 418717.8000000001, 277533.01, 264363.31, 263187.94, 436761.49999999994, 465104.60000000003, 272721.2, 328463.0, 429992.3999999999, 550275.8, 397377.8, 299767.16, 262189.55, 313534.97000000003, 523213.60000000003, 459958.4, 469350.70000000007, 475776.4999999999, 470553.00000000006, 393405.79999999993, 452794.79999999993, 548723.0, 409251.9000000001, 342225.60000000003, 488439.2, 425727.39999999997, 345800.30000000005, 398988.3000000001, 581785.1, 624582.4, 627984.3999999999, 574018.6000000001, 518359.2, 415491.3, 456943.1, 569335.6000000001, 586620.2, 564143.8999999999, 594886.6, 529485.0000000002, 521241.6000000002, 577777.6, 608947.5000000001, 476608.4000000001, 501685.2, 561564.3999999999, 608201.1, 640881.9000000001, 701327.3, 680336.5, 659757.0999999999, 656163.9, 581088.4, 619364.7000000001, 571344.4, 573112.0000000001, 611221.6, 569774.4, 494660.50000000006, 551058.7999999999, 645979.7999999999, 514004.60000000003, 435329.69999999995, 399187.2, 578005.5, 458355.10000000003, 308346.60000000003, 724128.0000000001, 706757.6, 635522.7, 632153.7000000001, 643224.0, 591781.7999999998, 583544.0000000001, 592207.2000000001, 513412.2, 355803.89999999997, 396511.60000000003, 445367.0, 557223.5, 666586.3999999999, 610968.2999999999, 514114.2000000001, 522779.7000000001, 548837.2000000001, 602067.2, 537102.2999999999, 369102.8, 295406.66, 327478.1, 300677.41, 402520.10000000003, 502693.80000000005, 10122700.0, 17654966.0, 16815506.0, 14794231.0, 12231095.0, 14521837.0, 14991545.0, 11617239.0, 12123555.0, 12993775.0, 14696231.0, 14931564.0, 15617309.0, 14203782.0, 12351834.0, 12803935.0, 11595066.0, 9034653.0, 9212485.0, 12054147.0, 12340896.0, 12315860.0, 12183743.0, 12362908.0, 12914671.0, 13052002.0, 4093785.0, 287368.04000000004, 288887.69999999995, 272972.15, 315179.60000000003, 215357.28000000006, 5410398.7, 8792932.0, 10153329.0, 11206787.0, 8550955.0, 8706718.0, 10080703.0, 13325371.0, 13861170.0, 4565362.0, 487666.0, 348905.4, 274496.08, 273095.82, 293989.23, 280975.58, 261275.99, 263925.67000000004, 302929.05, 287331.07000000007, 332632.00000000006, 289850.44, 261397.28, 283526.3999999999, 234313.17999999996, 197206.78, 170107.75, 174750.86999999997, 157191.37000000002, 142924.29, 158964.21000000005, 141320.27, 113208.18, 107805.25, 157318.0, 166562.05000000005, 119286.5, 2566796.04, 2086469.3280000002, 137985.66, 139336.41, 81083.19, 77079.22999999998, 89950.27500000001, 136508.28999999998, 142417.74, 152210.53999999998, 116542.83, 92778.33999999998, 129839.09000000001, 244210.7556, 232165.31999999998, 194167.53, 81550.4, 96324.06, 147187.55999999997, 209194.7, 228991.23, 139716.27, 1797150.8322, 3758002.7, 2838935.6, 3995541.0, 3629392.8, 4045015.0, 2053032.8789999997, 148622.64999999997, 120510.56000000001, 187540.6, 239628.15, 248281.38, 163269.67000000004, 105568.11, 105568.09000000001, 141573.55000000002, 180575.91000000003, 202356.44, 206070.96, 172387.08000000005, 167448.52000000005, 144781.52, 81500.98000000001, 82563.47], \"yaxis\": \"y\"}, {\"hoverlabel\": {\"namelength\": 0}, \"hovertemplate\": \"meter=steam<br>date=%{x}<br>meter_reading-max=%{y}\", \"legendgroup\": \"meter=steam\", \"line\": {\"color\": \"#00cc96\", \"dash\": \"solid\"}, \"mode\": \"lines\", \"name\": \"meter=steam\", \"showlegend\": true, \"type\": \"scatter\", \"x\": [\"2016-01-01\", \"2016-01-02\", \"2016-01-03\", \"2016-01-04\", \"2016-01-05\", \"2016-01-06\", \"2016-01-07\", \"2016-01-08\", \"2016-01-09\", \"2016-01-10\", \"2016-01-11\", \"2016-01-12\", \"2016-01-13\", \"2016-01-14\", \"2016-01-15\", \"2016-01-16\", \"2016-01-17\", \"2016-01-18\", \"2016-01-19\", \"2016-01-20\", \"2016-01-21\", \"2016-01-22\", \"2016-01-23\", \"2016-01-24\", \"2016-01-25\", \"2016-01-26\", \"2016-01-27\", \"2016-01-28\", \"2016-01-29\", \"2016-01-30\", \"2016-01-31\", \"2016-02-01\", \"2016-02-02\", \"2016-02-03\", \"2016-02-04\", \"2016-02-05\", \"2016-02-06\", \"2016-02-07\", \"2016-02-08\", \"2016-02-09\", \"2016-02-10\", \"2016-02-11\", \"2016-02-12\", \"2016-02-13\", \"2016-02-14\", \"2016-02-15\", \"2016-02-16\", \"2016-02-17\", \"2016-02-18\", \"2016-02-19\", \"2016-02-20\", \"2016-02-21\", \"2016-02-22\", \"2016-02-23\", \"2016-02-24\", \"2016-02-25\", \"2016-02-26\", \"2016-02-27\", \"2016-02-28\", \"2016-02-29\", \"2016-03-01\", \"2016-03-02\", \"2016-03-03\", \"2016-03-04\", \"2016-03-05\", \"2016-03-06\", \"2016-03-07\", \"2016-03-08\", \"2016-03-09\", \"2016-03-10\", \"2016-03-11\", \"2016-03-12\", \"2016-03-13\", \"2016-03-14\", \"2016-03-15\", \"2016-03-16\", \"2016-03-17\", \"2016-03-18\", \"2016-03-19\", \"2016-03-20\", \"2016-03-21\", \"2016-03-22\", \"2016-03-23\", \"2016-03-24\", \"2016-03-25\", \"2016-03-26\", \"2016-03-27\", \"2016-03-28\", \"2016-03-29\", \"2016-03-30\", \"2016-03-31\", \"2016-04-01\", \"2016-04-02\", \"2016-04-03\", \"2016-04-04\", \"2016-04-05\", \"2016-04-06\", \"2016-04-07\", \"2016-04-08\", \"2016-04-09\", \"2016-04-10\", \"2016-04-11\", \"2016-04-12\", \"2016-04-13\", \"2016-04-14\", \"2016-04-15\", \"2016-04-16\", \"2016-04-17\", \"2016-04-18\", \"2016-04-19\", \"2016-04-20\", \"2016-04-21\", \"2016-04-22\", \"2016-04-23\", \"2016-04-24\", \"2016-04-25\", \"2016-04-26\", \"2016-04-27\", \"2016-04-28\", \"2016-04-29\", \"2016-04-30\", \"2016-05-01\", \"2016-05-02\", \"2016-05-03\", \"2016-05-04\", \"2016-05-05\", \"2016-05-06\", \"2016-05-07\", \"2016-05-08\", \"2016-05-09\", \"2016-05-10\", \"2016-05-11\", \"2016-05-12\", \"2016-05-13\", \"2016-05-14\", \"2016-05-15\", \"2016-05-16\", \"2016-05-17\", \"2016-05-18\", \"2016-05-19\", \"2016-05-20\", \"2016-05-21\", \"2016-05-22\", \"2016-05-23\", \"2016-05-24\", \"2016-05-25\", \"2016-05-26\", \"2016-05-27\", \"2016-05-28\", \"2016-05-29\", \"2016-05-30\", \"2016-05-31\", \"2016-06-01\", \"2016-06-02\", \"2016-06-03\", \"2016-06-04\", \"2016-06-05\", \"2016-06-06\", \"2016-06-07\", \"2016-06-08\", \"2016-06-09\", \"2016-06-10\", \"2016-06-11\", \"2016-06-12\", \"2016-06-13\", \"2016-06-14\", \"2016-06-15\", \"2016-06-16\", \"2016-06-17\", \"2016-06-18\", \"2016-06-19\", \"2016-06-20\", \"2016-06-21\", \"2016-06-22\", \"2016-06-23\", \"2016-06-24\", \"2016-06-25\", \"2016-06-26\", \"2016-06-27\", \"2016-06-28\", \"2016-06-29\", \"2016-06-30\", \"2016-07-01\", \"2016-07-02\", \"2016-07-03\", \"2016-07-04\", \"2016-07-05\", \"2016-07-06\", \"2016-07-07\", \"2016-07-08\", \"2016-07-09\", \"2016-07-10\", \"2016-07-11\", \"2016-07-12\", \"2016-07-13\", \"2016-07-14\", \"2016-07-15\", \"2016-07-16\", \"2016-07-17\", \"2016-07-18\", \"2016-07-19\", \"2016-07-20\", \"2016-07-21\", \"2016-07-22\", \"2016-07-23\", \"2016-07-24\", \"2016-07-25\", \"2016-07-26\", \"2016-07-27\", \"2016-07-28\", \"2016-07-29\", \"2016-07-30\", \"2016-07-31\", \"2016-08-01\", \"2016-08-02\", \"2016-08-03\", \"2016-08-04\", \"2016-08-05\", \"2016-08-06\", \"2016-08-07\", \"2016-08-08\", \"2016-08-09\", \"2016-08-10\", \"2016-08-11\", \"2016-08-12\", \"2016-08-13\", \"2016-08-14\", \"2016-08-15\", \"2016-08-16\", \"2016-08-17\", \"2016-08-18\", \"2016-08-19\", \"2016-08-20\", \"2016-08-21\", \"2016-08-22\", \"2016-08-23\", \"2016-08-24\", \"2016-08-25\", \"2016-08-26\", \"2016-08-27\", \"2016-08-28\", \"2016-08-29\", \"2016-08-30\", \"2016-08-31\", \"2016-09-01\", \"2016-09-02\", \"2016-09-03\", \"2016-09-04\", \"2016-09-05\", \"2016-09-06\", \"2016-09-07\", \"2016-09-08\", \"2016-09-09\", \"2016-09-10\", \"2016-09-11\", \"2016-09-12\", \"2016-09-13\", \"2016-09-14\", \"2016-09-15\", \"2016-09-16\", \"2016-09-17\", \"2016-09-18\", \"2016-09-19\", \"2016-09-20\", \"2016-09-21\", \"2016-09-22\", \"2016-09-23\", \"2016-09-24\", \"2016-09-25\", \"2016-09-26\", \"2016-09-27\", \"2016-09-28\", \"2016-09-29\", \"2016-09-30\", \"2016-10-01\", \"2016-10-02\", \"2016-10-03\", \"2016-10-04\", \"2016-10-05\", \"2016-10-06\", \"2016-10-07\", \"2016-10-08\", \"2016-10-09\", \"2016-10-10\", \"2016-10-11\", \"2016-10-12\", \"2016-10-13\", \"2016-10-14\", \"2016-10-15\", \"2016-10-16\", \"2016-10-17\", \"2016-10-18\", \"2016-10-19\", \"2016-10-20\", \"2016-10-21\", \"2016-10-22\", \"2016-10-23\", \"2016-10-24\", \"2016-10-25\", \"2016-10-26\", \"2016-10-27\", \"2016-10-28\", \"2016-10-29\", \"2016-10-30\", \"2016-10-31\", \"2016-11-01\", \"2016-11-02\", \"2016-11-03\", \"2016-11-04\", \"2016-11-05\", \"2016-11-06\", \"2016-11-07\", \"2016-11-08\", \"2016-11-09\", \"2016-11-10\", \"2016-11-11\", \"2016-11-12\", \"2016-11-13\", \"2016-11-14\", \"2016-11-15\", \"2016-11-16\", \"2016-11-17\", \"2016-11-18\", \"2016-11-19\", \"2016-11-20\", \"2016-11-21\", \"2016-11-22\", \"2016-11-23\", \"2016-11-24\", \"2016-11-25\", \"2016-11-26\", \"2016-11-27\", \"2016-11-28\", \"2016-11-29\", \"2016-11-30\", \"2016-12-01\", \"2016-12-02\", \"2016-12-03\", \"2016-12-04\", \"2016-12-05\", \"2016-12-06\", \"2016-12-07\", \"2016-12-08\", \"2016-12-09\", \"2016-12-10\", \"2016-12-11\", \"2016-12-12\", \"2016-12-13\", \"2016-12-14\", \"2016-12-15\", \"2016-12-16\", \"2016-12-17\", \"2016-12-18\", \"2016-12-19\", \"2016-12-20\", \"2016-12-21\", \"2016-12-22\", \"2016-12-23\", \"2016-12-24\", \"2016-12-25\", \"2016-12-26\", \"2016-12-27\", \"2016-12-28\", \"2016-12-29\", \"2016-12-30\", \"2016-12-31\"], \"xaxis\": \"x\", \"y\": [50950800.0, 18746688.0, 18646320.0, 27760238.0, 58403172.0, 112135010.0, 160212270.0, 174563720.0, 130359040.0, 2888890.0, 2874718.0, 2926784.0, 7361686.0, 28359880.0, 33972564.0, 2845829.0, 2976046.0, 2966280.0, 2891469.0, 2654842.0, 31909284.0, 10870470.0, 16343202.0, 14426950.0, 6165526.0, 24745776.0, 30595974.0, 25087324.0, 20132670.0, 47350944.0, 13176504.0, 27772872.0, 77513762.0, 124012930.0, 28354364.0, 24281606.0, 40925190.0, 1290696.0, 1839719.0999999999, 1942453.3000000003, 2010484.5000000002, 1923328.0999999999, 1987203.2, 2061125.2999999998, 1778875.2000000004, 6551212.0, 20098604.0, 9549460.0, 16468702.0, 30156648.0, 45915108.0, 10194428.0, 15296380.0, 27148292.0, 32775602.0, 22385926.0, 62057622.0, 191340876.0, 190054280.0, 86987992.0, 16592412.0, 8880850.0, 13525682.0, 16529132.0, 5010380.0, 77348620.0, 290265820.0, 430916200.0, 455224700.0, 257913410.0, 266191480.0, 413154700.0, 374916800.0, 391211300.0, 397590200.0, 423932800.0, 226860680.0, 163804840.0, 168515650.0, 148173330.0, 126882650.0, 206124690.0, 252265250.0, 209291250.0, 280378060.0, 169384170.0, 169211080.0, 170145590.0, 299756940.0, 357192620.0, 304014360.0, 235833930.0, 136537552.0, 227317430.0, 167248380.0, 249963960.0, 234648150.0, 128764650.0, 256002960.0, 147967970.0, 158665280.0, 150021220.0, 123774410.0, 199672250.0, 395719180.0, 300940260.0, 254814050.0, 218312350.0, 356953000.0, 427946300.0, 450787900.0, 400777100.0, 447694600.0, 347039000.0, 445405400.0, 396174200.0, 432213800.0, 452210300.0, 443202300.0, 400945800.0, 174923260.0, 171986470.0, 145732840.0, 178611220.0, 147783010.0, 151824200.0, 291107060.0, 238941390.0, 160854800.0, 205955280.0, 424836200.0, 386634900.0, 356739700.0, 461146900.0, 169000780.0, 152531650.0, 142984320.0, 153314070.0, 155725300.0, 135886630.0, 179232300.0, 295266250.0, 272544740.0, 364362120.0, 404532100.0, 376937450.0, 384428700.0, 379759100.0, 385455100.0, 388253500.0, 382917300.0, 371698500.0, 383705400.0, 378469800.0, 437496700.0, 367886900.0, 368204500.0, 418365700.0, 392759500.0, 395005600.0, 398957700.0, 383892300.0, 413549600.0, 406453000.0, 419520000.0, 384060000.0, 383857400.0, 383755638.0, 1561875.0, 2240250.0, 2203875.0, 2036250.0, 1826250.0, 1200000.0, 828218.8, 772499.9, 1425375.0, 793218.7000000001, 783937.7, 812719.1000000001, 801874.9000000001, 777187.3999999999, 842250.1000000001, 756500.1, 734655.7999999999, 730687.3999999999, 1445250.0, 772812.5, 764280.9999999999, 774156.4, 763437.5, 740875.4000000003, 2065875.0, 2661750.0, 1560000.0, 1188375.0, 1105500.0, 748281.4, 740968.7, 873375.0, 2183250.0, 2655750.0, 2693250.0, 2742375.0, 2746125.0, 2608500.0, 2769375.0, 2824500.0, 2816250.0, 2618250.0, 798375.3000000002, 730593.6, 738501.2000000001, 1435875.0, 3012750.0, 3025500.0, 3016875.0, 2587500.0, 1293375.0, 751281.2999999999, 799625.1, 1455750.0, 2776125.0, 2749125.0, 2718750.0, 2671875.0, 2694000.0, 1985625.0, 1214250.0, 1238250.0, 1218750.0, 1231875.0, 985875.0, 819437.7000000001, 1064625.0, 1277625.0, 1324500.0, 1414125.0, 1225500.0, 1523250.0, 844875.0, 1531500.0, 777000.4000000001, 820500.1, 826125.0, 827625.0, 794625.0, 780000.0, 744124.9999999999, 1456500.0, 779249.9500000001, 1541250.0, 2255250.0, 1996125.0, 1999125.0, 1081875.0, 923124.8999999999, 960562.5, 896593.8000000002, 869719.0000000001, 853968.9, 1449000.0, 1257375.0, 881187.8000000002, 859843.9999999999, 869125.1000000001, 895000.0999999999, 826937.7000000001, 851781.3, 983343.7999999998, 1032937.9, 1029187.5000000001, 1007344.0, 974406.4000000001, 910875.0, 978867.2999999999, 969257.9, 941484.4000000001, 950249.7999999999, 1027031.2, 1187976.5, 1214812.5000000002, 1143586.1, 990243.7000000001, 959282.6000000001, 1216124.9000000001, 1190281.2, 1100593.6, 948499.9999999999, 1003250.4000000001, 967813.0000000001, 1041031.2999999998, 1160750.2000000002, 1265156.4000000001, 1198406.3, 1098656.5, 1102094.0, 1229906.4, 1245531.2, 1274375.3000000003, 1249938.0, 1093563.0, 1082406.3, 1223718.7, 1188531.6, 1075875.3, 1124406.0999999999, 1102156.3, 1086687.7000000002, 1028343.7000000002, 1062781.5, 1063093.7999999998, 37753762.0, 403633400.0, 275397288.0, 22634380.0, 2773850.0, 1134000.0, 1215562.4999999998, 1225093.6999999997, 1182656.3, 1140093.9, 1320781.3, 1489687.7000000002, 1514250.0, 1500312.4000000001, 1473625.0999999999, 1139250.0, 1066500.0, 1046625.0, 932625.0, 949125.0, 801437.7, 1013250.0, 958125.0, 978750.0, 1153125.0, 1178250.0, 1061250.0, 1061250.0, 1346625.0, 1502625.0, 1482750.0, 1578750.0, 1764750.0, 1532250.0, 1866750.0, 2004750.0, 1965375.0, 2161500.0, 1849875.0, 1955625.0, 2367375.0, 1803000.0, 1299375.0, 1099125.0, 1231125.0, 1067250.0, 1059375.0, 1085625.0, 1383375.0, 1562625.0, 1297125.0, 1319625.0, 1410375.0, 1324875.0], \"yaxis\": \"y\"}, {\"hoverlabel\": {\"namelength\": 0}, \"hovertemplate\": \"meter=hotwater<br>date=%{x}<br>meter_reading-max=%{y}\", \"legendgroup\": \"meter=hotwater\", \"line\": {\"color\": \"#ab63fa\", \"dash\": \"solid\"}, \"mode\": \"lines\", \"name\": \"meter=hotwater\", \"showlegend\": true, \"type\": \"scatter\", \"x\": [\"2016-01-01\", \"2016-01-02\", \"2016-01-03\", \"2016-01-04\", \"2016-01-05\", \"2016-01-06\", \"2016-01-07\", \"2016-01-08\", \"2016-01-09\", \"2016-01-10\", \"2016-01-11\", \"2016-01-12\", \"2016-01-13\", \"2016-01-14\", \"2016-01-15\", \"2016-01-16\", \"2016-01-17\", \"2016-01-18\", \"2016-01-19\", \"2016-01-20\", \"2016-01-21\", \"2016-01-22\", \"2016-01-23\", \"2016-01-24\", \"2016-01-25\", \"2016-01-26\", \"2016-01-27\", \"2016-01-28\", \"2016-01-29\", \"2016-01-30\", \"2016-01-31\", \"2016-02-01\", \"2016-02-02\", \"2016-02-03\", \"2016-02-04\", \"2016-02-05\", \"2016-02-06\", \"2016-02-07\", \"2016-02-08\", \"2016-02-09\", \"2016-02-10\", \"2016-02-11\", \"2016-02-12\", \"2016-02-13\", \"2016-02-14\", \"2016-02-15\", \"2016-02-16\", \"2016-02-17\", \"2016-02-18\", \"2016-02-19\", \"2016-02-20\", \"2016-02-21\", \"2016-02-22\", \"2016-02-23\", \"2016-02-24\", \"2016-02-25\", \"2016-02-26\", \"2016-02-27\", \"2016-02-28\", \"2016-02-29\", \"2016-03-01\", \"2016-03-02\", \"2016-03-03\", \"2016-03-04\", \"2016-03-05\", \"2016-03-06\", \"2016-03-07\", \"2016-03-08\", \"2016-03-09\", \"2016-03-10\", \"2016-03-11\", \"2016-03-12\", \"2016-03-13\", \"2016-03-14\", \"2016-03-15\", \"2016-03-16\", \"2016-03-17\", \"2016-03-18\", \"2016-03-19\", \"2016-03-20\", \"2016-03-21\", \"2016-03-22\", \"2016-03-23\", \"2016-03-24\", \"2016-03-25\", \"2016-03-26\", \"2016-03-27\", \"2016-03-28\", \"2016-03-29\", \"2016-03-30\", \"2016-03-31\", \"2016-04-01\", \"2016-04-02\", \"2016-04-03\", \"2016-04-04\", \"2016-04-05\", \"2016-04-06\", \"2016-04-07\", \"2016-04-08\", \"2016-04-09\", \"2016-04-10\", \"2016-04-11\", \"2016-04-12\", \"2016-04-13\", \"2016-04-14\", \"2016-04-15\", \"2016-04-16\", \"2016-04-17\", \"2016-04-18\", \"2016-04-19\", \"2016-04-20\", \"2016-04-21\", \"2016-04-22\", \"2016-04-23\", \"2016-04-24\", \"2016-04-25\", \"2016-04-26\", \"2016-04-27\", \"2016-04-28\", \"2016-04-29\", \"2016-04-30\", \"2016-05-01\", \"2016-05-02\", \"2016-05-03\", \"2016-05-04\", \"2016-05-05\", \"2016-05-06\", \"2016-05-07\", \"2016-05-08\", \"2016-05-09\", \"2016-05-10\", \"2016-05-11\", \"2016-05-12\", \"2016-05-13\", \"2016-05-14\", \"2016-05-15\", \"2016-05-16\", \"2016-05-17\", \"2016-05-18\", \"2016-05-19\", \"2016-05-20\", \"2016-05-21\", \"2016-05-22\", \"2016-05-23\", \"2016-05-24\", \"2016-05-25\", \"2016-05-26\", \"2016-05-27\", \"2016-05-28\", \"2016-05-29\", \"2016-05-30\", \"2016-05-31\", \"2016-06-01\", \"2016-06-02\", \"2016-06-03\", \"2016-06-04\", \"2016-06-05\", \"2016-06-06\", \"2016-06-07\", \"2016-06-08\", \"2016-06-09\", \"2016-06-10\", \"2016-06-11\", \"2016-06-12\", \"2016-06-13\", \"2016-06-14\", \"2016-06-15\", \"2016-06-16\", \"2016-06-17\", \"2016-06-18\", \"2016-06-19\", \"2016-06-20\", \"2016-06-21\", \"2016-06-22\", \"2016-06-23\", \"2016-06-24\", \"2016-06-25\", \"2016-06-26\", \"2016-06-27\", \"2016-06-28\", \"2016-06-29\", \"2016-06-30\", \"2016-07-01\", \"2016-07-02\", \"2016-07-03\", \"2016-07-04\", \"2016-07-05\", \"2016-07-06\", \"2016-07-07\", \"2016-07-08\", \"2016-07-09\", \"2016-07-10\", \"2016-07-11\", \"2016-07-12\", \"2016-07-13\", \"2016-07-14\", \"2016-07-15\", \"2016-07-16\", \"2016-07-17\", \"2016-07-18\", \"2016-07-19\", \"2016-07-20\", \"2016-07-21\", \"2016-07-22\", \"2016-07-23\", \"2016-07-24\", \"2016-07-25\", \"2016-07-26\", \"2016-07-27\", \"2016-07-28\", \"2016-07-29\", \"2016-07-30\", \"2016-07-31\", \"2016-08-01\", \"2016-08-02\", \"2016-08-03\", \"2016-08-04\", \"2016-08-05\", \"2016-08-06\", \"2016-08-07\", \"2016-08-08\", \"2016-08-09\", \"2016-08-10\", \"2016-08-11\", \"2016-08-12\", \"2016-08-13\", \"2016-08-14\", \"2016-08-15\", \"2016-08-16\", \"2016-08-17\", \"2016-08-18\", \"2016-08-19\", \"2016-08-20\", \"2016-08-21\", \"2016-08-22\", \"2016-08-23\", \"2016-08-24\", \"2016-08-25\", \"2016-08-26\", \"2016-08-27\", \"2016-08-28\", \"2016-08-29\", \"2016-08-30\", \"2016-08-31\", \"2016-09-01\", \"2016-09-02\", \"2016-09-03\", \"2016-09-04\", \"2016-09-05\", \"2016-09-06\", \"2016-09-07\", \"2016-09-08\", \"2016-09-09\", \"2016-09-10\", \"2016-09-11\", \"2016-09-12\", \"2016-09-13\", \"2016-09-14\", \"2016-09-15\", \"2016-09-16\", \"2016-09-17\", \"2016-09-18\", \"2016-09-19\", \"2016-09-20\", \"2016-09-21\", \"2016-09-22\", \"2016-09-23\", \"2016-09-24\", \"2016-09-25\", \"2016-09-26\", \"2016-09-27\", \"2016-09-28\", \"2016-09-29\", \"2016-09-30\", \"2016-10-01\", \"2016-10-02\", \"2016-10-03\", \"2016-10-04\", \"2016-10-05\", \"2016-10-06\", \"2016-10-07\", \"2016-10-08\", \"2016-10-09\", \"2016-10-10\", \"2016-10-11\", \"2016-10-12\", \"2016-10-13\", \"2016-10-14\", \"2016-10-15\", \"2016-10-16\", \"2016-10-17\", \"2016-10-18\", \"2016-10-19\", \"2016-10-20\", \"2016-10-21\", \"2016-10-22\", \"2016-10-23\", \"2016-10-24\", \"2016-10-25\", \"2016-10-26\", \"2016-10-27\", \"2016-10-28\", \"2016-10-29\", \"2016-10-30\", \"2016-10-31\", \"2016-11-01\", \"2016-11-02\", \"2016-11-03\", \"2016-11-04\", \"2016-11-05\", \"2016-11-06\", \"2016-11-07\", \"2016-11-08\", \"2016-11-09\", \"2016-11-10\", \"2016-11-11\", \"2016-11-12\", \"2016-11-13\", \"2016-11-14\", \"2016-11-15\", \"2016-11-16\", \"2016-11-17\", \"2016-11-18\", \"2016-11-19\", \"2016-11-20\", \"2016-11-21\", \"2016-11-22\", \"2016-11-23\", \"2016-11-24\", \"2016-11-25\", \"2016-11-26\", \"2016-11-27\", \"2016-11-28\", \"2016-11-29\", \"2016-11-30\", \"2016-12-01\", \"2016-12-02\", \"2016-12-03\", \"2016-12-04\", \"2016-12-05\", \"2016-12-06\", \"2016-12-07\", \"2016-12-08\", \"2016-12-09\", \"2016-12-10\", \"2016-12-11\", \"2016-12-12\", \"2016-12-13\", \"2016-12-14\", \"2016-12-15\", \"2016-12-16\", \"2016-12-17\", \"2016-12-18\", \"2016-12-19\", \"2016-12-20\", \"2016-12-21\", \"2016-12-22\", \"2016-12-23\", \"2016-12-24\", \"2016-12-25\", \"2016-12-26\", \"2016-12-27\", \"2016-12-28\", \"2016-12-29\", \"2016-12-30\", \"2016-12-31\"], \"xaxis\": \"x\", \"y\": [219824.53000000003, 266008.2342999999, 220537.28, 571135.5948000001, 376608.9000000001, 306608.43999999994, 266769.07000000007, 236884.94000000003, 149722.04000000007, 163311.961, 563727.7155999999, 502685.341, 440467.43969999993, 407406.6000000001, 364713.73, 342600.69999999995, 383752.6, 835888.0000000001, 467251.30000000005, 408353.1, 968706.2999999997, 873586.6852000002, 495144.8, 439975.3, 391959.20000000007, 355227.7829, 327798.80000000005, 361546.3400000001, 345960.9, 306971.23, 188576.77579999992, 233235.86400000003, 259328.27999999997, 172306.77000000005, 241002.16999999995, 311160.74, 307874.99000000005, 573359.4799999999, 426928.79589999997, 303012.1, 461540.67780000006, 177254.50000000003, 162547.56999999998, 190392.18000000002, 663640.8707999999, 481344.55960000004, 526499.9248000002, 1024755.1319999998, 1048856.8699999996, 543324.3613000001, 100023.87999999999, 137919.71159999998, 563754.5341, 151937.86000000002, 156829.82599999997, 128109.91939999998, 652727.8669999999, 467184.2553000001, 409421.37990000006, 612528.45, 441250.57599999994, 231599.361, 761467.8230000001, 477667.61999999994, 223507.6772, 705218.0302, 1303695.2899999998, 1043809.8868000001, 1038873.6, 997035.7714, 667325.3570000001, 325214.5898, 104383.9138, 700439.27, 1533579.9000000001, 1038593.8026000003, 373563.7544, 659021.5499999999, 107474.90120000002, 392296.75599999994, 113763.19000000002, 276997.76840000006, 653034.9419999998, 198905.4104, 121563.9406, 871558.0000000001, 583205.6252, 96041.19000000002, 153717.6898, 286310.30580000003, 329027.0294000001, 128613.48000000001, 161843.89, 305138.9700000001, 296429.31999999995, 304334.7, 253754.13, 152986.82000000004, 221304.92999999996, 297695.991, 254156.34000000003, 254994.1574, 338130.2348999999, 185813.96999999997, 155503.24, 135992.09, 122671.96, 223989.83020000003, 107441.58180000001, 244613.0972, 278272.4751999999, 189873.702, 83905.40999999999, 363468.0952, 417820.79000000004, 117280.25020000001, 156161.9, 149861.52000000005, 133036.58000000002, 112507.39000000001, 99636.66, 113193.43, 197448.07940000005, 143639.3997, 196394.53810000003, 96464.19999999998, 106147.39000000001, 476992.4404, 109207.21000000004, 130549.27459999998, 116677.84100000001, 111923.23, 79119.81999999999, 77229.437, 91367.09, 139293.93, 119972.04000000001, 102032.31999999998, 112706.23999999998, 104758.21999999997, 98822.27, 95123.22999999998, 93810.22999999998, 93525.11999999998, 82934.68000000001, 80297.54000000002, 72050.52, 48580.973999999995, 37519.18000000001, 37803.964, 39603.551999999996, 39102.79000000001, 59568.700000000004, 414249.94999999995, 769203.56, 282406.01999999996, 46730.090000000004, 51382.18899999999, 52615.19999999999, 73469.08, 67217.33, 62646.47, 39817.68400000001, 54069.00999999999, 67477.61000000002, 57753.247, 44890.917000000016, 204016.408, 481234.37999999995, 42608.49500000001, 36427.158, 29015.316000000003, 39569.595, 45657.128000000004, 46651.95000000001, 43275.92, 33340.52700000001, 31537.919000000005, 29704.797000000002, 34925.041000000005, 44553.03599999999, 43550.752, 75473.97, 503728.26999999996, 474708.442, 425998.44500000007, 381755.2259999999, 319926.228, 418986.9619, 554206.6682000001, 359799.568, 248615.73349999997, 45305.18299999999, 128850.61719999996, 240366.3433, 146772.3017, 243803.1619, 178934.93, 292915.15609999996, 370209.34799999994, 288567.90760000004, 507359.4270000001, 871936.2599999998, 752533.4534000002, 994439.7350000001, 269096.90599999996, 574449.95, 474124.4553, 798616.15, 924709.926, 757173.074, 1053335.2799999998, 1288213.4400000004, 924877.6247, 716182.3210000002, 429320.814, 1416105.9, 1124879.9200000002, 787625.8429999999, 692313.5837999999, 298126.2938, 1088430.03, 409226.70170000003, 713010.4323999998, 200387.0461, 837324.048, 373424.89600000007, 274112.67459999997, 641742.3185, 279745.6896, 318565.8402, 286216.1788, 616740.43, 479932.0298, 598662.512, 736089.951, 1069995.88, 1041734.4000000001, 833901.6000000001, 1851247.9, 1584565.7, 1076797.2905000004, 160563.02599999998, 892806.37, 443612.74130000005, 396581.3139, 81914.3555, 45783.140999999996, 37866.755, 39517.333, 33224.774999999994, 188728.55399999997, 1092228.1310000003, 685808.65, 1091816.75, 1056583.926, 898223.6, 1196151.68, 1036968.6999999998, 46093.875, 42760.65000000001, 39434.041, 40357.50000000001, 41174.09, 1061959.091, 1212656.0499999996, 468957.8219999999, 462605.6699999999, 73267.37000000001, 51216.39000000001, 57526.29, 95615.50929999998, 54846.17, 65322.554, 60004.85999999999, 56828.19999999999, 54479.549999999996, 89803.094, 53839.610000000015, 105603.34999999999, 49710.683000000005, 54357.02000000001, 72044.05, 169306.726, 114433.49999999999, 60972.53999999999, 176530.34000000005, 212726.604, 279851.03599999996, 232242.44800000003, 50689.61, 41692.50000000001, 58817.759999999995, 505593.49000000005, 340005.8709, 573047.15, 472580.382, 414780.07999999996, 393304.76, 541590.9859999999, 960568.3500000002, 1044698.944, 850116.2469999999, 511895.33849999995, 852282.3240000001, 474671.12539999996, 880590.7640000001, 678660.727, 823314.4700999998, 894436.12, 1014330.02, 905253.094, 655828.7661, 636537.6599999997, 714016.1489999997, 1330917.0000000002, 1210162.6140000003, 1183955.6749999996, 800545.1221, 1250931.0999999999, 755521.0599999999, 424413.57779999997, 1078860.8409999998, 220037.79700000002, 601782.1305000001, 263562.82000000007, 452539.07979999995, 322365.54000000004, 700828.2590000001, 468891.40760000004, 273985.2858, 358080.5703, 349214.27099999995, 543637.6203, 372174.84429999994, 272171.9346, 325591.552, 259423.32999999996, 211145.06999999995, 599227.3000000002, 857363.8119000002, 715053.9250000002, 816464.9676999999, 285978.45, 319531.30000000005, 335734.1, 247083.63999999996, 234493.596, 270940.76, 377115.79999999993, 537092.3599999999, 1462117.4999999998, 2434173.3, 2278998.6000000006, 1220991.4200000002, 819587.96, 226905.38, 205214.01, 957992.6, 436368.6599999999, 848507.7, 1074769.5519999997, 442251.7640000001, 386087.022, 512420.63, 413259.95], \"yaxis\": \"y\"}],\n",
              "                        {\"legend\": {\"tracegroupgap\": 0}, \"margin\": {\"t\": 60}, \"template\": {\"data\": {\"bar\": [{\"error_x\": {\"color\": \"#2a3f5f\"}, \"error_y\": {\"color\": \"#2a3f5f\"}, \"marker\": {\"line\": {\"color\": \"#E5ECF6\", \"width\": 0.5}}, \"type\": \"bar\"}], \"barpolar\": [{\"marker\": {\"line\": {\"color\": \"#E5ECF6\", \"width\": 0.5}}, \"type\": \"barpolar\"}], \"carpet\": [{\"aaxis\": {\"endlinecolor\": \"#2a3f5f\", \"gridcolor\": \"white\", \"linecolor\": \"white\", \"minorgridcolor\": \"white\", \"startlinecolor\": \"#2a3f5f\"}, \"baxis\": {\"endlinecolor\": \"#2a3f5f\", \"gridcolor\": \"white\", \"linecolor\": \"white\", \"minorgridcolor\": \"white\", \"startlinecolor\": \"#2a3f5f\"}, \"type\": \"carpet\"}], \"choropleth\": [{\"colorbar\": {\"outlinewidth\": 0, \"ticks\": \"\"}, \"type\": \"choropleth\"}], \"contour\": [{\"colorbar\": {\"outlinewidth\": 0, \"ticks\": \"\"}, \"colorscale\": [[0.0, \"#0d0887\"], [0.1111111111111111, \"#46039f\"], [0.2222222222222222, \"#7201a8\"], [0.3333333333333333, \"#9c179e\"], [0.4444444444444444, \"#bd3786\"], [0.5555555555555556, \"#d8576b\"], [0.6666666666666666, \"#ed7953\"], [0.7777777777777778, \"#fb9f3a\"], [0.8888888888888888, \"#fdca26\"], [1.0, \"#f0f921\"]], \"type\": \"contour\"}], \"contourcarpet\": [{\"colorbar\": {\"outlinewidth\": 0, \"ticks\": \"\"}, \"type\": \"contourcarpet\"}], \"heatmap\": [{\"colorbar\": {\"outlinewidth\": 0, \"ticks\": \"\"}, \"colorscale\": [[0.0, \"#0d0887\"], [0.1111111111111111, \"#46039f\"], [0.2222222222222222, \"#7201a8\"], [0.3333333333333333, \"#9c179e\"], [0.4444444444444444, \"#bd3786\"], [0.5555555555555556, \"#d8576b\"], [0.6666666666666666, \"#ed7953\"], [0.7777777777777778, \"#fb9f3a\"], [0.8888888888888888, \"#fdca26\"], [1.0, \"#f0f921\"]], \"type\": \"heatmap\"}], \"heatmapgl\": [{\"colorbar\": {\"outlinewidth\": 0, \"ticks\": \"\"}, \"colorscale\": [[0.0, \"#0d0887\"], [0.1111111111111111, \"#46039f\"], [0.2222222222222222, \"#7201a8\"], [0.3333333333333333, \"#9c179e\"], [0.4444444444444444, \"#bd3786\"], [0.5555555555555556, \"#d8576b\"], [0.6666666666666666, \"#ed7953\"], [0.7777777777777778, \"#fb9f3a\"], [0.8888888888888888, \"#fdca26\"], [1.0, \"#f0f921\"]], \"type\": \"heatmapgl\"}], \"histogram\": [{\"marker\": {\"colorbar\": {\"outlinewidth\": 0, \"ticks\": \"\"}}, \"type\": \"histogram\"}], \"histogram2d\": [{\"colorbar\": {\"outlinewidth\": 0, \"ticks\": \"\"}, \"colorscale\": [[0.0, \"#0d0887\"], [0.1111111111111111, \"#46039f\"], [0.2222222222222222, \"#7201a8\"], [0.3333333333333333, \"#9c179e\"], [0.4444444444444444, \"#bd3786\"], [0.5555555555555556, \"#d8576b\"], [0.6666666666666666, \"#ed7953\"], [0.7777777777777778, \"#fb9f3a\"], [0.8888888888888888, \"#fdca26\"], [1.0, \"#f0f921\"]], \"type\": \"histogram2d\"}], \"histogram2dcontour\": [{\"colorbar\": {\"outlinewidth\": 0, \"ticks\": \"\"}, \"colorscale\": [[0.0, \"#0d0887\"], [0.1111111111111111, \"#46039f\"], [0.2222222222222222, \"#7201a8\"], [0.3333333333333333, \"#9c179e\"], [0.4444444444444444, \"#bd3786\"], [0.5555555555555556, \"#d8576b\"], [0.6666666666666666, \"#ed7953\"], [0.7777777777777778, \"#fb9f3a\"], [0.8888888888888888, \"#fdca26\"], [1.0, \"#f0f921\"]], \"type\": \"histogram2dcontour\"}], \"mesh3d\": [{\"colorbar\": {\"outlinewidth\": 0, \"ticks\": \"\"}, \"type\": \"mesh3d\"}], \"parcoords\": [{\"line\": {\"colorbar\": {\"outlinewidth\": 0, \"ticks\": \"\"}}, \"type\": \"parcoords\"}], \"pie\": [{\"automargin\": true, \"type\": \"pie\"}], \"scatter\": [{\"marker\": {\"colorbar\": {\"outlinewidth\": 0, \"ticks\": \"\"}}, \"type\": \"scatter\"}], \"scatter3d\": [{\"line\": {\"colorbar\": {\"outlinewidth\": 0, \"ticks\": \"\"}}, \"marker\": {\"colorbar\": {\"outlinewidth\": 0, \"ticks\": \"\"}}, \"type\": \"scatter3d\"}], \"scattercarpet\": [{\"marker\": {\"colorbar\": {\"outlinewidth\": 0, \"ticks\": \"\"}}, \"type\": \"scattercarpet\"}], \"scattergeo\": [{\"marker\": {\"colorbar\": {\"outlinewidth\": 0, \"ticks\": \"\"}}, \"type\": \"scattergeo\"}], \"scattergl\": [{\"marker\": {\"colorbar\": {\"outlinewidth\": 0, \"ticks\": \"\"}}, \"type\": \"scattergl\"}], \"scattermapbox\": [{\"marker\": {\"colorbar\": {\"outlinewidth\": 0, \"ticks\": \"\"}}, \"type\": \"scattermapbox\"}], \"scatterpolar\": [{\"marker\": {\"colorbar\": {\"outlinewidth\": 0, \"ticks\": \"\"}}, \"type\": \"scatterpolar\"}], \"scatterpolargl\": [{\"marker\": {\"colorbar\": {\"outlinewidth\": 0, \"ticks\": \"\"}}, \"type\": \"scatterpolargl\"}], \"scatterternary\": [{\"marker\": {\"colorbar\": {\"outlinewidth\": 0, \"ticks\": \"\"}}, \"type\": \"scatterternary\"}], \"surface\": [{\"colorbar\": {\"outlinewidth\": 0, \"ticks\": \"\"}, \"colorscale\": [[0.0, \"#0d0887\"], [0.1111111111111111, \"#46039f\"], [0.2222222222222222, \"#7201a8\"], [0.3333333333333333, \"#9c179e\"], [0.4444444444444444, \"#bd3786\"], [0.5555555555555556, \"#d8576b\"], [0.6666666666666666, \"#ed7953\"], [0.7777777777777778, \"#fb9f3a\"], [0.8888888888888888, \"#fdca26\"], [1.0, \"#f0f921\"]], \"type\": \"surface\"}], \"table\": [{\"cells\": {\"fill\": {\"color\": \"#EBF0F8\"}, \"line\": {\"color\": \"white\"}}, \"header\": {\"fill\": {\"color\": \"#C8D4E3\"}, \"line\": {\"color\": \"white\"}}, \"type\": \"table\"}]}, \"layout\": {\"annotationdefaults\": {\"arrowcolor\": \"#2a3f5f\", \"arrowhead\": 0, \"arrowwidth\": 1}, \"coloraxis\": {\"colorbar\": {\"outlinewidth\": 0, \"ticks\": \"\"}}, \"colorscale\": {\"diverging\": [[0, \"#8e0152\"], [0.1, \"#c51b7d\"], [0.2, \"#de77ae\"], [0.3, \"#f1b6da\"], [0.4, \"#fde0ef\"], [0.5, \"#f7f7f7\"], [0.6, \"#e6f5d0\"], [0.7, \"#b8e186\"], [0.8, \"#7fbc41\"], [0.9, \"#4d9221\"], [1, \"#276419\"]], \"sequential\": [[0.0, \"#0d0887\"], [0.1111111111111111, \"#46039f\"], [0.2222222222222222, \"#7201a8\"], [0.3333333333333333, \"#9c179e\"], [0.4444444444444444, \"#bd3786\"], [0.5555555555555556, \"#d8576b\"], [0.6666666666666666, \"#ed7953\"], [0.7777777777777778, \"#fb9f3a\"], [0.8888888888888888, \"#fdca26\"], [1.0, \"#f0f921\"]], \"sequentialminus\": [[0.0, \"#0d0887\"], [0.1111111111111111, \"#46039f\"], [0.2222222222222222, \"#7201a8\"], [0.3333333333333333, \"#9c179e\"], [0.4444444444444444, \"#bd3786\"], [0.5555555555555556, \"#d8576b\"], [0.6666666666666666, \"#ed7953\"], [0.7777777777777778, \"#fb9f3a\"], [0.8888888888888888, \"#fdca26\"], [1.0, \"#f0f921\"]]}, \"colorway\": [\"#636efa\", \"#EF553B\", \"#00cc96\", \"#ab63fa\", \"#FFA15A\", \"#19d3f3\", \"#FF6692\", \"#B6E880\", \"#FF97FF\", \"#FECB52\"], \"font\": {\"color\": \"#2a3f5f\"}, \"geo\": {\"bgcolor\": \"white\", \"lakecolor\": \"white\", \"landcolor\": \"#E5ECF6\", \"showlakes\": true, \"showland\": true, \"subunitcolor\": \"white\"}, \"hoverlabel\": {\"align\": \"left\"}, \"hovermode\": \"closest\", \"mapbox\": {\"style\": \"light\"}, \"paper_bgcolor\": \"white\", \"plot_bgcolor\": \"#E5ECF6\", \"polar\": {\"angularaxis\": {\"gridcolor\": \"white\", \"linecolor\": \"white\", \"ticks\": \"\"}, \"bgcolor\": \"#E5ECF6\", \"radialaxis\": {\"gridcolor\": \"white\", \"linecolor\": \"white\", \"ticks\": \"\"}}, \"scene\": {\"xaxis\": {\"backgroundcolor\": \"#E5ECF6\", \"gridcolor\": \"white\", \"gridwidth\": 2, \"linecolor\": \"white\", \"showbackground\": true, \"ticks\": \"\", \"zerolinecolor\": \"white\"}, \"yaxis\": {\"backgroundcolor\": \"#E5ECF6\", \"gridcolor\": \"white\", \"gridwidth\": 2, \"linecolor\": \"white\", \"showbackground\": true, \"ticks\": \"\", \"zerolinecolor\": \"white\"}, \"zaxis\": {\"backgroundcolor\": \"#E5ECF6\", \"gridcolor\": \"white\", \"gridwidth\": 2, \"linecolor\": \"white\", \"showbackground\": true, \"ticks\": \"\", \"zerolinecolor\": \"white\"}}, \"shapedefaults\": {\"line\": {\"color\": \"#2a3f5f\"}}, \"ternary\": {\"aaxis\": {\"gridcolor\": \"white\", \"linecolor\": \"white\", \"ticks\": \"\"}, \"baxis\": {\"gridcolor\": \"white\", \"linecolor\": \"white\", \"ticks\": \"\"}, \"bgcolor\": \"#E5ECF6\", \"caxis\": {\"gridcolor\": \"white\", \"linecolor\": \"white\", \"ticks\": \"\"}}, \"title\": {\"x\": 0.05}, \"xaxis\": {\"automargin\": true, \"gridcolor\": \"white\", \"linecolor\": \"white\", \"ticks\": \"\", \"title\": {\"standoff\": 15}, \"zerolinecolor\": \"white\", \"zerolinewidth\": 2}, \"yaxis\": {\"automargin\": true, \"gridcolor\": \"white\", \"linecolor\": \"white\", \"ticks\": \"\", \"title\": {\"standoff\": 15}, \"zerolinecolor\": \"white\", \"zerolinewidth\": 2}}}, \"title\": {\"text\": \"Maximum consommation (kWh) \"}, \"xaxis\": {\"anchor\": \"y\", \"domain\": [0.0, 1.0], \"title\": {\"text\": \"date\"}}, \"yaxis\": {\"anchor\": \"x\", \"domain\": [0.0, 1.0], \"title\": {\"text\": \"meter_reading-max\"}}},\n",
              "                        {\"responsive\": true}\n",
              "                    ).then(function(){\n",
              "                            \n",
              "var gd = document.getElementById('12bbb313-fee1-4fa6-b63d-14b378c18c17');\n",
              "var x = new MutationObserver(function (mutations, observer) {{\n",
              "        var display = window.getComputedStyle(gd).display;\n",
              "        if (!display || display === 'none') {{\n",
              "            console.log([gd, 'removed!']);\n",
              "            Plotly.purge(gd);\n",
              "            observer.disconnect();\n",
              "        }}\n",
              "}});\n",
              "\n",
              "// Listen for the removal of the full notebook cells\n",
              "var notebookContainer = gd.closest('#notebook-container');\n",
              "if (notebookContainer) {{\n",
              "    x.observe(notebookContainer, {childList: true});\n",
              "}}\n",
              "\n",
              "// Listen for the clearing of the current output cell\n",
              "var outputEl = gd.closest('.output');\n",
              "if (outputEl) {{\n",
              "    x.observe(outputEl, {childList: true});\n",
              "}}\n",
              "\n",
              "                        })\n",
              "                };\n",
              "                \n",
              "            </script>\n",
              "        </div>\n",
              "</body>\n",
              "</html>"
            ]
          },
          "metadata": {
            "tags": []
          }
        }
      ]
    },
    {
      "cell_type": "markdown",
      "metadata": {
        "id": "jsOB-nAsDEFV",
        "colab_type": "text"
      },
      "source": [
        "**En analysant la consommation maximale jounalière on remarque qu'un seul Building par jour et par type de metric steam est le responsable des pics abérants.**"
      ]
    },
    {
      "cell_type": "code",
      "metadata": {
        "id": "IvcYE5V9xlMQ",
        "colab_type": "code",
        "outputId": "8da42c3e-4470-4bcf-9192-6c9142273db8",
        "colab": {
          "base_uri": "https://localhost:8080/",
          "height": 661
        }
      },
      "source": [
        "print('Nombre de jour qu\\'un building a une consommation maximale de steam  :\\n')\n",
        "print(daily_train_agg[daily_train_agg['meter'] == 'steam']['building_id_max'].value_counts())\n",
        "daily_train_steam = daily_train_agg[daily_train_agg['meter']=='steam'].copy()\n",
        "daily_train_steam['building_id_max'] = pd.Categorical(daily_train_steam['building_id_max'])\n",
        "fig_daily_steam = px.scatter(daily_train_steam,\n",
        "                             x='date',\n",
        "                             y='meter_reading-max',\n",
        "                             color='building_id_max',\n",
        "                             render_mode='svg')\n",
        "fig_daily_steam.update_layout(title='Maximum consommation (KWH) pour le steam metric')\n",
        "fig_daily_steam.show()"
      ],
      "execution_count": 0,
      "outputs": [
        {
          "output_type": "stream",
          "text": [
            "Nombre de jour qu'un building a une consommation maximale de steam  :\n",
            "\n",
            "1099    158\n",
            "1197    101\n",
            "1168    100\n",
            "1148      7\n",
            "Name: building_id_max, dtype: int64\n"
          ],
          "name": "stdout"
        },
        {
          "output_type": "display_data",
          "data": {
            "text/html": [
              "<html>\n",
              "<head><meta charset=\"utf-8\" /></head>\n",
              "<body>\n",
              "    <div>\n",
              "            <script src=\"https://cdnjs.cloudflare.com/ajax/libs/mathjax/2.7.5/MathJax.js?config=TeX-AMS-MML_SVG\"></script><script type=\"text/javascript\">if (window.MathJax) {MathJax.Hub.Config({SVG: {font: \"STIX-Web\"}});}</script>\n",
              "                <script type=\"text/javascript\">window.PlotlyConfig = {MathJaxConfig: 'local'};</script>\n",
              "        <script src=\"https://cdn.plot.ly/plotly-latest.min.js\"></script>    \n",
              "            <div id=\"1cdcb4dd-adf8-42e2-9cfc-a92630abdfc2\" class=\"plotly-graph-div\" style=\"height:525px; width:100%;\"></div>\n",
              "            <script type=\"text/javascript\">\n",
              "                \n",
              "                    window.PLOTLYENV=window.PLOTLYENV || {};\n",
              "                    \n",
              "                if (document.getElementById(\"1cdcb4dd-adf8-42e2-9cfc-a92630abdfc2\")) {\n",
              "                    Plotly.newPlot(\n",
              "                        '1cdcb4dd-adf8-42e2-9cfc-a92630abdfc2',\n",
              "                        [{\"hoverlabel\": {\"namelength\": 0}, \"hovertemplate\": \"building_id_max=1099<br>date=%{x}<br>meter_reading-max=%{y}\", \"legendgroup\": \"building_id_max=1099\", \"marker\": {\"color\": \"#636efa\", \"symbol\": \"circle\"}, \"mode\": \"markers\", \"name\": \"building_id_max=1099\", \"showlegend\": true, \"type\": \"scatter\", \"x\": [\"2016-01-01\", \"2016-01-02\", \"2016-01-03\", \"2016-01-04\", \"2016-01-05\", \"2016-01-06\", \"2016-01-07\", \"2016-01-08\", \"2016-01-09\", \"2016-01-13\", \"2016-01-14\", \"2016-01-15\", \"2016-01-21\", \"2016-01-22\", \"2016-01-23\", \"2016-01-24\", \"2016-01-25\", \"2016-01-26\", \"2016-01-27\", \"2016-01-28\", \"2016-01-29\", \"2016-01-30\", \"2016-01-31\", \"2016-02-01\", \"2016-02-02\", \"2016-02-03\", \"2016-02-04\", \"2016-02-05\", \"2016-02-06\", \"2016-02-07\", \"2016-02-15\", \"2016-02-16\", \"2016-02-17\", \"2016-02-18\", \"2016-02-19\", \"2016-02-20\", \"2016-02-21\", \"2016-02-22\", \"2016-02-23\", \"2016-02-24\", \"2016-02-25\", \"2016-02-26\", \"2016-02-27\", \"2016-02-28\", \"2016-02-29\", \"2016-03-01\", \"2016-03-02\", \"2016-03-03\", \"2016-03-04\", \"2016-03-05\", \"2016-03-06\", \"2016-03-07\", \"2016-03-08\", \"2016-03-09\", \"2016-03-10\", \"2016-03-11\", \"2016-03-12\", \"2016-03-13\", \"2016-03-14\", \"2016-03-15\", \"2016-03-16\", \"2016-03-17\", \"2016-03-18\", \"2016-03-19\", \"2016-03-20\", \"2016-03-21\", \"2016-03-22\", \"2016-03-23\", \"2016-03-24\", \"2016-03-25\", \"2016-03-26\", \"2016-03-27\", \"2016-03-28\", \"2016-03-29\", \"2016-03-30\", \"2016-03-31\", \"2016-04-01\", \"2016-04-02\", \"2016-04-03\", \"2016-04-04\", \"2016-04-05\", \"2016-04-06\", \"2016-04-07\", \"2016-04-08\", \"2016-04-09\", \"2016-04-10\", \"2016-04-11\", \"2016-04-12\", \"2016-04-13\", \"2016-04-14\", \"2016-04-15\", \"2016-04-16\", \"2016-04-17\", \"2016-04-18\", \"2016-04-19\", \"2016-04-20\", \"2016-04-21\", \"2016-04-22\", \"2016-04-23\", \"2016-04-24\", \"2016-04-25\", \"2016-04-26\", \"2016-04-27\", \"2016-04-28\", \"2016-04-29\", \"2016-04-30\", \"2016-05-01\", \"2016-05-02\", \"2016-05-03\", \"2016-05-04\", \"2016-05-05\", \"2016-05-06\", \"2016-05-07\", \"2016-05-08\", \"2016-05-09\", \"2016-05-10\", \"2016-05-11\", \"2016-05-12\", \"2016-05-13\", \"2016-05-14\", \"2016-05-15\", \"2016-05-16\", \"2016-05-17\", \"2016-05-18\", \"2016-05-19\", \"2016-05-20\", \"2016-05-21\", \"2016-05-22\", \"2016-05-23\", \"2016-05-24\", \"2016-05-25\", \"2016-05-26\", \"2016-05-27\", \"2016-05-28\", \"2016-05-29\", \"2016-05-30\", \"2016-05-31\", \"2016-06-01\", \"2016-06-02\", \"2016-06-03\", \"2016-06-04\", \"2016-06-05\", \"2016-06-06\", \"2016-06-07\", \"2016-06-08\", \"2016-06-09\", \"2016-06-10\", \"2016-06-11\", \"2016-06-12\", \"2016-06-13\", \"2016-06-14\", \"2016-06-15\", \"2016-06-16\", \"2016-11-08\", \"2016-11-09\", \"2016-11-10\", \"2016-11-11\", \"2016-11-12\"], \"xaxis\": \"x\", \"y\": [50950800.0, 18746688.0, 18646320.0, 27760238.0, 58403172.0, 112135010.0, 160212270.0, 174563720.0, 130359040.0, 7361686.0, 28359880.0, 33972564.0, 31909284.0, 10870470.0, 16343202.0, 14426950.0, 6165526.0, 24745776.0, 30595974.0, 25087324.0, 20132670.0, 47350944.0, 13176504.0, 27772872.0, 77513762.0, 124012930.0, 28354364.0, 24281606.0, 40925190.0, 1290696.0, 6551212.0, 20098604.0, 9549460.0, 16468702.0, 30156648.0, 45915108.0, 10194428.0, 15296380.0, 27148292.0, 32775602.0, 22385926.0, 62057622.0, 191340876.0, 190054280.0, 86987992.0, 16592412.0, 8880850.0, 13525682.0, 16529132.0, 5010380.0, 77348620.0, 290265820.0, 430916200.0, 455224700.0, 257913410.0, 266191480.0, 413154700.0, 374916800.0, 391211300.0, 397590200.0, 423932800.0, 226860680.0, 163804840.0, 168515650.0, 148173330.0, 126882650.0, 206124690.0, 252265250.0, 209291250.0, 280378060.0, 169384170.0, 169211080.0, 170145590.0, 299756940.0, 357192620.0, 304014360.0, 235833930.0, 136537552.0, 227317430.0, 167248380.0, 249963960.0, 234648150.0, 128764650.0, 256002960.0, 147967970.0, 158665280.0, 150021220.0, 123774410.0, 199672250.0, 395719180.0, 300940260.0, 254814050.0, 218312350.0, 356953000.0, 427946300.0, 450787900.0, 400777100.0, 447694600.0, 347039000.0, 445405400.0, 396174200.0, 432213800.0, 452210300.0, 443202300.0, 400945800.0, 174923260.0, 171986470.0, 145732840.0, 178611220.0, 147783010.0, 151824200.0, 291107060.0, 238941390.0, 160854800.0, 205955280.0, 424836200.0, 386634900.0, 356739700.0, 461146900.0, 169000780.0, 152531650.0, 142984320.0, 153314070.0, 155725300.0, 135886630.0, 179232300.0, 295266250.0, 272544740.0, 364362120.0, 404532100.0, 376937450.0, 384428700.0, 379759100.0, 385455100.0, 388253500.0, 382917300.0, 371698500.0, 383705400.0, 378469800.0, 437496700.0, 367886900.0, 368204500.0, 418365700.0, 392759500.0, 395005600.0, 398957700.0, 383892300.0, 413549600.0, 406453000.0, 419520000.0, 384060000.0, 383857400.0, 383755638.0, 37753762.0, 403633400.0, 275397288.0, 22634380.0, 2773850.0], \"yaxis\": \"y\"}, {\"hoverlabel\": {\"namelength\": 0}, \"hovertemplate\": \"building_id_max=1197<br>date=%{x}<br>meter_reading-max=%{y}\", \"legendgroup\": \"building_id_max=1197\", \"marker\": {\"color\": \"#EF553B\", \"symbol\": \"circle\"}, \"mode\": \"markers\", \"name\": \"building_id_max=1197\", \"showlegend\": true, \"type\": \"scatter\", \"x\": [\"2016-01-10\", \"2016-01-11\", \"2016-01-12\", \"2016-01-16\", \"2016-01-17\", \"2016-01-18\", \"2016-01-19\", \"2016-01-20\", \"2016-02-08\", \"2016-02-09\", \"2016-02-10\", \"2016-02-11\", \"2016-02-12\", \"2016-02-13\", \"2016-02-14\", \"2016-06-23\", \"2016-06-24\", \"2016-06-26\", \"2016-06-27\", \"2016-06-28\", \"2016-06-29\", \"2016-06-30\", \"2016-07-01\", \"2016-07-02\", \"2016-07-03\", \"2016-07-04\", \"2016-07-06\", \"2016-07-07\", \"2016-07-08\", \"2016-07-09\", \"2016-07-10\", \"2016-07-16\", \"2016-07-17\", \"2016-07-29\", \"2016-07-30\", \"2016-07-31\", \"2016-08-07\", \"2016-08-08\", \"2016-08-21\", \"2016-08-30\", \"2016-08-31\", \"2016-09-05\", \"2016-09-07\", \"2016-09-13\", \"2016-09-14\", \"2016-09-15\", \"2016-09-16\", \"2016-09-17\", \"2016-09-20\", \"2016-09-21\", \"2016-09-22\", \"2016-09-23\", \"2016-09-24\", \"2016-09-25\", \"2016-09-26\", \"2016-09-27\", \"2016-09-28\", \"2016-09-29\", \"2016-09-30\", \"2016-10-01\", \"2016-10-05\", \"2016-10-06\", \"2016-10-10\", \"2016-10-11\", \"2016-10-13\", \"2016-10-14\", \"2016-10-15\", \"2016-10-16\", \"2016-10-17\", \"2016-10-18\", \"2016-10-19\", \"2016-10-20\", \"2016-10-21\", \"2016-10-22\", \"2016-10-23\", \"2016-10-24\", \"2016-10-25\", \"2016-10-26\", \"2016-10-27\", \"2016-10-28\", \"2016-10-29\", \"2016-10-30\", \"2016-10-31\", \"2016-11-01\", \"2016-11-02\", \"2016-11-03\", \"2016-11-04\", \"2016-11-05\", \"2016-11-06\", \"2016-11-07\", \"2016-11-13\", \"2016-11-14\", \"2016-11-15\", \"2016-11-16\", \"2016-11-17\", \"2016-11-18\", \"2016-11-19\", \"2016-11-20\", \"2016-11-21\", \"2016-11-22\", \"2016-11-28\"], \"xaxis\": \"x\", \"y\": [2888890.0, 2874718.0, 2926784.0, 2845829.0, 2976046.0, 2966280.0, 2891469.0, 2654842.0, 1839719.0999999999, 1942453.3000000003, 2010484.5000000002, 1923328.0999999999, 1987203.2, 2061125.2999999998, 1778875.2000000004, 828218.8, 772499.9, 793218.7000000001, 783937.7, 812719.1000000001, 801874.9000000001, 777187.3999999999, 842250.1000000001, 756500.1, 734655.7999999999, 730687.3999999999, 772812.5, 764280.9999999999, 774156.4, 763437.5, 740875.4000000003, 748281.4, 740968.7, 798375.3000000002, 730593.6, 738501.2000000001, 751281.2999999999, 799625.1, 819437.7000000001, 777000.4000000001, 820500.1, 744124.9999999999, 779249.9500000001, 923124.8999999999, 960562.5, 896593.8000000002, 869719.0000000001, 853968.9, 881187.8000000002, 859843.9999999999, 869125.1000000001, 895000.0999999999, 826937.7000000001, 851781.3, 983343.7999999998, 1032937.9, 1029187.5000000001, 1007344.0, 974406.4000000001, 910875.0, 950249.7999999999, 1027031.2, 990243.7000000001, 959282.6000000001, 1190281.2, 1100593.6, 948499.9999999999, 1003250.4000000001, 967813.0000000001, 1041031.2999999998, 1160750.2000000002, 1265156.4000000001, 1198406.3, 1098656.5, 1102094.0, 1229906.4, 1245531.2, 1274375.3000000003, 1249938.0, 1093563.0, 1082406.3, 1223718.7, 1188531.6, 1075875.3, 1124406.0999999999, 1102156.3, 1086687.7000000002, 1028343.7000000002, 1062781.5, 1063093.7999999998, 1134000.0, 1215562.4999999998, 1225093.6999999997, 1182656.3, 1140093.9, 1320781.3, 1489687.7000000002, 1514250.0, 1500312.4000000001, 1473625.0999999999, 801437.7], \"yaxis\": \"y\"}, {\"hoverlabel\": {\"namelength\": 0}, \"hovertemplate\": \"building_id_max=1168<br>date=%{x}<br>meter_reading-max=%{y}\", \"legendgroup\": \"building_id_max=1168\", \"marker\": {\"color\": \"#00cc96\", \"symbol\": \"circle\"}, \"mode\": \"markers\", \"name\": \"building_id_max=1168\", \"showlegend\": true, \"type\": \"scatter\", \"x\": [\"2016-06-17\", \"2016-06-18\", \"2016-06-19\", \"2016-06-20\", \"2016-06-21\", \"2016-06-22\", \"2016-06-25\", \"2016-07-05\", \"2016-07-11\", \"2016-07-12\", \"2016-07-13\", \"2016-07-14\", \"2016-07-15\", \"2016-07-18\", \"2016-07-19\", \"2016-07-20\", \"2016-07-21\", \"2016-07-22\", \"2016-07-23\", \"2016-07-24\", \"2016-07-25\", \"2016-07-26\", \"2016-07-27\", \"2016-07-28\", \"2016-08-01\", \"2016-08-02\", \"2016-08-03\", \"2016-08-04\", \"2016-08-05\", \"2016-08-06\", \"2016-08-09\", \"2016-08-10\", \"2016-08-11\", \"2016-08-12\", \"2016-08-13\", \"2016-08-14\", \"2016-08-15\", \"2016-08-16\", \"2016-08-17\", \"2016-08-18\", \"2016-08-19\", \"2016-08-20\", \"2016-08-22\", \"2016-08-23\", \"2016-08-24\", \"2016-08-25\", \"2016-08-26\", \"2016-08-27\", \"2016-08-28\", \"2016-08-29\", \"2016-09-01\", \"2016-09-02\", \"2016-09-03\", \"2016-09-04\", \"2016-09-06\", \"2016-09-08\", \"2016-09-09\", \"2016-09-10\", \"2016-09-11\", \"2016-09-12\", \"2016-09-18\", \"2016-09-19\", \"2016-11-23\", \"2016-11-24\", \"2016-11-25\", \"2016-11-26\", \"2016-11-27\", \"2016-11-29\", \"2016-11-30\", \"2016-12-01\", \"2016-12-02\", \"2016-12-03\", \"2016-12-04\", \"2016-12-05\", \"2016-12-06\", \"2016-12-07\", \"2016-12-08\", \"2016-12-09\", \"2016-12-10\", \"2016-12-11\", \"2016-12-12\", \"2016-12-13\", \"2016-12-14\", \"2016-12-15\", \"2016-12-16\", \"2016-12-17\", \"2016-12-18\", \"2016-12-19\", \"2016-12-20\", \"2016-12-21\", \"2016-12-22\", \"2016-12-23\", \"2016-12-24\", \"2016-12-25\", \"2016-12-26\", \"2016-12-27\", \"2016-12-28\", \"2016-12-29\", \"2016-12-30\", \"2016-12-31\"], \"xaxis\": \"x\", \"y\": [1561875.0, 2240250.0, 2203875.0, 2036250.0, 1826250.0, 1200000.0, 1425375.0, 1445250.0, 2065875.0, 2661750.0, 1560000.0, 1188375.0, 1105500.0, 873375.0, 2183250.0, 2655750.0, 2693250.0, 2742375.0, 2746125.0, 2608500.0, 2769375.0, 2824500.0, 2816250.0, 2618250.0, 1435875.0, 3012750.0, 3025500.0, 3016875.0, 2587500.0, 1293375.0, 1455750.0, 2776125.0, 2749125.0, 2718750.0, 2671875.0, 2694000.0, 1985625.0, 1214250.0, 1238250.0, 1218750.0, 1231875.0, 985875.0, 1064625.0, 1277625.0, 1324500.0, 1414125.0, 1225500.0, 1523250.0, 844875.0, 1531500.0, 826125.0, 827625.0, 794625.0, 780000.0, 1456500.0, 1541250.0, 2255250.0, 1996125.0, 1999125.0, 1081875.0, 1449000.0, 1257375.0, 1139250.0, 1066500.0, 1046625.0, 932625.0, 949125.0, 1013250.0, 958125.0, 978750.0, 1153125.0, 1178250.0, 1061250.0, 1061250.0, 1346625.0, 1502625.0, 1482750.0, 1578750.0, 1764750.0, 1532250.0, 1866750.0, 2004750.0, 1965375.0, 2161500.0, 1849875.0, 1955625.0, 2367375.0, 1803000.0, 1299375.0, 1099125.0, 1231125.0, 1067250.0, 1059375.0, 1085625.0, 1383375.0, 1562625.0, 1297125.0, 1319625.0, 1410375.0, 1324875.0], \"yaxis\": \"y\"}, {\"hoverlabel\": {\"namelength\": 0}, \"hovertemplate\": \"building_id_max=1148<br>date=%{x}<br>meter_reading-max=%{y}\", \"legendgroup\": \"building_id_max=1148\", \"marker\": {\"color\": \"#ab63fa\", \"symbol\": \"circle\"}, \"mode\": \"markers\", \"name\": \"building_id_max=1148\", \"showlegend\": true, \"type\": \"scatter\", \"x\": [\"2016-10-02\", \"2016-10-03\", \"2016-10-04\", \"2016-10-07\", \"2016-10-08\", \"2016-10-09\", \"2016-10-12\"], \"xaxis\": \"x\", \"y\": [978867.2999999999, 969257.9, 941484.4000000001, 1187976.5, 1214812.5000000002, 1143586.1, 1216124.9000000001], \"yaxis\": \"y\"}],\n",
              "                        {\"legend\": {\"tracegroupgap\": 0}, \"margin\": {\"t\": 60}, \"template\": {\"data\": {\"bar\": [{\"error_x\": {\"color\": \"#2a3f5f\"}, \"error_y\": {\"color\": \"#2a3f5f\"}, \"marker\": {\"line\": {\"color\": \"#E5ECF6\", \"width\": 0.5}}, \"type\": \"bar\"}], \"barpolar\": [{\"marker\": {\"line\": {\"color\": \"#E5ECF6\", \"width\": 0.5}}, \"type\": \"barpolar\"}], \"carpet\": [{\"aaxis\": {\"endlinecolor\": \"#2a3f5f\", \"gridcolor\": \"white\", \"linecolor\": \"white\", \"minorgridcolor\": \"white\", \"startlinecolor\": \"#2a3f5f\"}, \"baxis\": {\"endlinecolor\": \"#2a3f5f\", \"gridcolor\": \"white\", \"linecolor\": \"white\", \"minorgridcolor\": \"white\", \"startlinecolor\": \"#2a3f5f\"}, \"type\": \"carpet\"}], \"choropleth\": [{\"colorbar\": {\"outlinewidth\": 0, \"ticks\": \"\"}, \"type\": \"choropleth\"}], \"contour\": [{\"colorbar\": {\"outlinewidth\": 0, \"ticks\": \"\"}, \"colorscale\": [[0.0, \"#0d0887\"], [0.1111111111111111, \"#46039f\"], [0.2222222222222222, \"#7201a8\"], [0.3333333333333333, \"#9c179e\"], [0.4444444444444444, \"#bd3786\"], [0.5555555555555556, \"#d8576b\"], [0.6666666666666666, \"#ed7953\"], [0.7777777777777778, \"#fb9f3a\"], [0.8888888888888888, \"#fdca26\"], [1.0, \"#f0f921\"]], \"type\": \"contour\"}], \"contourcarpet\": [{\"colorbar\": {\"outlinewidth\": 0, \"ticks\": \"\"}, \"type\": \"contourcarpet\"}], \"heatmap\": [{\"colorbar\": {\"outlinewidth\": 0, \"ticks\": \"\"}, \"colorscale\": [[0.0, \"#0d0887\"], [0.1111111111111111, \"#46039f\"], [0.2222222222222222, \"#7201a8\"], [0.3333333333333333, \"#9c179e\"], [0.4444444444444444, \"#bd3786\"], [0.5555555555555556, \"#d8576b\"], [0.6666666666666666, \"#ed7953\"], [0.7777777777777778, \"#fb9f3a\"], [0.8888888888888888, \"#fdca26\"], [1.0, \"#f0f921\"]], \"type\": \"heatmap\"}], \"heatmapgl\": [{\"colorbar\": {\"outlinewidth\": 0, \"ticks\": \"\"}, \"colorscale\": [[0.0, \"#0d0887\"], [0.1111111111111111, \"#46039f\"], [0.2222222222222222, \"#7201a8\"], [0.3333333333333333, \"#9c179e\"], [0.4444444444444444, \"#bd3786\"], [0.5555555555555556, \"#d8576b\"], [0.6666666666666666, \"#ed7953\"], [0.7777777777777778, \"#fb9f3a\"], [0.8888888888888888, \"#fdca26\"], [1.0, \"#f0f921\"]], \"type\": \"heatmapgl\"}], \"histogram\": [{\"marker\": {\"colorbar\": {\"outlinewidth\": 0, \"ticks\": \"\"}}, \"type\": \"histogram\"}], \"histogram2d\": [{\"colorbar\": {\"outlinewidth\": 0, \"ticks\": \"\"}, \"colorscale\": [[0.0, \"#0d0887\"], [0.1111111111111111, \"#46039f\"], [0.2222222222222222, \"#7201a8\"], [0.3333333333333333, \"#9c179e\"], [0.4444444444444444, \"#bd3786\"], [0.5555555555555556, \"#d8576b\"], [0.6666666666666666, \"#ed7953\"], [0.7777777777777778, \"#fb9f3a\"], [0.8888888888888888, \"#fdca26\"], [1.0, \"#f0f921\"]], \"type\": \"histogram2d\"}], \"histogram2dcontour\": [{\"colorbar\": {\"outlinewidth\": 0, \"ticks\": \"\"}, \"colorscale\": [[0.0, \"#0d0887\"], [0.1111111111111111, \"#46039f\"], [0.2222222222222222, \"#7201a8\"], [0.3333333333333333, \"#9c179e\"], [0.4444444444444444, \"#bd3786\"], [0.5555555555555556, \"#d8576b\"], [0.6666666666666666, \"#ed7953\"], [0.7777777777777778, \"#fb9f3a\"], [0.8888888888888888, \"#fdca26\"], [1.0, \"#f0f921\"]], \"type\": \"histogram2dcontour\"}], \"mesh3d\": [{\"colorbar\": {\"outlinewidth\": 0, \"ticks\": \"\"}, \"type\": \"mesh3d\"}], \"parcoords\": [{\"line\": {\"colorbar\": {\"outlinewidth\": 0, \"ticks\": \"\"}}, \"type\": \"parcoords\"}], \"pie\": [{\"automargin\": true, \"type\": \"pie\"}], \"scatter\": [{\"marker\": {\"colorbar\": {\"outlinewidth\": 0, \"ticks\": \"\"}}, \"type\": \"scatter\"}], \"scatter3d\": [{\"line\": {\"colorbar\": {\"outlinewidth\": 0, \"ticks\": \"\"}}, \"marker\": {\"colorbar\": {\"outlinewidth\": 0, \"ticks\": \"\"}}, \"type\": \"scatter3d\"}], \"scattercarpet\": [{\"marker\": {\"colorbar\": {\"outlinewidth\": 0, \"ticks\": \"\"}}, \"type\": \"scattercarpet\"}], \"scattergeo\": [{\"marker\": {\"colorbar\": {\"outlinewidth\": 0, \"ticks\": \"\"}}, \"type\": \"scattergeo\"}], \"scattergl\": [{\"marker\": {\"colorbar\": {\"outlinewidth\": 0, \"ticks\": \"\"}}, \"type\": \"scattergl\"}], \"scattermapbox\": [{\"marker\": {\"colorbar\": {\"outlinewidth\": 0, \"ticks\": \"\"}}, \"type\": \"scattermapbox\"}], \"scatterpolar\": [{\"marker\": {\"colorbar\": {\"outlinewidth\": 0, \"ticks\": \"\"}}, \"type\": \"scatterpolar\"}], \"scatterpolargl\": [{\"marker\": {\"colorbar\": {\"outlinewidth\": 0, \"ticks\": \"\"}}, \"type\": \"scatterpolargl\"}], \"scatterternary\": [{\"marker\": {\"colorbar\": {\"outlinewidth\": 0, \"ticks\": \"\"}}, \"type\": \"scatterternary\"}], \"surface\": [{\"colorbar\": {\"outlinewidth\": 0, \"ticks\": \"\"}, \"colorscale\": [[0.0, \"#0d0887\"], [0.1111111111111111, \"#46039f\"], [0.2222222222222222, \"#7201a8\"], [0.3333333333333333, \"#9c179e\"], [0.4444444444444444, \"#bd3786\"], [0.5555555555555556, \"#d8576b\"], [0.6666666666666666, \"#ed7953\"], [0.7777777777777778, \"#fb9f3a\"], [0.8888888888888888, \"#fdca26\"], [1.0, \"#f0f921\"]], \"type\": \"surface\"}], \"table\": [{\"cells\": {\"fill\": {\"color\": \"#EBF0F8\"}, \"line\": {\"color\": \"white\"}}, \"header\": {\"fill\": {\"color\": \"#C8D4E3\"}, \"line\": {\"color\": \"white\"}}, \"type\": \"table\"}]}, \"layout\": {\"annotationdefaults\": {\"arrowcolor\": \"#2a3f5f\", \"arrowhead\": 0, \"arrowwidth\": 1}, \"coloraxis\": {\"colorbar\": {\"outlinewidth\": 0, \"ticks\": \"\"}}, \"colorscale\": {\"diverging\": [[0, \"#8e0152\"], [0.1, \"#c51b7d\"], [0.2, \"#de77ae\"], [0.3, \"#f1b6da\"], [0.4, \"#fde0ef\"], [0.5, \"#f7f7f7\"], [0.6, \"#e6f5d0\"], [0.7, \"#b8e186\"], [0.8, \"#7fbc41\"], [0.9, \"#4d9221\"], [1, \"#276419\"]], \"sequential\": [[0.0, \"#0d0887\"], [0.1111111111111111, \"#46039f\"], [0.2222222222222222, \"#7201a8\"], [0.3333333333333333, \"#9c179e\"], [0.4444444444444444, \"#bd3786\"], [0.5555555555555556, \"#d8576b\"], [0.6666666666666666, \"#ed7953\"], [0.7777777777777778, \"#fb9f3a\"], [0.8888888888888888, \"#fdca26\"], [1.0, \"#f0f921\"]], \"sequentialminus\": [[0.0, \"#0d0887\"], [0.1111111111111111, \"#46039f\"], [0.2222222222222222, \"#7201a8\"], [0.3333333333333333, \"#9c179e\"], [0.4444444444444444, \"#bd3786\"], [0.5555555555555556, \"#d8576b\"], [0.6666666666666666, \"#ed7953\"], [0.7777777777777778, \"#fb9f3a\"], [0.8888888888888888, \"#fdca26\"], [1.0, \"#f0f921\"]]}, \"colorway\": [\"#636efa\", \"#EF553B\", \"#00cc96\", \"#ab63fa\", \"#FFA15A\", \"#19d3f3\", \"#FF6692\", \"#B6E880\", \"#FF97FF\", \"#FECB52\"], \"font\": {\"color\": \"#2a3f5f\"}, \"geo\": {\"bgcolor\": \"white\", \"lakecolor\": \"white\", \"landcolor\": \"#E5ECF6\", \"showlakes\": true, \"showland\": true, \"subunitcolor\": \"white\"}, \"hoverlabel\": {\"align\": \"left\"}, \"hovermode\": \"closest\", \"mapbox\": {\"style\": \"light\"}, \"paper_bgcolor\": \"white\", \"plot_bgcolor\": \"#E5ECF6\", \"polar\": {\"angularaxis\": {\"gridcolor\": \"white\", \"linecolor\": \"white\", \"ticks\": \"\"}, \"bgcolor\": \"#E5ECF6\", \"radialaxis\": {\"gridcolor\": \"white\", \"linecolor\": \"white\", \"ticks\": \"\"}}, \"scene\": {\"xaxis\": {\"backgroundcolor\": \"#E5ECF6\", \"gridcolor\": \"white\", \"gridwidth\": 2, \"linecolor\": \"white\", \"showbackground\": true, \"ticks\": \"\", \"zerolinecolor\": \"white\"}, \"yaxis\": {\"backgroundcolor\": \"#E5ECF6\", \"gridcolor\": \"white\", \"gridwidth\": 2, \"linecolor\": \"white\", \"showbackground\": true, \"ticks\": \"\", \"zerolinecolor\": \"white\"}, \"zaxis\": {\"backgroundcolor\": \"#E5ECF6\", \"gridcolor\": \"white\", \"gridwidth\": 2, \"linecolor\": \"white\", \"showbackground\": true, \"ticks\": \"\", \"zerolinecolor\": \"white\"}}, \"shapedefaults\": {\"line\": {\"color\": \"#2a3f5f\"}}, \"ternary\": {\"aaxis\": {\"gridcolor\": \"white\", \"linecolor\": \"white\", \"ticks\": \"\"}, \"baxis\": {\"gridcolor\": \"white\", \"linecolor\": \"white\", \"ticks\": \"\"}, \"bgcolor\": \"#E5ECF6\", \"caxis\": {\"gridcolor\": \"white\", \"linecolor\": \"white\", \"ticks\": \"\"}}, \"title\": {\"x\": 0.05}, \"xaxis\": {\"automargin\": true, \"gridcolor\": \"white\", \"linecolor\": \"white\", \"ticks\": \"\", \"title\": {\"standoff\": 15}, \"zerolinecolor\": \"white\", \"zerolinewidth\": 2}, \"yaxis\": {\"automargin\": true, \"gridcolor\": \"white\", \"linecolor\": \"white\", \"ticks\": \"\", \"title\": {\"standoff\": 15}, \"zerolinecolor\": \"white\", \"zerolinewidth\": 2}}}, \"title\": {\"text\": \"Maximum consommation (KWH) pour le steam metric\"}, \"xaxis\": {\"anchor\": \"y\", \"domain\": [0.0, 1.0], \"title\": {\"text\": \"date\"}}, \"yaxis\": {\"anchor\": \"x\", \"domain\": [0.0, 1.0], \"title\": {\"text\": \"meter_reading-max\"}}},\n",
              "                        {\"responsive\": true}\n",
              "                    ).then(function(){\n",
              "                            \n",
              "var gd = document.getElementById('1cdcb4dd-adf8-42e2-9cfc-a92630abdfc2');\n",
              "var x = new MutationObserver(function (mutations, observer) {{\n",
              "        var display = window.getComputedStyle(gd).display;\n",
              "        if (!display || display === 'none') {{\n",
              "            console.log([gd, 'removed!']);\n",
              "            Plotly.purge(gd);\n",
              "            observer.disconnect();\n",
              "        }}\n",
              "}});\n",
              "\n",
              "// Listen for the removal of the full notebook cells\n",
              "var notebookContainer = gd.closest('#notebook-container');\n",
              "if (notebookContainer) {{\n",
              "    x.observe(notebookContainer, {childList: true});\n",
              "}}\n",
              "\n",
              "// Listen for the clearing of the current output cell\n",
              "var outputEl = gd.closest('.output');\n",
              "if (outputEl) {{\n",
              "    x.observe(outputEl, {childList: true});\n",
              "}}\n",
              "\n",
              "                        })\n",
              "                };\n",
              "                \n",
              "            </script>\n",
              "        </div>\n",
              "</body>\n",
              "</html>"
            ]
          },
          "metadata": {
            "tags": []
          }
        }
      ]
    },
    {
      "cell_type": "markdown",
      "metadata": {
        "id": "QiScYlg-bNq9",
        "colab_type": "text"
      },
      "source": [
        "**D'après le figure ci-dessus On remarque  que le Building 1099 possède une consommation  maximale avec des valeurs  très élevées par rapport aux autres valeurs maximales, alors on ce builduing répresente des valeurs abérantes va être éliminée**"
      ]
    },
    {
      "cell_type": "code",
      "metadata": {
        "id": "1olaWnTk7Bsc",
        "colab_type": "code",
        "outputId": "3892ce66-33dc-44bd-9668-0de7cb2966dc",
        "colab": {
          "base_uri": "https://localhost:8080/",
          "height": 542
        }
      },
      "source": [
        "daily_train_AR =train_df.copy() \n",
        "daily_train_AR.loc[daily_train_AR['building_id']==1099,\"outlier\"]=True\n",
        "daily_train_AR = daily_train_AR [daily_train_AR [\"outlier\"]!=True]\n",
        "daily_train_AR['meter'] = pd.Categorical(daily_train_AR['meter']).rename_categories({0: 'electricity', 1: 'chilledwater', 2: 'steam', 3: 'hotwater'})\n",
        "daily_train_AR['timestamp'] = pd.to_datetime(daily_train_AR.timestamp)\n",
        "daily_train_AR['date'] = daily_train_AR['timestamp'].dt.date\n",
        "daily_train_AR = daily_train_AR.groupby(['date', 'building_id', 'meter']).sum()\n",
        "daily_train_AR_agg = daily_train_AR.groupby(['date', 'meter']).agg(['sum', 'mean', 'idxmax', 'max'])\n",
        "daily_train_AR_agg = daily_train_AR_agg.reset_index()\n",
        "level_0 = daily_train_AR_agg.columns.droplevel(0)\n",
        "level_1 = daily_train_AR_agg.columns.droplevel(1)\n",
        "level_0 = ['' if x == '' else '-' + x for x in level_0]\n",
        "daily_train_AR_agg.columns = level_1 + level_0\n",
        "daily_train_AR_agg.rename_axis(None, axis=1)\n",
        "daily_train_AR_agg['building_id_max'] = [x[1] for x in daily_train_agg['meter_reading-idxmax']]\n",
        "fig_total = px.line(daily_train_AR_agg, x='date', y='meter_reading-sum', color='meter', render_mode='svg')\n",
        "fig_total.update_layout(title='total consommation (KWH) après élimination du building 1099')\n",
        "fig_total.show()"
      ],
      "execution_count": 0,
      "outputs": [
        {
          "output_type": "display_data",
          "data": {
            "text/html": [
              "<html>\n",
              "<head><meta charset=\"utf-8\" /></head>\n",
              "<body>\n",
              "    <div>\n",
              "            <script src=\"https://cdnjs.cloudflare.com/ajax/libs/mathjax/2.7.5/MathJax.js?config=TeX-AMS-MML_SVG\"></script><script type=\"text/javascript\">if (window.MathJax) {MathJax.Hub.Config({SVG: {font: \"STIX-Web\"}});}</script>\n",
              "                <script type=\"text/javascript\">window.PlotlyConfig = {MathJaxConfig: 'local'};</script>\n",
              "        <script src=\"https://cdn.plot.ly/plotly-latest.min.js\"></script>    \n",
              "            <div id=\"bf3ae62e-5962-4cd6-8e4e-42c77bcd6c24\" class=\"plotly-graph-div\" style=\"height:525px; width:100%;\"></div>\n",
              "            <script type=\"text/javascript\">\n",
              "                \n",
              "                    window.PLOTLYENV=window.PLOTLYENV || {};\n",
              "                    \n",
              "                if (document.getElementById(\"bf3ae62e-5962-4cd6-8e4e-42c77bcd6c24\")) {\n",
              "                    Plotly.newPlot(\n",
              "                        'bf3ae62e-5962-4cd6-8e4e-42c77bcd6c24',\n",
              "                        [{\"hoverlabel\": {\"namelength\": 0}, \"hovertemplate\": \"meter=electricity<br>date=%{x}<br>meter_reading-sum=%{y}\", \"legendgroup\": \"meter=electricity\", \"line\": {\"color\": \"#636efa\", \"dash\": \"solid\"}, \"mode\": \"lines\", \"name\": \"meter=electricity\", \"showlegend\": true, \"type\": \"scatter\", \"x\": [\"2016-01-01\", \"2016-01-02\", \"2016-01-03\", \"2016-01-04\", \"2016-01-05\", \"2016-01-06\", \"2016-01-07\", \"2016-01-08\", \"2016-01-09\", \"2016-01-10\", \"2016-01-11\", \"2016-01-12\", \"2016-01-13\", \"2016-01-14\", \"2016-01-15\", \"2016-01-16\", \"2016-01-17\", \"2016-01-18\", \"2016-01-19\", \"2016-01-20\", \"2016-01-21\", \"2016-01-22\", \"2016-01-23\", \"2016-01-24\", \"2016-01-25\", \"2016-01-26\", \"2016-01-27\", \"2016-01-28\", \"2016-01-29\", \"2016-01-30\", \"2016-01-31\", \"2016-02-01\", \"2016-02-02\", \"2016-02-03\", \"2016-02-04\", \"2016-02-05\", \"2016-02-06\", \"2016-02-07\", \"2016-02-08\", \"2016-02-09\", \"2016-02-10\", \"2016-02-11\", \"2016-02-12\", \"2016-02-13\", \"2016-02-14\", \"2016-02-15\", \"2016-02-16\", \"2016-02-17\", \"2016-02-18\", \"2016-02-19\", \"2016-02-20\", \"2016-02-21\", \"2016-02-22\", \"2016-02-23\", \"2016-02-24\", \"2016-02-25\", \"2016-02-26\", \"2016-02-27\", \"2016-02-28\", \"2016-02-29\", \"2016-03-01\", \"2016-03-02\", \"2016-03-03\", \"2016-03-04\", \"2016-03-05\", \"2016-03-06\", \"2016-03-07\", \"2016-03-08\", \"2016-03-09\", \"2016-03-10\", \"2016-03-11\", \"2016-03-12\", \"2016-03-13\", \"2016-03-14\", \"2016-03-15\", \"2016-03-16\", \"2016-03-17\", \"2016-03-18\", \"2016-03-19\", \"2016-03-20\", \"2016-03-21\", \"2016-03-22\", \"2016-03-23\", \"2016-03-24\", \"2016-03-25\", \"2016-03-26\", \"2016-03-27\", \"2016-03-28\", \"2016-03-29\", \"2016-03-30\", \"2016-03-31\", \"2016-04-01\", \"2016-04-02\", \"2016-04-03\", \"2016-04-04\", \"2016-04-05\", \"2016-04-06\", \"2016-04-07\", \"2016-04-08\", \"2016-04-09\", \"2016-04-10\", \"2016-04-11\", \"2016-04-12\", \"2016-04-13\", \"2016-04-14\", \"2016-04-15\", \"2016-04-16\", \"2016-04-17\", \"2016-04-18\", \"2016-04-19\", \"2016-04-20\", \"2016-04-21\", \"2016-04-22\", \"2016-04-23\", \"2016-04-24\", \"2016-04-25\", \"2016-04-26\", \"2016-04-27\", \"2016-04-28\", \"2016-04-29\", \"2016-04-30\", \"2016-05-01\", \"2016-05-02\", \"2016-05-03\", \"2016-05-04\", \"2016-05-05\", \"2016-05-06\", \"2016-05-07\", \"2016-05-08\", \"2016-05-09\", \"2016-05-10\", \"2016-05-11\", \"2016-05-12\", \"2016-05-13\", \"2016-05-14\", \"2016-05-15\", \"2016-05-16\", \"2016-05-17\", \"2016-05-18\", \"2016-05-19\", \"2016-05-20\", \"2016-05-21\", \"2016-05-22\", \"2016-05-23\", \"2016-05-24\", \"2016-05-25\", \"2016-05-26\", \"2016-05-27\", \"2016-05-28\", \"2016-05-29\", \"2016-05-30\", \"2016-05-31\", \"2016-06-01\", \"2016-06-02\", \"2016-06-03\", \"2016-06-04\", \"2016-06-05\", \"2016-06-06\", \"2016-06-07\", \"2016-06-08\", \"2016-06-09\", \"2016-06-10\", \"2016-06-11\", \"2016-06-12\", \"2016-06-13\", \"2016-06-14\", \"2016-06-15\", \"2016-06-16\", \"2016-06-17\", \"2016-06-18\", \"2016-06-19\", \"2016-06-20\", \"2016-06-21\", \"2016-06-22\", \"2016-06-23\", \"2016-06-24\", \"2016-06-25\", \"2016-06-26\", \"2016-06-27\", \"2016-06-28\", \"2016-06-29\", \"2016-06-30\", \"2016-07-01\", \"2016-07-02\", \"2016-07-03\", \"2016-07-04\", \"2016-07-05\", \"2016-07-06\", \"2016-07-07\", \"2016-07-08\", \"2016-07-09\", \"2016-07-10\", \"2016-07-11\", \"2016-07-12\", \"2016-07-13\", \"2016-07-14\", \"2016-07-15\", \"2016-07-16\", \"2016-07-17\", \"2016-07-18\", \"2016-07-19\", \"2016-07-20\", \"2016-07-21\", \"2016-07-22\", \"2016-07-23\", \"2016-07-24\", \"2016-07-25\", \"2016-07-26\", \"2016-07-27\", \"2016-07-28\", \"2016-07-29\", \"2016-07-30\", \"2016-07-31\", \"2016-08-01\", \"2016-08-02\", \"2016-08-03\", \"2016-08-04\", \"2016-08-05\", \"2016-08-06\", \"2016-08-07\", \"2016-08-08\", \"2016-08-09\", \"2016-08-10\", \"2016-08-11\", \"2016-08-12\", \"2016-08-13\", \"2016-08-14\", \"2016-08-15\", \"2016-08-16\", \"2016-08-17\", \"2016-08-18\", \"2016-08-19\", \"2016-08-20\", \"2016-08-21\", \"2016-08-22\", \"2016-08-23\", \"2016-08-24\", \"2016-08-25\", \"2016-08-26\", \"2016-08-27\", \"2016-08-28\", \"2016-08-29\", \"2016-08-30\", \"2016-08-31\", \"2016-09-01\", \"2016-09-02\", \"2016-09-03\", \"2016-09-04\", \"2016-09-05\", \"2016-09-06\", \"2016-09-07\", \"2016-09-08\", \"2016-09-09\", \"2016-09-10\", \"2016-09-11\", \"2016-09-12\", \"2016-09-13\", \"2016-09-14\", \"2016-09-15\", \"2016-09-16\", \"2016-09-17\", \"2016-09-18\", \"2016-09-19\", \"2016-09-20\", \"2016-09-21\", \"2016-09-22\", \"2016-09-23\", \"2016-09-24\", \"2016-09-25\", \"2016-09-26\", \"2016-09-27\", \"2016-09-28\", \"2016-09-29\", \"2016-09-30\", \"2016-10-01\", \"2016-10-02\", \"2016-10-03\", \"2016-10-04\", \"2016-10-05\", \"2016-10-06\", \"2016-10-07\", \"2016-10-08\", \"2016-10-09\", \"2016-10-10\", \"2016-10-11\", \"2016-10-12\", \"2016-10-13\", \"2016-10-14\", \"2016-10-15\", \"2016-10-16\", \"2016-10-17\", \"2016-10-18\", \"2016-10-19\", \"2016-10-20\", \"2016-10-21\", \"2016-10-22\", \"2016-10-23\", \"2016-10-24\", \"2016-10-25\", \"2016-10-26\", \"2016-10-27\", \"2016-10-28\", \"2016-10-29\", \"2016-10-30\", \"2016-10-31\", \"2016-11-01\", \"2016-11-02\", \"2016-11-03\", \"2016-11-04\", \"2016-11-05\", \"2016-11-06\", \"2016-11-07\", \"2016-11-08\", \"2016-11-09\", \"2016-11-10\", \"2016-11-11\", \"2016-11-12\", \"2016-11-13\", \"2016-11-14\", \"2016-11-15\", \"2016-11-16\", \"2016-11-17\", \"2016-11-18\", \"2016-11-19\", \"2016-11-20\", \"2016-11-21\", \"2016-11-22\", \"2016-11-23\", \"2016-11-24\", \"2016-11-25\", \"2016-11-26\", \"2016-11-27\", \"2016-11-28\", \"2016-11-29\", \"2016-11-30\", \"2016-12-01\", \"2016-12-02\", \"2016-12-03\", \"2016-12-04\", \"2016-12-05\", \"2016-12-06\", \"2016-12-07\", \"2016-12-08\", \"2016-12-09\", \"2016-12-10\", \"2016-12-11\", \"2016-12-12\", \"2016-12-13\", \"2016-12-14\", \"2016-12-15\", \"2016-12-16\", \"2016-12-17\", \"2016-12-18\", \"2016-12-19\", \"2016-12-20\", \"2016-12-21\", \"2016-12-22\", \"2016-12-23\", \"2016-12-24\", \"2016-12-25\", \"2016-12-26\", \"2016-12-27\", \"2016-12-28\", \"2016-12-29\", \"2016-12-30\", \"2016-12-31\"], \"xaxis\": \"x\", \"y\": [4212376.834199997, 4281104.628099997, 4240836.525000002, 4994890.271599997, 5084311.909600002, 5126956.238799998, 5113581.8083, 5030651.301100005, 4479220.668800003, 4330614.658999996, 5300733.973299993, 5262956.909599997, 5283280.090399994, 5229013.208799999, 5171649.836399996, 4526218.210799999, 4511550.763500002, 5046611.91710001, 5470642.731700004, 5314380.273000002, 5436850.221700001, 5363320.874699998, 4694927.051999997, 4642995.3668, 4979067.585799991, 5275294.6666999925, 5388020.056499999, 5383912.868899998, 5340887.615299995, 4646612.729199999, 4454587.627900009, 5230108.092500003, 5336270.553800002, 5371931.636999998, 5312875.138299995, 5299458.788800008, 4653819.646500001, 4534270.366300003, 5348234.203399997, 5431678.021100006, 5193090.019799997, 5131853.100799993, 5007828.4991000015, 4426816.0091, 4363263.494299995, 4928576.1765, 5005446.156600002, 5012501.973799992, 5023994.764999999, 4985175.913699994, 4285414.967400001, 4156536.1873000003, 4882583.615000003, 4671631.629500002, 4843883.1982999975, 4859144.806500003, 4895749.315299996, 4312141.683699995, 4153777.6749999984, 4896162.784599996, 4871702.845999998, 4927145.065899998, 5002218.482399999, 4896764.700399989, 4311238.007699996, 4160965.7603000016, 4783834.079000002, 4791250.166400001, 4753494.142999996, 4800021.782800001, 4713625.447700005, 4110981.4291000003, 3841958.175699999, 4723134.048999996, 4735819.595799997, 4734669.660999998, 4700011.567000003, 4547214.305000004, 4116080.444299995, 4093763.9608999975, 4796072.673699996, 4781795.1005000025, 4831369.569799995, 4802497.241399999, 4504571.365200006, 4070103.533100002, 3976138.375399997, 4510661.624599997, 4723857.433499999, 5026941.306900002, 5089405.899199998, 4943018.119400004, 4469182.054899994, 4438327.876699996, 5144781.825799997, 5199346.118599994, 5176158.409199998, 5146006.344699997, 5100662.629399996, 4527795.1352999965, 4473858.242300004, 5150221.683499999, 5142180.103400004, 5211288.520100001, 5239561.6707000015, 5089666.212699994, 4571288.9542, 4503689.898199999, 5252249.864099994, 5202473.224499998, 5199779.807200003, 5141783.6539999945, 5070418.211300003, 4434301.3144, 4329312.3659, 5126678.052699997, 5228730.626299995, 5136201.748999995, 5126056.4175999975, 5023850.950899994, 4386012.257700004, 4409016.130299995, 5069120.152199998, 5184798.181300004, 5156998.0706, 5213458.172800006, 5161533.9312, 4483564.190900002, 4430224.398499996, 5029908.251399999, 5148461.0355999945, 5101026.5890999995, 5171469.394099999, 5127426.341400002, 4475451.980099997, 4340517.432599998, 4990128.143600001, 5073523.9783000015, 5048880.0072999885, 5035097.006599992, 5262406.986699989, 5354523.481699995, 5256739.107099986, 5924499.106700006, 6084983.311000001, 6212541.846000001, 6161916.512800004, 6178233.302399993, 5494453.088399995, 5358460.988799999, 5566773.094499986, 6238666.089999987, 6211579.385699997, 6238233.662499991, 6261835.386100005, 5617700.6949000005, 5494312.826599999, 6155065.796499985, 6218754.609199995, 6057789.196399991, 6307826.4499, 6377575.755800006, 5748360.944800002, 5540699.640700005, 6251912.253599999, 6323278.885700001, 6340794.335800005, 6365637.161400002, 6326233.012499998, 5676836.471300001, 5628757.898699994, 6325964.717799998, 6357897.492200006, 6404602.261400004, 6309250.750400007, 6386923.006900001, 5993187.069199995, 5623024.750700004, 6419973.381799995, 6444694.405, 6037345.251900009, 6253650.714599995, 5740657.717899998, 4798791.02939999, 4982851.9936999995, 5299688.310799989, 6527361.292400001, 6662157.286499994, 6715798.071000004, 6600498.537499994, 5909488.5717999935, 5812942.526899998, 6744931.8257000055, 6708923.802399986, 6723342.829699996, 6603145.969000002, 6436779.622100004, 5740500.275999999, 5626120.590399995, 6624334.028300001, 6776524.588800002, 6831700.832600006, 6907748.041300002, 6745183.532800002, 6114425.501600005, 5868708.303100001, 6635804.6214999985, 6551829.7534000045, 6640050.998399996, 6639187.091900006, 6297485.8142, 5759385.608000009, 5739019.936899997, 6437838.973800002, 6667935.323999997, 6633700.869200005, 6511819.584399994, 6325180.4625000125, 5657694.062400002, 5543185.477600005, 6340644.07749999, 6472355.858300004, 6663513.457200007, 6629312.740800003, 6581926.783900003, 5889954.426300004, 5657843.611600001, 6502338.458199998, 6687911.045400013, 6692587.318300003, 6725349.109599999, 6547392.084600001, 5840717.835999997, 5664964.163700005, 6469919.826199996, 6712735.244500001, 6716611.609599996, 6389513.705599998, 6732303.3271000115, 5939767.851300001, 5974632.225299998, 7014820.653299999, 6888164.954300009, 6818203.345500007, 6733456.620600009, 6547437.406099996, 5823085.186799992, 5746247.291099995, 6108163.7285, 7030379.6112, 7097313.18859999, 7081561.237800001, 6973381.243300006, 6089072.500499998, 5904452.684700008, 6763235.880699996, 6808883.979500001, 6834703.553600005, 6811828.862099988, 6706292.894799999, 5887635.495299993, 5892177.167099998, 6927697.771099997, 6879456.774100006, 7007748.693800007, 6903087.0121000055, 6700429.263399996, 5878915.206499999, 5646741.663800006, 6381751.81800001, 6393556.597799996, 6314268.7041, 6275570.695, 6082302.960600007, 5313551.724500004, 5325668.129199998, 6220664.572599997, 6254529.311800004, 6175950.188100011, 5997297.730900001, 5837232.53349999, 5188712.251999996, 5068684.139400005, 5719458.225099995, 6042158.075599999, 6002162.511400007, 6079440.692199995, 5960988.950600004, 4914071.411, 4821898.005400005, 6410442.012299997, 6255738.329, 6238697.797000009, 6290971.726699998, 6146811.447500001, 5275586.091700003, 5183489.797000001, 6054390.311799997, 5911090.987100005, 6004421.791099994, 6196603.141800009, 6095754.753200006, 5322074.426999999, 5239215.764200005, 5908592.4499000115, 6149186.3416000055, 6197458.9020000035, 6308671.596899998, 6309381.118700005, 5457293.104099993, 5352751.420900007, 6202332.353900001, 6338325.052900001, 6312626.6781999925, 6342934.536599992, 5833503.187900003, 5343403.329799999, 5299458.694800005, 6319708.36579999, 6331200.703000003, 6212887.586199997, 6297114.796700003, 6128961.444700002, 5313805.504099997, 5384055.606199995, 6356503.1942, 6319092.916799994, 6070926.037799996, 5540600.035299999, 5549926.777500004, 5189293.694399997, 5239749.981800002, 6327036.555500001, 6398829.310199986, 6434569.2311000135, 6082605.181000007, 5765369.520599998, 4993619.034500008, 4950355.501299999, 5772154.137000005, 6131302.724900008, 6365672.591699991, 6285489.644900002, 6173497.618599997, 5676782.034099987, 5494361.592900003, 6261252.429700001, 6299111.190400003, 6307124.369400004, 6352620.343300006, 6291482.564599996, 5550402.439799998, 5399360.0050000055, 6202465.182200007, 6201616.720700006, 6079859.309599995, 5847980.4893, 5522546.255000008, 4981905.602400008, 4910939.437099997, 5159870.633500002, 5343035.4951000055, 5508891.999600001, 5577344.273799999, 5533832.131400004, 5059200.2198000075], \"yaxis\": \"y\"}, {\"hoverlabel\": {\"namelength\": 0}, \"hovertemplate\": \"meter=chilledwater<br>date=%{x}<br>meter_reading-sum=%{y}\", \"legendgroup\": \"meter=chilledwater\", \"line\": {\"color\": \"#EF553B\", \"dash\": \"solid\"}, \"mode\": \"lines\", \"name\": \"meter=chilledwater\", \"showlegend\": true, \"type\": \"scatter\", \"x\": [\"2016-01-01\", \"2016-01-02\", \"2016-01-03\", \"2016-01-04\", \"2016-01-05\", \"2016-01-06\", \"2016-01-07\", \"2016-01-08\", \"2016-01-09\", \"2016-01-10\", \"2016-01-11\", \"2016-01-12\", \"2016-01-13\", \"2016-01-14\", \"2016-01-15\", \"2016-01-16\", \"2016-01-17\", \"2016-01-18\", \"2016-01-19\", \"2016-01-20\", \"2016-01-21\", \"2016-01-22\", \"2016-01-23\", \"2016-01-24\", \"2016-01-25\", \"2016-01-26\", \"2016-01-27\", \"2016-01-28\", \"2016-01-29\", \"2016-01-30\", \"2016-01-31\", \"2016-02-01\", \"2016-02-02\", \"2016-02-03\", \"2016-02-04\", \"2016-02-05\", \"2016-02-06\", \"2016-02-07\", \"2016-02-08\", \"2016-02-09\", \"2016-02-10\", \"2016-02-11\", \"2016-02-12\", \"2016-02-13\", \"2016-02-14\", \"2016-02-15\", \"2016-02-16\", \"2016-02-17\", \"2016-02-18\", \"2016-02-19\", \"2016-02-20\", \"2016-02-21\", \"2016-02-22\", \"2016-02-23\", \"2016-02-24\", \"2016-02-25\", \"2016-02-26\", \"2016-02-27\", \"2016-02-28\", \"2016-02-29\", \"2016-03-01\", \"2016-03-02\", \"2016-03-03\", \"2016-03-04\", \"2016-03-05\", \"2016-03-06\", \"2016-03-07\", \"2016-03-08\", \"2016-03-09\", \"2016-03-10\", \"2016-03-11\", \"2016-03-12\", \"2016-03-13\", \"2016-03-14\", \"2016-03-15\", \"2016-03-16\", \"2016-03-17\", \"2016-03-18\", \"2016-03-19\", \"2016-03-20\", \"2016-03-21\", \"2016-03-22\", \"2016-03-23\", \"2016-03-24\", \"2016-03-25\", \"2016-03-26\", \"2016-03-27\", \"2016-03-28\", \"2016-03-29\", \"2016-03-30\", \"2016-03-31\", \"2016-04-01\", \"2016-04-02\", \"2016-04-03\", \"2016-04-04\", \"2016-04-05\", \"2016-04-06\", \"2016-04-07\", \"2016-04-08\", \"2016-04-09\", \"2016-04-10\", \"2016-04-11\", \"2016-04-12\", \"2016-04-13\", \"2016-04-14\", \"2016-04-15\", \"2016-04-16\", \"2016-04-17\", \"2016-04-18\", \"2016-04-19\", \"2016-04-20\", \"2016-04-21\", \"2016-04-22\", \"2016-04-23\", \"2016-04-24\", \"2016-04-25\", \"2016-04-26\", \"2016-04-27\", \"2016-04-28\", \"2016-04-29\", \"2016-04-30\", \"2016-05-01\", \"2016-05-02\", \"2016-05-03\", \"2016-05-04\", \"2016-05-05\", \"2016-05-06\", \"2016-05-07\", \"2016-05-08\", \"2016-05-09\", \"2016-05-10\", \"2016-05-11\", \"2016-05-12\", \"2016-05-13\", \"2016-05-14\", \"2016-05-15\", \"2016-05-16\", \"2016-05-17\", \"2016-05-18\", \"2016-05-19\", \"2016-05-20\", \"2016-05-21\", \"2016-05-22\", \"2016-05-23\", \"2016-05-24\", \"2016-05-25\", \"2016-05-26\", \"2016-05-27\", \"2016-05-28\", \"2016-05-29\", \"2016-05-30\", \"2016-05-31\", \"2016-06-01\", \"2016-06-02\", \"2016-06-03\", \"2016-06-04\", \"2016-06-05\", \"2016-06-06\", \"2016-06-07\", \"2016-06-08\", \"2016-06-09\", \"2016-06-10\", \"2016-06-11\", \"2016-06-12\", \"2016-06-13\", \"2016-06-14\", \"2016-06-15\", \"2016-06-16\", \"2016-06-17\", \"2016-06-18\", \"2016-06-19\", \"2016-06-20\", \"2016-06-21\", \"2016-06-22\", \"2016-06-23\", \"2016-06-24\", \"2016-06-25\", \"2016-06-26\", \"2016-06-27\", \"2016-06-28\", \"2016-06-29\", \"2016-06-30\", \"2016-07-01\", \"2016-07-02\", \"2016-07-03\", \"2016-07-04\", \"2016-07-05\", \"2016-07-06\", \"2016-07-07\", \"2016-07-08\", \"2016-07-09\", \"2016-07-10\", \"2016-07-11\", \"2016-07-12\", \"2016-07-13\", \"2016-07-14\", \"2016-07-15\", \"2016-07-16\", \"2016-07-17\", \"2016-07-18\", \"2016-07-19\", \"2016-07-20\", \"2016-07-21\", \"2016-07-22\", \"2016-07-23\", \"2016-07-24\", \"2016-07-25\", \"2016-07-26\", \"2016-07-27\", \"2016-07-28\", \"2016-07-29\", \"2016-07-30\", \"2016-07-31\", \"2016-08-01\", \"2016-08-02\", \"2016-08-03\", \"2016-08-04\", \"2016-08-05\", \"2016-08-06\", \"2016-08-07\", \"2016-08-08\", \"2016-08-09\", \"2016-08-10\", \"2016-08-11\", \"2016-08-12\", \"2016-08-13\", \"2016-08-14\", \"2016-08-15\", \"2016-08-16\", \"2016-08-17\", \"2016-08-18\", \"2016-08-19\", \"2016-08-20\", \"2016-08-21\", \"2016-08-22\", \"2016-08-23\", \"2016-08-24\", \"2016-08-25\", \"2016-08-26\", \"2016-08-27\", \"2016-08-28\", \"2016-08-29\", \"2016-08-30\", \"2016-08-31\", \"2016-09-01\", \"2016-09-02\", \"2016-09-03\", \"2016-09-04\", \"2016-09-05\", \"2016-09-06\", \"2016-09-07\", \"2016-09-08\", \"2016-09-09\", \"2016-09-10\", \"2016-09-11\", \"2016-09-12\", \"2016-09-13\", \"2016-09-14\", \"2016-09-15\", \"2016-09-16\", \"2016-09-17\", \"2016-09-18\", \"2016-09-19\", \"2016-09-20\", \"2016-09-21\", \"2016-09-22\", \"2016-09-23\", \"2016-09-24\", \"2016-09-25\", \"2016-09-26\", \"2016-09-27\", \"2016-09-28\", \"2016-09-29\", \"2016-09-30\", \"2016-10-01\", \"2016-10-02\", \"2016-10-03\", \"2016-10-04\", \"2016-10-05\", \"2016-10-06\", \"2016-10-07\", \"2016-10-08\", \"2016-10-09\", \"2016-10-10\", \"2016-10-11\", \"2016-10-12\", \"2016-10-13\", \"2016-10-14\", \"2016-10-15\", \"2016-10-16\", \"2016-10-17\", \"2016-10-18\", \"2016-10-19\", \"2016-10-20\", \"2016-10-21\", \"2016-10-22\", \"2016-10-23\", \"2016-10-24\", \"2016-10-25\", \"2016-10-26\", \"2016-10-27\", \"2016-10-28\", \"2016-10-29\", \"2016-10-30\", \"2016-10-31\", \"2016-11-01\", \"2016-11-02\", \"2016-11-03\", \"2016-11-04\", \"2016-11-05\", \"2016-11-06\", \"2016-11-07\", \"2016-11-08\", \"2016-11-09\", \"2016-11-10\", \"2016-11-11\", \"2016-11-12\", \"2016-11-13\", \"2016-11-14\", \"2016-11-15\", \"2016-11-16\", \"2016-11-17\", \"2016-11-18\", \"2016-11-19\", \"2016-11-20\", \"2016-11-21\", \"2016-11-22\", \"2016-11-23\", \"2016-11-24\", \"2016-11-25\", \"2016-11-26\", \"2016-11-27\", \"2016-11-28\", \"2016-11-29\", \"2016-11-30\", \"2016-12-01\", \"2016-12-02\", \"2016-12-03\", \"2016-12-04\", \"2016-12-05\", \"2016-12-06\", \"2016-12-07\", \"2016-12-08\", \"2016-12-09\", \"2016-12-10\", \"2016-12-11\", \"2016-12-12\", \"2016-12-13\", \"2016-12-14\", \"2016-12-15\", \"2016-12-16\", \"2016-12-17\", \"2016-12-18\", \"2016-12-19\", \"2016-12-20\", \"2016-12-21\", \"2016-12-22\", \"2016-12-23\", \"2016-12-24\", \"2016-12-25\", \"2016-12-26\", \"2016-12-27\", \"2016-12-28\", \"2016-12-29\", \"2016-12-30\", \"2016-12-31\"], \"xaxis\": \"x\", \"y\": [1412168.8152999997, 1439739.8250999998, 1510352.0912000006, 1516235.7097, 1472645.7948000005, 1486447.5740999987, 1662345.7872999993, 1669385.3278000017, 1504044.093, 1509872.100100001, 1531385.0547000007, 1670492.3146000013, 1679243.5256999994, 1713415.591699999, 1689988.827, 1571853.4717999997, 1523779.0743000016, 1520966.7171999991, 1657129.296599999, 1808304.7834000008, 1835553.2159000007, 1680315.0296000005, 1547213.0811000017, 1710381.4081999997, 1510452.8129999998, 1914940.6346000014, 1820869.9345000002, 1721882.3061000006, 1830114.0647999991, 1799341.1484000008, 2130054.5692999987, 2222731.040799999, 1793678.6603999992, 1608836.9835, 1818982.4235999982, 1619639.9178999993, 1568927.4629000004, 1625884.3644000003, 1826255.7112999998, 1934116.2778999994, 1964637.489099999, 2053520.5883999993, 2081372.6069000005, 1958058.3437000006, 1893338.8613999994, 2147465.3252, 2200457.7806000006, 2212878.1374, 2261357.2340000006, 2349800.1711000004, 2628604.0958000016, 2546015.432900001, 2265278.6762999995, 1732582.8393999995, 1905554.7558000009, 2036845.5217, 2217125.2997000013, 2011954.8314000007, 2362465.8322, 3421141.1509999996, 3748387.4746000045, 3384249.055999998, 3218736.738399998, 2933877.9488999974, 2739346.461999998, 2748562.490600001, 3293655.0029999986, 4219865.924299996, 4010795.7255, 4564196.3508, 4706927.080199999, 3808139.685699998, 4020077.9194999975, 3778400.6521999994, 4366123.707599995, 4729708.676099996, 4918606.0688000005, 4337635.651, 3089251.2547999993, 2881731.6996999998, 2801801.829500003, 3184858.2514000013, 4241271.765499998, 4139691.8041000003, 4475289.8761, 3467854.5780000035, 3646745.8860000013, 4123277.720199995, 3936463.7477999977, 4006172.6965000005, 4570946.271500003, 5279907.893800001, 4170489.587599999, 2991473.814099999, 3858446.002100002, 3472145.4069, 3534426.837899999, 3763922.200799999, 3601315.8880999987, 3102904.2589999987, 3165764.0897000018, 4280711.488399997, 4700695.4968000045, 4212741.370500002, 4463369.241400001, 4606695.677000001, 4338802.458800001, 4753558.969499999, 5539347.913999997, 5415698.577299999, 5198680.3155, 5148953.056400001, 5658137.4296999965, 5145235.868000003, 4535426.6172, 5560029.346400001, 6219037.793400003, 5910030.698199999, 5321809.5928000035, 5191917.42890001, 4719788.965199999, 4897287.107500004, 6463584.828500001, 6537359.354699997, 5585032.880000002, 4654945.866200002, 4573039.107800003, 4131517.3113999963, 4871826.935300001, 4886916.792100004, 5418262.334600002, 6103571.849999998, 6708169.589599996, 7262922.969599993, 5260068.885699999, 4206353.1454, 4985628.377700003, 5073404.694499998, 5021103.2178, 5545648.480599998, 6046450.684, 5652181.485300001, 5537190.020400001, 6200387.668899998, 7366610.012500006, 7772733.232799988, 8177728.158200006, 8598807.86210001, 8289143.456499999, 7838896.383199996, 8113718.608900003, 9109676.227999998, 8620380.071199996, 9031348.078599997, 9039915.10150001, 8768792.3331, 8380050.522500007, 8604756.474799998, 8583143.3796, 7302940.461300001, 7644846.419499998, 8341676.828499995, 8880597.035499988, 8715111.5461, 8439580.189199997, 8903011.060200002, 9656120.296799997, 10506973.645999996, 9659891.12530001, 8481735.7379, 8329341.668299995, 9283075.360099994, 10046821.564800002, 10055860.9526, 9994585.8071, 10214279.09619999, 9979651.6215, 9081736.696399998, 10420738.401299996, 10790522.125099992, 9759662.181800004, 9429718.801300004, 8797495.998200003, 7476445.706900001, 7035420.8613, 8016694.696299995, 11620953.500599999, 12039254.229199992, 12069655.102100005, 11005493.681900002, 9777422.868400002, 9446215.77770001, 10678278.107400006, 11130295.149899993, 11356001.640599998, 11270247.103799984, 10832649.710899996, 9132136.623599999, 9224834.63879999, 10595617.484899988, 11015080.783600003, 10823522.346299993, 11352213.315199984, 11618380.906699998, 10893973.470399996, 10913886.565499999, 12301429.085599989, 12266079.780499993, 12060630.120799994, 11696663.66029999, 10878085.298299987, 10306144.8078, 10326583.271499986, 11035108.672699995, 11779845.334100002, 11538796.775099996, 11005637.677900003, 10878792.393300008, 10390099.204899997, 9583251.667699995, 10033500.40669999, 10071613.676699992, 11542389.660799999, 10638818.595800001, 9144666.869400002, 11135263.923699997, 10761100.882499993, 11290050.7531, 11509099.134399997, 11683119.359900001, 11400760.867999999, 11000030.532000002, 10168807.914100006, 9782034.129099999, 9359955.632199988, 9943323.438900009, 10329220.326600006, 11006194.98410001, 11681738.327200003, 10464231.286299998, 10184650.600699984, 11325388.556400008, 10932234.1894, 11247409.390299994, 10709116.240400003, 9264724.061100006, 8148032.767399999, 8320775.726899996, 8683795.652600005, 10517869.667499995, 11576391.702799998, 22018272.54620002, 29195790.99660002, 27193223.16640002, 24016773.997100018, 21336477.5062, 24048012.054300003, 24508247.83580001, 20540290.929900028, 20760532.442500018, 21385645.205999985, 23765704.580899958, 25476213.431500006, 25585353.15310004, 24162624.39329999, 22011605.266599983, 25757474.803100012, 28064905.85410001, 24426081.705199998, 23520590.231900014, 26323331.493300013, 26837848.640999995, 22769817.175899997, 19206121.494100004, 18837402.928399984, 19524392.61299999, 20216536.619300004, 11030168.973099997, 6926357.886900003, 6582115.641100003, 6657007.916699999, 6151350.5709000025, 4855594.283200008, 10109380.033399986, 13723661.518799994, 15634176.586999994, 16186142.850800002, 13887309.130700009, 11954789.170899997, 13563954.405099994, 25027741.68319996, 23336887.4179, 11518411.058200002, 7647701.327499997, 6495258.996900004, 3849928.6437999983, 3857335.0226999987, 5229912.144800003, 5000245.6649, 4867102.4854999995, 5131766.213800005, 5560178.574499999, 5057305.664500004, 5842108.415499995, 5636415.931400005, 5348674.889700002, 6398600.829700004, 6260441.952900003, 5262457.997999999, 4187078.027900002, 3982953.852700002, 4058805.9884000006, 4070083.125200004, 3864288.0514000007, 3583714.6866000034, 3308266.0768999998, 2772976.448499998, 3028911.231100001, 3284958.0795999994, 3231536.257, 5839597.959100002, 5487419.644900001, 3460529.1971999994, 2734258.834000001, 2145432.262599999, 2413145.437200001, 2883382.4820000017, 2784108.498000001, 2826024.851899999, 2985923.6610000012, 2502364.0584000014, 2487264.9099999997, 3000188.9273999995, 3447034.8618000015, 4341376.355900004, 3553453.489499999, 2445319.297600002, 2236468.799399999, 2399555.9115000013, 2882040.9242000002, 2951122.7464000015, 2663786.2245999994, 4119339.960500001, 5771732.603699997, 4784793.687600002, 6351801.573900001, 6494204.528600008, 6907899.665100001, 4642171.541799996, 2358846.2462, 2399525.1427999996, 2812180.5976000004, 2875532.3651999994, 2676461.137300004, 2370658.0772000006, 2280466.4545, 2487879.3672, 2513201.0865000016, 2955975.5072999983, 2994919.5217999984, 3170773.3627000004, 3159401.0624999995, 3115995.8938999986, 2634915.2030999996, 1965577.8956999984, 2102037.172699999], \"yaxis\": \"y\"}, {\"hoverlabel\": {\"namelength\": 0}, \"hovertemplate\": \"meter=steam<br>date=%{x}<br>meter_reading-sum=%{y}\", \"legendgroup\": \"meter=steam\", \"line\": {\"color\": \"#00cc96\", \"dash\": \"solid\"}, \"mode\": \"lines\", \"name\": \"meter=steam\", \"showlegend\": true, \"type\": \"scatter\", \"x\": [\"2016-01-01\", \"2016-01-02\", \"2016-01-03\", \"2016-01-04\", \"2016-01-05\", \"2016-01-06\", \"2016-01-07\", \"2016-01-08\", \"2016-01-09\", \"2016-01-10\", \"2016-01-11\", \"2016-01-12\", \"2016-01-13\", \"2016-01-14\", \"2016-01-15\", \"2016-01-16\", \"2016-01-17\", \"2016-01-18\", \"2016-01-19\", \"2016-01-20\", \"2016-01-21\", \"2016-01-22\", \"2016-01-23\", \"2016-01-24\", \"2016-01-25\", \"2016-01-26\", \"2016-01-27\", \"2016-01-28\", \"2016-01-29\", \"2016-01-30\", \"2016-01-31\", \"2016-02-01\", \"2016-02-02\", \"2016-02-03\", \"2016-02-04\", \"2016-02-05\", \"2016-02-06\", \"2016-02-07\", \"2016-02-08\", \"2016-02-09\", \"2016-02-10\", \"2016-02-11\", \"2016-02-12\", \"2016-02-13\", \"2016-02-14\", \"2016-02-15\", \"2016-02-16\", \"2016-02-17\", \"2016-02-18\", \"2016-02-19\", \"2016-02-20\", \"2016-02-21\", \"2016-02-22\", \"2016-02-23\", \"2016-02-24\", \"2016-02-25\", \"2016-02-26\", \"2016-02-27\", \"2016-02-28\", \"2016-02-29\", \"2016-03-01\", \"2016-03-02\", \"2016-03-03\", \"2016-03-04\", \"2016-03-05\", \"2016-03-06\", \"2016-03-07\", \"2016-03-08\", \"2016-03-09\", \"2016-03-10\", \"2016-03-11\", \"2016-03-12\", \"2016-03-13\", \"2016-03-14\", \"2016-03-15\", \"2016-03-16\", \"2016-03-17\", \"2016-03-18\", \"2016-03-19\", \"2016-03-20\", \"2016-03-21\", \"2016-03-22\", \"2016-03-23\", \"2016-03-24\", \"2016-03-25\", \"2016-03-26\", \"2016-03-27\", \"2016-03-28\", \"2016-03-29\", \"2016-03-30\", \"2016-03-31\", \"2016-04-01\", \"2016-04-02\", \"2016-04-03\", \"2016-04-04\", \"2016-04-05\", \"2016-04-06\", \"2016-04-07\", \"2016-04-08\", \"2016-04-09\", \"2016-04-10\", \"2016-04-11\", \"2016-04-12\", \"2016-04-13\", \"2016-04-14\", \"2016-04-15\", \"2016-04-16\", \"2016-04-17\", \"2016-04-18\", \"2016-04-19\", \"2016-04-20\", \"2016-04-21\", \"2016-04-22\", \"2016-04-23\", \"2016-04-24\", \"2016-04-25\", \"2016-04-26\", \"2016-04-27\", \"2016-04-28\", \"2016-04-29\", \"2016-04-30\", \"2016-05-01\", \"2016-05-02\", \"2016-05-03\", \"2016-05-04\", \"2016-05-05\", \"2016-05-06\", \"2016-05-07\", \"2016-05-08\", \"2016-05-09\", \"2016-05-10\", \"2016-05-11\", \"2016-05-12\", \"2016-05-13\", \"2016-05-14\", \"2016-05-15\", \"2016-05-16\", \"2016-05-17\", \"2016-05-18\", \"2016-05-19\", \"2016-05-20\", \"2016-05-21\", \"2016-05-22\", \"2016-05-23\", \"2016-05-24\", \"2016-05-25\", \"2016-05-26\", \"2016-05-27\", \"2016-05-28\", \"2016-05-29\", \"2016-05-30\", \"2016-05-31\", \"2016-06-01\", \"2016-06-02\", \"2016-06-03\", \"2016-06-04\", \"2016-06-05\", \"2016-06-06\", \"2016-06-07\", \"2016-06-08\", \"2016-06-09\", \"2016-06-10\", \"2016-06-11\", \"2016-06-12\", \"2016-06-13\", \"2016-06-14\", \"2016-06-15\", \"2016-06-16\", \"2016-06-17\", \"2016-06-18\", \"2016-06-19\", \"2016-06-20\", \"2016-06-21\", \"2016-06-22\", \"2016-06-23\", \"2016-06-24\", \"2016-06-25\", \"2016-06-26\", \"2016-06-27\", \"2016-06-28\", \"2016-06-29\", \"2016-06-30\", \"2016-07-01\", \"2016-07-02\", \"2016-07-03\", \"2016-07-04\", \"2016-07-05\", \"2016-07-06\", \"2016-07-07\", \"2016-07-08\", \"2016-07-09\", \"2016-07-10\", \"2016-07-11\", \"2016-07-12\", \"2016-07-13\", \"2016-07-14\", \"2016-07-15\", \"2016-07-16\", \"2016-07-17\", \"2016-07-18\", \"2016-07-19\", \"2016-07-20\", \"2016-07-21\", \"2016-07-22\", \"2016-07-23\", \"2016-07-24\", \"2016-07-25\", \"2016-07-26\", \"2016-07-27\", \"2016-07-28\", \"2016-07-29\", \"2016-07-30\", \"2016-07-31\", \"2016-08-01\", \"2016-08-02\", \"2016-08-03\", \"2016-08-04\", \"2016-08-05\", \"2016-08-06\", \"2016-08-07\", \"2016-08-08\", \"2016-08-09\", \"2016-08-10\", \"2016-08-11\", \"2016-08-12\", \"2016-08-13\", \"2016-08-14\", \"2016-08-15\", \"2016-08-16\", \"2016-08-17\", \"2016-08-18\", \"2016-08-19\", \"2016-08-20\", \"2016-08-21\", \"2016-08-22\", \"2016-08-23\", \"2016-08-24\", \"2016-08-25\", \"2016-08-26\", \"2016-08-27\", \"2016-08-28\", \"2016-08-29\", \"2016-08-30\", \"2016-08-31\", \"2016-09-01\", \"2016-09-02\", \"2016-09-03\", \"2016-09-04\", \"2016-09-05\", \"2016-09-06\", \"2016-09-07\", \"2016-09-08\", \"2016-09-09\", \"2016-09-10\", \"2016-09-11\", \"2016-09-12\", \"2016-09-13\", \"2016-09-14\", \"2016-09-15\", \"2016-09-16\", \"2016-09-17\", \"2016-09-18\", \"2016-09-19\", \"2016-09-20\", \"2016-09-21\", \"2016-09-22\", \"2016-09-23\", \"2016-09-24\", \"2016-09-25\", \"2016-09-26\", \"2016-09-27\", \"2016-09-28\", \"2016-09-29\", \"2016-09-30\", \"2016-10-01\", \"2016-10-02\", \"2016-10-03\", \"2016-10-04\", \"2016-10-05\", \"2016-10-06\", \"2016-10-07\", \"2016-10-08\", \"2016-10-09\", \"2016-10-10\", \"2016-10-11\", \"2016-10-12\", \"2016-10-13\", \"2016-10-14\", \"2016-10-15\", \"2016-10-16\", \"2016-10-17\", \"2016-10-18\", \"2016-10-19\", \"2016-10-20\", \"2016-10-21\", \"2016-10-22\", \"2016-10-23\", \"2016-10-24\", \"2016-10-25\", \"2016-10-26\", \"2016-10-27\", \"2016-10-28\", \"2016-10-29\", \"2016-10-30\", \"2016-10-31\", \"2016-11-01\", \"2016-11-02\", \"2016-11-03\", \"2016-11-04\", \"2016-11-05\", \"2016-11-06\", \"2016-11-07\", \"2016-11-08\", \"2016-11-09\", \"2016-11-10\", \"2016-11-11\", \"2016-11-12\", \"2016-11-13\", \"2016-11-14\", \"2016-11-15\", \"2016-11-16\", \"2016-11-17\", \"2016-11-18\", \"2016-11-19\", \"2016-11-20\", \"2016-11-21\", \"2016-11-22\", \"2016-11-23\", \"2016-11-24\", \"2016-11-25\", \"2016-11-26\", \"2016-11-27\", \"2016-11-28\", \"2016-11-29\", \"2016-11-30\", \"2016-12-01\", \"2016-12-02\", \"2016-12-03\", \"2016-12-04\", \"2016-12-05\", \"2016-12-06\", \"2016-12-07\", \"2016-12-08\", \"2016-12-09\", \"2016-12-10\", \"2016-12-11\", \"2016-12-12\", \"2016-12-13\", \"2016-12-14\", \"2016-12-15\", \"2016-12-16\", \"2016-12-17\", \"2016-12-18\", \"2016-12-19\", \"2016-12-20\", \"2016-12-21\", \"2016-12-22\", \"2016-12-23\", \"2016-12-24\", \"2016-12-25\", \"2016-12-26\", \"2016-12-27\", \"2016-12-28\", \"2016-12-29\", \"2016-12-30\", \"2016-12-31\"], \"xaxis\": \"x\", \"y\": [17781205.261600006, 17868359.7829, 17010311.716199998, 20839819.529899977, 20145558.467200004, 18576655.067900002, 16786432.533, 16809324.1537, 20846367.985099986, 23681894.3719, 25711826.94719999, 25897281.571700014, 23880094.552600004, 20496609.280999992, 19481900.380599998, 22598334.170899995, 25831168.858199995, 26941615.45340001, 26564951.4488, 22852112.109299995, 20791144.930299986, 21539253.232899997, 20474164.262300007, 18415254.409900006, 18228848.532699995, 18150797.508100003, 17041933.11320001, 16199697.1038, 16985028.7835, 14235955.4448, 12448921.009699998, 14326541.136899991, 15773216.759100007, 17104170.939900007, 17481601.9873, 18799236.490300007, 15630273.7851, 14779546.850799995, 19927840.510600008, 20980129.571399976, 20975157.29649999, 19962434.565899998, 20427139.755599998, 21643584.009900007, 19277338.039799996, 16873448.358799998, 14567563.6858, 15685064.328499991, 13958194.438500006, 12157775.021799998, 11084187.364099998, 12203860.493899995, 13405804.899500007, 12255293.511799999, 12683798.3899, 14034505.321199993, 13947466.0144, 10063780.884700004, 11142334.674199995, 14188588.680000003, 15950434.318700004, 15042928.256299997, 14447183.234599987, 13590242.472000003, 12332002.2198, 9598952.5344, 7432665.311399996, 6147931.1883000005, 9794825.928299999, 10178470.535999998, 8268736.203999998, 5553565.934999998, 5772138.7106, 6849371.5951000005, 6760862.140499994, 9207179.848, 10487653.48029999, 11394216.7231, 12111984.608699992, 11844562.345499996, 11437452.0242, 10170425.80960001, 11969176.832599998, 11614120.373600002, 10355775.056799999, 8742316.990900004, 9656084.850000005, 9314631.792599995, 7893178.113700002, 10485189.027600002, 9854051.3238, 11406715.776300002, 12943777.799200008, 12151874.950000005, 14578483.947299998, 15363757.73000001, 13809715.915200002, 12520351.0544, 14987110.6826, 14776931.491999997, 11643398.832599984, 12986594.550700001, 12442882.522300005, 10001093.366300005, 8545710.896000002, 7950902.339000004, 6569441.510800004, 6517738.587900002, 6858050.835600001, 7220512.501899999, 7472269.145400006, 6991827.520499994, 7473273.901199999, 7153870.188100001, 7099762.797100005, 7579969.970300002, 9262759.695299996, 9603067.542100009, 10676960.707400003, 9365752.797799997, 7763213.688199998, 7938733.0766, 8425159.289400006, 8289043.559600001, 7790199.523999993, 7784505.636999996, 7812067.9895, 8072014.569100003, 8240745.076499999, 9093364.193599997, 9177390.057299998, 8689613.477700008, 8412161.0172, 9889162.1396, 9795859.3293, 9319756.062799998, 8617051.962000003, 8610204.9932, 8559344.823299997, 8438133.5579, 8135546.443100001, 6986315.514700006, 6626586.784900003, 6776318.012399999, 6498207.163999998, 8014726.809199998, 7395881.443800002, 6954953.833599995, 5982871.846399997, 5871399.343000005, 5615278.667400005, 6669406.589699994, 6568333.1285000015, 6912420.061200005, 7020170.480799999, 6147259.700500003, 6104682.545599997, 6884881.6361000035, 8587864.489300001, 7607375.195800002, 7825005.883699999, 9600798.049599992, 7159481.983100001, 6001161.0334, 7290307.574999999, 7841478.0830999985, 8842293.149, 8385869.678400003, 8669023.5112, 9250890.898899995, 9182373.507100001, 9330035.794399997, 8694567.920699999, 7104306.214, 6505744.989699995, 6070300.646600001, 7556160.8728, 6008869.640100004, 6149187.032799999, 6289043.731300003, 6341160.662200002, 6475817.927799997, 6499374.377399999, 5738271.218200004, 5645578.7475999985, 5665798.745299998, 8269838.707000002, 6483538.584199999, 6300571.332600004, 5932781.666400001, 5390545.224399999, 5879275.783199997, 9212711.655300003, 10320058.363500006, 8587972.630900001, 8005554.1153, 7557880.724200003, 6027117.966899998, 5794619.891800003, 6748041.896200002, 9613319.922799993, 10818434.414800003, 10780372.9102, 10615656.211999996, 10192698.41619999, 10130460.084200006, 10862537.504999999, 11150398.039100002, 11183973.411499998, 10625901.4996, 6794982.923499997, 5933688.041799998, 5971773.702599998, 8342449.335699997, 11136459.068500001, 11550302.237600008, 11643757.20280001, 9848381.77389999, 6982726.259900001, 5703549.183399998, 6288467.368599997, 8136853.210700001, 10869960.0253, 10805206.38189999, 10326473.9219, 10248883.229499998, 10159086.122700002, 9222419.884200007, 7437954.7742000045, 7617762.641499999, 7642593.218700002, 7478366.1102, 6641540.210300003, 6348348.432000005, 7266047.794800001, 7720971.8654, 7696623.2303, 7648762.632299998, 7270540.832199997, 7541385.702400001, 6691820.679300001, 8449258.0023, 6947640.062300008, 6995337.124099999, 7189272.004799999, 7209072.5327999955, 6824316.663199993, 6857562.257599999, 6783278.468000003, 8620662.9164, 7219087.253900001, 8063005.637199998, 9352980.961700002, 8423281.497499997, 8639302.5618, 7695555.689899999, 6667406.310900002, 6949121.802899999, 7090480.182399999, 7199627.676899997, 6618454.212599999, 8093632.804700002, 7895761.990900003, 7085085.1790999975, 7412981.476700002, 7365461.240799999, 7642472.179900002, 7619937.358399998, 7694910.099800003, 8507917.126799999, 8576801.964, 8258074.215400003, 8284226.977699997, 8267815.812899998, 6796342.803400002, 6936247.451399998, 8033243.169100006, 8124273.224499998, 7887047.027900007, 8135624.947499995, 9358888.52280001, 9109031.709900007, 8704682.058700003, 8997209.0344, 9024667.765500003, 10555879.108300006, 10581415.467899993, 9754081.39760001, 8080842.537800004, 7838834.541899997, 9132366.699700007, 8208959.9641, 9387162.951900005, 10663609.04390001, 10707919.184999997, 10165062.366400005, 9816509.539199987, 11287610.503300004, 11164778.11750001, 11657714.220600002, 11893687.421499997, 9871343.5809, 8722774.7192, 10028731.758400002, 10513343.762999997, 9767549.785500007, 9014662.171899999, 9331282.569699999, 9528059.887800006, 8613243.007400002, 8816898.817699995, 9793930.884500004, 10433839.229100008, 10593800.0374, 9948612.750700008, 11367364.713400006, 11398871.4354, 10031028.102100002, 11272688.2015, 10932047.176500006, 10365216.081600003, 9842603.305800006, 11819109.250899997, 14158395.92109999, 16014675.632000003, 16354038.950400004, 16004285.404299997, 15184761.465700014, 13319038.549700003, 12635526.597, 12250260.028900001, 12820609.168799998, 11574854.293800002, 12508782.934800003, 11883043.160099993, 12154335.991000012, 12926572.683400003, 12772180.1861, 12145028.174100002, 12442200.556300003, 15353526.487200009, 18275836.020699997, 18846411.620500006, 20418913.894100018, 21422270.16230001, 19414887.802299984, 21389767.1161, 22304713.078500014, 22783655.98680002, 25778801.37329999, 23908941.464299995, 22914201.366800003, 25253679.618600007, 23046096.472900003, 18667558.37070001, 16350756.162700007, 16386499.132800005, 15053417.878999997, 13845923.291499995, 14255490.932599999, 16800494.049399998, 17187031.984399997, 16214204.067300018, 16711800.26330001, 18148425.387700018, 17010034.902299996], \"yaxis\": \"y\"}, {\"hoverlabel\": {\"namelength\": 0}, \"hovertemplate\": \"meter=hotwater<br>date=%{x}<br>meter_reading-sum=%{y}\", \"legendgroup\": \"meter=hotwater\", \"line\": {\"color\": \"#ab63fa\", \"dash\": \"solid\"}, \"mode\": \"lines\", \"name\": \"meter=hotwater\", \"showlegend\": true, \"type\": \"scatter\", \"x\": [\"2016-01-01\", \"2016-01-02\", \"2016-01-03\", \"2016-01-04\", \"2016-01-05\", \"2016-01-06\", \"2016-01-07\", \"2016-01-08\", \"2016-01-09\", \"2016-01-10\", \"2016-01-11\", \"2016-01-12\", \"2016-01-13\", \"2016-01-14\", \"2016-01-15\", \"2016-01-16\", \"2016-01-17\", \"2016-01-18\", \"2016-01-19\", \"2016-01-20\", \"2016-01-21\", \"2016-01-22\", \"2016-01-23\", \"2016-01-24\", \"2016-01-25\", \"2016-01-26\", \"2016-01-27\", \"2016-01-28\", \"2016-01-29\", \"2016-01-30\", \"2016-01-31\", \"2016-02-01\", \"2016-02-02\", \"2016-02-03\", \"2016-02-04\", \"2016-02-05\", \"2016-02-06\", \"2016-02-07\", \"2016-02-08\", \"2016-02-09\", \"2016-02-10\", \"2016-02-11\", \"2016-02-12\", \"2016-02-13\", \"2016-02-14\", \"2016-02-15\", \"2016-02-16\", \"2016-02-17\", \"2016-02-18\", \"2016-02-19\", \"2016-02-20\", \"2016-02-21\", \"2016-02-22\", \"2016-02-23\", \"2016-02-24\", \"2016-02-25\", \"2016-02-26\", \"2016-02-27\", \"2016-02-28\", \"2016-02-29\", \"2016-03-01\", \"2016-03-02\", \"2016-03-03\", \"2016-03-04\", \"2016-03-05\", \"2016-03-06\", \"2016-03-07\", \"2016-03-08\", \"2016-03-09\", \"2016-03-10\", \"2016-03-11\", \"2016-03-12\", \"2016-03-13\", \"2016-03-14\", \"2016-03-15\", \"2016-03-16\", \"2016-03-17\", \"2016-03-18\", \"2016-03-19\", \"2016-03-20\", \"2016-03-21\", \"2016-03-22\", \"2016-03-23\", \"2016-03-24\", \"2016-03-25\", \"2016-03-26\", \"2016-03-27\", \"2016-03-28\", \"2016-03-29\", \"2016-03-30\", \"2016-03-31\", \"2016-04-01\", \"2016-04-02\", \"2016-04-03\", \"2016-04-04\", \"2016-04-05\", \"2016-04-06\", \"2016-04-07\", \"2016-04-08\", \"2016-04-09\", \"2016-04-10\", \"2016-04-11\", \"2016-04-12\", \"2016-04-13\", \"2016-04-14\", \"2016-04-15\", \"2016-04-16\", \"2016-04-17\", \"2016-04-18\", \"2016-04-19\", \"2016-04-20\", \"2016-04-21\", \"2016-04-22\", \"2016-04-23\", \"2016-04-24\", \"2016-04-25\", \"2016-04-26\", \"2016-04-27\", \"2016-04-28\", \"2016-04-29\", \"2016-04-30\", \"2016-05-01\", \"2016-05-02\", \"2016-05-03\", \"2016-05-04\", \"2016-05-05\", \"2016-05-06\", \"2016-05-07\", \"2016-05-08\", \"2016-05-09\", \"2016-05-10\", \"2016-05-11\", \"2016-05-12\", \"2016-05-13\", \"2016-05-14\", \"2016-05-15\", \"2016-05-16\", \"2016-05-17\", \"2016-05-18\", \"2016-05-19\", \"2016-05-20\", \"2016-05-21\", \"2016-05-22\", \"2016-05-23\", \"2016-05-24\", \"2016-05-25\", \"2016-05-26\", \"2016-05-27\", \"2016-05-28\", \"2016-05-29\", \"2016-05-30\", \"2016-05-31\", \"2016-06-01\", \"2016-06-02\", \"2016-06-03\", \"2016-06-04\", \"2016-06-05\", \"2016-06-06\", \"2016-06-07\", \"2016-06-08\", \"2016-06-09\", \"2016-06-10\", \"2016-06-11\", \"2016-06-12\", \"2016-06-13\", \"2016-06-14\", \"2016-06-15\", \"2016-06-16\", \"2016-06-17\", \"2016-06-18\", \"2016-06-19\", \"2016-06-20\", \"2016-06-21\", \"2016-06-22\", \"2016-06-23\", \"2016-06-24\", \"2016-06-25\", \"2016-06-26\", \"2016-06-27\", \"2016-06-28\", \"2016-06-29\", \"2016-06-30\", \"2016-07-01\", \"2016-07-02\", \"2016-07-03\", \"2016-07-04\", \"2016-07-05\", \"2016-07-06\", \"2016-07-07\", \"2016-07-08\", \"2016-07-09\", \"2016-07-10\", \"2016-07-11\", \"2016-07-12\", \"2016-07-13\", \"2016-07-14\", \"2016-07-15\", \"2016-07-16\", \"2016-07-17\", \"2016-07-18\", \"2016-07-19\", \"2016-07-20\", \"2016-07-21\", \"2016-07-22\", \"2016-07-23\", \"2016-07-24\", \"2016-07-25\", \"2016-07-26\", \"2016-07-27\", \"2016-07-28\", \"2016-07-29\", \"2016-07-30\", \"2016-07-31\", \"2016-08-01\", \"2016-08-02\", \"2016-08-03\", \"2016-08-04\", \"2016-08-05\", \"2016-08-06\", \"2016-08-07\", \"2016-08-08\", \"2016-08-09\", \"2016-08-10\", \"2016-08-11\", \"2016-08-12\", \"2016-08-13\", \"2016-08-14\", \"2016-08-15\", \"2016-08-16\", \"2016-08-17\", \"2016-08-18\", \"2016-08-19\", \"2016-08-20\", \"2016-08-21\", \"2016-08-22\", \"2016-08-23\", \"2016-08-24\", \"2016-08-25\", \"2016-08-26\", \"2016-08-27\", \"2016-08-28\", \"2016-08-29\", \"2016-08-30\", \"2016-08-31\", \"2016-09-01\", \"2016-09-02\", \"2016-09-03\", \"2016-09-04\", \"2016-09-05\", \"2016-09-06\", \"2016-09-07\", \"2016-09-08\", \"2016-09-09\", \"2016-09-10\", \"2016-09-11\", \"2016-09-12\", \"2016-09-13\", \"2016-09-14\", \"2016-09-15\", \"2016-09-16\", \"2016-09-17\", \"2016-09-18\", \"2016-09-19\", \"2016-09-20\", \"2016-09-21\", \"2016-09-22\", \"2016-09-23\", \"2016-09-24\", \"2016-09-25\", \"2016-09-26\", \"2016-09-27\", \"2016-09-28\", \"2016-09-29\", \"2016-09-30\", \"2016-10-01\", \"2016-10-02\", \"2016-10-03\", \"2016-10-04\", \"2016-10-05\", \"2016-10-06\", \"2016-10-07\", \"2016-10-08\", \"2016-10-09\", \"2016-10-10\", \"2016-10-11\", \"2016-10-12\", \"2016-10-13\", \"2016-10-14\", \"2016-10-15\", \"2016-10-16\", \"2016-10-17\", \"2016-10-18\", \"2016-10-19\", \"2016-10-20\", \"2016-10-21\", \"2016-10-22\", \"2016-10-23\", \"2016-10-24\", \"2016-10-25\", \"2016-10-26\", \"2016-10-27\", \"2016-10-28\", \"2016-10-29\", \"2016-10-30\", \"2016-10-31\", \"2016-11-01\", \"2016-11-02\", \"2016-11-03\", \"2016-11-04\", \"2016-11-05\", \"2016-11-06\", \"2016-11-07\", \"2016-11-08\", \"2016-11-09\", \"2016-11-10\", \"2016-11-11\", \"2016-11-12\", \"2016-11-13\", \"2016-11-14\", \"2016-11-15\", \"2016-11-16\", \"2016-11-17\", \"2016-11-18\", \"2016-11-19\", \"2016-11-20\", \"2016-11-21\", \"2016-11-22\", \"2016-11-23\", \"2016-11-24\", \"2016-11-25\", \"2016-11-26\", \"2016-11-27\", \"2016-11-28\", \"2016-11-29\", \"2016-11-30\", \"2016-12-01\", \"2016-12-02\", \"2016-12-03\", \"2016-12-04\", \"2016-12-05\", \"2016-12-06\", \"2016-12-07\", \"2016-12-08\", \"2016-12-09\", \"2016-12-10\", \"2016-12-11\", \"2016-12-12\", \"2016-12-13\", \"2016-12-14\", \"2016-12-15\", \"2016-12-16\", \"2016-12-17\", \"2016-12-18\", \"2016-12-19\", \"2016-12-20\", \"2016-12-21\", \"2016-12-22\", \"2016-12-23\", \"2016-12-24\", \"2016-12-25\", \"2016-12-26\", \"2016-12-27\", \"2016-12-28\", \"2016-12-29\", \"2016-12-30\", \"2016-12-31\"], \"xaxis\": \"x\", \"y\": [1609989.3408, 2015528.7510000004, 1843819.8814, 2695869.753000001, 2483300.945, 2257087.2857, 1930500.7806999998, 1909970.4750999995, 1638573.7005999996, 1591092.8424000007, 2593002.232400001, 2624393.2477000006, 2699869.2272999994, 2299502.3770999997, 2128767.3688, 1754750.9592000006, 2193677.1350000007, 3210357.8402999993, 2956393.6032000007, 2407151.4576999997, 3137280.5774, 3284991.2329000016, 2391365.5899999994, 2168169.0207, 2288384.1481000003, 2063015.2149000003, 1826236.3034000006, 2042894.93, 1889583.5820000009, 1954403.624399999, 1564588.2442000003, 1569799.6563999993, 1569579.5627000001, 1530222.3480000005, 1591991.9764999996, 1967128.9187000003, 2011627.6626999998, 2378446.5718000005, 2239174.6286, 1912656.6487999996, 2296285.1354999994, 1926728.0129999996, 1940924.8343, 2084307.3667999997, 2808388.9304, 2567083.095199999, 2159499.1692000004, 2369220.5506, 2603240.497499998, 2185220.5275000003, 1239953.2949000003, 1224360.3172999995, 1810220.6190000002, 1480147.5952, 1495371.3978999993, 1322608.1970999995, 2113846.7972999993, 1951869.544400001, 1636333.1737000002, 1689323.5950999998, 1573443.5229000004, 1418993.6378000006, 2303712.6547999997, 1973171.4268000007, 1559606.3720000004, 1928813.4904999998, 2488644.8029000014, 1958880.2079999994, 1891931.0234000005, 1775624.2464999992, 1429544.9276, 1162088.5454, 938826.3672999998, 1725705.3594000007, 2562505.9521000003, 2016513.3825000008, 1266871.1530000002, 1648636.2639000004, 1238614.3004000005, 1652247.0381, 1307779.2765999993, 1432264.0724999995, 1529460.3736000005, 1099271.4809999997, 945262.5070999998, 1835485.3328000007, 1425005.3259000008, 1026278.0632000004, 1204021.6162000003, 1495209.197, 1297862.087, 916905.6566000001, 983830.9632999998, 1470347.4077000003, 1436152.0928000002, 1576063.3524000002, 1520193.068, 1115126.8660000002, 1419535.8597999997, 1636486.3396000003, 1716852.7989999999, 1311849.4541, 1251397.2018000002, 1124085.2685000002, 1098887.2330999998, 1117262.5766999999, 828959.2032999999, 1043519.4233, 881801.2623000001, 963662.6441000002, 1009401.6653999999, 841245.9623999998, 678681.9075, 1152457.2112000003, 1238985.5291000002, 905565.1631000001, 799935.5892999999, 854815.4084, 979755.5502000004, 884859.8753000003, 830362.5535000004, 839795.7886000001, 983643.9922000002, 880620.7496, 954762.3776000001, 760861.5022000001, 793801.3121, 1204923.5155000002, 769333.5238, 950573.6501000001, 867106.1542000001, 730879.9323, 677479.7807999998, 639888.7123999998, 496679.9306999999, 772430.2078, 825394.3965000003, 744046.2183999999, 756868.7182, 714443.8748, 667632.3140000001, 689768.8544000001, 686601.5462, 656988.7589, 616856.2998000002, 571438.141, 522139.8370999999, 475053.87749999994, 474696.7692999999, 493714.5932000001, 525135.7849999999, 496880.05309999996, 535636.2986999999, 877185.4638000004, 1296456.124, 785097.2640999999, 524312.8458000001, 500360.9965000001, 484350.1309000001, 542502.7868, 543785.5666999999, 492740.9371000001, 464318.70910000004, 461134.3132000001, 481620.0031, 500119.13749999984, 476882.56249999977, 634308.4581, 952390.4227, 492055.13159999985, 472467.2099, 437365.4778, 430782.4624999999, 440055.0597, 496841.00700000004, 495133.8832999999, 461626.7541, 456891.65460000007, 428175.79029999994, 453987.20519999985, 463250.6640999998, 476981.05989999993, 527415.0574999999, 971584.2498000001, 976088.3471999997, 957650.9084000001, 854138.5577000004, 743996.7349999999, 840571.6207000004, 971982.1303999999, 763056.6475000003, 671492.0448999999, 426509.3171000001, 551700.1667999999, 653409.7476000004, 560822.6278, 654913.9574000002, 561093.4108, 660419.3731999998, 735131.1177999998, 689391.0738999998, 932600.1378000004, 1271077.0287, 1157109.9334, 1407889.4229999988, 656718.1274, 969313.7949000004, 884284.5411999997, 1262193.1288000005, 1361938.135000001, 1185445.9732000001, 1481421.7955999994, 1744590.269400001, 1397198.0397, 1159934.1257000004, 897347.5617000002, 1893522.773899999, 1572864.2336000002, 1186270.3817999994, 1089776.9868, 815382.2612999999, 1536079.9352000004, 837775.7440000001, 1043622.6642000001, 381701.32389999996, 1232579.9202999999, 760134.5639000004, 698993.5303, 1095724.7683000003, 740119.3190999998, 766602.3802999998, 706934.3194000002, 1020983.3432999998, 872281.1029000002, 1009005.9606999997, 1058564.2762000002, 1413646.9813, 1404733.4038999996, 1161774.2787000001, 2209163.5658000004, 1938186.9809999994, 1433366.9685999996, 522459.6120999998, 1291176.6324999996, 898125.5691999998, 868000.3587999997, 553332.4522, 476115.1235000001, 483756.88689999987, 458330.50139999983, 438278.9820999999, 634539.8702999998, 1527832.9272000003, 1120785.6014000003, 1548196.7101000005, 1511182.088, 1356849.2571999999, 1662681.6934999998, 1533975.0685999992, 509875.2751999999, 507793.18010000006, 502192.22160000005, 507311.8253, 530694.8907999999, 1568422.8810000003, 1710281.2992999996, 999635.8985000001, 984424.1865999999, 561579.6794000001, 603741.6596000002, 617773.0561000002, 653112.0730999999, 539206.8803999999, 621191.3705000001, 563232.8792, 517957.344, 523162.5188000001, 646528.6369999999, 527646.0198, 611992.2368, 514299.442, 527033.7239, 542251.6056, 736739.6214999999, 683413.7517999999, 562136.4489000001, 684649.2032999999, 807969.3779, 876241.6337, 751100.6564000003, 582833.2662999999, 523925.13860000006, 570286.6152, 1076827.7613, 992207.8322, 1329651.2305000003, 1224221.0703, 1150556.1942, 1319557.1073000005, 1608170.8383000004, 2144384.9199, 2156558.0228, 1709022.8642, 1261770.1964999998, 1785834.9281000006, 1383692.2741999996, 1571254.8074, 1424320.3036, 1675141.1895999997, 1700851.4915999996, 1888254.3213999993, 1928449.1907000006, 1582038.7866999996, 1580045.729, 1687647.7274999996, 2201252.6959000006, 2165448.2863, 2217686.1320999996, 1878549.6249000004, 2254064.9602999995, 1780471.7639000006, 1487279.5009, 2118764.4034, 1168254.3035000002, 1926303.8928, 1547903.3020000004, 2030263.8906999996, 1973940.779300001, 2211477.392600001, 1768958.060100001, 1633189.9681000002, 1691384.3589000003, 1865661.4951999995, 1746739.5218000007, 1406075.0562, 1325321.4485000002, 1720884.5883, 1642237.9299, 1703920.2111, 2086068.116999999, 2377927.8825000003, 2124962.9813999995, 2410194.069600001, 2191899.823299999, 1987621.5524000004, 2092720.9923999994, 1757351.0168999997, 1677171.5203999998, 1688705.1900999998, 2048268.4631999992, 2898089.0094999997, 3353215.5106000006, 3740509.8387, 4222781.447300001, 3182249.3604999986, 2420085.8761000005, 1552696.2883999995, 1615755.0489000005, 2229488.5546000004, 1827355.3885000004, 2300436.0066, 2338996.739, 1811680.8195999998, 1895433.8545999993, 2077852.8343999996, 2086812.8149], \"yaxis\": \"y\"}],\n",
              "                        {\"legend\": {\"tracegroupgap\": 0}, \"margin\": {\"t\": 60}, \"template\": {\"data\": {\"bar\": [{\"error_x\": {\"color\": \"#2a3f5f\"}, \"error_y\": {\"color\": \"#2a3f5f\"}, \"marker\": {\"line\": {\"color\": \"#E5ECF6\", \"width\": 0.5}}, \"type\": \"bar\"}], \"barpolar\": [{\"marker\": {\"line\": {\"color\": \"#E5ECF6\", \"width\": 0.5}}, \"type\": \"barpolar\"}], \"carpet\": [{\"aaxis\": {\"endlinecolor\": \"#2a3f5f\", \"gridcolor\": \"white\", \"linecolor\": \"white\", \"minorgridcolor\": \"white\", \"startlinecolor\": \"#2a3f5f\"}, \"baxis\": {\"endlinecolor\": \"#2a3f5f\", \"gridcolor\": \"white\", \"linecolor\": \"white\", \"minorgridcolor\": \"white\", \"startlinecolor\": \"#2a3f5f\"}, \"type\": \"carpet\"}], \"choropleth\": [{\"colorbar\": {\"outlinewidth\": 0, \"ticks\": \"\"}, \"type\": \"choropleth\"}], \"contour\": [{\"colorbar\": {\"outlinewidth\": 0, \"ticks\": \"\"}, \"colorscale\": [[0.0, \"#0d0887\"], [0.1111111111111111, \"#46039f\"], [0.2222222222222222, \"#7201a8\"], [0.3333333333333333, \"#9c179e\"], [0.4444444444444444, \"#bd3786\"], [0.5555555555555556, \"#d8576b\"], [0.6666666666666666, \"#ed7953\"], [0.7777777777777778, \"#fb9f3a\"], [0.8888888888888888, \"#fdca26\"], [1.0, \"#f0f921\"]], \"type\": \"contour\"}], \"contourcarpet\": [{\"colorbar\": {\"outlinewidth\": 0, \"ticks\": \"\"}, \"type\": \"contourcarpet\"}], \"heatmap\": [{\"colorbar\": {\"outlinewidth\": 0, \"ticks\": \"\"}, \"colorscale\": [[0.0, \"#0d0887\"], [0.1111111111111111, \"#46039f\"], [0.2222222222222222, \"#7201a8\"], [0.3333333333333333, \"#9c179e\"], [0.4444444444444444, \"#bd3786\"], [0.5555555555555556, \"#d8576b\"], [0.6666666666666666, \"#ed7953\"], [0.7777777777777778, \"#fb9f3a\"], [0.8888888888888888, \"#fdca26\"], [1.0, \"#f0f921\"]], \"type\": \"heatmap\"}], \"heatmapgl\": [{\"colorbar\": {\"outlinewidth\": 0, \"ticks\": \"\"}, \"colorscale\": [[0.0, \"#0d0887\"], [0.1111111111111111, \"#46039f\"], [0.2222222222222222, \"#7201a8\"], [0.3333333333333333, \"#9c179e\"], [0.4444444444444444, \"#bd3786\"], [0.5555555555555556, \"#d8576b\"], [0.6666666666666666, \"#ed7953\"], [0.7777777777777778, \"#fb9f3a\"], [0.8888888888888888, \"#fdca26\"], [1.0, \"#f0f921\"]], \"type\": \"heatmapgl\"}], \"histogram\": [{\"marker\": {\"colorbar\": {\"outlinewidth\": 0, \"ticks\": \"\"}}, \"type\": \"histogram\"}], \"histogram2d\": [{\"colorbar\": {\"outlinewidth\": 0, \"ticks\": \"\"}, \"colorscale\": [[0.0, \"#0d0887\"], [0.1111111111111111, \"#46039f\"], [0.2222222222222222, \"#7201a8\"], [0.3333333333333333, \"#9c179e\"], [0.4444444444444444, \"#bd3786\"], [0.5555555555555556, \"#d8576b\"], [0.6666666666666666, \"#ed7953\"], [0.7777777777777778, \"#fb9f3a\"], [0.8888888888888888, \"#fdca26\"], [1.0, \"#f0f921\"]], \"type\": \"histogram2d\"}], \"histogram2dcontour\": [{\"colorbar\": {\"outlinewidth\": 0, \"ticks\": \"\"}, \"colorscale\": [[0.0, \"#0d0887\"], [0.1111111111111111, \"#46039f\"], [0.2222222222222222, \"#7201a8\"], [0.3333333333333333, \"#9c179e\"], [0.4444444444444444, \"#bd3786\"], [0.5555555555555556, \"#d8576b\"], [0.6666666666666666, \"#ed7953\"], [0.7777777777777778, \"#fb9f3a\"], [0.8888888888888888, \"#fdca26\"], [1.0, \"#f0f921\"]], \"type\": \"histogram2dcontour\"}], \"mesh3d\": [{\"colorbar\": {\"outlinewidth\": 0, \"ticks\": \"\"}, \"type\": \"mesh3d\"}], \"parcoords\": [{\"line\": {\"colorbar\": {\"outlinewidth\": 0, \"ticks\": \"\"}}, \"type\": \"parcoords\"}], \"pie\": [{\"automargin\": true, \"type\": \"pie\"}], \"scatter\": [{\"marker\": {\"colorbar\": {\"outlinewidth\": 0, \"ticks\": \"\"}}, \"type\": \"scatter\"}], \"scatter3d\": [{\"line\": {\"colorbar\": {\"outlinewidth\": 0, \"ticks\": \"\"}}, \"marker\": {\"colorbar\": {\"outlinewidth\": 0, \"ticks\": \"\"}}, \"type\": \"scatter3d\"}], \"scattercarpet\": [{\"marker\": {\"colorbar\": {\"outlinewidth\": 0, \"ticks\": \"\"}}, \"type\": \"scattercarpet\"}], \"scattergeo\": [{\"marker\": {\"colorbar\": {\"outlinewidth\": 0, \"ticks\": \"\"}}, \"type\": \"scattergeo\"}], \"scattergl\": [{\"marker\": {\"colorbar\": {\"outlinewidth\": 0, \"ticks\": \"\"}}, \"type\": \"scattergl\"}], \"scattermapbox\": [{\"marker\": {\"colorbar\": {\"outlinewidth\": 0, \"ticks\": \"\"}}, \"type\": \"scattermapbox\"}], \"scatterpolar\": [{\"marker\": {\"colorbar\": {\"outlinewidth\": 0, \"ticks\": \"\"}}, \"type\": \"scatterpolar\"}], \"scatterpolargl\": [{\"marker\": {\"colorbar\": {\"outlinewidth\": 0, \"ticks\": \"\"}}, \"type\": \"scatterpolargl\"}], \"scatterternary\": [{\"marker\": {\"colorbar\": {\"outlinewidth\": 0, \"ticks\": \"\"}}, \"type\": \"scatterternary\"}], \"surface\": [{\"colorbar\": {\"outlinewidth\": 0, \"ticks\": \"\"}, \"colorscale\": [[0.0, \"#0d0887\"], [0.1111111111111111, \"#46039f\"], [0.2222222222222222, \"#7201a8\"], [0.3333333333333333, \"#9c179e\"], [0.4444444444444444, \"#bd3786\"], [0.5555555555555556, \"#d8576b\"], [0.6666666666666666, \"#ed7953\"], [0.7777777777777778, \"#fb9f3a\"], [0.8888888888888888, \"#fdca26\"], [1.0, \"#f0f921\"]], \"type\": \"surface\"}], \"table\": [{\"cells\": {\"fill\": {\"color\": \"#EBF0F8\"}, \"line\": {\"color\": \"white\"}}, \"header\": {\"fill\": {\"color\": \"#C8D4E3\"}, \"line\": {\"color\": \"white\"}}, \"type\": \"table\"}]}, \"layout\": {\"annotationdefaults\": {\"arrowcolor\": \"#2a3f5f\", \"arrowhead\": 0, \"arrowwidth\": 1}, \"coloraxis\": {\"colorbar\": {\"outlinewidth\": 0, \"ticks\": \"\"}}, \"colorscale\": {\"diverging\": [[0, \"#8e0152\"], [0.1, \"#c51b7d\"], [0.2, \"#de77ae\"], [0.3, \"#f1b6da\"], [0.4, \"#fde0ef\"], [0.5, \"#f7f7f7\"], [0.6, \"#e6f5d0\"], [0.7, \"#b8e186\"], [0.8, \"#7fbc41\"], [0.9, \"#4d9221\"], [1, \"#276419\"]], \"sequential\": [[0.0, \"#0d0887\"], [0.1111111111111111, \"#46039f\"], [0.2222222222222222, \"#7201a8\"], [0.3333333333333333, \"#9c179e\"], [0.4444444444444444, \"#bd3786\"], [0.5555555555555556, \"#d8576b\"], [0.6666666666666666, \"#ed7953\"], [0.7777777777777778, \"#fb9f3a\"], [0.8888888888888888, \"#fdca26\"], [1.0, \"#f0f921\"]], \"sequentialminus\": [[0.0, \"#0d0887\"], [0.1111111111111111, \"#46039f\"], [0.2222222222222222, \"#7201a8\"], [0.3333333333333333, \"#9c179e\"], [0.4444444444444444, \"#bd3786\"], [0.5555555555555556, \"#d8576b\"], [0.6666666666666666, \"#ed7953\"], [0.7777777777777778, \"#fb9f3a\"], [0.8888888888888888, \"#fdca26\"], [1.0, \"#f0f921\"]]}, \"colorway\": [\"#636efa\", \"#EF553B\", \"#00cc96\", \"#ab63fa\", \"#FFA15A\", \"#19d3f3\", \"#FF6692\", \"#B6E880\", \"#FF97FF\", \"#FECB52\"], \"font\": {\"color\": \"#2a3f5f\"}, \"geo\": {\"bgcolor\": \"white\", \"lakecolor\": \"white\", \"landcolor\": \"#E5ECF6\", \"showlakes\": true, \"showland\": true, \"subunitcolor\": \"white\"}, \"hoverlabel\": {\"align\": \"left\"}, \"hovermode\": \"closest\", \"mapbox\": {\"style\": \"light\"}, \"paper_bgcolor\": \"white\", \"plot_bgcolor\": \"#E5ECF6\", \"polar\": {\"angularaxis\": {\"gridcolor\": \"white\", \"linecolor\": \"white\", \"ticks\": \"\"}, \"bgcolor\": \"#E5ECF6\", \"radialaxis\": {\"gridcolor\": \"white\", \"linecolor\": \"white\", \"ticks\": \"\"}}, \"scene\": {\"xaxis\": {\"backgroundcolor\": \"#E5ECF6\", \"gridcolor\": \"white\", \"gridwidth\": 2, \"linecolor\": \"white\", \"showbackground\": true, \"ticks\": \"\", \"zerolinecolor\": \"white\"}, \"yaxis\": {\"backgroundcolor\": \"#E5ECF6\", \"gridcolor\": \"white\", \"gridwidth\": 2, \"linecolor\": \"white\", \"showbackground\": true, \"ticks\": \"\", \"zerolinecolor\": \"white\"}, \"zaxis\": {\"backgroundcolor\": \"#E5ECF6\", \"gridcolor\": \"white\", \"gridwidth\": 2, \"linecolor\": \"white\", \"showbackground\": true, \"ticks\": \"\", \"zerolinecolor\": \"white\"}}, \"shapedefaults\": {\"line\": {\"color\": \"#2a3f5f\"}}, \"ternary\": {\"aaxis\": {\"gridcolor\": \"white\", \"linecolor\": \"white\", \"ticks\": \"\"}, \"baxis\": {\"gridcolor\": \"white\", \"linecolor\": \"white\", \"ticks\": \"\"}, \"bgcolor\": \"#E5ECF6\", \"caxis\": {\"gridcolor\": \"white\", \"linecolor\": \"white\", \"ticks\": \"\"}}, \"title\": {\"x\": 0.05}, \"xaxis\": {\"automargin\": true, \"gridcolor\": \"white\", \"linecolor\": \"white\", \"ticks\": \"\", \"title\": {\"standoff\": 15}, \"zerolinecolor\": \"white\", \"zerolinewidth\": 2}, \"yaxis\": {\"automargin\": true, \"gridcolor\": \"white\", \"linecolor\": \"white\", \"ticks\": \"\", \"title\": {\"standoff\": 15}, \"zerolinecolor\": \"white\", \"zerolinewidth\": 2}}}, \"title\": {\"text\": \"total consommation (KWH) apr\\u00e8s \\u00e9limination du building 1099\"}, \"xaxis\": {\"anchor\": \"y\", \"domain\": [0.0, 1.0], \"title\": {\"text\": \"date\"}}, \"yaxis\": {\"anchor\": \"x\", \"domain\": [0.0, 1.0], \"title\": {\"text\": \"meter_reading-sum\"}}},\n",
              "                        {\"responsive\": true}\n",
              "                    ).then(function(){\n",
              "                            \n",
              "var gd = document.getElementById('bf3ae62e-5962-4cd6-8e4e-42c77bcd6c24');\n",
              "var x = new MutationObserver(function (mutations, observer) {{\n",
              "        var display = window.getComputedStyle(gd).display;\n",
              "        if (!display || display === 'none') {{\n",
              "            console.log([gd, 'removed!']);\n",
              "            Plotly.purge(gd);\n",
              "            observer.disconnect();\n",
              "        }}\n",
              "}});\n",
              "\n",
              "// Listen for the removal of the full notebook cells\n",
              "var notebookContainer = gd.closest('#notebook-container');\n",
              "if (notebookContainer) {{\n",
              "    x.observe(notebookContainer, {childList: true});\n",
              "}}\n",
              "\n",
              "// Listen for the clearing of the current output cell\n",
              "var outputEl = gd.closest('.output');\n",
              "if (outputEl) {{\n",
              "    x.observe(outputEl, {childList: true});\n",
              "}}\n",
              "\n",
              "                        })\n",
              "                };\n",
              "                \n",
              "            </script>\n",
              "        </div>\n",
              "</body>\n",
              "</html>"
            ]
          },
          "metadata": {
            "tags": []
          }
        }
      ]
    },
    {
      "cell_type": "code",
      "metadata": {
        "id": "ZQkXRT139tft",
        "colab_type": "code",
        "colab": {}
      },
      "source": [
        "del daily_train_AR, daily_train_AR_agg, daily_train, daily_train_agg "
      ],
      "execution_count": 0,
      "outputs": []
    },
    {
      "cell_type": "code",
      "metadata": {
        "id": "esh9lxnOzGYp",
        "colab_type": "code",
        "colab": {}
      },
      "source": [
        "#Eliminer les données relatives au Building 1099 dans le train dataset\n",
        "train.loc[train['building_id']==1099,\"outlier\"]=True\n",
        "train = train[train[\"outlier\"]!=True]\n"
      ],
      "execution_count": 0,
      "outputs": []
    },
    {
      "cell_type": "markdown",
      "metadata": {
        "id": "WOfzAFnUOGfY",
        "colab_type": "text"
      },
      "source": [
        "## Fill out missing data"
      ]
    },
    {
      "cell_type": "code",
      "metadata": {
        "trusted": true,
        "id": "d6lSBu-ey4dE",
        "colab_type": "code",
        "outputId": "73beb362-433f-4fff-dc31-fc0484ef06b3",
        "colab": {
          "base_uri": "https://localhost:8080/",
          "height": 323
        }
      },
      "source": [
        "# (%) Missing data Before fill out\n",
        "100 * train.isnull().sum() / len(train)"
      ],
      "execution_count": 0,
      "outputs": [
        {
          "output_type": "execute_result",
          "data": {
            "text/plain": [
              "building_id             0.000000\n",
              "meter                   0.000000\n",
              "timestamp               0.000000\n",
              "meter_reading           0.000000\n",
              "site_id                 0.000000\n",
              "primary_use             0.000000\n",
              "square_feet             0.000000\n",
              "year_built             59.955237\n",
              "floor_count            82.637685\n",
              "air_temperature         0.478520\n",
              "cloud_coverage         43.650529\n",
              "dew_temperature         0.495759\n",
              "precip_depth_1_hr      18.560738\n",
              "sea_level_pressure      6.096616\n",
              "wind_direction          7.171867\n",
              "wind_speed              0.711299\n",
              "outlier               100.000000\n",
              "dtype: float64"
            ]
          },
          "metadata": {
            "tags": []
          },
          "execution_count": 15
        }
      ]
    },
    {
      "cell_type": "code",
      "metadata": {
        "_uuid": "d629ff2d2480ee46fbb7e2d37f6b5fab8052498a",
        "_cell_guid": "79c7e3d0-c299-4dcb-8224-4455121ee9b0",
        "trusted": true,
        "id": "JTj1GTemy4dG",
        "colab_type": "code",
        "colab": {}
      },
      "source": [
        "# consommation d'électricité avant '2016-05-21 00:00:00' est nulle pour tout les building vont être eliminés \n",
        "train.loc[(train['meter']==0) & (train['site_id']==0) & (train['timestamp']<'2016-05-21 00:00:00'), 'drop'] = True\n",
        "train = train[train['drop']!=True]\n",
        "\n",
        "# Création des nouvelles features \n",
        "    # 1) Hour et Weekday à partir de la variable timestamp \n",
        "train[\"timestamp\"] = pd.to_datetime(train[\"timestamp\"])\n",
        "train[\"hour\"] = train[\"timestamp\"].dt.hour\n",
        "train[\"weekday\"] = train[\"timestamp\"].dt.weekday\n",
        "\n",
        "    # 2) On utilise le beaufort scale pour convertir le wind speed en une variable discrète \n",
        "beaufort = [(0, 0, 0.3), (1, 0.3, 1.6), (2, 1.6, 3.4), (3, 3.4, 5.5), (4, 5.5, 8), (5, 8, 10.8), (6, 10.8, 13.9), \n",
        "          (7, 13.9, 17.2), (8, 17.2, 20.8), (9, 20.8, 24.5), (10, 24.5, 28.5), (11, 28.5, 33), (12, 33, 200)]\n",
        "\n",
        "for item in beaufort:\n",
        "    train.loc[(train['wind_speed']>=item[1]) & (train['wind_speed']<item[2]), 'beaufort_scale'] = item[0]\n",
        "\n",
        "\n",
        "#Remplir les valeurs manquantes des variables numériques par la moyenne horaire par type de metric \n",
        "def average_imputation(df, column_name):\n",
        "    imputation = df.groupby(['timestamp'])[column_name].mean()  \n",
        "    df.loc[df[column_name].isnull(), column_name] = df[df[column_name].isnull()][[column_name]].apply(lambda x: imputation[df['timestamp'][x.index]].values)\n",
        "    del imputation\n",
        "    return df\n",
        "train = average_imputation(train, 'wind_speed')\n",
        "train = average_imputation(train,'sea_level_pressure')\n",
        "train = average_imputation(train,'dew_temperature')\n",
        "train = average_imputation(train, 'air_temperature')\n",
        "train = average_imputation(train,'precip_depth_1_hr')\n",
        "train = average_imputation(train, 'cloud_coverage')\n",
        "train['cloud_coverage']=round(train['cloud_coverage'])\n",
        "train['wind_direction'] = train['wind_direction'].apply(lambda x: random.random() * 360.0 if (math.isnan(x)) else x)\n",
        "\n",
        "del train[\"timestamp\"]"
      ],
      "execution_count": 0,
      "outputs": []
    },
    {
      "cell_type": "code",
      "metadata": {
        "trusted": true,
        "id": "PFxvuKMDy4dJ",
        "colab_type": "code",
        "outputId": "59195e40-f60d-4ce3-81ab-998f1c402b09",
        "colab": {
          "base_uri": "https://localhost:8080/",
          "height": 374
        }
      },
      "source": [
        "# (%) Missing data After fill out\n",
        "100 * train.isnull().sum() / len(train)"
      ],
      "execution_count": 0,
      "outputs": [
        {
          "output_type": "execute_result",
          "data": {
            "text/plain": [
              "building_id             0.000000\n",
              "meter                   0.000000\n",
              "meter_reading           0.000000\n",
              "site_id                 0.000000\n",
              "primary_use             0.000000\n",
              "square_feet             0.000000\n",
              "year_built             61.008035\n",
              "floor_count            82.332808\n",
              "air_temperature         0.000000\n",
              "cloud_coverage          0.219295\n",
              "dew_temperature         0.000000\n",
              "precip_depth_1_hr       0.011063\n",
              "sea_level_pressure      0.000000\n",
              "wind_direction          0.000000\n",
              "wind_speed              0.000000\n",
              "outlier               100.000000\n",
              "drop                  100.000000\n",
              "hour                    0.000000\n",
              "weekday                 0.000000\n",
              "beaufort_scale          0.723789\n",
              "dtype: float64"
            ]
          },
          "metadata": {
            "tags": []
          },
          "execution_count": 17
        }
      ]
    },
    {
      "cell_type": "code",
      "metadata": {
        "trusted": true,
        "id": "ZGYQwgrey4dN",
        "colab_type": "code",
        "colab": {}
      },
      "source": [
        "# Label encoding pour le primary use\n",
        "from sklearn.preprocessing import LabelEncoder\n",
        "le = LabelEncoder()\n",
        "train[\"primary_use\"] = le.fit_transform(train[\"primary_use\"])\n",
        "\n",
        "# On définit les variables numériques,et catégoriques et à éliminer \n",
        "categoricals = [\"site_id\", \"building_id\", \"primary_use\", \"hour\", \"weekday\",  \"meter\"]\n",
        "\n",
        "#les varibles \"year_built\" et \"floor_count\" vont être éliminées à cause du nombre élevée des missing values \n",
        "drop_cols = [\"year_built\",\"floor_count\", \"drop\"]\n",
        "\n",
        "numericals= [\"square_feet\", \"air_temperature\", \"cloud_coverage\",\n",
        "              \"dew_temperature\", \"precip_depth_1_hr\",\"sea_level_pressure\",\"wind_speed\",\"wind_direction\", 'beaufort_scale']\n",
        "\n",
        "tot_col = categoricals + numericals"
      ],
      "execution_count": 0,
      "outputs": []
    },
    {
      "cell_type": "code",
      "metadata": {
        "trusted": true,
        "id": "h20Es1Xxy4dT",
        "colab_type": "code",
        "colab": {}
      },
      "source": [
        "#On transforme la variable cible en log(x+1) pour le calcul de fonction d'erreur \"Root Mean Squared Logarithmic Error\"\n",
        "target = np.log1p(train[\"meter_reading\"])\n",
        "del train[\"meter_reading\"] \n"
      ],
      "execution_count": 0,
      "outputs": []
    },
    {
      "cell_type": "code",
      "metadata": {
        "trusted": true,
        "id": "oxHlmZZLy4dY",
        "colab_type": "code",
        "colab": {}
      },
      "source": [
        "train = train.drop(drop_cols, axis = 1)"
      ],
      "execution_count": 0,
      "outputs": []
    },
    {
      "cell_type": "code",
      "metadata": {
        "trusted": true,
        "id": "chTDlzFiy4db",
        "colab_type": "code",
        "outputId": "0b332f3c-f847-425f-ed26-f5048221c252",
        "colab": {
          "base_uri": "https://localhost:8080/",
          "height": 224
        }
      },
      "source": [
        "train.head()"
      ],
      "execution_count": 0,
      "outputs": [
        {
          "output_type": "execute_result",
          "data": {
            "text/html": [
              "<div>\n",
              "<style scoped>\n",
              "    .dataframe tbody tr th:only-of-type {\n",
              "        vertical-align: middle;\n",
              "    }\n",
              "\n",
              "    .dataframe tbody tr th {\n",
              "        vertical-align: top;\n",
              "    }\n",
              "\n",
              "    .dataframe thead th {\n",
              "        text-align: right;\n",
              "    }\n",
              "</style>\n",
              "<table border=\"1\" class=\"dataframe\">\n",
              "  <thead>\n",
              "    <tr style=\"text-align: right;\">\n",
              "      <th></th>\n",
              "      <th>building_id</th>\n",
              "      <th>meter</th>\n",
              "      <th>site_id</th>\n",
              "      <th>primary_use</th>\n",
              "      <th>square_feet</th>\n",
              "      <th>air_temperature</th>\n",
              "      <th>cloud_coverage</th>\n",
              "      <th>dew_temperature</th>\n",
              "      <th>precip_depth_1_hr</th>\n",
              "      <th>sea_level_pressure</th>\n",
              "      <th>wind_direction</th>\n",
              "      <th>wind_speed</th>\n",
              "      <th>outlier</th>\n",
              "      <th>hour</th>\n",
              "      <th>weekday</th>\n",
              "      <th>beaufort_scale</th>\n",
              "    </tr>\n",
              "  </thead>\n",
              "  <tbody>\n",
              "    <tr>\n",
              "      <th>103</th>\n",
              "      <td>105</td>\n",
              "      <td>0</td>\n",
              "      <td>1</td>\n",
              "      <td>0</td>\n",
              "      <td>50623</td>\n",
              "      <td>3.8</td>\n",
              "      <td>7.0</td>\n",
              "      <td>2.4</td>\n",
              "      <td>NaN</td>\n",
              "      <td>1020.9</td>\n",
              "      <td>240.0</td>\n",
              "      <td>3.1</td>\n",
              "      <td>NaN</td>\n",
              "      <td>0</td>\n",
              "      <td>4</td>\n",
              "      <td>2.0</td>\n",
              "    </tr>\n",
              "    <tr>\n",
              "      <th>104</th>\n",
              "      <td>106</td>\n",
              "      <td>0</td>\n",
              "      <td>1</td>\n",
              "      <td>0</td>\n",
              "      <td>5374</td>\n",
              "      <td>3.8</td>\n",
              "      <td>7.0</td>\n",
              "      <td>2.4</td>\n",
              "      <td>NaN</td>\n",
              "      <td>1020.9</td>\n",
              "      <td>240.0</td>\n",
              "      <td>3.1</td>\n",
              "      <td>NaN</td>\n",
              "      <td>0</td>\n",
              "      <td>4</td>\n",
              "      <td>2.0</td>\n",
              "    </tr>\n",
              "    <tr>\n",
              "      <th>105</th>\n",
              "      <td>106</td>\n",
              "      <td>3</td>\n",
              "      <td>1</td>\n",
              "      <td>0</td>\n",
              "      <td>5374</td>\n",
              "      <td>3.8</td>\n",
              "      <td>7.0</td>\n",
              "      <td>2.4</td>\n",
              "      <td>NaN</td>\n",
              "      <td>1020.9</td>\n",
              "      <td>240.0</td>\n",
              "      <td>3.1</td>\n",
              "      <td>NaN</td>\n",
              "      <td>0</td>\n",
              "      <td>4</td>\n",
              "      <td>2.0</td>\n",
              "    </tr>\n",
              "    <tr>\n",
              "      <th>106</th>\n",
              "      <td>107</td>\n",
              "      <td>0</td>\n",
              "      <td>1</td>\n",
              "      <td>0</td>\n",
              "      <td>97532</td>\n",
              "      <td>3.8</td>\n",
              "      <td>7.0</td>\n",
              "      <td>2.4</td>\n",
              "      <td>NaN</td>\n",
              "      <td>1020.9</td>\n",
              "      <td>240.0</td>\n",
              "      <td>3.1</td>\n",
              "      <td>NaN</td>\n",
              "      <td>0</td>\n",
              "      <td>4</td>\n",
              "      <td>2.0</td>\n",
              "    </tr>\n",
              "    <tr>\n",
              "      <th>107</th>\n",
              "      <td>108</td>\n",
              "      <td>0</td>\n",
              "      <td>1</td>\n",
              "      <td>0</td>\n",
              "      <td>81580</td>\n",
              "      <td>3.8</td>\n",
              "      <td>7.0</td>\n",
              "      <td>2.4</td>\n",
              "      <td>NaN</td>\n",
              "      <td>1020.9</td>\n",
              "      <td>240.0</td>\n",
              "      <td>3.1</td>\n",
              "      <td>NaN</td>\n",
              "      <td>0</td>\n",
              "      <td>4</td>\n",
              "      <td>2.0</td>\n",
              "    </tr>\n",
              "  </tbody>\n",
              "</table>\n",
              "</div>"
            ],
            "text/plain": [
              "     building_id  meter  site_id  ...  hour  weekday  beaufort_scale\n",
              "103          105      0        1  ...     0        4             2.0\n",
              "104          106      0        1  ...     0        4             2.0\n",
              "105          106      3        1  ...     0        4             2.0\n",
              "106          107      0        1  ...     0        4             2.0\n",
              "107          108      0        1  ...     0        4             2.0\n",
              "\n",
              "[5 rows x 16 columns]"
            ]
          },
          "metadata": {
            "tags": []
          },
          "execution_count": 21
        }
      ]
    },
    {
      "cell_type": "markdown",
      "metadata": {
        "id": "dyse-evyBjco",
        "colab_type": "text"
      },
      "source": [
        "## Reducing allocated space\n",
        "Afin de preserver la mémoire, on a utiliser cette fonction pour réduire la taille de mémoire allouer à nos datasets\n",
        "\n",
        "\n",
        "**On a copier ce code d'un forum en internet**\n",
        "\n"
      ]
    },
    {
      "cell_type": "code",
      "metadata": {
        "trusted": true,
        "id": "ZXl-yv_6y4dd",
        "colab_type": "code",
        "colab": {}
      },
      "source": [
        "## Memory saving function credit to https://www.kaggle.com/gemartin/load-data-reduce-memory-usage\n",
        "\n",
        "def reduce_mem_usage(df):\n",
        "    start_mem_usg = df.memory_usage().sum() / 1024**2 \n",
        "    print(\"Memory usage of properties dataframe is :\",start_mem_usg,\" MB\")\n",
        "    NAlist = [] # Keeps track of columns that have missing values filled in. \n",
        "    for col in df.columns:\n",
        "        if df[col].dtype != object:  # Exclude strings            \n",
        "            # Print current column type\n",
        "            print(\"******************************\")\n",
        "            print(\"Column: \",col)\n",
        "            print(\"dtype before: \",df[col].dtype)            \n",
        "            # make variables for Int, max and min\n",
        "            IsInt = False\n",
        "            mx = df[col].max()\n",
        "            mn = df[col].min()\n",
        "            print(\"min for this col: \",mn)\n",
        "            print(\"max for this col: \",mx)\n",
        "            # Integer does not support NA, therefore, NA needs to be filled\n",
        "            if not np.isfinite(df[col]).all(): \n",
        "                NAlist.append(col)\n",
        "                df[col].fillna(mn-1,inplace=True)  \n",
        "                   \n",
        "            # test if column can be converted to an integer\n",
        "            asint = df[col].fillna(0).astype(np.int64)\n",
        "            result = (df[col] - asint)\n",
        "            result = result.sum()\n",
        "            if result > -0.01 and result < 0.01:\n",
        "                IsInt = True            \n",
        "            # Make Integer/unsigned Integer datatypes\n",
        "            if IsInt:\n",
        "                if mn >= 0:\n",
        "                    if mx < 255:\n",
        "                        df[col] = df[col].astype(np.uint8)\n",
        "                    elif mx < 65535:\n",
        "                        df[col] = df[col].astype(np.uint16)\n",
        "                    elif mx < 4294967295:\n",
        "                        df[col] = df[col].astype(np.uint32)\n",
        "                    else:\n",
        "                        df[col] = df[col].astype(np.uint64)\n",
        "                else:\n",
        "                    if mn > np.iinfo(np.int8).min and mx < np.iinfo(np.int8).max:\n",
        "                        df[col] = df[col].astype(np.int8)\n",
        "                    elif mn > np.iinfo(np.int16).min and mx < np.iinfo(np.int16).max:\n",
        "                        df[col] = df[col].astype(np.int16)\n",
        "                    elif mn > np.iinfo(np.int32).min and mx < np.iinfo(np.int32).max:\n",
        "                        df[col] = df[col].astype(np.int32)\n",
        "                    elif mn > np.iinfo(np.int64).min and mx < np.iinfo(np.int64).max:\n",
        "                        df[col] = df[col].astype(np.int64)    \n",
        "            # Make float datatypes 32 bit\n",
        "            else:\n",
        "                df[col] = df[col].astype(np.float32)\n",
        "            \n",
        "            # Print new column type\n",
        "            print(\"dtype after: \",df[col].dtype)\n",
        "            print(\"******************************\")\n",
        "    # Print final result\n",
        "    print(\"___MEMORY USAGE AFTER COMPLETION:___\")\n",
        "    mem_usg = df.memory_usage().sum() / 1024**2 \n",
        "    print(\"Memory usage is: \",mem_usg,\" MB\")\n",
        "    print(\"This is \",100*mem_usg/start_mem_usg,\"% of the initial size\")\n",
        "    return df, NAlist"
      ],
      "execution_count": 0,
      "outputs": []
    },
    {
      "cell_type": "code",
      "metadata": {
        "trusted": true,
        "id": "d0p92asky4df",
        "colab_type": "code",
        "outputId": "a2bac186-eece-4e12-e5d2-d6f166c966be",
        "colab": {
          "base_uri": "https://localhost:8080/"
        }
      },
      "source": [
        "train, NAlist = reduce_mem_usage(train)"
      ],
      "execution_count": 0,
      "outputs": [
        {
          "output_type": "stream",
          "text": [
            "Memory usage of properties dataframe is : 3214.5358123779297  MB\n",
            "******************************\n",
            "Column:  building_id\n",
            "dtype before:  int64\n",
            "min for this col:  0\n",
            "max for this col:  1448\n",
            "dtype after:  uint16\n",
            "******************************\n",
            "******************************\n",
            "Column:  meter\n",
            "dtype before:  int64\n",
            "min for this col:  0\n",
            "max for this col:  3\n",
            "dtype after:  uint8\n",
            "******************************\n",
            "******************************\n",
            "Column:  site_id\n",
            "dtype before:  int64\n",
            "min for this col:  0\n",
            "max for this col:  15\n",
            "dtype after:  uint8\n",
            "******************************\n",
            "******************************\n",
            "Column:  primary_use\n",
            "dtype before:  int64\n",
            "min for this col:  0\n",
            "max for this col:  15\n",
            "dtype after:  uint8\n",
            "******************************\n",
            "******************************\n",
            "Column:  square_feet\n",
            "dtype before:  int64\n",
            "min for this col:  283\n",
            "max for this col:  875000\n",
            "dtype after:  uint32\n",
            "******************************\n",
            "******************************\n",
            "Column:  air_temperature\n",
            "dtype before:  float64\n",
            "min for this col:  -28.9\n",
            "max for this col:  47.2\n",
            "dtype after:  float32\n",
            "******************************\n",
            "******************************\n",
            "Column:  cloud_coverage\n",
            "dtype before:  float64\n",
            "min for this col:  0.0\n",
            "max for this col:  9.0\n",
            "dtype after:  uint8\n",
            "******************************\n",
            "******************************\n",
            "Column:  dew_temperature\n",
            "dtype before:  float64\n",
            "min for this col:  -35.0\n",
            "max for this col:  26.1\n",
            "dtype after:  float32\n",
            "******************************\n",
            "******************************\n",
            "Column:  precip_depth_1_hr\n",
            "dtype before:  float64\n",
            "min for this col:  -1.0\n",
            "max for this col:  343.0\n",
            "dtype after:  float32\n",
            "******************************\n",
            "******************************\n",
            "Column:  sea_level_pressure\n",
            "dtype before:  float64\n",
            "min for this col:  968.2\n",
            "max for this col:  1045.5\n",
            "dtype after:  float32\n",
            "******************************\n",
            "******************************\n",
            "Column:  wind_direction\n",
            "dtype before:  float64\n",
            "min for this col:  0.0\n",
            "max for this col:  360.0\n",
            "dtype after:  float32\n",
            "******************************\n",
            "******************************\n",
            "Column:  wind_speed\n",
            "dtype before:  float64\n",
            "min for this col:  0.0\n",
            "max for this col:  19.0\n",
            "dtype after:  float32\n",
            "******************************\n",
            "******************************\n",
            "Column:  hour\n",
            "dtype before:  int64\n",
            "min for this col:  0\n",
            "max for this col:  23\n",
            "dtype after:  uint8\n",
            "******************************\n",
            "******************************\n",
            "Column:  weekday\n",
            "dtype before:  int64\n",
            "min for this col:  0\n",
            "max for this col:  6\n",
            "dtype after:  uint8\n",
            "******************************\n",
            "******************************\n",
            "Column:  beaufort_scale\n",
            "dtype before:  float64\n",
            "min for this col:  0.0\n",
            "max for this col:  8.0\n",
            "dtype after:  uint8\n",
            "******************************\n",
            "___MEMORY USAGE AFTER COMPLETION:___\n",
            "Memory usage is:  1643.3117504119873  MB\n",
            "This is  51.12127679785777 % of the initial size\n"
          ],
          "name": "stdout"
        }
      ]
    },
    {
      "cell_type": "code",
      "metadata": {
        "trusted": true,
        "id": "ES25x1sjy4dh",
        "colab_type": "code",
        "outputId": "e05556ee-9957-4a66-8910-64cc206409c8",
        "colab": {
          "base_uri": "https://localhost:8080/"
        }
      },
      "source": [
        "train.shape"
      ],
      "execution_count": 0,
      "outputs": [
        {
          "output_type": "execute_result",
          "data": {
            "text/plain": [
              "(19849974, 16)"
            ]
          },
          "metadata": {
            "tags": []
          },
          "execution_count": 24
        }
      ]
    },
    {
      "cell_type": "code",
      "metadata": {
        "id": "KQQLmvW-upt5",
        "colab_type": "code",
        "outputId": "e0b42960-a183-40c7-c028-784d9a26476a",
        "colab": {
          "base_uri": "https://localhost:8080/"
        }
      },
      "source": [
        "train.columns"
      ],
      "execution_count": 0,
      "outputs": [
        {
          "output_type": "execute_result",
          "data": {
            "text/plain": [
              "Index(['building_id', 'meter', 'site_id', 'primary_use', 'square_feet',\n",
              "       'air_temperature', 'cloud_coverage', 'dew_temperature',\n",
              "       'precip_depth_1_hr', 'sea_level_pressure', 'wind_direction',\n",
              "       'wind_speed', 'outlier', 'hour', 'weekday', 'beaufort_scale'],\n",
              "      dtype='object')"
            ]
          },
          "metadata": {
            "tags": []
          },
          "execution_count": 25
        }
      ]
    },
    {
      "cell_type": "code",
      "metadata": {
        "id": "QRYjXknJAvC4",
        "colab_type": "code",
        "outputId": "3a08c12b-573b-4829-b8a2-6f85bce5f6ef",
        "colab": {
          "base_uri": "https://localhost:8080/"
        }
      },
      "source": [
        "train.head()"
      ],
      "execution_count": 0,
      "outputs": [
        {
          "output_type": "execute_result",
          "data": {
            "text/html": [
              "<div>\n",
              "<style scoped>\n",
              "    .dataframe tbody tr th:only-of-type {\n",
              "        vertical-align: middle;\n",
              "    }\n",
              "\n",
              "    .dataframe tbody tr th {\n",
              "        vertical-align: top;\n",
              "    }\n",
              "\n",
              "    .dataframe thead th {\n",
              "        text-align: right;\n",
              "    }\n",
              "</style>\n",
              "<table border=\"1\" class=\"dataframe\">\n",
              "  <thead>\n",
              "    <tr style=\"text-align: right;\">\n",
              "      <th></th>\n",
              "      <th>building_id</th>\n",
              "      <th>meter</th>\n",
              "      <th>site_id</th>\n",
              "      <th>primary_use</th>\n",
              "      <th>square_feet</th>\n",
              "      <th>air_temperature</th>\n",
              "      <th>cloud_coverage</th>\n",
              "      <th>dew_temperature</th>\n",
              "      <th>precip_depth_1_hr</th>\n",
              "      <th>sea_level_pressure</th>\n",
              "      <th>wind_direction</th>\n",
              "      <th>wind_speed</th>\n",
              "      <th>outlier</th>\n",
              "      <th>hour</th>\n",
              "      <th>weekday</th>\n",
              "      <th>beaufort_scale</th>\n",
              "    </tr>\n",
              "  </thead>\n",
              "  <tbody>\n",
              "    <tr>\n",
              "      <th>103</th>\n",
              "      <td>105</td>\n",
              "      <td>0</td>\n",
              "      <td>1</td>\n",
              "      <td>0</td>\n",
              "      <td>50623</td>\n",
              "      <td>3.8</td>\n",
              "      <td>7</td>\n",
              "      <td>2.4</td>\n",
              "      <td>-2.0</td>\n",
              "      <td>1020.900024</td>\n",
              "      <td>240.0</td>\n",
              "      <td>3.1</td>\n",
              "      <td>NaN</td>\n",
              "      <td>0</td>\n",
              "      <td>4</td>\n",
              "      <td>2</td>\n",
              "    </tr>\n",
              "    <tr>\n",
              "      <th>104</th>\n",
              "      <td>106</td>\n",
              "      <td>0</td>\n",
              "      <td>1</td>\n",
              "      <td>0</td>\n",
              "      <td>5374</td>\n",
              "      <td>3.8</td>\n",
              "      <td>7</td>\n",
              "      <td>2.4</td>\n",
              "      <td>-2.0</td>\n",
              "      <td>1020.900024</td>\n",
              "      <td>240.0</td>\n",
              "      <td>3.1</td>\n",
              "      <td>NaN</td>\n",
              "      <td>0</td>\n",
              "      <td>4</td>\n",
              "      <td>2</td>\n",
              "    </tr>\n",
              "    <tr>\n",
              "      <th>105</th>\n",
              "      <td>106</td>\n",
              "      <td>3</td>\n",
              "      <td>1</td>\n",
              "      <td>0</td>\n",
              "      <td>5374</td>\n",
              "      <td>3.8</td>\n",
              "      <td>7</td>\n",
              "      <td>2.4</td>\n",
              "      <td>-2.0</td>\n",
              "      <td>1020.900024</td>\n",
              "      <td>240.0</td>\n",
              "      <td>3.1</td>\n",
              "      <td>NaN</td>\n",
              "      <td>0</td>\n",
              "      <td>4</td>\n",
              "      <td>2</td>\n",
              "    </tr>\n",
              "    <tr>\n",
              "      <th>106</th>\n",
              "      <td>107</td>\n",
              "      <td>0</td>\n",
              "      <td>1</td>\n",
              "      <td>0</td>\n",
              "      <td>97532</td>\n",
              "      <td>3.8</td>\n",
              "      <td>7</td>\n",
              "      <td>2.4</td>\n",
              "      <td>-2.0</td>\n",
              "      <td>1020.900024</td>\n",
              "      <td>240.0</td>\n",
              "      <td>3.1</td>\n",
              "      <td>NaN</td>\n",
              "      <td>0</td>\n",
              "      <td>4</td>\n",
              "      <td>2</td>\n",
              "    </tr>\n",
              "    <tr>\n",
              "      <th>107</th>\n",
              "      <td>108</td>\n",
              "      <td>0</td>\n",
              "      <td>1</td>\n",
              "      <td>0</td>\n",
              "      <td>81580</td>\n",
              "      <td>3.8</td>\n",
              "      <td>7</td>\n",
              "      <td>2.4</td>\n",
              "      <td>-2.0</td>\n",
              "      <td>1020.900024</td>\n",
              "      <td>240.0</td>\n",
              "      <td>3.1</td>\n",
              "      <td>NaN</td>\n",
              "      <td>0</td>\n",
              "      <td>4</td>\n",
              "      <td>2</td>\n",
              "    </tr>\n",
              "  </tbody>\n",
              "</table>\n",
              "</div>"
            ],
            "text/plain": [
              "     building_id  meter  site_id  ...  hour  weekday  beaufort_scale\n",
              "103          105      0        1  ...     0        4               2\n",
              "104          106      0        1  ...     0        4               2\n",
              "105          106      3        1  ...     0        4               2\n",
              "106          107      0        1  ...     0        4               2\n",
              "107          108      0        1  ...     0        4               2\n",
              "\n",
              "[5 rows x 16 columns]"
            ]
          },
          "metadata": {
            "tags": []
          },
          "execution_count": 26
        }
      ]
    },
    {
      "cell_type": "code",
      "metadata": {
        "trusted": true,
        "id": "9tf65Jt-y4dj",
        "colab_type": "code",
        "colab": {}
      },
      "source": [
        "# TO NOT BE USED\n",
        "####################\n",
        "\n",
        "# model = Sequential()\n",
        "# model.add(Dense(64, activation='relu', kernel_regularizer=regularizers.l2(0.001),input_shape=(16,)))\n",
        "# model.add(Dropout(0.2))\n",
        "# model.add(Dense(32, activation='relu'))\n",
        "# model.add(Dropout(0.1))\n",
        "# model.add(Dense(32,activation='relu'))\n",
        "# model.add(Dropout(0.5))\n",
        "# model.add(Dense(16, activation='relu'))\n",
        "# model.add(Dropout(0.1))\n",
        "# model.add(Dense(1, activation='sigmoid'))\n",
        "# model.compile(loss='mean_squared_error', optimizer = Adam(lr=0.001), metrics=[\"accuracy\"])\n",
        "# history=model.fit(partial_x_train ,partial_y_train , verbose=1, batch_size=250, epochs=6,validation_data=(x_val,y_val))\n",
        "# print(model.predict_classes(x_test))"
      ],
      "execution_count": 0,
      "outputs": []
    },
    {
      "cell_type": "code",
      "metadata": {
        "id": "PUrOYjCoabu3",
        "colab_type": "code",
        "outputId": "59997265-f201-4855-9d30-42ff1dba74f1",
        "colab": {
          "base_uri": "https://localhost:8080/"
        }
      },
      "source": [
        "train.shape"
      ],
      "execution_count": 0,
      "outputs": [
        {
          "output_type": "execute_result",
          "data": {
            "text/plain": [
              "(19849974, 16)"
            ]
          },
          "metadata": {
            "tags": []
          },
          "execution_count": 28
        }
      ]
    },
    {
      "cell_type": "markdown",
      "metadata": {
        "id": "ZQuME_tlBtSU",
        "colab_type": "text"
      },
      "source": [
        "# Building Model\n",
        "Ce modèle est inspiré à partir d'un autre modèle\n",
        "\n",
        "Nous nous sommes basés sur un modèle d'une réseau de neurones multicouches, sur lequel on a joué avec les hyperparamètres (Nombre de neurones, nombre de couche, Pas d'apprentissage), pour arriver à la fin à un modèle plus performant et donne meilleurs resultats"
      ]
    },
    {
      "cell_type": "code",
      "metadata": {
        "trusted": true,
        "id": "6gDOEgyiy4do",
        "colab_type": "code",
        "colab": {}
      },
      "source": [
        "def root_mean_squared_error(CIBLE, PRED):\n",
        "    return K.sqrt(K.mean(K.square(PRED -CIBLE), axis=0))\n",
        "\n",
        "def model(dense_dim_1=128, dense_dim_2=64, dense_dim_3=64, dense_dim_4=16, \n",
        "dropout1=0.2, dropout2=0.1, dropout3=0.1, dropout4=0.1, lr=0.01):   \n",
        "    #Inputs\n",
        "    site_id = Input(shape=[1], name=\"site_id\")\n",
        "    building_id = Input(shape=[1], name=\"building_id\")\n",
        "    meter = Input(shape=[1], name=\"meter\")\n",
        "    primary_use = Input(shape=[1], name=\"primary_use\")\n",
        "    square_feet = Input(shape=[1], name=\"square_feet\")\n",
        "    year_built = Input(shape=[1], name=\"year_built\")\n",
        "    air_temperature = Input(shape=[1], name=\"air_temperature\")\n",
        "    cloud_coverage = Input(shape=[1], name=\"cloud_coverage\")\n",
        "    dew_temperature = Input(shape=[1], name=\"dew_temperature\")\n",
        "    hour = Input(shape=[1], name=\"hour\")\n",
        "    precip = Input(shape=[1], name=\"precip_depth_1_hr\")\n",
        "    sea_level= Input(shape=[1], name=\"sea_level_pressure\")\n",
        "    wind_speed=Input(shape=[1], name=\"wind_speed\")\n",
        "    wind_direction=Input(shape=[1], name=\"wind_direction\")\n",
        "    weekday = Input(shape=[1], name=\"weekday\")\n",
        "    beaufort_scale = Input(shape=[1], name=\"beaufort_scale\")\n",
        "   \n",
        "    #Embeddings layers\n",
        "    emb_site_id = Embedding(16, 2)(site_id)\n",
        "    emb_building_id = Embedding(1449, 6)(building_id)\n",
        "    emb_meter = Embedding(4, 2)(meter)\n",
        "    emb_primary_use = Embedding(16, 2)(primary_use)\n",
        "    emb_hour = Embedding(24, 3)(hour)\n",
        "    emb_weekday = Embedding(7, 2)(weekday)\n",
        "\n",
        "    concat_emb = concatenate([\n",
        "           Flatten() (emb_site_id)\n",
        "         , Flatten() (emb_building_id)\n",
        "         , Flatten() (emb_meter)\n",
        "         , Flatten() (emb_primary_use)\n",
        "         , Flatten() (emb_hour)\n",
        "         , Flatten() (emb_weekday)\n",
        "    ])\n",
        "    \n",
        "    categ = Dropout(dropout1)(Dense(dense_dim_1,activation='relu') (concat_emb))\n",
        "    categ = BatchNormalization()(categ)\n",
        "    categ = Dropout(dropout2)(Dense(dense_dim_2,activation='relu') (categ))\n",
        "    \n",
        "    #main layer\n",
        "    main_l = concatenate([\n",
        "          categ\n",
        "        , square_feet\n",
        "        , air_temperature\n",
        "        , cloud_coverage\n",
        "        , dew_temperature\n",
        "        , precip\n",
        "        , sea_level\n",
        "        , wind_speed\n",
        "        , wind_direction\n",
        "        , beaufort_scale\n",
        "    ])\n",
        "    \n",
        "    main_l = Dropout(dropout3)(Dense(dense_dim_3,activation='relu') (main_l))\n",
        "    main_l = BatchNormalization()(main_l)\n",
        "    main_l = Dropout(dropout4)(Dense(dense_dim_4,activation='relu') (main_l))\n",
        "    \n",
        "    #output\n",
        "    output = Dense(1) (main_l)\n",
        "\n",
        "    model = Model([ site_id,\n",
        "                    building_id, \n",
        "                    meter, \n",
        "                    primary_use, \n",
        "                    square_feet, \n",
        "                    air_temperature,\n",
        "                    cloud_coverage,\n",
        "                    dew_temperature, \n",
        "                    hour,\n",
        "                    sea_level,\n",
        "                    wind_speed,\n",
        "                    wind_direction,\n",
        "                    weekday, \n",
        "                    precip,\n",
        "                    beaufort_scale], output)\n",
        "\n",
        "    model.compile(optimizer = Adam(lr=lr),\n",
        "                  loss= mse_loss,\n",
        "                  metrics=[root_mean_squared_error,'accuracy'])\n",
        "    return model"
      ],
      "execution_count": 0,
      "outputs": []
    },
    {
      "cell_type": "code",
      "metadata": {
        "trusted": true,
        "id": "nFFRF_0ky4dq",
        "colab_type": "code",
        "colab": {}
      },
      "source": [
        "def NN_train(keras_model, X_t, y_train, batch_size, epochs, X_v, y_valid, fold):\n",
        "    model_checkpoint = ModelCheckpoint(\"model_\" + str(fold) + \".hdf5\",save_best_only=True, \n",
        "                                       verbose=1, monitor='val_root_mean_squared_error', mode='min')\n",
        "    hist = keras_model.fit(X_t, y_train, batch_size=batch_size, epochs=epochs,\n",
        "                            validation_data=(X_v, y_valid), verbose=1,\n",
        "                            callbacks=[ model_checkpoint])\n",
        "\n",
        "    keras_model = load_model(\"model_\" + str(fold) + \".hdf5\", custom_objects={'root_mean_squared_error': root_mean_squared_error})\n",
        "    \n",
        "    return hist, keras_model"
      ],
      "execution_count": 0,
      "outputs": []
    },
    {
      "cell_type": "code",
      "metadata": {
        "id": "laMIZr_ZbWLm",
        "colab_type": "code",
        "outputId": "f6c4671a-e780-4980-80d0-1f5178081a25",
        "colab": {
          "base_uri": "https://localhost:8080/",
          "height": 34
        }
      },
      "source": [
        "train.shape"
      ],
      "execution_count": 0,
      "outputs": [
        {
          "output_type": "execute_result",
          "data": {
            "text/plain": [
              "(19849974, 16)"
            ]
          },
          "metadata": {
            "tags": []
          },
          "execution_count": 31
        }
      ]
    },
    {
      "cell_type": "markdown",
      "metadata": {
        "id": "aHPyneheBzWP",
        "colab_type": "text"
      },
      "source": [
        "## Training Model"
      ]
    },
    {
      "cell_type": "code",
      "metadata": {
        "trusted": true,
        "id": "2rA56lUQy4ds",
        "colab_type": "code",
        "outputId": "7ed40b82-2e63-4708-ae9b-ff877154916c",
        "colab": {
          "base_uri": "https://localhost:8080/",
          "height": 1000
        }
      },
      "source": [
        "oof = np.zeros(len(train))\n",
        "batch_size = 2000\n",
        "epochs = 10\n",
        "models = []\n",
        "\n",
        "def format_data(df,numericals, categoricals):\n",
        "    cols = numericals+ categoricals\n",
        "    X = {col: np.array(df[col]) for col in cols}\n",
        "    return X\n",
        "\n",
        "folds = 3\n",
        "seed = 666\n",
        "kf = StratifiedKFold(n_splits=folds, shuffle=True, random_state=seed)\n",
        "list_his=[]\n",
        "\n",
        "for fold_n, (t_index, v_index) in enumerate(kf.split(train, train['building_id'])):\n",
        "     print('Fold:', fold_n)\n",
        "     X_train, X_valid = train.iloc[t_index], train.iloc[v_index]\n",
        "     y_train, y_valid = target.iloc[t_index], target.iloc[v_index]\n",
        "     X_t = format_data(X_train, numericals, categoricals)\n",
        "     X_v = format_data(X_valid, numericals, categoricals)\n",
        "    \n",
        "     keras_model = model(dense_dim_1=128, dense_dim_2=64, dense_dim_3=64, dense_dim_4=16,\n",
        "                         dropout1=0.2, dropout2=0.2, dropout3=0.2, dropout4=0.1, lr=0.01)\n",
        "     hist,mod = NN_train(keras_model, X_t, y_train, batch_size, epochs, X_v, y_valid, fold_n)\n",
        "     list_his .append(hist)\n",
        "     models.append(mod)\n",
        "     print('*'* 50)\n",
        "    "
      ],
      "execution_count": 0,
      "outputs": [
        {
          "output_type": "stream",
          "text": [
            "Fold: 0\n",
            "Train on 13233316 samples, validate on 6616658 samples\n",
            "Epoch 1/10\n",
            "13233316/13233316 [==============================] - 90s 7us/step - loss: 1.6669 - root_mean_squared_error: 1.2842 - acc: 0.0038 - val_loss: 1.4391 - val_root_mean_squared_error: 1.1850 - val_acc: 0.0020\n",
            "\n",
            "Epoch 00001: val_root_mean_squared_error improved from inf to 1.18498, saving model to model_0.hdf5\n",
            "Epoch 2/10\n",
            "13233316/13233316 [==============================] - 89s 7us/step - loss: 1.4824 - root_mean_squared_error: 1.2167 - acc: 0.0066 - val_loss: 1.1772 - val_root_mean_squared_error: 1.0694 - val_acc: 0.0065\n",
            "\n",
            "Epoch 00002: val_root_mean_squared_error improved from 1.18498 to 1.06940, saving model to model_0.hdf5\n",
            "Epoch 3/10\n",
            "13233316/13233316 [==============================] - 88s 7us/step - loss: 1.2890 - root_mean_squared_error: 1.1345 - acc: 0.0090 - val_loss: 1.0850 - val_root_mean_squared_error: 1.0245 - val_acc: 0.0055\n",
            "\n",
            "Epoch 00003: val_root_mean_squared_error improved from 1.06940 to 1.02455, saving model to model_0.hdf5\n",
            "Epoch 4/10\n",
            "13233316/13233316 [==============================] - 88s 7us/step - loss: 1.1769 - root_mean_squared_error: 1.0840 - acc: 0.0115 - val_loss: 0.9994 - val_root_mean_squared_error: 0.9816 - val_acc: 0.0076\n",
            "\n",
            "Epoch 00004: val_root_mean_squared_error improved from 1.02455 to 0.98164, saving model to model_0.hdf5\n",
            "Epoch 5/10\n",
            "13233316/13233316 [==============================] - 88s 7us/step - loss: 1.1301 - root_mean_squared_error: 1.0622 - acc: 0.0129 - val_loss: 1.0134 - val_root_mean_squared_error: 0.9882 - val_acc: 0.0118\n",
            "\n",
            "Epoch 00005: val_root_mean_squared_error did not improve from 0.98164\n",
            "Epoch 6/10\n",
            "13233316/13233316 [==============================] - 89s 7us/step - loss: 1.1114 - root_mean_squared_error: 1.0534 - acc: 0.0138 - val_loss: 1.0512 - val_root_mean_squared_error: 1.0104 - val_acc: 0.0148\n",
            "\n",
            "Epoch 00006: val_root_mean_squared_error did not improve from 0.98164\n",
            "Epoch 7/10\n",
            "13233316/13233316 [==============================] - 89s 7us/step - loss: 1.0981 - root_mean_squared_error: 1.0470 - acc: 0.0147 - val_loss: 0.9308 - val_root_mean_squared_error: 0.9421 - val_acc: 0.0123\n",
            "\n",
            "Epoch 00007: val_root_mean_squared_error improved from 0.98164 to 0.94210, saving model to model_0.hdf5\n",
            "Epoch 8/10\n",
            "13233316/13233316 [==============================] - 90s 7us/step - loss: 1.0881 - root_mean_squared_error: 1.0423 - acc: 0.0151 - val_loss: 1.0102 - val_root_mean_squared_error: 0.9882 - val_acc: 0.0087\n",
            "\n",
            "Epoch 00008: val_root_mean_squared_error did not improve from 0.94210\n",
            "Epoch 9/10\n",
            "13233316/13233316 [==============================] - 89s 7us/step - loss: 1.0830 - root_mean_squared_error: 1.0398 - acc: 0.0154 - val_loss: 0.9683 - val_root_mean_squared_error: 0.9659 - val_acc: 0.0176\n",
            "\n",
            "Epoch 00009: val_root_mean_squared_error did not improve from 0.94210\n",
            "Epoch 10/10\n",
            "13233316/13233316 [==============================] - 90s 7us/step - loss: 1.0778 - root_mean_squared_error: 1.0373 - acc: 0.0157 - val_loss: 1.0033 - val_root_mean_squared_error: 0.9855 - val_acc: 0.0247\n",
            "\n",
            "Epoch 00010: val_root_mean_squared_error did not improve from 0.94210\n",
            "**************************************************\n",
            "Fold: 1\n",
            "Train on 13233316 samples, validate on 6616658 samples\n",
            "Epoch 1/10\n",
            "13233316/13233316 [==============================] - 94s 7us/step - loss: 1.6740 - root_mean_squared_error: 1.2821 - acc: 0.0063 - val_loss: 1.4718 - val_root_mean_squared_error: 1.1987 - val_acc: 0.0000e+00\n",
            "\n",
            "Epoch 00001: val_root_mean_squared_error improved from inf to 1.19868, saving model to model_1.hdf5\n",
            "Epoch 2/10\n",
            "13233316/13233316 [==============================] - 90s 7us/step - loss: 1.3297 - root_mean_squared_error: 1.1520 - acc: 0.0098 - val_loss: 1.0614 - val_root_mean_squared_error: 1.0150 - val_acc: 0.0088\n",
            "\n",
            "Epoch 00002: val_root_mean_squared_error improved from 1.19868 to 1.01501, saving model to model_1.hdf5\n",
            "Epoch 3/10\n",
            "13233316/13233316 [==============================] - 90s 7us/step - loss: 1.1794 - root_mean_squared_error: 1.0851 - acc: 0.0123 - val_loss: 1.0768 - val_root_mean_squared_error: 1.0160 - val_acc: 0.0023\n",
            "\n",
            "Epoch 00003: val_root_mean_squared_error did not improve from 1.01501\n",
            "Epoch 4/10\n",
            "13233316/13233316 [==============================] - 90s 7us/step - loss: 1.1207 - root_mean_squared_error: 1.0578 - acc: 0.0139 - val_loss: 0.9411 - val_root_mean_squared_error: 0.9492 - val_acc: 0.0084\n",
            "\n",
            "Epoch 00004: val_root_mean_squared_error improved from 1.01501 to 0.94921, saving model to model_1.hdf5\n",
            "Epoch 5/10\n",
            "13233316/13233316 [==============================] - 91s 7us/step - loss: 1.0904 - root_mean_squared_error: 1.0433 - acc: 0.0150 - val_loss: 1.0267 - val_root_mean_squared_error: 0.9902 - val_acc: 0.0044\n",
            "\n",
            "Epoch 00005: val_root_mean_squared_error did not improve from 0.94921\n",
            "Epoch 6/10\n",
            "13233316/13233316 [==============================] - 91s 7us/step - loss: 1.0737 - root_mean_squared_error: 1.0353 - acc: 0.0156 - val_loss: 0.9298 - val_root_mean_squared_error: 0.9437 - val_acc: 0.0114\n",
            "\n",
            "Epoch 00006: val_root_mean_squared_error improved from 0.94921 to 0.94371, saving model to model_1.hdf5\n",
            "Epoch 7/10\n",
            "13233316/13233316 [==============================] - 92s 7us/step - loss: 1.0631 - root_mean_squared_error: 1.0302 - acc: 0.0159 - val_loss: 0.9285 - val_root_mean_squared_error: 0.9401 - val_acc: 0.0068\n",
            "\n",
            "Epoch 00007: val_root_mean_squared_error improved from 0.94371 to 0.94014, saving model to model_1.hdf5\n",
            "Epoch 8/10\n",
            "13233316/13233316 [==============================] - 92s 7us/step - loss: 1.0553 - root_mean_squared_error: 1.0264 - acc: 0.0164 - val_loss: 0.9698 - val_root_mean_squared_error: 0.9645 - val_acc: 0.0035\n",
            "\n",
            "Epoch 00008: val_root_mean_squared_error did not improve from 0.94014\n",
            "Epoch 9/10\n",
            "13233316/13233316 [==============================] - 90s 7us/step - loss: 1.0474 - root_mean_squared_error: 1.0225 - acc: 0.0166 - val_loss: 0.9933 - val_root_mean_squared_error: 0.9723 - val_acc: 0.0075\n",
            "\n",
            "Epoch 00009: val_root_mean_squared_error did not improve from 0.94014\n",
            "Epoch 10/10\n",
            "13233316/13233316 [==============================] - 91s 7us/step - loss: 1.0435 - root_mean_squared_error: 1.0206 - acc: 0.0168 - val_loss: 0.9425 - val_root_mean_squared_error: 0.9484 - val_acc: 0.0051\n",
            "\n",
            "Epoch 00010: val_root_mean_squared_error did not improve from 0.94014\n",
            "**************************************************\n",
            "Fold: 2\n",
            "Train on 13233316 samples, validate on 6616658 samples\n",
            "Epoch 1/10\n",
            "13233316/13233316 [==============================] - 94s 7us/step - loss: 1.6467 - root_mean_squared_error: 1.2766 - acc: 0.0050 - val_loss: 1.3850 - val_root_mean_squared_error: 1.1633 - val_acc: 0.0036\n",
            "\n",
            "Epoch 00001: val_root_mean_squared_error improved from inf to 1.16327, saving model to model_2.hdf5\n",
            "Epoch 2/10\n",
            "13233316/13233316 [==============================] - 91s 7us/step - loss: 1.3281 - root_mean_squared_error: 1.1512 - acc: 0.0091 - val_loss: 1.1069 - val_root_mean_squared_error: 1.0377 - val_acc: 0.0110\n",
            "\n",
            "Epoch 00002: val_root_mean_squared_error improved from 1.16327 to 1.03768, saving model to model_2.hdf5\n",
            "Epoch 3/10\n",
            "13233316/13233316 [==============================] - 91s 7us/step - loss: 1.2242 - root_mean_squared_error: 1.1056 - acc: 0.0114 - val_loss: 1.0421 - val_root_mean_squared_error: 1.0025 - val_acc: 0.0012\n",
            "\n",
            "Epoch 00003: val_root_mean_squared_error improved from 1.03768 to 1.00249, saving model to model_2.hdf5\n",
            "Epoch 4/10\n",
            "13233316/13233316 [==============================] - 92s 7us/step - loss: 1.1833 - root_mean_squared_error: 1.0869 - acc: 0.0130 - val_loss: 1.0091 - val_root_mean_squared_error: 0.9843 - val_acc: 0.0028\n",
            "\n",
            "Epoch 00004: val_root_mean_squared_error improved from 1.00249 to 0.98428, saving model to model_2.hdf5\n",
            "Epoch 5/10\n",
            "13233316/13233316 [==============================] - 92s 7us/step - loss: 1.1528 - root_mean_squared_error: 1.0729 - acc: 0.0137 - val_loss: 1.0119 - val_root_mean_squared_error: 0.9838 - val_acc: 0.0011\n",
            "\n",
            "Epoch 00005: val_root_mean_squared_error improved from 0.98428 to 0.98380, saving model to model_2.hdf5\n",
            "Epoch 6/10\n",
            "13233316/13233316 [==============================] - 92s 7us/step - loss: 1.1176 - root_mean_squared_error: 1.0563 - acc: 0.0142 - val_loss: 1.0473 - val_root_mean_squared_error: 1.0038 - val_acc: 9.6650e-04\n",
            "\n",
            "Epoch 00006: val_root_mean_squared_error did not improve from 0.98380\n",
            "Epoch 7/10\n",
            "13233316/13233316 [==============================] - 92s 7us/step - loss: 1.0999 - root_mean_squared_error: 1.0479 - acc: 0.0146 - val_loss: 1.0172 - val_root_mean_squared_error: 0.9900 - val_acc: 0.0029\n",
            "\n",
            "Epoch 00007: val_root_mean_squared_error did not improve from 0.98380\n",
            "Epoch 8/10\n",
            "13233316/13233316 [==============================] - 93s 7us/step - loss: 1.0838 - root_mean_squared_error: 1.0402 - acc: 0.0151 - val_loss: 0.9427 - val_root_mean_squared_error: 0.9495 - val_acc: 0.0053\n",
            "\n",
            "Epoch 00008: val_root_mean_squared_error improved from 0.98380 to 0.94946, saving model to model_2.hdf5\n",
            "Epoch 9/10\n",
            "13233316/13233316 [==============================] - 92s 7us/step - loss: 1.0769 - root_mean_squared_error: 1.0369 - acc: 0.0155 - val_loss: 0.9815 - val_root_mean_squared_error: 0.9724 - val_acc: 0.0047\n",
            "\n",
            "Epoch 00009: val_root_mean_squared_error did not improve from 0.94946\n",
            "Epoch 10/10\n",
            "13233316/13233316 [==============================] - 92s 7us/step - loss: 1.0712 - root_mean_squared_error: 1.0341 - acc: 0.0157 - val_loss: 0.9688 - val_root_mean_squared_error: 0.9650 - val_acc: 0.0027\n",
            "\n",
            "Epoch 00010: val_root_mean_squared_error did not improve from 0.94946\n",
            "**************************************************\n"
          ],
          "name": "stdout"
        }
      ]
    },
    {
      "cell_type": "markdown",
      "metadata": {
        "id": "mmImQyJYzOQO",
        "colab_type": "text"
      },
      "source": [
        "### Free memory"
      ]
    },
    {
      "cell_type": "code",
      "metadata": {
        "trusted": true,
        "id": "Peeoh6GQy4dw",
        "colab_type": "code",
        "outputId": "074f29ae-e06b-4897-8250-4fb483686493",
        "colab": {
          "base_uri": "https://localhost:8080/",
          "height": 34
        }
      },
      "source": [
        "import gc\n",
        "del train, target, X_train, X_valid, y_train, y_valid, X_t, X_v, kf\n",
        "gc.collect()"
      ],
      "execution_count": 0,
      "outputs": [
        {
          "output_type": "execute_result",
          "data": {
            "text/plain": [
              "5"
            ]
          },
          "metadata": {
            "tags": []
          },
          "execution_count": 35
        }
      ]
    },
    {
      "cell_type": "markdown",
      "metadata": {
        "id": "GA3a_Rc3AiLI",
        "colab_type": "text"
      },
      "source": [
        "# Testing model"
      ]
    },
    {
      "cell_type": "markdown",
      "metadata": {
        "id": "LfR5FurCOcFL",
        "colab_type": "text"
      },
      "source": [
        "### Load Testing data\n",
        "On refait la même chose pour le test dataset en termes de preprocessing "
      ]
    },
    {
      "cell_type": "code",
      "metadata": {
        "id": "mgJ8xTxFAleQ",
        "colab_type": "code",
        "outputId": "67d97f93-33d9-4eea-866f-bf675710a628",
        "colab": {
          "base_uri": "https://localhost:8080/",
          "height": 442
        }
      },
      "source": [
        "test_df = pd.read_csv(\"kaggle/input/test.csv\")\n",
        "test_df, NAlist_test = reduce_mem_usage(test_df)\n",
        "weather_test = pd.read_csv(\"kaggle/input/weather_test.csv\")\n",
        "test_df = test_df.merge(building_df, left_on = \"building_id\", right_on = \"building_id\", how = \"left\")\n",
        "test_df = test_df.merge(weather_test, left_on = [\"site_id\", \"timestamp\"], right_on = [\"site_id\", \"timestamp\"],how = \"left\")"
      ],
      "execution_count": 0,
      "outputs": [
        {
          "output_type": "stream",
          "text": [
            "Memory usage of properties dataframe is : 1272.5098876953125  MB\n",
            "******************************\n",
            "Column:  row_id\n",
            "dtype before:  int64\n",
            "min for this col:  0\n",
            "max for this col:  41697599\n",
            "dtype after:  uint32\n",
            "******************************\n",
            "******************************\n",
            "Column:  building_id\n",
            "dtype before:  int64\n",
            "min for this col:  0\n",
            "max for this col:  1448\n",
            "dtype after:  uint16\n",
            "******************************\n",
            "******************************\n",
            "Column:  meter\n",
            "dtype before:  int64\n",
            "min for this col:  0\n",
            "max for this col:  3\n",
            "dtype after:  uint8\n",
            "******************************\n",
            "___MEMORY USAGE AFTER COMPLETION:___\n",
            "Memory usage is:  596.4890747070312  MB\n",
            "This is  46.87500509621608 % of the initial size\n"
          ],
          "name": "stdout"
        }
      ]
    },
    {
      "cell_type": "code",
      "metadata": {
        "id": "p1Oi6ouZTm17",
        "colab_type": "code",
        "outputId": "cca2db95-38df-4113-ff4b-43b68b7bf242",
        "colab": {
          "base_uri": "https://localhost:8080/",
          "height": 34
        }
      },
      "source": [
        "test_df.shape"
      ],
      "execution_count": 0,
      "outputs": [
        {
          "output_type": "execute_result",
          "data": {
            "text/plain": [
              "(41697600, 16)"
            ]
          },
          "metadata": {
            "tags": []
          },
          "execution_count": 37
        }
      ]
    },
    {
      "cell_type": "code",
      "metadata": {
        "id": "ajS6i2_SRHw_",
        "colab_type": "code",
        "outputId": "9d0908f1-f342-468e-e048-e9d0b94fd9a6",
        "colab": {
          "base_uri": "https://localhost:8080/",
          "height": 34
        }
      },
      "source": [
        "import gc\n",
        "gc.collect()"
      ],
      "execution_count": 0,
      "outputs": [
        {
          "output_type": "execute_result",
          "data": {
            "text/plain": [
              "0"
            ]
          },
          "metadata": {
            "tags": []
          },
          "execution_count": 38
        }
      ]
    },
    {
      "cell_type": "markdown",
      "metadata": {
        "id": "EJFKatyWOmEc",
        "colab_type": "text"
      },
      "source": [
        "### Fill out missing data"
      ]
    },
    {
      "cell_type": "code",
      "metadata": {
        "id": "7Bfud8-WOqyg",
        "colab_type": "code",
        "outputId": "229cb83d-65da-4bd4-cae6-069b146b401d",
        "colab": {
          "base_uri": "https://localhost:8080/",
          "height": 629
        }
      },
      "source": [
        "print(\"Before: \" + str(test_df.isnull().sum() / len(test_df) * 100))\n",
        "import gc\n",
        "gc.collect()\n",
        "\n",
        "test_df[\"timestamp\"] = pd.to_datetime(test_df[\"timestamp\"])\n",
        "test_df[\"hour\"] = test_df[\"timestamp\"].dt.hour\n",
        "test_df[\"weekday\"] = test_df[\"timestamp\"].dt.weekday\n",
        "\n",
        "test_df = average_imputation(test_df, 'wind_speed')\n",
        "test_df = average_imputation(test_df,'sea_level_pressure')\n",
        "test_df = average_imputation(test_df,'dew_temperature')\n",
        "test_df = average_imputation(test_df, 'air_temperature')\n",
        "test_df = average_imputation(test_df,'precip_depth_1_hr')\n",
        "test_df= average_imputation(test_df, 'cloud_coverage')\n",
        "test_df['cloud_coverage']=round(test_df['cloud_coverage'])\n",
        "test_df['wind_direction'] = test_df['wind_direction'].apply(lambda x: random.random() * 360.0 if (math.isnan(x)) else x)\n",
        "\n",
        "beaufort = [(0, 0, 0.3), (1, 0.3, 1.6), (2, 1.6, 3.4), (3, 3.4, 5.5), (4, 5.5, 8), (5, 8, 10.8), (6, 10.8, 13.9), \n",
        "          (7, 13.9, 17.2), (8, 17.2, 20.8), (9, 20.8, 24.5), (10, 24.5, 28.5), (11, 28.5, 33), (12, 33, 200)]\n",
        "\n",
        "for item in beaufort:\n",
        "    test_df.loc[(test_df['wind_speed']>=item[1]) & (test_df['wind_speed']<item[2]), 'beaufort_scale'] = item[0]\n",
        "\n",
        "del test_df[\"timestamp\"]\n",
        "gc.collect()\n",
        "print(\"After: \" + str(test_df.isnull().sum() / len(test_df) * 100))"
      ],
      "execution_count": 0,
      "outputs": [
        {
          "output_type": "stream",
          "text": [
            "Before: row_id                 0.000000\n",
            "building_id            0.000000\n",
            "meter                  0.000000\n",
            "timestamp              0.000000\n",
            "site_id                0.000000\n",
            "primary_use            0.000000\n",
            "square_feet            0.000000\n",
            "year_built            58.991597\n",
            "floor_count           82.605042\n",
            "air_temperature        0.532167\n",
            "cloud_coverage        46.866438\n",
            "dew_temperature        0.625453\n",
            "precip_depth_1_hr     18.709861\n",
            "sea_level_pressure     6.035901\n",
            "wind_direction         7.143488\n",
            "wind_speed             0.724476\n",
            "dtype: float64\n",
            "After: row_id                 0.000000\n",
            "building_id            0.000000\n",
            "meter                  0.000000\n",
            "site_id                0.000000\n",
            "primary_use            0.000000\n",
            "square_feet            0.000000\n",
            "year_built            58.991597\n",
            "floor_count           82.605042\n",
            "air_temperature        0.000000\n",
            "cloud_coverage         0.684932\n",
            "dew_temperature        0.000000\n",
            "precip_depth_1_hr      0.005708\n",
            "sea_level_pressure     0.000000\n",
            "wind_direction         0.000000\n",
            "wind_speed             0.000000\n",
            "hour                   0.000000\n",
            "weekday                0.000000\n",
            "beaufort_scale         0.000000\n",
            "dtype: float64\n"
          ],
          "name": "stdout"
        }
      ]
    },
    {
      "cell_type": "code",
      "metadata": {
        "id": "JmNEGTtQUAcf",
        "colab_type": "code",
        "outputId": "25a51777-3522-460e-8b14-937bc851c230",
        "colab": {
          "base_uri": "https://localhost:8080/",
          "height": 34
        }
      },
      "source": [
        "test_df.shape\n",
        "gc.collect()"
      ],
      "execution_count": 0,
      "outputs": [
        {
          "output_type": "execute_result",
          "data": {
            "text/plain": [
              "28"
            ]
          },
          "metadata": {
            "tags": []
          },
          "execution_count": 40
        }
      ]
    },
    {
      "cell_type": "markdown",
      "metadata": {
        "id": "sKDAcf23VhwD",
        "colab_type": "text"
      },
      "source": [
        "### Encoding variables"
      ]
    },
    {
      "cell_type": "code",
      "metadata": {
        "id": "0VVqK6VuUqWB",
        "colab_type": "code",
        "colab": {}
      },
      "source": [
        "from sklearn.preprocessing import LabelEncoder\n",
        "\n",
        "le = LabelEncoder()\n",
        "test_df[\"primary_use\"] = le.fit_transform(test_df[\"primary_use\"])\n",
        "\n",
        "categoricals = [\"site_id\", \"building_id\", \"primary_use\", \"hour\", \"weekday\",  \"meter\"]\n",
        "\n",
        "drop_cols = [\"year_built\",\"floor_count\"]\n",
        "            \n",
        "numericals = [\"square_feet\", \"air_temperature\", \"cloud_coverage\",\n",
        "              \"dew_temperature\", \"precip_depth_1_hr\",\"sea_level_pressure\",\"wind_speed\",\"wind_direction\", 'beaufort_scale']\n",
        "\n",
        "tot_col  = categoricals + numericals"
      ],
      "execution_count": 0,
      "outputs": []
    },
    {
      "cell_type": "code",
      "metadata": {
        "id": "FfdClbjWVmhi",
        "colab_type": "code",
        "colab": {}
      },
      "source": [
        "gc.collect()\n",
        "test_df=test_df.drop(drop_cols, axis = 1)"
      ],
      "execution_count": 0,
      "outputs": []
    },
    {
      "cell_type": "markdown",
      "metadata": {
        "id": "ms10cjudXiFQ",
        "colab_type": "text"
      },
      "source": [
        "## Test the model"
      ]
    },
    {
      "cell_type": "code",
      "metadata": {
        "id": "cNbaM8t-_yM1",
        "colab_type": "code",
        "outputId": "dd698831-24eb-49ef-a590-054d3319bddd",
        "colab": {
          "base_uri": "https://localhost:8080/",
          "height": 221
        }
      },
      "source": [
        "print(test_df.columns)\n",
        "print(test_df.shape)\n",
        "print(test_df.head(3))"
      ],
      "execution_count": 0,
      "outputs": [
        {
          "output_type": "stream",
          "text": [
            "Index(['row_id', 'building_id', 'meter', 'site_id', 'primary_use',\n",
            "       'square_feet', 'air_temperature', 'cloud_coverage', 'dew_temperature',\n",
            "       'precip_depth_1_hr', 'sea_level_pressure', 'wind_direction',\n",
            "       'wind_speed', 'hour', 'weekday', 'beaufort_scale'],\n",
            "      dtype='object')\n",
            "(41697600, 16)\n",
            "   row_id  building_id  meter  ...  hour  weekday  beaufort_scale\n",
            "0       0            0      0  ...     0        6             3.0\n",
            "1       1            1      0  ...     0        6             3.0\n",
            "2       2            2      0  ...     0        6             3.0\n",
            "\n",
            "[3 rows x 16 columns]\n"
          ],
          "name": "stdout"
        }
      ]
    },
    {
      "cell_type": "code",
      "metadata": {
        "id": "lZGirbxAXlCV",
        "colab_type": "code",
        "outputId": "fcb0919d-dce3-49c3-ad2b-be4695ce3711",
        "colab": {
          "base_uri": "https://localhost:8080/",
          "height": 34
        }
      },
      "source": [
        "from tqdm import tqdm\n",
        "i=0\n",
        "res = np.zeros((test_df.shape[0]),dtype=np.float32)\n",
        "step_size = 50000\n",
        "for j in tqdm(range(int(np.ceil(test_df.shape[0]/step_size)))):\n",
        "    for_prediction = format_data(test_df.iloc[i:i+step_size], numericals, categoricals)\n",
        "    res[i:min(i+step_size,test_df.shape[0])] = \\\n",
        "       np.expm1(sum([model.predict(for_prediction, batch_size=1024)[:,0] for model in models])/folds)\n",
        "    i+=step_size"
      ],
      "execution_count": 0,
      "outputs": [
        {
          "output_type": "stream",
          "text": [
            "100%|██████████| 834/834 [07:10<00:00,  1.88it/s]\n"
          ],
          "name": "stderr"
        }
      ]
    },
    {
      "cell_type": "markdown",
      "metadata": {
        "id": "AVDfvKOTPL09",
        "colab_type": "text"
      },
      "source": [
        "### Save to CSV"
      ]
    },
    {
      "cell_type": "code",
      "metadata": {
        "colab_type": "code",
        "id": "HqAKTJFEZleD",
        "outputId": "cc449192-f8fd-468f-c036-c8797248a3c1",
        "colab": {
          "base_uri": "https://localhost:8080/",
          "height": 419
        }
      },
      "source": [
        "submission = pd.read_csv('kaggle/input/sample_submission.csv')\n",
        "submission['meter_reading'] = res\n",
        "submission.loc[submission['meter_reading']<0, 'meter_reading'] = 0\n",
        "submission.to_csv('submission.csv', index=False)\n",
        "submission\n"
      ],
      "execution_count": 0,
      "outputs": [
        {
          "output_type": "execute_result",
          "data": {
            "text/html": [
              "<div>\n",
              "<style scoped>\n",
              "    .dataframe tbody tr th:only-of-type {\n",
              "        vertical-align: middle;\n",
              "    }\n",
              "\n",
              "    .dataframe tbody tr th {\n",
              "        vertical-align: top;\n",
              "    }\n",
              "\n",
              "    .dataframe thead th {\n",
              "        text-align: right;\n",
              "    }\n",
              "</style>\n",
              "<table border=\"1\" class=\"dataframe\">\n",
              "  <thead>\n",
              "    <tr style=\"text-align: right;\">\n",
              "      <th></th>\n",
              "      <th>row_id</th>\n",
              "      <th>meter_reading</th>\n",
              "    </tr>\n",
              "  </thead>\n",
              "  <tbody>\n",
              "    <tr>\n",
              "      <th>0</th>\n",
              "      <td>0</td>\n",
              "      <td>207.123352</td>\n",
              "    </tr>\n",
              "    <tr>\n",
              "      <th>1</th>\n",
              "      <td>1</td>\n",
              "      <td>104.589279</td>\n",
              "    </tr>\n",
              "    <tr>\n",
              "      <th>2</th>\n",
              "      <td>2</td>\n",
              "      <td>13.634040</td>\n",
              "    </tr>\n",
              "    <tr>\n",
              "      <th>3</th>\n",
              "      <td>3</td>\n",
              "      <td>324.945221</td>\n",
              "    </tr>\n",
              "    <tr>\n",
              "      <th>4</th>\n",
              "      <td>4</td>\n",
              "      <td>1112.228760</td>\n",
              "    </tr>\n",
              "    <tr>\n",
              "      <th>...</th>\n",
              "      <td>...</td>\n",
              "      <td>...</td>\n",
              "    </tr>\n",
              "    <tr>\n",
              "      <th>41697595</th>\n",
              "      <td>41697595</td>\n",
              "      <td>7.487080</td>\n",
              "    </tr>\n",
              "    <tr>\n",
              "      <th>41697596</th>\n",
              "      <td>41697596</td>\n",
              "      <td>5.908821</td>\n",
              "    </tr>\n",
              "    <tr>\n",
              "      <th>41697597</th>\n",
              "      <td>41697597</td>\n",
              "      <td>5.321392</td>\n",
              "    </tr>\n",
              "    <tr>\n",
              "      <th>41697598</th>\n",
              "      <td>41697598</td>\n",
              "      <td>181.339478</td>\n",
              "    </tr>\n",
              "    <tr>\n",
              "      <th>41697599</th>\n",
              "      <td>41697599</td>\n",
              "      <td>4.666437</td>\n",
              "    </tr>\n",
              "  </tbody>\n",
              "</table>\n",
              "<p>41697600 rows × 2 columns</p>\n",
              "</div>"
            ],
            "text/plain": [
              "            row_id  meter_reading\n",
              "0                0     207.123352\n",
              "1                1     104.589279\n",
              "2                2      13.634040\n",
              "3                3     324.945221\n",
              "4                4    1112.228760\n",
              "...            ...            ...\n",
              "41697595  41697595       7.487080\n",
              "41697596  41697596       5.908821\n",
              "41697597  41697597       5.321392\n",
              "41697598  41697598     181.339478\n",
              "41697599  41697599       4.666437\n",
              "\n",
              "[41697600 rows x 2 columns]"
            ]
          },
          "metadata": {
            "tags": []
          },
          "execution_count": 46
        }
      ]
    },
    {
      "cell_type": "markdown",
      "metadata": {
        "id": "EK4DkpM5XK51",
        "colab_type": "text"
      },
      "source": [
        "### Submit work"
      ]
    },
    {
      "cell_type": "code",
      "metadata": {
        "id": "uEtX_pWlWLos",
        "colab_type": "code",
        "outputId": "74b25655-5b9c-4420-a7b6-e682829b2536",
        "colab": {
          "base_uri": "https://localhost:8080/",
          "height": 105
        }
      },
      "source": [
        "!kaggle competitions submit ashrae-energy-prediction -f submission.csv -m \"Sans Outliers\""
      ],
      "execution_count": 0,
      "outputs": [
        {
          "output_type": "stream",
          "text": [
            "Warning: Your Kaggle API key is readable by other users on this system! To fix this, you can run 'chmod 600 /root/.kaggle/kaggle.json'\n",
            "Warning: Looks like you're using an outdated API Version, please consider updating (server 1.5.6 / client 1.5.4)\n",
            "100% 732M/732M [00:31<00:00, 24.1MB/s]\n",
            "Successfully submitted to ASHRAE - Great Energy Predictor III"
          ],
          "name": "stdout"
        }
      ]
    }
  ]
}