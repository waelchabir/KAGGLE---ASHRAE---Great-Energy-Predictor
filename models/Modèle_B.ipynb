{
  "nbformat": 4,
  "nbformat_minor": 0,
  "metadata": {
    "colab": {
      "name": "Modèle_B.ipynb",
      "provenance": [],
      "collapsed_sections": [
        "B3N-XDXW7Kas"
      ],
      "machine_shape": "hm"
    },
    "kernelspec": {
      "name": "python3",
      "display_name": "Python 3"
    },
    "accelerator": "GPU"
  },
  "cells": [
    {
      "cell_type": "markdown",
      "metadata": {
        "id": "i7XKruVjjclB",
        "colab_type": "text"
      },
      "source": [
        "# Introduction\n",
        "### Pour explorer tout les chemins possible, on a crée et entrainer un modele ***LSTM*** afin de voir la performance du modèle si on exploite les valeurs de la série temporelle."
      ]
    },
    {
      "cell_type": "markdown",
      "metadata": {
        "id": "B3N-XDXW7Kas",
        "colab_type": "text"
      },
      "source": [
        "# Download Data"
      ]
    },
    {
      "cell_type": "code",
      "metadata": {
        "id": "HhE29h9u3EBZ",
        "colab_type": "code",
        "outputId": "1f94b754-18f9-4136-b564-a55753e64a6d",
        "colab": {
          "base_uri": "https://localhost:8080/",
          "height": 34
        }
      },
      "source": [
        "!rm /root/.kaggle\n",
        "!mkdir /root/.kaggle\n",
        "!mv kaggle.json /root/.kaggle"
      ],
      "execution_count": 0,
      "outputs": [
        {
          "output_type": "stream",
          "text": [
            "rm: cannot remove '/root/.kaggle': No such file or directory\n"
          ],
          "name": "stdout"
        }
      ]
    },
    {
      "cell_type": "code",
      "metadata": {
        "id": "ctZPh8pv2FjY",
        "colab_type": "code",
        "outputId": "bda598c5-3254-489d-c3c0-e61abc345fc6",
        "colab": {
          "base_uri": "https://localhost:8080/",
          "height": 368
        }
      },
      "source": [
        "!kaggle competitions download -c ashrae-energy-prediction"
      ],
      "execution_count": 0,
      "outputs": [
        {
          "output_type": "stream",
          "text": [
            "Warning: Your Kaggle API key is readable by other users on this system! To fix this, you can run 'chmod 600 /root/.kaggle/kaggle.json'\n",
            "Warning: Looks like you're using an outdated API Version, please consider updating (server 1.5.6 / client 1.5.4)\n",
            "Downloading test.csv.zip to /content\n",
            " 96% 160M/167M [00:00<00:00, 183MB/s]\n",
            "100% 167M/167M [00:01<00:00, 172MB/s]\n",
            "Downloading train.csv.zip to /content\n",
            "100% 120M/120M [00:00<00:00, 153MB/s] \n",
            "\n",
            "Downloading building_metadata.csv to /content\n",
            "  0% 0.00/44.5k [00:00<?, ?B/s]\n",
            "100% 44.5k/44.5k [00:00<00:00, 44.7MB/s]\n",
            "Downloading weather_test.csv.zip to /content\n",
            "  0% 0.00/2.53M [00:00<?, ?B/s]\n",
            "100% 2.53M/2.53M [00:00<00:00, 170MB/s]\n",
            "Downloading sample_submission.csv.zip to /content\n",
            " 74% 65.0M/88.4M [00:00<00:00, 117MB/s]\n",
            "100% 88.4M/88.4M [00:00<00:00, 121MB/s]\n",
            "Downloading weather_train.csv.zip to /content\n",
            "  0% 0.00/1.27M [00:00<?, ?B/s]\n",
            "100% 1.27M/1.27M [00:00<00:00, 181MB/s]\n"
          ],
          "name": "stdout"
        }
      ]
    },
    {
      "cell_type": "code",
      "metadata": {
        "id": "mNaFApLLBktC",
        "colab_type": "code",
        "outputId": "0fe105c8-89d6-4aed-dff0-845fd9c36f4e",
        "colab": {
          "base_uri": "https://localhost:8080/",
          "height": 193
        }
      },
      "source": [
        "!unzip sample_submission.csv.zip\n",
        "!unzip test.csv.zip\n",
        "!unzip train.csv.zip\n",
        "!unzip weather_train.csv.zip\n",
        "!unzip weather_test.csv.zip"
      ],
      "execution_count": 0,
      "outputs": [
        {
          "output_type": "stream",
          "text": [
            "Archive:  sample_submission.csv.zip\n",
            "  inflating: sample_submission.csv   \n",
            "Archive:  test.csv.zip\n",
            "  inflating: test.csv                \n",
            "Archive:  train.csv.zip\n",
            "  inflating: train.csv               \n",
            "Archive:  weather_train.csv.zip\n",
            "  inflating: weather_train.csv       \n",
            "Archive:  weather_test.csv.zip\n",
            "  inflating: weather_test.csv        \n"
          ],
          "name": "stdout"
        }
      ]
    },
    {
      "cell_type": "code",
      "metadata": {
        "id": "UOxgAiIEBpQ7",
        "colab_type": "code",
        "colab": {}
      },
      "source": [
        "!rm sample_submission.csv.zip\n",
        "!rm test.csv.zip\n",
        "!rm train.csv.zip\n",
        "!rm weather_train.csv.zip\n",
        "!rm weather_test.csv.zip"
      ],
      "execution_count": 0,
      "outputs": []
    },
    {
      "cell_type": "code",
      "metadata": {
        "id": "42nrq8AnAFFX",
        "colab_type": "code",
        "colab": {}
      },
      "source": [
        "!mkdir -p kaggle/input\n",
        "!mv sample_submission.csv /content/kaggle/input\n",
        "!mv test.csv /content/kaggle/input\n",
        "!mv train.csv /content/kaggle/input\n",
        "!mv weather_train.csv /content/kaggle/input\n",
        "!mv weather_test.csv /content/kaggle/input\n",
        "!mv building_metadata.csv /content/kaggle/input"
      ],
      "execution_count": 0,
      "outputs": []
    },
    {
      "cell_type": "markdown",
      "metadata": {
        "id": "xmaEPNgOCHeM",
        "colab_type": "text"
      },
      "source": [
        "# Load Packages"
      ]
    },
    {
      "cell_type": "code",
      "metadata": {
        "id": "sF4sbOtm-575",
        "colab_type": "code",
        "colab": {}
      },
      "source": [
        "%matplotlib inline\n",
        "import json\n",
        "import os\n",
        "import pandas as pd\n",
        "import seaborn as sns\n",
        "import statsmodels.formula.api as smf\n",
        "from sklearn.linear_model import LinearRegression\n",
        "from sklearn import metrics\n",
        "from sklearn.model_selection  import train_test_split\n",
        "import numpy as np\n",
        "import gc\n",
        "from scipy.stats import norm\n",
        "from scipy import stats, integrate\n",
        "import matplotlib.pyplot as plt"
      ],
      "execution_count": 0,
      "outputs": []
    },
    {
      "cell_type": "markdown",
      "metadata": {
        "id": "gheahE5dC7h4",
        "colab_type": "text"
      },
      "source": [
        "# Load Data"
      ]
    },
    {
      "cell_type": "code",
      "metadata": {
        "id": "TOv55V5tCdDi",
        "colab_type": "code",
        "outputId": "37cdc8b5-cc52-4618-d94f-028fa8e98f0c",
        "colab": {
          "base_uri": "https://localhost:8080/",
          "height": 52
        }
      },
      "source": [
        "%%time\n",
        "ASHRAE_train = pd.read_csv('kaggle/input/train.csv')\n",
        "ASHRAE_test = pd.read_csv('kaggle/input/test.csv')\n",
        "weather_train = pd.read_csv('kaggle/input/weather_train.csv')\n",
        "weather_test = pd.read_csv('kaggle/input/weather_test.csv')\n",
        "building_meta = pd.read_csv('kaggle/input/building_metadata.csv')"
      ],
      "execution_count": 0,
      "outputs": [
        {
          "output_type": "stream",
          "text": [
            "CPU times: user 20.2 s, sys: 2.96 s, total: 23.2 s\n",
            "Wall time: 1min 3s\n"
          ],
          "name": "stdout"
        }
      ]
    },
    {
      "cell_type": "markdown",
      "metadata": {
        "id": "QyKopv2_EqKQ",
        "colab_type": "text"
      },
      "source": [
        "# Preprocess Data"
      ]
    },
    {
      "cell_type": "markdown",
      "metadata": {
        "id": "nLe5jMQ7q3i_",
        "colab_type": "text"
      },
      "source": [
        "### Reduce Memory Size\n",
        "#### Afin de preserver la mémoire, on a utiliser cette fonction pour réduire la taille de mémoire allouer à nos datasets\n",
        "***On a copier ce code d'un forum en internet***"
      ]
    },
    {
      "cell_type": "code",
      "metadata": {
        "id": "S9ecKWX0q891",
        "colab_type": "code",
        "colab": {}
      },
      "source": [
        "# Memory saving function credit to https://www.kaggle.com/gemartin/load-data-reduce-memory-usage\n",
        "def reduce_mem_usage(df):\n",
        "    \"\"\" iterate through all the columns of a dataframe and modify the data type\n",
        "        to reduce memory usage.        \n",
        "    \"\"\"\n",
        "    #start_mem = df.memory_usage().sum() / 1024**2\n",
        "    #print('Memory usage of dataframe is {:.2f} MB'.format(start_mem))\n",
        "\n",
        "    for col in df.columns:\n",
        "        col_type = df[col].dtype\n",
        "\n",
        "        if col_type != object:\n",
        "            c_min = df[col].min()\n",
        "            c_max = df[col].max()\n",
        "            if str(col_type)[:3] == 'int':\n",
        "                if c_min > np.iinfo(np.int8).min and c_max < np.iinfo(np.int8).max:\n",
        "                    df[col] = df[col].astype(np.int8)\n",
        "                elif c_min > np.iinfo(np.int16).min and c_max < np.iinfo(np.int16).max:\n",
        "                    df[col] = df[col].astype(np.int16)\n",
        "                elif c_min > np.iinfo(np.int32).min and c_max < np.iinfo(np.int32).max:\n",
        "                    df[col] = df[col].astype(np.int32)\n",
        "                elif c_min > np.iinfo(np.int64).min and c_max < np.iinfo(np.int64).max:\n",
        "                    df[col] = df[col].astype(np.int64)  \n",
        "            else:\n",
        "                if c_min > np.finfo(np.float16).min and c_max < np.finfo(np.float16).max:\n",
        "                    df[col] = df[col].astype(np.float16)\n",
        "                elif c_min > np.finfo(np.float32).min and c_max < np.finfo(np.float32).max:\n",
        "                    df[col] = df[col].astype(np.float32)\n",
        "                else:\n",
        "                    df[col] = df[col].astype(np.float64)\n",
        "\n",
        "    #end_mem = df.memory_usage().sum() / 1024**2\n",
        "    #print('Memory usage after optimization is: {:.2f} MB'.format(end_mem))\n",
        "    #print('Decreased by {:.1f}%'.format(100 * (start_mem - end_mem) / start_mem))\n",
        "\n",
        "    return df"
      ],
      "execution_count": 0,
      "outputs": []
    },
    {
      "cell_type": "markdown",
      "metadata": {
        "id": "vNVPa92_OWQ1",
        "colab_type": "text"
      },
      "source": [
        "### Merge Data\n",
        "#### On a merger tout les données dans une seule table pour commencer le traitement"
      ]
    },
    {
      "cell_type": "code",
      "metadata": {
        "id": "pTbHttiYDrTV",
        "colab_type": "code",
        "outputId": "91ceea72-e71a-4577-d13d-4966dec05155",
        "colab": {
          "base_uri": "https://localhost:8080/",
          "height": 52
        }
      },
      "source": [
        "%%time\n",
        "BuildingTrain = building_meta.merge(ASHRAE_train, left_on='building_id', right_on='building_id' , how='left')\n",
        "BuildingTest = building_meta.merge(ASHRAE_test, left_on='building_id', right_on='building_id' , how='left')\n",
        "BuildingTrain.shape, BuildingTest.shape\n",
        "del ASHRAE_test\n",
        "del ASHRAE_train\n",
        "del building_meta\n",
        "gc.collect()\n",
        "BTW_train=BuildingTrain.merge(weather_train,left_on=['site_id','timestamp'],right_on=['site_id','timestamp'],how='left')\n",
        "BTW_test = BuildingTest.merge(weather_test,left_on=['site_id','timestamp'],right_on=['site_id','timestamp'],how='left')\n",
        "del BuildingTest\n",
        "del BuildingTrain\n",
        "del weather_test\n",
        "del weather_train\n",
        "gc.collect()"
      ],
      "execution_count": 0,
      "outputs": [
        {
          "output_type": "stream",
          "text": [
            "CPU times: user 29.2 s, sys: 2.84 s, total: 32 s\n",
            "Wall time: 32.1 s\n"
          ],
          "name": "stdout"
        }
      ]
    },
    {
      "cell_type": "markdown",
      "metadata": {
        "id": "KMFiUdVAQVOu",
        "colab_type": "text"
      },
      "source": [
        "#### Reduce Memory usage"
      ]
    },
    {
      "cell_type": "code",
      "metadata": {
        "id": "DVaVdmf7QXov",
        "colab_type": "code",
        "colab": {}
      },
      "source": [
        "BTW_train = reduce_mem_usage(BTW_train)\n",
        "BTW_test = reduce_mem_usage(BTW_test)"
      ],
      "execution_count": 0,
      "outputs": []
    },
    {
      "cell_type": "code",
      "metadata": {
        "id": "hpY4I-vfqZ6h",
        "colab_type": "code",
        "colab": {}
      },
      "source": [
        "# Pourcentage des elements N/A\n",
        "BTW_train.isna().sum() / len(BTW_train) *100"
      ],
      "execution_count": 0,
      "outputs": []
    },
    {
      "cell_type": "markdown",
      "metadata": {
        "id": "bcFo_U-_sWHc",
        "colab_type": "text"
      },
      "source": [
        "### Drop Columns\n",
        "On supprime ces trois colonnes parce qu'ils ont plein de cases N/A"
      ]
    },
    {
      "cell_type": "code",
      "metadata": {
        "id": "npDVHsmnsZ4j",
        "colab_type": "code",
        "colab": {}
      },
      "source": [
        "BTW_train = BTW_train.drop(columns=['year_built', 'floor_count', 'wind_direction'])\n",
        "BTW_test = BTW_test.drop(columns=['year_built', 'floor_count','wind_direction'])"
      ],
      "execution_count": 0,
      "outputs": []
    },
    {
      "cell_type": "markdown",
      "metadata": {
        "id": "Oo5GDEGDYvxu",
        "colab_type": "text"
      },
      "source": [
        "consommation d'électricité avant '2016-05-21 00:00:00' est nulle pour tout les building: On va les eliminer"
      ]
    },
    {
      "cell_type": "code",
      "metadata": {
        "id": "GOlyX_NcYq_1",
        "colab_type": "code",
        "colab": {}
      },
      "source": [
        "BTW_train.loc[(BTW_train['meter']==0) & (BTW_train['site_id']==0) & (BTW_train['timestamp']<'2016-05-21 00:00:00'), 'drop'] = True\n",
        "BTW_train = BTW_train[BTW_train['drop']!=True]\n",
        "del BTW_train[\"drop\"]"
      ],
      "execution_count": 0,
      "outputs": []
    },
    {
      "cell_type": "markdown",
      "metadata": {
        "id": "BxXRJvYztH1d",
        "colab_type": "text"
      },
      "source": [
        "### Fill N/A\n",
        "On va remplir les cases N/A par la valeur moyenne de la colonne correspondante"
      ]
    },
    {
      "cell_type": "code",
      "metadata": {
        "id": "w_4ROxuqtOcY",
        "colab_type": "code",
        "outputId": "4ea35f52-f065-4e5c-a800-ce8e55922db8",
        "colab": {
          "base_uri": "https://localhost:8080/",
          "height": 509
        }
      },
      "source": [
        "BTW_train['precip_depth_1_hr'].fillna(BTW_train['precip_depth_1_hr'].astype('float').mean(), inplace = True)\n",
        "BTW_train['cloud_coverage'].fillna(BTW_train['cloud_coverage'].astype('float').mean(), inplace = True)\n",
        "BTW_train['wind_speed'].fillna(BTW_train['wind_speed'].astype('float').mean(), inplace=True)\n",
        "BTW_train['air_temperature'].fillna(BTW_train['air_temperature'].astype('float').mean(), inplace=True)\n",
        "BTW_train['dew_temperature'].fillna(BTW_train['dew_temperature'].astype('float').mean(), inplace=True)\n",
        "BTW_train['sea_level_pressure'].fillna(BTW_train['sea_level_pressure'].astype('float').mean(), inplace=True)\n",
        "\n",
        "BTW_test['precip_depth_1_hr'].fillna(BTW_test['precip_depth_1_hr'].astype('float').mean(), inplace = True)\n",
        "BTW_test['cloud_coverage'].fillna(BTW_test['cloud_coverage'].astype('float').mean(), inplace = True)\n",
        "BTW_test['wind_speed'].fillna(BTW_test['wind_speed'].astype('float').mean(), inplace=True)\n",
        "BTW_test['air_temperature'].fillna(BTW_test['air_temperature'].astype('float').mean(), inplace=True)\n",
        "BTW_test['dew_temperature'].fillna(BTW_test['dew_temperature'].astype('float').mean(), inplace=True)\n",
        "BTW_test['sea_level_pressure'].fillna(BTW_test['sea_level_pressure'].astype('float').mean(), inplace=True)\n",
        "\n",
        "print(BTW_train.isnull().sum()/len(BTW_train) * 100)\n",
        "print(BTW_test.isnull().sum()/len(BTW_test) * 100)"
      ],
      "execution_count": 0,
      "outputs": [
        {
          "output_type": "stream",
          "text": [
            "site_id               0.0\n",
            "building_id           0.0\n",
            "primary_use           0.0\n",
            "square_feet           0.0\n",
            "meter                 0.0\n",
            "timestamp             0.0\n",
            "meter_reading         0.0\n",
            "air_temperature       0.0\n",
            "cloud_coverage        0.0\n",
            "dew_temperature       0.0\n",
            "precip_depth_1_hr     0.0\n",
            "sea_level_pressure    0.0\n",
            "wind_speed            0.0\n",
            "dtype: float64\n",
            "site_id               0.0\n",
            "building_id           0.0\n",
            "primary_use           0.0\n",
            "square_feet           0.0\n",
            "row_id                0.0\n",
            "meter                 0.0\n",
            "timestamp             0.0\n",
            "air_temperature       0.0\n",
            "cloud_coverage        0.0\n",
            "dew_temperature       0.0\n",
            "precip_depth_1_hr     0.0\n",
            "sea_level_pressure    0.0\n",
            "wind_speed            0.0\n",
            "dtype: float64\n"
          ],
          "name": "stdout"
        }
      ]
    },
    {
      "cell_type": "markdown",
      "metadata": {
        "id": "Q9-EX89KshwO",
        "colab_type": "text"
      },
      "source": [
        "### Add Features\n",
        "On va extraire les features suivants du timestamp: année, mois, jour, heure"
      ]
    },
    {
      "cell_type": "code",
      "metadata": {
        "id": "I3RuO7MKskwM",
        "colab_type": "code",
        "colab": {}
      },
      "source": [
        "BTW_train ['timestamp'] =  pd.to_datetime(BTW_train['timestamp'])\n",
        "BTW_test ['timestamp'] =  pd.to_datetime(BTW_test['timestamp'])\n",
        "BTW_test['Year']=pd.DatetimeIndex(BTW_test['timestamp']).year\n",
        "BTW_train['Year']=pd.DatetimeIndex(BTW_train['timestamp']).year\n",
        "BTW_train['Month']=pd.DatetimeIndex(BTW_train['timestamp']).month\n",
        "BTW_test['Month']=pd.DatetimeIndex(BTW_test['timestamp']).month\n",
        "BTW_train['Day']=pd.DatetimeIndex(BTW_train['timestamp']).day\n",
        "BTW_test['Day']=pd.DatetimeIndex(BTW_test['timestamp']).day\n",
        "BTW_test['Hour']=pd.DatetimeIndex(BTW_test['timestamp']).hour\n",
        "BTW_train['Hour']=pd.DatetimeIndex(BTW_train['timestamp']).hour"
      ],
      "execution_count": 0,
      "outputs": []
    },
    {
      "cell_type": "markdown",
      "metadata": {
        "id": "BPOelPCO5AOT",
        "colab_type": "text"
      },
      "source": [
        "#### Features month, day and hour\n",
        "On a trouvé dans un article que pour présenter les features cycliques, on peut introduire la fonction **SINUS** et **COSINUS**"
      ]
    },
    {
      "cell_type": "code",
      "metadata": {
        "trusted": true,
        "id": "4fV8uGXO5AOb",
        "colab_type": "code",
        "colab": {}
      },
      "source": [
        "features_cyc = {'Month' : 12, 'Day' : 7, 'Hour' : 24}\n",
        "for feature in features_cyc.keys():\n",
        "    BTW_train[feature+'_sin'] = np.sin((2*np.pi*BTW_train[feature])/features_cyc[feature])\n",
        "    BTW_train[feature+'_cos'] = np.cos((2*np.pi*BTW_train[feature])/features_cyc[feature])\n",
        "    BTW_test[feature+'_sin'] = np.sin((2*np.pi*BTW_test[feature])/features_cyc[feature])\n",
        "    BTW_test[feature+'_cos'] = np.cos((2*np.pi*BTW_test[feature])/features_cyc[feature])\n",
        "BTW_train = BTW_train.drop(features_cyc.keys(), axis=1)\n",
        "BTW_test = BTW_test.drop(features_cyc.keys(), axis=1)"
      ],
      "execution_count": 0,
      "outputs": []
    },
    {
      "cell_type": "code",
      "metadata": {
        "id": "OkspU6yQsrm3",
        "colab_type": "code",
        "colab": {}
      },
      "source": [
        "BTW_train= BTW_train.groupby(['meter',BTW_train['building_id'],'primary_use',BTW_train['Month_sin'], BTW_train['Month_cos'], BTW_train['Day_sin'], BTW_train['Day_cos']]).agg({'meter_reading':'sum', 'air_temperature': 'mean', 'wind_speed': 'mean', 'precip_depth_1_hr': 'mean', 'cloud_coverage': 'mean', 'square_feet': 'mean'})\n",
        "BTW_test_1= BTW_test.groupby(['row_id','meter',BTW_test['building_id'],'primary_use',BTW_test['Month_sin'], BTW_test['Month_cos'], BTW_test['Day_cos'], BTW_test['Day_sin']]).agg({ 'air_temperature': 'mean', 'wind_speed': 'mean', 'precip_depth_1_hr': 'mean', 'cloud_coverage': 'mean', 'square_feet': 'mean'})"
      ],
      "execution_count": 0,
      "outputs": []
    },
    {
      "cell_type": "code",
      "metadata": {
        "id": "JlCL5w-vszk3",
        "colab_type": "code",
        "colab": {}
      },
      "source": [
        "BTW_train = BTW_train.reset_index()\n",
        "BTW_test = BTW_test.reset_index()"
      ],
      "execution_count": 0,
      "outputs": []
    },
    {
      "cell_type": "code",
      "metadata": {
        "id": "cG-HViCYMu52",
        "colab_type": "code",
        "outputId": "0de3e912-e329-4a1d-9614-c238f9751a0a",
        "colab": {
          "base_uri": "https://localhost:8080/",
          "height": 304
        }
      },
      "source": [
        "BTW_train.head()"
      ],
      "execution_count": 0,
      "outputs": [
        {
          "output_type": "execute_result",
          "data": {
            "text/html": [
              "<div>\n",
              "<style scoped>\n",
              "    .dataframe tbody tr th:only-of-type {\n",
              "        vertical-align: middle;\n",
              "    }\n",
              "\n",
              "    .dataframe tbody tr th {\n",
              "        vertical-align: top;\n",
              "    }\n",
              "\n",
              "    .dataframe thead th {\n",
              "        text-align: right;\n",
              "    }\n",
              "</style>\n",
              "<table border=\"1\" class=\"dataframe\">\n",
              "  <thead>\n",
              "    <tr style=\"text-align: right;\">\n",
              "      <th></th>\n",
              "      <th>meter</th>\n",
              "      <th>building_id</th>\n",
              "      <th>primary_use</th>\n",
              "      <th>Month_sin</th>\n",
              "      <th>Month_cos</th>\n",
              "      <th>Day_sin</th>\n",
              "      <th>Day_cos</th>\n",
              "      <th>meter_reading</th>\n",
              "      <th>air_temperature</th>\n",
              "      <th>wind_speed</th>\n",
              "      <th>precip_depth_1_hr</th>\n",
              "      <th>cloud_coverage</th>\n",
              "      <th>square_feet</th>\n",
              "      <th>beaufort_scale</th>\n",
              "    </tr>\n",
              "  </thead>\n",
              "  <tbody>\n",
              "    <tr>\n",
              "      <th>0</th>\n",
              "      <td>0</td>\n",
              "      <td>0</td>\n",
              "      <td>Education</td>\n",
              "      <td>-1.0</td>\n",
              "      <td>-1.836970e-16</td>\n",
              "      <td>-0.974928</td>\n",
              "      <td>-0.222521</td>\n",
              "      <td>5835.206055</td>\n",
              "      <td>25.453125</td>\n",
              "      <td>1.770508</td>\n",
              "      <td>1.958008</td>\n",
              "      <td>3.015625</td>\n",
              "      <td>7432</td>\n",
              "      <td>2.0</td>\n",
              "    </tr>\n",
              "    <tr>\n",
              "      <th>1</th>\n",
              "      <td>0</td>\n",
              "      <td>0</td>\n",
              "      <td>Education</td>\n",
              "      <td>-1.0</td>\n",
              "      <td>-1.836970e-16</td>\n",
              "      <td>-0.974928</td>\n",
              "      <td>-0.222521</td>\n",
              "      <td>5901.419922</td>\n",
              "      <td>25.406250</td>\n",
              "      <td>3.675781</td>\n",
              "      <td>11.664062</td>\n",
              "      <td>2.750000</td>\n",
              "      <td>7432</td>\n",
              "      <td>3.0</td>\n",
              "    </tr>\n",
              "    <tr>\n",
              "      <th>2</th>\n",
              "      <td>0</td>\n",
              "      <td>0</td>\n",
              "      <td>Education</td>\n",
              "      <td>-1.0</td>\n",
              "      <td>-1.836970e-16</td>\n",
              "      <td>-0.974928</td>\n",
              "      <td>-0.222521</td>\n",
              "      <td>5864.560059</td>\n",
              "      <td>27.625000</td>\n",
              "      <td>2.279297</td>\n",
              "      <td>6.332031</td>\n",
              "      <td>2.945312</td>\n",
              "      <td>7432</td>\n",
              "      <td>2.0</td>\n",
              "    </tr>\n",
              "    <tr>\n",
              "      <th>3</th>\n",
              "      <td>0</td>\n",
              "      <td>0</td>\n",
              "      <td>Education</td>\n",
              "      <td>-1.0</td>\n",
              "      <td>-1.836970e-16</td>\n",
              "      <td>-0.974928</td>\n",
              "      <td>-0.222521</td>\n",
              "      <td>5754.666016</td>\n",
              "      <td>27.812500</td>\n",
              "      <td>3.708984</td>\n",
              "      <td>0.125000</td>\n",
              "      <td>2.691406</td>\n",
              "      <td>7432</td>\n",
              "      <td>3.0</td>\n",
              "    </tr>\n",
              "    <tr>\n",
              "      <th>4</th>\n",
              "      <td>0</td>\n",
              "      <td>0</td>\n",
              "      <td>Education</td>\n",
              "      <td>-1.0</td>\n",
              "      <td>-1.836970e-16</td>\n",
              "      <td>-0.781831</td>\n",
              "      <td>0.623490</td>\n",
              "      <td>6003.801270</td>\n",
              "      <td>25.156250</td>\n",
              "      <td>1.483398</td>\n",
              "      <td>1.666992</td>\n",
              "      <td>3.029297</td>\n",
              "      <td>7432</td>\n",
              "      <td>1.0</td>\n",
              "    </tr>\n",
              "  </tbody>\n",
              "</table>\n",
              "</div>"
            ],
            "text/plain": [
              "   meter  building_id primary_use  ...  cloud_coverage  square_feet  beaufort_scale\n",
              "0      0            0   Education  ...        3.015625         7432             2.0\n",
              "1      0            0   Education  ...        2.750000         7432             3.0\n",
              "2      0            0   Education  ...        2.945312         7432             2.0\n",
              "3      0            0   Education  ...        2.691406         7432             3.0\n",
              "4      0            0   Education  ...        3.029297         7432             1.0\n",
              "\n",
              "[5 rows x 14 columns]"
            ]
          },
          "metadata": {
            "tags": []
          },
          "execution_count": 21
        }
      ]
    },
    {
      "cell_type": "markdown",
      "metadata": {
        "id": "hhLujQwgHuC8",
        "colab_type": "text"
      },
      "source": [
        "#### Wind Speed categorization\n",
        "On utilise le beaufort scale pour convertir le wind speed en une variable discrète "
      ]
    },
    {
      "cell_type": "code",
      "metadata": {
        "id": "hU_KSVDOH0jJ",
        "colab_type": "code",
        "colab": {}
      },
      "source": [
        "beaufort = [(0, 0, 0.3), (1, 0.3, 1.6), (2, 1.6, 3.4), (3, 3.4, 5.5), (4, 5.5, 8), (5, 8, 10.8), (6, 10.8, 13.9), \n",
        "          (7, 13.9, 17.2), (8, 17.2, 20.8), (9, 20.8, 24.5), (10, 24.5, 28.5), (11, 28.5, 33), (12, 33, 200)]\n",
        "\n",
        "for item in beaufort:\n",
        "    BTW_train.loc[(BTW_train['wind_speed']>=item[1]) & (BTW_train['wind_speed']<item[2]), 'beaufort_scale'] = item[0]\n",
        "    BTW_test.loc[(BTW_test['wind_speed']>=item[1]) & (BTW_test['wind_speed']<item[2]), 'beaufort_scale'] = item[0]\n",
        "del BTW_train['wind_speed']\n",
        "del BTW_test['wind_speed']\n",
        "gc.collect()"
      ],
      "execution_count": 0,
      "outputs": []
    },
    {
      "cell_type": "markdown",
      "metadata": {
        "id": "MWLvLSrTtV80",
        "colab_type": "text"
      },
      "source": [
        "# Build Model"
      ]
    },
    {
      "cell_type": "markdown",
      "metadata": {
        "id": "yDmUHv6rOZDQ",
        "colab_type": "text"
      },
      "source": [
        "### Encode Data"
      ]
    },
    {
      "cell_type": "code",
      "metadata": {
        "id": "1UobczcTw7xD",
        "colab_type": "code",
        "colab": {}
      },
      "source": [
        "BTW_encoded = BTW_train[:]\n",
        "BTW_test_encoded = BTW_test[:]"
      ],
      "execution_count": 0,
      "outputs": []
    },
    {
      "cell_type": "code",
      "metadata": {
        "id": "YW89Ho50FDWB",
        "colab_type": "code",
        "colab": {}
      },
      "source": [
        "# label encoding \n",
        "from sklearn.preprocessing import LabelEncoder\n",
        "\n",
        "le = LabelEncoder()\n",
        "BTW_encoded[\"primary_use\"] = le.fit_transform(BTW_encoded[\"primary_use\"])\n",
        "BTW_test_encoded[\"primary_use\"] = le.fit_transform(BTW_test_encoded[\"primary_use\"])"
      ],
      "execution_count": 0,
      "outputs": []
    },
    {
      "cell_type": "code",
      "metadata": {
        "id": "Yf5_1a1-t14U",
        "colab_type": "code",
        "colab": {}
      },
      "source": [
        "X = BTW_encoded[['meter', 'building_id', 'primary_use', 'Month_sin', 'Month_cos', 'Day_sin', 'Day_cos', 'air_temperature', 'wind_speed', 'precip_depth_1_hr', 'cloud_coverage']] #'square_feet'\n",
        "y = BTW_encoded['meter_reading']"
      ],
      "execution_count": 0,
      "outputs": []
    },
    {
      "cell_type": "code",
      "metadata": {
        "id": "BkqxrZBP4JQJ",
        "colab_type": "code",
        "colab": {}
      },
      "source": [
        "X_test = BTW_test_encoded[['meter', 'building_id', 'primary_use', 'Month_sin', 'Month_cos', 'Day_sin', 'Day_cos', 'air_temperature', 'wind_speed', 'precip_depth_1_hr', 'cloud_coverage']] #'square_feet'"
      ],
      "execution_count": 0,
      "outputs": []
    },
    {
      "cell_type": "code",
      "metadata": {
        "id": "804UYWkFQqMU",
        "colab_type": "code",
        "outputId": "a7c9cb88-2655-4486-89a3-115bddda382e",
        "colab": {
          "base_uri": "https://localhost:8080/",
          "height": 361
        }
      },
      "source": [
        "BTW_train.describe()"
      ],
      "execution_count": 0,
      "outputs": [
        {
          "output_type": "execute_result",
          "data": {
            "text/html": [
              "<div>\n",
              "<style scoped>\n",
              "    .dataframe tbody tr th:only-of-type {\n",
              "        vertical-align: middle;\n",
              "    }\n",
              "\n",
              "    .dataframe tbody tr th {\n",
              "        vertical-align: top;\n",
              "    }\n",
              "\n",
              "    .dataframe thead th {\n",
              "        text-align: right;\n",
              "    }\n",
              "</style>\n",
              "<table border=\"1\" class=\"dataframe\">\n",
              "  <thead>\n",
              "    <tr style=\"text-align: right;\">\n",
              "      <th></th>\n",
              "      <th>meter</th>\n",
              "      <th>building_id</th>\n",
              "      <th>Month_sin</th>\n",
              "      <th>Month_cos</th>\n",
              "      <th>Day_sin</th>\n",
              "      <th>Day_cos</th>\n",
              "      <th>meter_reading</th>\n",
              "      <th>air_temperature</th>\n",
              "      <th>precip_depth_1_hr</th>\n",
              "      <th>cloud_coverage</th>\n",
              "      <th>square_feet</th>\n",
              "      <th>beaufort_scale</th>\n",
              "    </tr>\n",
              "  </thead>\n",
              "  <tbody>\n",
              "    <tr>\n",
              "      <th>count</th>\n",
              "      <td>831147.000000</td>\n",
              "      <td>831147.000000</td>\n",
              "      <td>8.311470e+05</td>\n",
              "      <td>8.311470e+05</td>\n",
              "      <td>8.311470e+05</td>\n",
              "      <td>831147.000000</td>\n",
              "      <td>8.311470e+05</td>\n",
              "      <td>831147.000000</td>\n",
              "      <td>831147.000000</td>\n",
              "      <td>831147.000000</td>\n",
              "      <td>831147.000000</td>\n",
              "      <td>831147.000000</td>\n",
              "    </tr>\n",
              "    <tr>\n",
              "      <th>mean</th>\n",
              "      <td>0.675285</td>\n",
              "      <td>813.188322</td>\n",
              "      <td>-3.092074e-02</td>\n",
              "      <td>-6.601679e-03</td>\n",
              "      <td>6.489923e-02</td>\n",
              "      <td>-0.002754</td>\n",
              "      <td>5.147902e+04</td>\n",
              "      <td>NaN</td>\n",
              "      <td>NaN</td>\n",
              "      <td>NaN</td>\n",
              "      <td>108081.638573</td>\n",
              "      <td>2.432565</td>\n",
              "    </tr>\n",
              "    <tr>\n",
              "      <th>std</th>\n",
              "      <td>0.935118</td>\n",
              "      <td>418.978502</td>\n",
              "      <td>7.003250e-01</td>\n",
              "      <td>7.131244e-01</td>\n",
              "      <td>7.121949e-01</td>\n",
              "      <td>0.698971</td>\n",
              "      <td>3.601055e+06</td>\n",
              "      <td>0.000000</td>\n",
              "      <td>0.000000</td>\n",
              "      <td>0.000000</td>\n",
              "      <td>117155.254144</td>\n",
              "      <td>0.827288</td>\n",
              "    </tr>\n",
              "    <tr>\n",
              "      <th>min</th>\n",
              "      <td>0.000000</td>\n",
              "      <td>0.000000</td>\n",
              "      <td>-1.000000e+00</td>\n",
              "      <td>-1.000000e+00</td>\n",
              "      <td>-9.749279e-01</td>\n",
              "      <td>-0.900969</td>\n",
              "      <td>0.000000e+00</td>\n",
              "      <td>-24.921875</td>\n",
              "      <td>-1.000000</td>\n",
              "      <td>0.000000</td>\n",
              "      <td>283.000000</td>\n",
              "      <td>0.000000</td>\n",
              "    </tr>\n",
              "    <tr>\n",
              "      <th>25%</th>\n",
              "      <td>0.000000</td>\n",
              "      <td>426.000000</td>\n",
              "      <td>-8.660254e-01</td>\n",
              "      <td>-8.660254e-01</td>\n",
              "      <td>-7.818315e-01</td>\n",
              "      <td>-0.900969</td>\n",
              "      <td>5.765490e+02</td>\n",
              "      <td>8.773438</td>\n",
              "      <td>0.000000</td>\n",
              "      <td>1.108398</td>\n",
              "      <td>33012.000000</td>\n",
              "      <td>2.000000</td>\n",
              "    </tr>\n",
              "    <tr>\n",
              "      <th>50%</th>\n",
              "      <td>0.000000</td>\n",
              "      <td>904.000000</td>\n",
              "      <td>-2.449294e-16</td>\n",
              "      <td>-1.836970e-16</td>\n",
              "      <td>-2.449294e-16</td>\n",
              "      <td>-0.222521</td>\n",
              "      <td>2.116088e+03</td>\n",
              "      <td>16.937500</td>\n",
              "      <td>0.000000</td>\n",
              "      <td>1.882812</td>\n",
              "      <td>72958.000000</td>\n",
              "      <td>2.000000</td>\n",
              "    </tr>\n",
              "    <tr>\n",
              "      <th>75%</th>\n",
              "      <td>1.000000</td>\n",
              "      <td>1186.000000</td>\n",
              "      <td>5.000000e-01</td>\n",
              "      <td>8.660254e-01</td>\n",
              "      <td>7.818315e-01</td>\n",
              "      <td>0.623490</td>\n",
              "      <td>6.784482e+03</td>\n",
              "      <td>23.687500</td>\n",
              "      <td>0.788086</td>\n",
              "      <td>2.656250</td>\n",
              "      <td>140092.000000</td>\n",
              "      <td>3.000000</td>\n",
              "    </tr>\n",
              "    <tr>\n",
              "      <th>max</th>\n",
              "      <td>3.000000</td>\n",
              "      <td>1448.000000</td>\n",
              "      <td>1.000000e+00</td>\n",
              "      <td>1.000000e+00</td>\n",
              "      <td>9.749279e-01</td>\n",
              "      <td>1.000000</td>\n",
              "      <td>4.611469e+08</td>\n",
              "      <td>40.187500</td>\n",
              "      <td>49.843750</td>\n",
              "      <td>9.000000</td>\n",
              "      <td>875000.000000</td>\n",
              "      <td>7.000000</td>\n",
              "    </tr>\n",
              "  </tbody>\n",
              "</table>\n",
              "</div>"
            ],
            "text/plain": [
              "               meter    building_id  ...    square_feet  beaufort_scale\n",
              "count  831147.000000  831147.000000  ...  831147.000000   831147.000000\n",
              "mean        0.675285     813.188322  ...  108081.638573        2.432565\n",
              "std         0.935118     418.978502  ...  117155.254144        0.827288\n",
              "min         0.000000       0.000000  ...     283.000000        0.000000\n",
              "25%         0.000000     426.000000  ...   33012.000000        2.000000\n",
              "50%         0.000000     904.000000  ...   72958.000000        2.000000\n",
              "75%         1.000000    1186.000000  ...  140092.000000        3.000000\n",
              "max         3.000000    1448.000000  ...  875000.000000        7.000000\n",
              "\n",
              "[8 rows x 12 columns]"
            ]
          },
          "metadata": {
            "tags": []
          },
          "execution_count": 42
        }
      ]
    },
    {
      "cell_type": "markdown",
      "metadata": {
        "id": "jCG-EtLhuEPP",
        "colab_type": "text"
      },
      "source": [
        "### Model"
      ]
    },
    {
      "cell_type": "code",
      "metadata": {
        "id": "WOxAlP04uCbZ",
        "colab_type": "code",
        "outputId": "6d20f7c1-c5f0-4cb6-b692-bc3c4e5ae488",
        "colab": {
          "base_uri": "https://localhost:8080/",
          "height": 81
        }
      },
      "source": [
        "from sklearn import preprocessing\n",
        "from keras import backend as K\n",
        "from keras.callbacks import ModelCheckpoint, EarlyStopping\n",
        "from keras.layers import Dense, LSTM, GRU, Dropout, BatchNormalization\n",
        "from keras.models import Sequential\n",
        "from keras.optimizers import RMSprop,Adam\n",
        "from keras import regularizers"
      ],
      "execution_count": 0,
      "outputs": [
        {
          "output_type": "stream",
          "text": [
            "Using TensorFlow backend.\n"
          ],
          "name": "stderr"
        },
        {
          "output_type": "display_data",
          "data": {
            "text/html": [
              "<p style=\"color: red;\">\n",
              "The default version of TensorFlow in Colab will soon switch to TensorFlow 2.x.<br>\n",
              "We recommend you <a href=\"https://www.tensorflow.org/guide/migrate\" target=\"_blank\">upgrade</a> now \n",
              "or ensure your notebook will continue to use TensorFlow 1.x via the <code>%tensorflow_version 1.x</code> magic:\n",
              "<a href=\"https://colab.research.google.com/notebooks/tensorflow_version.ipynb\" target=\"_blank\">more info</a>.</p>\n"
            ],
            "text/plain": [
              "<IPython.core.display.HTML object>"
            ]
          },
          "metadata": {
            "tags": []
          }
        }
      ]
    },
    {
      "cell_type": "code",
      "metadata": {
        "id": "c1ibCLz_uJMh",
        "colab_type": "code",
        "colab": {}
      },
      "source": [
        "def root_mean_squared_error(y_true, y_pred):\n",
        "  return K.sqrt(K.mean(K.square(y_pred - y_true)))"
      ],
      "execution_count": 0,
      "outputs": []
    },
    {
      "cell_type": "code",
      "metadata": {
        "id": "zzEMcMKhuMq_",
        "colab_type": "code",
        "colab": {}
      },
      "source": [
        "def make_model(input_dim=10,metrics=root_mean_squared_error,loss='mse', optimizer=\"rmsprop\",drop_rate=0.5):\n",
        "\n",
        "  model = Sequential()\n",
        "  model.add(LSTM(256,return_sequences=True, input_shape=(None,input_dim)))\n",
        "  model.add(Dropout(drop_rate))\n",
        "  model.add(BatchNormalization())\n",
        "  model.add(LSTM(512,return_sequences=True))\n",
        "  model.add(Dropout(drop_rate))\n",
        "  model.add(BatchNormalization())\n",
        "  model.add(LSTM(128,return_sequences=False))\n",
        "  model.add(BatchNormalization())\n",
        "  model.add(Dropout(drop_rate))\n",
        "  model.add(Dense(1))\n",
        "  model.compile(optimizer=optimizer, loss=loss, metrics=[metrics])\n",
        "  \n",
        "  return model"
      ],
      "execution_count": 0,
      "outputs": []
    },
    {
      "cell_type": "code",
      "metadata": {
        "id": "Stn2-Jy4uQWU",
        "colab_type": "code",
        "colab": {}
      },
      "source": [
        "from sklearn.model_selection import KFold, StratifiedKFold, train_test_split\n",
        "\n",
        "def run_model(x_df,y_df,epochs=50,batch_size=500,verbose=1,callbacks =None):\n",
        "  histories = []\n",
        "  models = []\n",
        "  folds = 4\n",
        "  seed = 99\n",
        "  es = callbacks\n",
        "  kf = StratifiedKFold(n_splits=folds, shuffle=True, random_state=seed)\n",
        "  for fold_n, (train_index, valid_index) in enumerate(kf.split(x_df, x_df['building_id'])):\n",
        "    print('Fold:', fold_n)\n",
        "    model_checkpoint = ModelCheckpoint(\"model_\" + str(fold_n)+ \".hdf5\",\n",
        "                                       save_best_only=True, verbose=1, monitor='val_root_mean_squared_error', mode='min')\n",
        "    callbacks = [es, model_checkpoint]\n",
        "    model = make_model(input_dim=x_df.shape[-1],drop_rate=0.3)\n",
        "    X_train, X_valid = x_df.iloc[train_index], x_df.iloc[valid_index]\n",
        "    y_train, y_valid = y_df.iloc[train_index], y_df.iloc[valid_index]\n",
        "\n",
        "    X_train = X_train.values[:]\n",
        "    X_train= X_train.reshape((X_train.shape[0],1,X_train.shape[-1]))\n",
        "    y_train = np.log1p(y_train)\n",
        "\n",
        "    x_val = X_valid.values[:]\n",
        "    x_val = x_val.reshape((x_val.shape[0],1,x_val.shape[-1]))\n",
        "    y_val = np.log1p(y_valid)\n",
        "\n",
        "    hist = model.fit(X_train,y_train,epochs=epochs,batch_size=batch_size,verbose=verbose,validation_data=(x_val,y_val),callbacks=callbacks)\n",
        "    histories.append(hist)\n",
        "    models.append(model)\n",
        "    print('*'* 50)\n",
        "  \n",
        "  return (models, histories)"
      ],
      "execution_count": 0,
      "outputs": []
    },
    {
      "cell_type": "markdown",
      "metadata": {
        "id": "vhBNY8dfuZ7M",
        "colab_type": "text"
      },
      "source": [
        "#### Callbacks\n",
        "Une fonction de Callback pour stopper l'entrainement du modèle dès que le modèle arrete de faire un progrés par rapport à val_root_mean_squared_error"
      ]
    },
    {
      "cell_type": "code",
      "metadata": {
        "id": "8UQBoKgguWTC",
        "colab_type": "code",
        "colab": {}
      },
      "source": [
        "es = EarlyStopping(monitor='val_root_mean_squared_error', min_delta=0.0001, patience=5, verbose=True, mode='auto')"
      ],
      "execution_count": 0,
      "outputs": []
    },
    {
      "cell_type": "markdown",
      "metadata": {
        "id": "hMeiJK5CuoI6",
        "colab_type": "text"
      },
      "source": [
        "### Create and Train Model"
      ]
    },
    {
      "cell_type": "code",
      "metadata": {
        "id": "fpDX4wmwuwKb",
        "colab_type": "code",
        "outputId": "bb7c61e5-ec52-4c93-e86b-0bce076b682d",
        "colab": {
          "base_uri": "https://localhost:8080/",
          "height": 1000
        }
      },
      "source": [
        "batch_size = 1024\n",
        "epochs = 50\n",
        "(models, history) = run_model(X,y, epochs, batch_size,verbose=1, callbacks=es)"
      ],
      "execution_count": 0,
      "outputs": [
        {
          "output_type": "stream",
          "text": [
            "Fold: 0\n",
            "Train on 623360 samples, validate on 207787 samples\n",
            "Epoch 1/50\n",
            "623360/623360 [==============================] - 19s 30us/step - loss: 15.7656 - root_mean_squared_error: 3.6565 - val_loss: 5.6586 - val_root_mean_squared_error: 2.1681\n",
            "\n",
            "Epoch 00001: val_root_mean_squared_error improved from inf to 2.16810, saving model to model_0.hdf5\n",
            "Epoch 2/50\n",
            "623360/623360 [==============================] - 13s 21us/step - loss: 6.0234 - root_mean_squared_error: 2.4528 - val_loss: 5.4290 - val_root_mean_squared_error: 2.1251\n",
            "\n",
            "Epoch 00002: val_root_mean_squared_error improved from 2.16810 to 2.12510, saving model to model_0.hdf5\n",
            "Epoch 3/50\n",
            "623360/623360 [==============================] - 13s 21us/step - loss: 5.6353 - root_mean_squared_error: 2.3724 - val_loss: 5.1217 - val_root_mean_squared_error: 2.0684\n",
            "\n",
            "Epoch 00003: val_root_mean_squared_error improved from 2.12510 to 2.06839, saving model to model_0.hdf5\n",
            "Epoch 4/50\n",
            "623360/623360 [==============================] - 13s 20us/step - loss: 5.3474 - root_mean_squared_error: 2.3109 - val_loss: 4.9453 - val_root_mean_squared_error: 2.0506\n",
            "\n",
            "Epoch 00004: val_root_mean_squared_error improved from 2.06839 to 2.05064, saving model to model_0.hdf5\n",
            "Epoch 5/50\n",
            "623360/623360 [==============================] - 12s 19us/step - loss: 5.1874 - root_mean_squared_error: 2.2759 - val_loss: 5.1857 - val_root_mean_squared_error: 2.1171\n",
            "\n",
            "Epoch 00005: val_root_mean_squared_error did not improve from 2.05064\n",
            "Epoch 6/50\n",
            "623360/623360 [==============================] - 12s 19us/step - loss: 5.0798 - root_mean_squared_error: 2.2522 - val_loss: 4.5823 - val_root_mean_squared_error: 1.9813\n",
            "\n",
            "Epoch 00006: val_root_mean_squared_error improved from 2.05064 to 1.98129, saving model to model_0.hdf5\n",
            "Epoch 7/50\n",
            "623360/623360 [==============================] - 12s 19us/step - loss: 5.0336 - root_mean_squared_error: 2.2420 - val_loss: 5.1453 - val_root_mean_squared_error: 2.0819\n",
            "\n",
            "Epoch 00007: val_root_mean_squared_error did not improve from 1.98129\n",
            "Epoch 8/50\n",
            "623360/623360 [==============================] - 12s 19us/step - loss: 4.9512 - root_mean_squared_error: 2.2237 - val_loss: 5.2046 - val_root_mean_squared_error: 2.0773\n",
            "\n",
            "Epoch 00008: val_root_mean_squared_error did not improve from 1.98129\n",
            "Epoch 9/50\n",
            "623360/623360 [==============================] - 13s 20us/step - loss: 4.9017 - root_mean_squared_error: 2.2126 - val_loss: 4.5913 - val_root_mean_squared_error: 1.9899\n",
            "\n",
            "Epoch 00009: val_root_mean_squared_error did not improve from 1.98129\n",
            "Epoch 10/50\n",
            "623360/623360 [==============================] - 13s 21us/step - loss: 4.8609 - root_mean_squared_error: 2.2034 - val_loss: 6.1821 - val_root_mean_squared_error: 2.2151\n",
            "\n",
            "Epoch 00010: val_root_mean_squared_error did not improve from 1.98129\n",
            "Epoch 11/50\n",
            "623360/623360 [==============================] - 13s 21us/step - loss: 4.8228 - root_mean_squared_error: 2.1945 - val_loss: 4.6461 - val_root_mean_squared_error: 1.9905\n",
            "\n",
            "Epoch 00011: val_root_mean_squared_error did not improve from 1.98129\n",
            "Epoch 00011: early stopping\n",
            "**************************************************\n",
            "Fold: 1\n",
            "Train on 623360 samples, validate on 207787 samples\n",
            "Epoch 1/50\n",
            "623360/623360 [==============================] - 20s 32us/step - loss: 15.6795 - root_mean_squared_error: 3.6471 - val_loss: 5.5904 - val_root_mean_squared_error: 2.1536\n",
            "\n",
            "Epoch 00001: val_root_mean_squared_error improved from inf to 2.15362, saving model to model_1.hdf5\n",
            "Epoch 2/50\n",
            "623360/623360 [==============================] - 13s 21us/step - loss: 5.9945 - root_mean_squared_error: 2.4469 - val_loss: 5.7030 - val_root_mean_squared_error: 2.1730\n",
            "\n",
            "Epoch 00002: val_root_mean_squared_error did not improve from 2.15362\n",
            "Epoch 3/50\n",
            "623360/623360 [==============================] - 13s 21us/step - loss: 5.5763 - root_mean_squared_error: 2.3599 - val_loss: 6.2268 - val_root_mean_squared_error: 2.2569\n",
            "\n",
            "Epoch 00003: val_root_mean_squared_error did not improve from 2.15362\n",
            "Epoch 4/50\n",
            "623360/623360 [==============================] - 13s 20us/step - loss: 5.1689 - root_mean_squared_error: 2.2720 - val_loss: 5.4083 - val_root_mean_squared_error: 2.1172\n",
            "\n",
            "Epoch 00004: val_root_mean_squared_error improved from 2.15362 to 2.11715, saving model to model_1.hdf5\n",
            "Epoch 5/50\n",
            "623360/623360 [==============================] - 12s 19us/step - loss: 5.0208 - root_mean_squared_error: 2.2392 - val_loss: 5.6099 - val_root_mean_squared_error: 2.1424\n",
            "\n",
            "Epoch 00005: val_root_mean_squared_error did not improve from 2.11715\n",
            "Epoch 6/50\n",
            "623360/623360 [==============================] - 12s 19us/step - loss: 4.9505 - root_mean_squared_error: 2.2235 - val_loss: 7.3329 - val_root_mean_squared_error: 2.3576\n",
            "\n",
            "Epoch 00006: val_root_mean_squared_error did not improve from 2.11715\n",
            "Epoch 7/50\n",
            "623360/623360 [==============================] - 12s 19us/step - loss: 4.8869 - root_mean_squared_error: 2.2091 - val_loss: 5.4041 - val_root_mean_squared_error: 2.1329\n",
            "\n",
            "Epoch 00007: val_root_mean_squared_error did not improve from 2.11715\n",
            "Epoch 8/50\n",
            "623360/623360 [==============================] - 12s 19us/step - loss: 4.8405 - root_mean_squared_error: 2.1987 - val_loss: 6.4344 - val_root_mean_squared_error: 2.2494\n",
            "\n",
            "Epoch 00008: val_root_mean_squared_error did not improve from 2.11715\n",
            "Epoch 9/50\n",
            "623360/623360 [==============================] - 12s 19us/step - loss: 4.8152 - root_mean_squared_error: 2.1929 - val_loss: 6.1492 - val_root_mean_squared_error: 2.2435\n",
            "\n",
            "Epoch 00009: val_root_mean_squared_error did not improve from 2.11715\n",
            "Epoch 00009: early stopping\n",
            "**************************************************\n",
            "Fold: 2\n",
            "Train on 623360 samples, validate on 207787 samples\n",
            "Epoch 1/50\n",
            "623360/623360 [==============================] - 18s 30us/step - loss: 15.7445 - root_mean_squared_error: 3.6564 - val_loss: 5.7475 - val_root_mean_squared_error: 2.1981\n",
            "\n",
            "Epoch 00001: val_root_mean_squared_error improved from inf to 2.19809, saving model to model_2.hdf5\n",
            "Epoch 2/50\n",
            "623360/623360 [==============================] - 12s 19us/step - loss: 5.9764 - root_mean_squared_error: 2.4431 - val_loss: 5.4528 - val_root_mean_squared_error: 2.1237\n",
            "\n",
            "Epoch 00002: val_root_mean_squared_error improved from 2.19809 to 2.12369, saving model to model_2.hdf5\n",
            "Epoch 3/50\n",
            "623360/623360 [==============================] - 12s 19us/step - loss: 5.5877 - root_mean_squared_error: 2.3624 - val_loss: 5.7989 - val_root_mean_squared_error: 2.1885\n",
            "\n",
            "Epoch 00003: val_root_mean_squared_error did not improve from 2.12369\n",
            "Epoch 4/50\n",
            "623360/623360 [==============================] - 12s 19us/step - loss: 5.2976 - root_mean_squared_error: 2.3000 - val_loss: 5.0871 - val_root_mean_squared_error: 2.0893\n",
            "\n",
            "Epoch 00004: val_root_mean_squared_error improved from 2.12369 to 2.08928, saving model to model_2.hdf5\n",
            "Epoch 5/50\n",
            "623360/623360 [==============================] - 12s 19us/step - loss: 5.0311 - root_mean_squared_error: 2.2415 - val_loss: 5.3160 - val_root_mean_squared_error: 2.1061\n",
            "\n",
            "Epoch 00005: val_root_mean_squared_error did not improve from 2.08928\n",
            "Epoch 6/50\n",
            "623360/623360 [==============================] - 12s 19us/step - loss: 4.9473 - root_mean_squared_error: 2.2228 - val_loss: 5.3189 - val_root_mean_squared_error: 2.1135\n",
            "\n",
            "Epoch 00006: val_root_mean_squared_error did not improve from 2.08928\n",
            "Epoch 7/50\n",
            "623360/623360 [==============================] - 12s 19us/step - loss: 4.9808 - root_mean_squared_error: 2.2302 - val_loss: 6.1738 - val_root_mean_squared_error: 2.2198\n",
            "\n",
            "Epoch 00007: val_root_mean_squared_error did not improve from 2.08928\n",
            "Epoch 8/50\n",
            "623360/623360 [==============================] - 12s 19us/step - loss: 4.9196 - root_mean_squared_error: 2.2165 - val_loss: 4.6060 - val_root_mean_squared_error: 1.9845\n",
            "\n",
            "Epoch 00008: val_root_mean_squared_error improved from 2.08928 to 1.98446, saving model to model_2.hdf5\n",
            "Epoch 9/50\n",
            "623360/623360 [==============================] - 12s 19us/step - loss: 4.8603 - root_mean_squared_error: 2.2029 - val_loss: 4.5095 - val_root_mean_squared_error: 1.9747\n",
            "\n",
            "Epoch 00009: val_root_mean_squared_error improved from 1.98446 to 1.97473, saving model to model_2.hdf5\n",
            "Epoch 10/50\n",
            "623360/623360 [==============================] - 12s 19us/step - loss: 4.8120 - root_mean_squared_error: 2.1922 - val_loss: 4.5248 - val_root_mean_squared_error: 1.9709\n",
            "\n",
            "Epoch 00010: val_root_mean_squared_error improved from 1.97473 to 1.97094, saving model to model_2.hdf5\n",
            "Epoch 11/50\n",
            "623360/623360 [==============================] - 12s 19us/step - loss: 4.7602 - root_mean_squared_error: 2.1803 - val_loss: 5.3075 - val_root_mean_squared_error: 2.0833\n",
            "\n",
            "Epoch 00011: val_root_mean_squared_error did not improve from 1.97094\n",
            "Epoch 12/50\n",
            "623360/623360 [==============================] - 12s 19us/step - loss: 4.7322 - root_mean_squared_error: 2.1739 - val_loss: 5.1985 - val_root_mean_squared_error: 2.0933\n",
            "\n",
            "Epoch 00012: val_root_mean_squared_error did not improve from 1.97094\n",
            "Epoch 13/50\n",
            "623360/623360 [==============================] - 12s 19us/step - loss: 4.7012 - root_mean_squared_error: 2.1668 - val_loss: 7.2571 - val_root_mean_squared_error: 2.3398\n",
            "\n",
            "Epoch 00013: val_root_mean_squared_error did not improve from 1.97094\n",
            "Epoch 14/50\n",
            "623360/623360 [==============================] - 12s 19us/step - loss: 4.6830 - root_mean_squared_error: 2.1625 - val_loss: 4.7936 - val_root_mean_squared_error: 2.0087\n",
            "\n",
            "Epoch 00014: val_root_mean_squared_error did not improve from 1.97094\n",
            "Epoch 15/50\n",
            "623360/623360 [==============================] - 12s 19us/step - loss: 4.6614 - root_mean_squared_error: 2.1575 - val_loss: 4.9210 - val_root_mean_squared_error: 2.0357\n",
            "\n",
            "Epoch 00015: val_root_mean_squared_error did not improve from 1.97094\n",
            "Epoch 00015: early stopping\n",
            "**************************************************\n",
            "Fold: 3\n",
            "Train on 623361 samples, validate on 207786 samples\n",
            "Epoch 1/50\n",
            "623361/623361 [==============================] - 19s 31us/step - loss: 15.7169 - root_mean_squared_error: 3.6516 - val_loss: 5.6388 - val_root_mean_squared_error: 2.1692\n",
            "\n",
            "Epoch 00001: val_root_mean_squared_error improved from inf to 2.16917, saving model to model_3.hdf5\n",
            "Epoch 2/50\n",
            "623361/623361 [==============================] - 12s 19us/step - loss: 6.0063 - root_mean_squared_error: 2.4493 - val_loss: 5.6742 - val_root_mean_squared_error: 2.1798\n",
            "\n",
            "Epoch 00002: val_root_mean_squared_error did not improve from 2.16917\n",
            "Epoch 3/50\n",
            "623361/623361 [==============================] - 13s 21us/step - loss: 5.6023 - root_mean_squared_error: 2.3654 - val_loss: 5.5209 - val_root_mean_squared_error: 2.1550\n",
            "\n",
            "Epoch 00003: val_root_mean_squared_error improved from 2.16917 to 2.15496, saving model to model_3.hdf5\n",
            "Epoch 4/50\n",
            "623361/623361 [==============================] - 13s 21us/step - loss: 5.3053 - root_mean_squared_error: 2.3015 - val_loss: 5.6334 - val_root_mean_squared_error: 2.1691\n",
            "\n",
            "Epoch 00004: val_root_mean_squared_error did not improve from 2.15496\n",
            "Epoch 5/50\n",
            "623361/623361 [==============================] - 13s 21us/step - loss: 5.0480 - root_mean_squared_error: 2.2454 - val_loss: 5.3263 - val_root_mean_squared_error: 2.1376\n",
            "\n",
            "Epoch 00005: val_root_mean_squared_error improved from 2.15496 to 2.13763, saving model to model_3.hdf5\n",
            "Epoch 6/50\n",
            "623361/623361 [==============================] - 13s 21us/step - loss: 5.0859 - root_mean_squared_error: 2.2537 - val_loss: 4.6150 - val_root_mean_squared_error: 1.9844\n",
            "\n",
            "Epoch 00006: val_root_mean_squared_error improved from 2.13763 to 1.98437, saving model to model_3.hdf5\n",
            "Epoch 7/50\n",
            "623361/623361 [==============================] - 13s 21us/step - loss: 5.0572 - root_mean_squared_error: 2.2471 - val_loss: 4.7375 - val_root_mean_squared_error: 2.0078\n",
            "\n",
            "Epoch 00007: val_root_mean_squared_error did not improve from 1.98437\n",
            "Epoch 8/50\n",
            "623361/623361 [==============================] - 13s 21us/step - loss: 4.9476 - root_mean_squared_error: 2.2226 - val_loss: 4.5921 - val_root_mean_squared_error: 1.9899\n",
            "\n",
            "Epoch 00008: val_root_mean_squared_error did not improve from 1.98437\n",
            "Epoch 9/50\n",
            "623361/623361 [==============================] - 13s 21us/step - loss: 4.8673 - root_mean_squared_error: 2.2046 - val_loss: 5.0830 - val_root_mean_squared_error: 2.0991\n",
            "\n",
            "Epoch 00009: val_root_mean_squared_error did not improve from 1.98437\n",
            "Epoch 10/50\n",
            "623361/623361 [==============================] - 13s 21us/step - loss: 4.8197 - root_mean_squared_error: 2.1937 - val_loss: 4.5948 - val_root_mean_squared_error: 1.9868\n",
            "\n",
            "Epoch 00010: val_root_mean_squared_error did not improve from 1.98437\n",
            "Epoch 11/50\n",
            "623361/623361 [==============================] - 13s 21us/step - loss: 4.7708 - root_mean_squared_error: 2.1826 - val_loss: 5.4356 - val_root_mean_squared_error: 2.1389\n",
            "\n",
            "Epoch 00011: val_root_mean_squared_error did not improve from 1.98437\n",
            "Epoch 00011: early stopping\n",
            "**************************************************\n"
          ],
          "name": "stdout"
        }
      ]
    },
    {
      "cell_type": "markdown",
      "metadata": {
        "id": "babd_HVe7rQ3",
        "colab_type": "text"
      },
      "source": [
        "### Load Model"
      ]
    },
    {
      "cell_type": "code",
      "metadata": {
        "id": "prwzaFA_ULZR",
        "colab_type": "code",
        "colab": {}
      },
      "source": [
        "del X\n",
        "del y\n",
        "gc.collect()"
      ],
      "execution_count": 0,
      "outputs": []
    },
    {
      "cell_type": "code",
      "metadata": {
        "id": "ZexI4MqW7tdU",
        "colab_type": "code",
        "colab": {}
      },
      "source": [
        "trained_model = make_model(input_dim=X_test.shape[-1],drop_rate=0.3)\n",
        "trained_model.load_weights('model_2.hdf5')"
      ],
      "execution_count": 0,
      "outputs": []
    },
    {
      "cell_type": "code",
      "metadata": {
        "id": "TcfMitk7wHQY",
        "colab_type": "code",
        "colab": {}
      },
      "source": [
        "submit = pd.read_csv('kaggle/input/sample_submission.csv')\n",
        "submit = reduce_mem_usage(submit)"
      ],
      "execution_count": 0,
      "outputs": []
    },
    {
      "cell_type": "markdown",
      "metadata": {
        "id": "d2QZiVk0Ewy6",
        "colab_type": "text"
      },
      "source": [
        "### Make Predictions"
      ]
    },
    {
      "cell_type": "code",
      "metadata": {
        "id": "VVS2HC78yHUf",
        "colab_type": "code",
        "outputId": "7ba603ac-9d29-4db3-a2b8-6b78eea4fce2",
        "colab": {
          "base_uri": "https://localhost:8080/",
          "height": 34
        }
      },
      "source": [
        "X_test = X_test.values[:]\n",
        "X_test= X_test.reshape((X_test.shape[0],1,X_test.shape[-1]))\n",
        "prediction = trained_model.predict(X_test, verbose=1)"
      ],
      "execution_count": 0,
      "outputs": [
        {
          "output_type": "stream",
          "text": [
            "41697600/41697600 [==============================] - 4426s 106us/step\n"
          ],
          "name": "stdout"
        }
      ]
    },
    {
      "cell_type": "markdown",
      "metadata": {
        "id": "VE3sIi7SE0pC",
        "colab_type": "text"
      },
      "source": [
        "### Save CSV"
      ]
    },
    {
      "cell_type": "code",
      "metadata": {
        "id": "azVlUf24yLkY",
        "colab_type": "code",
        "colab": {}
      },
      "source": [
        "submit['meter_reading'] = prediction\n",
        "submit.to_csv('submission.csv', index=False,float_format='%.4f')"
      ],
      "execution_count": 0,
      "outputs": []
    },
    {
      "cell_type": "markdown",
      "metadata": {
        "id": "IcoBET-2E2qr",
        "colab_type": "text"
      },
      "source": [
        "### Submit Work"
      ]
    },
    {
      "cell_type": "code",
      "metadata": {
        "id": "Tcu3Cj7ME4TA",
        "colab_type": "code",
        "outputId": "0933052c-b012-42d6-c000-0f2cdbc8bb81",
        "colab": {
          "base_uri": "https://localhost:8080/",
          "height": 87
        }
      },
      "source": [
        "!kaggle competitions submit ashrae-energy-prediction -f submission.csv -m \"LSTM with new features work\""
      ],
      "execution_count": 0,
      "outputs": [
        {
          "output_type": "stream",
          "text": [
            "Warning: Your Kaggle API key is readable by other users on this system! To fix this, you can run 'chmod 600 /root/.kaggle/kaggle.json'\n",
            "Warning: Looks like you're using an outdated API Version, please consider updating (server 1.5.6 / client 1.5.4)\n",
            "100% 627M/627M [00:16<00:00, 39.3MB/s]\n",
            "Successfully submitted to ASHRAE - Great Energy Predictor III"
          ],
          "name": "stdout"
        }
      ]
    }
  ]
}